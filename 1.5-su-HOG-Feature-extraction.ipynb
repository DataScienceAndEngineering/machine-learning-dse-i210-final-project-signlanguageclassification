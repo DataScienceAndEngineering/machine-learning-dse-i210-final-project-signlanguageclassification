{
  "nbformat": 4,
  "nbformat_minor": 0,
  "metadata": {
    "colab": {
      "provenance": [],
      "authorship_tag": "ABX9TyN0r3SynrBR9YK8RGY+Yq67",
      "include_colab_link": true
    },
    "kernelspec": {
      "name": "python3",
      "display_name": "Python 3"
    },
    "language_info": {
      "name": "python"
    }
  },
  "cells": [
    {
      "cell_type": "markdown",
      "metadata": {
        "id": "view-in-github",
        "colab_type": "text"
      },
      "source": [
        "<a href=\"https://colab.research.google.com/github/DataScienceAndEngineering/machine-learning-dse-i210-final-project-signlanguageclassification/blob/sumaiya/1.5-su-HOG-Feature-extraction.ipynb\" target=\"_parent\"><img src=\"https://colab.research.google.com/assets/colab-badge.svg\" alt=\"Open In Colab\"/></a>"
      ]
    },
    {
      "cell_type": "code",
      "execution_count": 2,
      "metadata": {
        "id": "kC3QFQ-d3Leh"
      },
      "outputs": [],
      "source": [
        "#import library\n",
        "import os\n",
        "import numpy as np\n",
        "import pickle\n",
        "from tensorflow.keras.preprocessing.image import ImageDataGenerator\n",
        "import pandas as pd\n",
        "import matplotlib.pyplot as plt\n",
        "import cv2\n",
        "from sklearn.preprocessing import StandardScaler\n",
        "from tqdm import tqdm\n",
        "from sklearn.naive_bayes import GaussianNB\n",
        "from sklearn.linear_model import LogisticRegression\n",
        "from sklearn.metrics import accuracy_score, classification_report\n",
        "from sklearn.pipeline import Pipeline\n",
        "\n",
        "from sklearn.discriminant_analysis import LinearDiscriminantAnalysis\n",
        "import seaborn as sns\n",
        "from sklearn.model_selection import RandomizedSearchCV\n",
        "from sklearn.metrics import classification_report\n",
        "from sklearn.ensemble import RandomForestClassifier\n",
        "from sklearn.metrics import confusion_matrix, roc_curve, auc, matthews_corrcoef, cohen_kappa_score\n",
        "from sklearn.metrics import confusion_matrix, ConfusionMatrixDisplay\n"
      ]
    },
    {
      "cell_type": "code",
      "source": [
        "from google.colab import drive\n",
        "drive.mount('/content/drive')"
      ],
      "metadata": {
        "colab": {
          "base_uri": "https://localhost:8080/"
        },
        "id": "szkPT7Ng3NOc",
        "outputId": "e569c695-cb6a-4ed8-dba0-ae5b7ea93dea"
      },
      "execution_count": 3,
      "outputs": [
        {
          "output_type": "stream",
          "name": "stdout",
          "text": [
            "Mounted at /content/drive\n"
          ]
        }
      ]
    },
    {
      "cell_type": "code",
      "source": [
        "# 100k shuffled data\n",
        "with open('/content/drive/Shareddrives/SignLanguageData/combined_augmented_data_v3.pkl','rb') as f:\n",
        "  X_train,y_train,X_test,y_test = pickle.load(f)\n"
      ],
      "metadata": {
        "id": "tTFfQqPP3PTb"
      },
      "execution_count": 40,
      "outputs": []
    },
    {
      "cell_type": "code",
      "source": [
        "#printing shapes \n",
        "print(f'X_train Shape: {X_train.shape}')\n",
        "print(f'y_train Shape: {y_train.shape}')\n",
        "print(f'X_test Shape: {X_test.shape}')\n",
        "print(f'y_test Shape: {y_test.shape}')\n",
        "     "
      ],
      "metadata": {
        "colab": {
          "base_uri": "https://localhost:8080/"
        },
        "id": "JwSYaL7O3PWN",
        "outputId": "20d51dc5-4664-41fb-96f0-dff8d07f74d7"
      },
      "execution_count": 41,
      "outputs": [
        {
          "output_type": "stream",
          "name": "stdout",
          "text": [
            "X_train Shape: (109820, 28, 28)\n",
            "y_train Shape: (109820,)\n",
            "X_test Shape: (28688, 28, 28)\n",
            "y_test Shape: (28688,)\n"
          ]
        }
      ]
    },
    {
      "cell_type": "code",
      "source": [
        "#define image resolution \n",
        "res = (28,28)\n",
        "\n",
        "#fuction to find the indices given a label \n",
        "def find_indices(data,label):\n",
        "    #check if data is numpy array\n",
        "    if type(data) == np.ndarray:\n",
        "        #return indices\n",
        "        return np.where(data==label)\n",
        "    #check if data is pandas series \n",
        "    elif type(data) == pd.Series:\n",
        "        #return indices\n",
        "        return data[data==label].index\n",
        "    #else not supported in this function\n",
        "    else:\n",
        "        raise Exception('Not supported data type for this function.')"
      ],
      "metadata": {
        "id": "7BKEWyFW3PYz"
      },
      "execution_count": 42,
      "outputs": []
    },
    {
      "cell_type": "code",
      "source": [
        "#letters\n",
        "letters = ['A','B','C','D','E','F','G','H','I','K','L','M','N','O','P','Q','R','S','T','U','V','W','X','Y']\n",
        "#numbers \n",
        "numbers = sorted(list(np.unique(y_train.astype(int))))\n",
        "#dictionary of labels \n",
        "labels = dict(zip(numbers,letters))"
      ],
      "metadata": {
        "id": "22EfXjIz3dN-"
      },
      "execution_count": 43,
      "outputs": []
    },
    {
      "cell_type": "code",
      "source": [
        "# # Reshape the data to (num_samples, 784)\n",
        "# X_train = X_train.reshape(X_train.shape[0], -1)\n",
        "# X_test = X_test.reshape(X_test.shape[0], -1)\n",
        "# y_train = y_train\n",
        "# y_test = y_test\n",
        "# # Print the shapes of the augmented data\n",
        "# print(f'X_train shape: {X_train.shape}')\n",
        "# print(f'y_train shape: {y_train.shape}')\n",
        "# print(f'X_test shape: {X_test.shape}')\n",
        "# print(f'y_test shape: {y_test.shape}')"
      ],
      "metadata": {
        "id": "fx6GN9ex70A4"
      },
      "execution_count": 38,
      "outputs": []
    },
    {
      "cell_type": "code",
      "source": [
        "# # Normalizing the data\n",
        "# X_train = X_train/255\n",
        "# X_test = X_test/255"
      ],
      "metadata": {
        "id": "de6EVrixGk60"
      },
      "execution_count": 39,
      "outputs": []
    },
    {
      "cell_type": "code",
      "source": [
        "index = 4\n",
        "plt.imshow(X_train[index].reshape(28, 28),cmap='gray')\n",
        "plt.show()"
      ],
      "metadata": {
        "colab": {
          "base_uri": "https://localhost:8080/",
          "height": 430
        },
        "id": "-dwrmkWtG6JD",
        "outputId": "b99ac63d-cd1b-4866-904b-1ac8e696e8c8"
      },
      "execution_count": 35,
      "outputs": [
        {
          "output_type": "display_data",
          "data": {
            "text/plain": [
              "<Figure size 640x480 with 1 Axes>"
            ],
            "image/png": "[encoded data removed]"
          },
          "metadata": {}
        }
      ]
    },
    {
      "cell_type": "code",
      "source": [],
      "metadata": {
        "id": "2u3a2rARHBG4"
      },
      "execution_count": null,
      "outputs": []
    },
    {
      "cell_type": "markdown",
      "source": [],
      "metadata": {
        "id": "yVN7KEyfHDRz"
      }
    },
    {
      "cell_type": "markdown",
      "source": [
        "The histogram of oriented gradients (HOG) is a feature descriptor used in computer vision and image processing for the purpose of object detection. The technique counts occurrences of gradient orientation in localized portions of an image."
      ],
      "metadata": {
        "id": "RSidNVbyHDSd"
      }
    },
    {
      "cell_type": "code",
      "source": [
        "from skimage.feature import hog\n",
        "\n",
        "# Define the HOG parameters\n",
        "orientations = 9\n",
        "pixels_per_cell = (2, 2)\n",
        "cells_per_block = (1, 1)\n",
        "\n",
        "# Function to extract HOG features from a single image\n",
        "def extract_features(img):\n",
        "    #print(f\"Image shape before HOG: {img.shape}\")\n",
        "    features = hog(img, orientations=orientations,\n",
        "                   pixels_per_cell=pixels_per_cell,\n",
        "                   cells_per_block=cells_per_block,\n",
        "                   visualize=False,\n",
        "                   transform_sqrt=True,\n",
        "                   feature_vector=True,\n",
        "                   block_norm='L2-Hys')\n",
        "    #print(f\"Feature shape: {features.shape}\")\n",
        "    return features"
      ],
      "metadata": {
        "id": "eD7vhW-t3dQ4"
      },
      "execution_count": 44,
      "outputs": []
    },
    {
      "cell_type": "code",
      "source": [
        "# Apply the extract_features function to all images in X_train and X_test\n",
        "X_train_features = np.array([extract_features(img) for img in X_train])\n",
        "X_test_features = np.array([extract_features(img) for img in X_test])\n",
        "\n",
        "print(f\"X_train_features Shape: {X_train_features.shape}\")\n",
        "print(f\"X_test_features Shape: {X_test_features.shape}\")\n"
      ],
      "metadata": {
        "colab": {
          "base_uri": "https://localhost:8080/"
        },
        "id": "v8LUSQLf3dUZ",
        "outputId": "9b607d5f-e72e-4218-a253-a0a71b7ed87d"
      },
      "execution_count": 45,
      "outputs": [
        {
          "output_type": "stream",
          "name": "stdout",
          "text": [
            "X_train_features Shape: (109820, 1764)\n",
            "X_test_features Shape: (28688, 1764)\n"
          ]
        }
      ]
    },
    {
      "cell_type": "code",
      "source": [
        "from sklearn.decomposition import PCA\n",
        "pca = PCA(n_components=30)\n",
        "hog_train_pca = pca.fit_transform(X_test_features)\n",
        "hog_test_pca=pca.transform(X_test_features)\n",
        "print(hog_test_pca.shape)\n",
        "print(hog_train_pca.shape)"
      ],
      "metadata": {
        "colab": {
          "base_uri": "https://localhost:8080/"
        },
        "id": "-S8B6BxzP5Yb",
        "outputId": "5bdbecdd-aa97-4d6f-eccb-d22b5916c82b"
      },
      "execution_count": 46,
      "outputs": [
        {
          "output_type": "stream",
          "name": "stdout",
          "text": [
            "(28688, 30)\n",
            "(28688, 30)\n"
          ]
        }
      ]
    },
    {
      "cell_type": "code",
      "source": [
        "#getting explained variance ratio from the lda model \n",
        "evr = pca.explained_variance_ratio_\n",
        "components = range(1, len(evr) + 1)\n",
        "\n",
        "#plotting scree plot\n",
        "fig, ax = plt.subplots(figsize = (8,5))\n",
        "ax.bar(x = components, height = evr, label = 'Explained Variance');\n",
        "plt.plot(components, np.cumsum(evr), marker = '.', color = 'orange', label = 'Cumulative Explained Variance')\n",
        "plt.axhline(y = .95, color = 'r', linestyle = '--', label = '0.95 Explained Variance')\n",
        "plt.xticks(range(1, len(evr)+1));\n",
        "plt.title('LDA: Explained Variance');\n",
        "plt.xlabel('Component');\n",
        "plt.ylabel('Explained Variance');\n",
        "plt.legend(fontsize = 9);"
      ],
      "metadata": {
        "colab": {
          "base_uri": "https://localhost:8080/",
          "height": 487
        },
        "id": "YaeGwgPCP5bI",
        "outputId": "8c49335b-ab57-4b7f-cf97-50066b467731"
      },
      "execution_count": 47,
      "outputs": [
        {
          "output_type": "display_data",
          "data": {
            "text/plain": [
              "<Figure size 800x500 with 1 Axes>"
            ],
            "image/png": "[encoded data removed]"
          },
          "metadata": {}
        }
      ]
    },
    {
      "cell_type": "code",
      "source": [],
      "metadata": {
        "id": "tolWWH5JP5eE"
      },
      "execution_count": null,
      "outputs": []
    },
    {
      "cell_type": "code",
      "source": [],
      "metadata": {
        "id": "5kkPGMUoP5g9"
      },
      "execution_count": null,
      "outputs": []
    },
    {
      "cell_type": "code",
      "source": [],
      "metadata": {
        "id": "c7Ha_u4-P5kF"
      },
      "execution_count": null,
      "outputs": []
    },
    {
      "cell_type": "code",
      "source": [],
      "metadata": {
        "id": "YxmO5bZeP5nH"
      },
      "execution_count": null,
      "outputs": []
    },
    {
      "cell_type": "code",
      "source": [],
      "metadata": {
        "id": "IfhoypEXP5qR"
      },
      "execution_count": null,
      "outputs": []
    },
    {
      "cell_type": "code",
      "source": [],
      "metadata": {
        "id": "hXUi-7aEP5tN"
      },
      "execution_count": null,
      "outputs": []
    },
    {
      "cell_type": "code",
      "source": [
        "from skimage.feature import hog\n",
        "\n",
        "# Define the HOG parameters\n",
        "orientations = 9\n",
        "pixels_per_cell = (14, 14)\n",
        "cells_per_block = (2, 2)\n",
        "\n",
        "# Function to extract HOG features from a single image\n",
        "def extract_features(img):\n",
        "    #print(f\"Image shape before HOG: {img.shape}\")\n",
        "    features = hog(img, orientations=orientations,\n",
        "                   pixels_per_cell=pixels_per_cell,\n",
        "                   cells_per_block=cells_per_block,\n",
        "                   visualize=False,\n",
        "                   transform_sqrt=True,\n",
        "                   feature_vector=True,\n",
        "                   block_norm='L2-Hys')\n",
        "    #print(f\"Feature shape: {features.shape}\")\n",
        "    return features"
      ],
      "metadata": {
        "id": "NwJWRx3-34DS"
      },
      "execution_count": 29,
      "outputs": []
    },
    {
      "cell_type": "code",
      "source": [
        "# Apply the extract_features function to all images in X_train and X_test\n",
        "X_train_features = np.array([extract_features(img) for img in X_train])\n",
        "X_test_features = np.array([extract_features(img) for img in X_test])\n",
        "\n",
        "print(f\"X_train_features Shape: {X_train_features.shape}\")\n",
        "print(f\"X_test_features Shape: {X_test_features.shape}\")\n"
      ],
      "metadata": {
        "colab": {
          "base_uri": "https://localhost:8080/"
        },
        "id": "9v3yXQwSBoPp",
        "outputId": "4f064019-15fd-4d4a-d1e7-d7518d604ee7"
      },
      "execution_count": 30,
      "outputs": [
        {
          "output_type": "stream",
          "name": "stdout",
          "text": [
            "X_train_features Shape: (109820, 36)\n",
            "X_test_features Shape: (28688, 36)\n"
          ]
        }
      ]
    },
    {
      "cell_type": "code",
      "source": [],
      "metadata": {
        "id": "bQmcbJX7Bqx8"
      },
      "execution_count": null,
      "outputs": []
    }
  ]
}