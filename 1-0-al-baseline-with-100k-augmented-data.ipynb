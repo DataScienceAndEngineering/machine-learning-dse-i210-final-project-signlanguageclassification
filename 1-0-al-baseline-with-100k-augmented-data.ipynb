{
  "nbformat": 4,
  "nbformat_minor": 0,
  "metadata": {
    "colab": {
      "provenance": [],
      "mount_file_id": "1Rn_1atwFIFanf9E4p8QxItDsMyiXNFhs",
      "authorship_tag": "ABX9TyMfdReNLtJXrWqEOUYyb1Lw"
    },
    "kernelspec": {
      "name": "python3",
      "display_name": "Python 3"
    },
    "language_info": {
      "name": "python"
    }
  },
  "cells": [
    {
      "cell_type": "markdown",
      "source": [
        "# Baseline Logistic Model with 100k Augmented Training Data"
      ],
      "metadata": {
        "id": "mYPbPmF2hIdX"
      }
    },
    {
      "cell_type": "code",
      "source": [
        "from sklearn.linear_model import LogisticRegression\n",
        "from sklearn.metrics import classification_report\n",
        "import pickle\n",
        "import numpy as np"
      ],
      "metadata": {
        "id": "BbXOlRoZgBPQ"
      },
      "execution_count": 13,
      "outputs": []
    },
    {
      "cell_type": "code",
      "source": [
        "with open('/content/drive/Shareddrives/SignLanguageData/combined_augmented_data_v2.pkl','rb') as f:\n",
        "  X_train,y_train,X_test,y_test = pickle.load(f)"
      ],
      "metadata": {
        "id": "V2GJ8jSwgF6f"
      },
      "execution_count": 4,
      "outputs": []
    },
    {
      "cell_type": "code",
      "source": [
        "X_train = X_train.reshape(X_train.shape[0],-1)\n",
        "X_test = X_test.reshape(X_test.shape[0],-1)"
      ],
      "metadata": {
        "id": "MEBnR4p3ggbA"
      },
      "execution_count": 6,
      "outputs": []
    },
    {
      "cell_type": "code",
      "source": [
        "lr = LogisticRegression()\n",
        "lr.fit(X_train,y_train)"
      ],
      "metadata": {
        "colab": {
          "base_uri": "https://localhost:8080/",
          "height": 210
        },
        "id": "OPWOf2gNgbHU",
        "outputId": "85fe17b3-c3a3-443f-fa1b-76d9aa86717f"
      },
      "execution_count": 7,
      "outputs": [
        {
          "output_type": "stream",
          "name": "stderr",
          "text": [
            "/usr/local/lib/python3.9/dist-packages/sklearn/linear_model/_logistic.py:458: ConvergenceWarning: lbfgs failed to converge (status=1):\n",
            "STOP: TOTAL NO. of ITERATIONS REACHED LIMIT.\n",
            "\n",
            "Increase the number of iterations (max_iter) or scale the data as shown in:\n",
            "    https://scikit-learn.org/stable/modules/preprocessing.html\n",
            "Please also refer to the documentation for alternative solver options:\n",
            "    https://scikit-learn.org/stable/modules/linear_model.html#logistic-regression\n",
            "  n_iter_i = _check_optimize_result(\n"
          ]
        },
        {
          "output_type": "execute_result",
          "data": {
            "text/plain": [
              "LogisticRegression()"
            ],
            "text/html": [
              "<style>#sk-container-id-1 {color: black;background-color: white;}#sk-container-id-1 pre{padding: 0;}#sk-container-id-1 div.sk-toggleable {background-color: white;}#sk-container-id-1 label.sk-toggleable__label {cursor: pointer;display: block;width: 100%;margin-bottom: 0;padding: 0.3em;box-sizing: border-box;text-align: center;}#sk-container-id-1 label.sk-toggleable__label-arrow:before {content: \"▸\";float: left;margin-right: 0.25em;color: #696969;}#sk-container-id-1 label.sk-toggleable__label-arrow:hover:before {color: black;}#sk-container-id-1 div.sk-estimator:hover label.sk-toggleable__label-arrow:before {color: black;}#sk-container-id-1 div.sk-toggleable__content {max-height: 0;max-width: 0;overflow: hidden;text-align: left;background-color: #f0f8ff;}#sk-container-id-1 div.sk-toggleable__content pre {margin: 0.2em;color: black;border-radius: 0.25em;background-color: #f0f8ff;}#sk-container-id-1 input.sk-toggleable__control:checked~div.sk-toggleable__content {max-height: 200px;max-width: 100%;overflow: auto;}#sk-container-id-1 input.sk-toggleable__control:checked~label.sk-toggleable__label-arrow:before {content: \"▾\";}#sk-container-id-1 div.sk-estimator input.sk-toggleable__control:checked~label.sk-toggleable__label {background-color: #d4ebff;}#sk-container-id-1 div.sk-label input.sk-toggleable__control:checked~label.sk-toggleable__label {background-color: #d4ebff;}#sk-container-id-1 input.sk-hidden--visually {border: 0;clip: rect(1px 1px 1px 1px);clip: rect(1px, 1px, 1px, 1px);height: 1px;margin: -1px;overflow: hidden;padding: 0;position: absolute;width: 1px;}#sk-container-id-1 div.sk-estimator {font-family: monospace;background-color: #f0f8ff;border: 1px dotted black;border-radius: 0.25em;box-sizing: border-box;margin-bottom: 0.5em;}#sk-container-id-1 div.sk-estimator:hover {background-color: #d4ebff;}#sk-container-id-1 div.sk-parallel-item::after {content: \"\";width: 100%;border-bottom: 1px solid gray;flex-grow: 1;}#sk-container-id-1 div.sk-label:hover label.sk-toggleable__label {background-color: #d4ebff;}#sk-container-id-1 div.sk-serial::before {content: \"\";position: absolute;border-left: 1px solid gray;box-sizing: border-box;top: 0;bottom: 0;left: 50%;z-index: 0;}#sk-container-id-1 div.sk-serial {display: flex;flex-direction: column;align-items: center;background-color: white;padding-right: 0.2em;padding-left: 0.2em;position: relative;}#sk-container-id-1 div.sk-item {position: relative;z-index: 1;}#sk-container-id-1 div.sk-parallel {display: flex;align-items: stretch;justify-content: center;background-color: white;position: relative;}#sk-container-id-1 div.sk-item::before, #sk-container-id-1 div.sk-parallel-item::before {content: \"\";position: absolute;border-left: 1px solid gray;box-sizing: border-box;top: 0;bottom: 0;left: 50%;z-index: -1;}#sk-container-id-1 div.sk-parallel-item {display: flex;flex-direction: column;z-index: 1;position: relative;background-color: white;}#sk-container-id-1 div.sk-parallel-item:first-child::after {align-self: flex-end;width: 50%;}#sk-container-id-1 div.sk-parallel-item:last-child::after {align-self: flex-start;width: 50%;}#sk-container-id-1 div.sk-parallel-item:only-child::after {width: 0;}#sk-container-id-1 div.sk-dashed-wrapped {border: 1px dashed gray;margin: 0 0.4em 0.5em 0.4em;box-sizing: border-box;padding-bottom: 0.4em;background-color: white;}#sk-container-id-1 div.sk-label label {font-family: monospace;font-weight: bold;display: inline-block;line-height: 1.2em;}#sk-container-id-1 div.sk-label-container {text-align: center;}#sk-container-id-1 div.sk-container {/* jupyter's `normalize.less` sets `[hidden] { display: none; }` but bootstrap.min.css set `[hidden] { display: none !important; }` so we also need the `!important` here to be able to override the default hidden behavior on the sphinx rendered scikit-learn.org. See: https://github.com/scikit-learn/scikit-learn/issues/21755 */display: inline-block !important;position: relative;}#sk-container-id-1 div.sk-text-repr-fallback {display: none;}</style><div id=\"sk-container-id-1\" class=\"sk-top-container\"><div class=\"sk-text-repr-fallback\"><pre>LogisticRegression()</pre><b>In a Jupyter environment, please rerun this cell to show the HTML representation or trust the notebook. <br />On GitHub, the HTML representation is unable to render, please try loading this page with nbviewer.org.</b></div><div class=\"sk-container\" hidden><div class=\"sk-item\"><div class=\"sk-estimator sk-toggleable\"><input class=\"sk-toggleable__control sk-hidden--visually\" id=\"sk-estimator-id-1\" type=\"checkbox\" checked><label for=\"sk-estimator-id-1\" class=\"sk-toggleable__label sk-toggleable__label-arrow\">LogisticRegression</label><div class=\"sk-toggleable__content\"><pre>LogisticRegression()</pre></div></div></div></div></div>"
            ]
          },
          "metadata": {},
          "execution_count": 7
        }
      ]
    },
    {
      "cell_type": "code",
      "source": [
        "y_pred_train = lr.predict(X_train)\n",
        "y_pred_test = lr.predict(X_test)"
      ],
      "metadata": {
        "id": "u4jaQPFpgrDE"
      },
      "execution_count": 10,
      "outputs": []
    },
    {
      "cell_type": "code",
      "execution_count": 11,
      "metadata": {
        "id": "Jx4oaBkg_A1A",
        "colab": {
          "base_uri": "https://localhost:8080/"
        },
        "outputId": "3275eec6-b090-4adb-b99b-15ce5dbe0ee9"
      },
      "outputs": [
        {
          "output_type": "stream",
          "name": "stdout",
          "text": [
            "              precision    recall  f1-score   support\n",
            "\n",
            "         0.0       0.65      0.63      0.64      4504\n",
            "         1.0       0.68      0.69      0.69      4040\n",
            "         2.0       0.79      0.81      0.80      4576\n",
            "         3.0       0.53      0.47      0.49      4784\n",
            "         4.0       0.68      0.63      0.65      3828\n",
            "         5.0       0.59      0.59      0.59      4816\n",
            "         6.0       0.66      0.64      0.65      4360\n",
            "         7.0       0.64      0.59      0.62      4052\n",
            "         8.0       0.56      0.60      0.58      4648\n",
            "        10.0       0.58      0.64      0.61      4456\n",
            "        11.0       0.59      0.67      0.63      4964\n",
            "        12.0       0.56      0.48      0.52      4220\n",
            "        13.0       0.56      0.53      0.54      4604\n",
            "        14.0       0.72      0.71      0.72      4784\n",
            "        15.0       0.71      0.73      0.72      4352\n",
            "        16.0       0.71      0.72      0.71      5116\n",
            "        17.0       0.45      0.48      0.47      5176\n",
            "        18.0       0.45      0.48      0.47      4796\n",
            "        19.0       0.53      0.58      0.56      4744\n",
            "        20.0       0.53      0.53      0.53      4644\n",
            "        21.0       0.48      0.37      0.41      4328\n",
            "        22.0       0.50      0.52      0.51      4900\n",
            "        23.0       0.60      0.60      0.60      4656\n",
            "        24.0       0.56      0.59      0.58      4472\n",
            "\n",
            "    accuracy                           0.59    109820\n",
            "   macro avg       0.60      0.59      0.59    109820\n",
            "weighted avg       0.59      0.59      0.59    109820\n",
            "\n"
          ]
        }
      ],
      "source": [
        "print(classification_report(y_train,y_pred_train))"
      ]
    },
    {
      "cell_type": "code",
      "source": [
        "print(classification_report(y_test,y_pred_test))"
      ],
      "metadata": {
        "colab": {
          "base_uri": "https://localhost:8080/"
        },
        "id": "odxZcL73g-8J",
        "outputId": "930721b2-665d-4d2c-83c4-dcc07fe569df"
      },
      "execution_count": 12,
      "outputs": [
        {
          "output_type": "stream",
          "name": "stdout",
          "text": [
            "              precision    recall  f1-score   support\n",
            "\n",
            "         0.0       0.56      0.59      0.58      1324\n",
            "         1.0       0.76      0.64      0.69      1728\n",
            "         2.0       0.73      0.73      0.73      1240\n",
            "         3.0       0.45      0.46      0.45       980\n",
            "         4.0       0.70      0.60      0.65      1992\n",
            "         5.0       0.48      0.60      0.53       988\n",
            "         6.0       0.56      0.54      0.55      1392\n",
            "         7.0       0.81      0.53      0.64      1744\n",
            "         8.0       0.44      0.52      0.47      1152\n",
            "        10.0       0.49      0.43      0.46      1324\n",
            "        11.0       0.51      0.78      0.61       836\n",
            "        12.0       0.50      0.37      0.42      1576\n",
            "        13.0       0.36      0.36      0.36      1164\n",
            "        14.0       0.62      0.57      0.59       984\n",
            "        15.0       0.80      0.79      0.80      1388\n",
            "        16.0       0.43      0.65      0.52       656\n",
            "        17.0       0.14      0.22      0.17       576\n",
            "        18.0       0.18      0.25      0.21       984\n",
            "        19.0       0.32      0.36      0.34       992\n",
            "        20.0       0.37      0.40      0.38      1064\n",
            "        21.0       0.50      0.30      0.38      1384\n",
            "        22.0       0.33      0.55      0.41       824\n",
            "        23.0       0.52      0.52      0.52      1068\n",
            "        24.0       0.54      0.44      0.49      1328\n",
            "\n",
            "    accuracy                           0.51     28688\n",
            "   macro avg       0.50      0.51      0.50     28688\n",
            "weighted avg       0.54      0.51      0.52     28688\n",
            "\n"
          ]
        }
      ]
    },
    {
      "cell_type": "markdown",
      "source": [
        "Evaluation using original dataset."
      ],
      "metadata": {
        "id": "_lK4A-zJk3oG"
      }
    },
    {
      "cell_type": "code",
      "source": [
        "#Original data \n",
        "path_train = '/content/drive/Shareddrives/SignLanguageData/sign_mnist_train.csv'\n",
        "path_test = '/content/drive/Shareddrives/SignLanguageData/sign_mnist_test.csv'\n",
        "\n",
        "train_original = np.loadtxt(path_train,delimiter = ',',skiprows=1)\n",
        "test_original = np.loadtxt(path_test,delimiter = ',',skiprows=1)"
      ],
      "metadata": {
        "id": "_YZsQ93fhDwe"
      },
      "execution_count": 17,
      "outputs": []
    },
    {
      "cell_type": "code",
      "source": [
        "#training data \n",
        "X_train_original = train_original[:,1:]\n",
        "y_train_original = train_original[:,0]\n",
        "\n",
        "#testing data\n",
        "X_test_original = test_original[:,1:]\n",
        "y_test_original = test_original[:,0]"
      ],
      "metadata": {
        "id": "VG2gtC8ehiJy"
      },
      "execution_count": 22,
      "outputs": []
    },
    {
      "cell_type": "code",
      "source": [
        "lr_original = LogisticRegression(max_iter=1000)\n",
        "lr_original.fit(X_train_original,y_train_original)"
      ],
      "metadata": {
        "colab": {
          "base_uri": "https://localhost:8080/",
          "height": 210
        },
        "id": "aXBC6wiPh0XG",
        "outputId": "bf08b930-3d00-4bd0-a2df-4fb0484e67d7"
      },
      "execution_count": 24,
      "outputs": [
        {
          "output_type": "stream",
          "name": "stderr",
          "text": [
            "/usr/local/lib/python3.9/dist-packages/sklearn/linear_model/_logistic.py:458: ConvergenceWarning: lbfgs failed to converge (status=1):\n",
            "STOP: TOTAL NO. of ITERATIONS REACHED LIMIT.\n",
            "\n",
            "Increase the number of iterations (max_iter) or scale the data as shown in:\n",
            "    https://scikit-learn.org/stable/modules/preprocessing.html\n",
            "Please also refer to the documentation for alternative solver options:\n",
            "    https://scikit-learn.org/stable/modules/linear_model.html#logistic-regression\n",
            "  n_iter_i = _check_optimize_result(\n"
          ]
        },
        {
          "output_type": "execute_result",
          "data": {
            "text/plain": [
              "LogisticRegression(max_iter=1000)"
            ],
            "text/html": [
              "<style>#sk-container-id-3 {color: black;background-color: white;}#sk-container-id-3 pre{padding: 0;}#sk-container-id-3 div.sk-toggleable {background-color: white;}#sk-container-id-3 label.sk-toggleable__label {cursor: pointer;display: block;width: 100%;margin-bottom: 0;padding: 0.3em;box-sizing: border-box;text-align: center;}#sk-container-id-3 label.sk-toggleable__label-arrow:before {content: \"▸\";float: left;margin-right: 0.25em;color: #696969;}#sk-container-id-3 label.sk-toggleable__label-arrow:hover:before {color: black;}#sk-container-id-3 div.sk-estimator:hover label.sk-toggleable__label-arrow:before {color: black;}#sk-container-id-3 div.sk-toggleable__content {max-height: 0;max-width: 0;overflow: hidden;text-align: left;background-color: #f0f8ff;}#sk-container-id-3 div.sk-toggleable__content pre {margin: 0.2em;color: black;border-radius: 0.25em;background-color: #f0f8ff;}#sk-container-id-3 input.sk-toggleable__control:checked~div.sk-toggleable__content {max-height: 200px;max-width: 100%;overflow: auto;}#sk-container-id-3 input.sk-toggleable__control:checked~label.sk-toggleable__label-arrow:before {content: \"▾\";}#sk-container-id-3 div.sk-estimator input.sk-toggleable__control:checked~label.sk-toggleable__label {background-color: #d4ebff;}#sk-container-id-3 div.sk-label input.sk-toggleable__control:checked~label.sk-toggleable__label {background-color: #d4ebff;}#sk-container-id-3 input.sk-hidden--visually {border: 0;clip: rect(1px 1px 1px 1px);clip: rect(1px, 1px, 1px, 1px);height: 1px;margin: -1px;overflow: hidden;padding: 0;position: absolute;width: 1px;}#sk-container-id-3 div.sk-estimator {font-family: monospace;background-color: #f0f8ff;border: 1px dotted black;border-radius: 0.25em;box-sizing: border-box;margin-bottom: 0.5em;}#sk-container-id-3 div.sk-estimator:hover {background-color: #d4ebff;}#sk-container-id-3 div.sk-parallel-item::after {content: \"\";width: 100%;border-bottom: 1px solid gray;flex-grow: 1;}#sk-container-id-3 div.sk-label:hover label.sk-toggleable__label {background-color: #d4ebff;}#sk-container-id-3 div.sk-serial::before {content: \"\";position: absolute;border-left: 1px solid gray;box-sizing: border-box;top: 0;bottom: 0;left: 50%;z-index: 0;}#sk-container-id-3 div.sk-serial {display: flex;flex-direction: column;align-items: center;background-color: white;padding-right: 0.2em;padding-left: 0.2em;position: relative;}#sk-container-id-3 div.sk-item {position: relative;z-index: 1;}#sk-container-id-3 div.sk-parallel {display: flex;align-items: stretch;justify-content: center;background-color: white;position: relative;}#sk-container-id-3 div.sk-item::before, #sk-container-id-3 div.sk-parallel-item::before {content: \"\";position: absolute;border-left: 1px solid gray;box-sizing: border-box;top: 0;bottom: 0;left: 50%;z-index: -1;}#sk-container-id-3 div.sk-parallel-item {display: flex;flex-direction: column;z-index: 1;position: relative;background-color: white;}#sk-container-id-3 div.sk-parallel-item:first-child::after {align-self: flex-end;width: 50%;}#sk-container-id-3 div.sk-parallel-item:last-child::after {align-self: flex-start;width: 50%;}#sk-container-id-3 div.sk-parallel-item:only-child::after {width: 0;}#sk-container-id-3 div.sk-dashed-wrapped {border: 1px dashed gray;margin: 0 0.4em 0.5em 0.4em;box-sizing: border-box;padding-bottom: 0.4em;background-color: white;}#sk-container-id-3 div.sk-label label {font-family: monospace;font-weight: bold;display: inline-block;line-height: 1.2em;}#sk-container-id-3 div.sk-label-container {text-align: center;}#sk-container-id-3 div.sk-container {/* jupyter's `normalize.less` sets `[hidden] { display: none; }` but bootstrap.min.css set `[hidden] { display: none !important; }` so we also need the `!important` here to be able to override the default hidden behavior on the sphinx rendered scikit-learn.org. See: https://github.com/scikit-learn/scikit-learn/issues/21755 */display: inline-block !important;position: relative;}#sk-container-id-3 div.sk-text-repr-fallback {display: none;}</style><div id=\"sk-container-id-3\" class=\"sk-top-container\"><div class=\"sk-text-repr-fallback\"><pre>LogisticRegression(max_iter=1000)</pre><b>In a Jupyter environment, please rerun this cell to show the HTML representation or trust the notebook. <br />On GitHub, the HTML representation is unable to render, please try loading this page with nbviewer.org.</b></div><div class=\"sk-container\" hidden><div class=\"sk-item\"><div class=\"sk-estimator sk-toggleable\"><input class=\"sk-toggleable__control sk-hidden--visually\" id=\"sk-estimator-id-3\" type=\"checkbox\" checked><label for=\"sk-estimator-id-3\" class=\"sk-toggleable__label sk-toggleable__label-arrow\">LogisticRegression</label><div class=\"sk-toggleable__content\"><pre>LogisticRegression(max_iter=1000)</pre></div></div></div></div></div>"
            ]
          },
          "metadata": {},
          "execution_count": 24
        }
      ]
    },
    {
      "cell_type": "code",
      "source": [
        "y_pred_train_original = lr_original.predict(X_train_original)\n",
        "y_pred_test_original = lr_original.predict(X_test_original)"
      ],
      "metadata": {
        "id": "9uPccBq5iK3o"
      },
      "execution_count": 25,
      "outputs": []
    },
    {
      "cell_type": "code",
      "source": [
        "print(classification_report(y_train_original,y_pred_train_original))"
      ],
      "metadata": {
        "colab": {
          "base_uri": "https://localhost:8080/"
        },
        "id": "eB4bMnRnincO",
        "outputId": "356db916-9e63-4d19-c7cc-1dc76d96e4ea"
      },
      "execution_count": 27,
      "outputs": [
        {
          "output_type": "stream",
          "name": "stdout",
          "text": [
            "              precision    recall  f1-score   support\n",
            "\n",
            "         0.0       1.00      1.00      1.00      1126\n",
            "         1.0       1.00      1.00      1.00      1010\n",
            "         2.0       1.00      1.00      1.00      1144\n",
            "         3.0       1.00      1.00      1.00      1196\n",
            "         4.0       1.00      1.00      1.00       957\n",
            "         5.0       1.00      1.00      1.00      1204\n",
            "         6.0       1.00      1.00      1.00      1090\n",
            "         7.0       1.00      1.00      1.00      1013\n",
            "         8.0       1.00      1.00      1.00      1162\n",
            "        10.0       1.00      1.00      1.00      1114\n",
            "        11.0       1.00      1.00      1.00      1241\n",
            "        12.0       1.00      1.00      1.00      1055\n",
            "        13.0       1.00      1.00      1.00      1151\n",
            "        14.0       1.00      1.00      1.00      1196\n",
            "        15.0       1.00      1.00      1.00      1088\n",
            "        16.0       1.00      1.00      1.00      1279\n",
            "        17.0       1.00      1.00      1.00      1294\n",
            "        18.0       1.00      1.00      1.00      1199\n",
            "        19.0       1.00      1.00      1.00      1186\n",
            "        20.0       1.00      1.00      1.00      1161\n",
            "        21.0       1.00      1.00      1.00      1082\n",
            "        22.0       1.00      1.00      1.00      1225\n",
            "        23.0       1.00      1.00      1.00      1164\n",
            "        24.0       1.00      1.00      1.00      1118\n",
            "\n",
            "    accuracy                           1.00     27455\n",
            "   macro avg       1.00      1.00      1.00     27455\n",
            "weighted avg       1.00      1.00      1.00     27455\n",
            "\n"
          ]
        }
      ]
    },
    {
      "cell_type": "code",
      "source": [
        "print(classification_report(y_test_original,y_pred_test_original))"
      ],
      "metadata": {
        "colab": {
          "base_uri": "https://localhost:8080/"
        },
        "id": "sFimOstCitrq",
        "outputId": "2aaadaf3-8a25-4f82-e950-d9ca462b0e76"
      },
      "execution_count": 26,
      "outputs": [
        {
          "output_type": "stream",
          "name": "stdout",
          "text": [
            "              precision    recall  f1-score   support\n",
            "\n",
            "         0.0       0.84      1.00      0.91       331\n",
            "         1.0       0.96      0.89      0.92       432\n",
            "         2.0       0.89      0.87      0.88       310\n",
            "         3.0       0.88      0.84      0.86       245\n",
            "         4.0       0.88      0.91      0.90       498\n",
            "         5.0       0.71      0.91      0.80       247\n",
            "         6.0       0.81      0.76      0.78       348\n",
            "         7.0       0.77      0.71      0.74       436\n",
            "         8.0       0.70      0.62      0.66       288\n",
            "        10.0       0.53      0.31      0.39       331\n",
            "        11.0       0.53      0.73      0.62       209\n",
            "        12.0       0.73      0.68      0.70       394\n",
            "        13.0       0.75      0.57      0.65       291\n",
            "        14.0       0.95      0.66      0.78       246\n",
            "        15.0       0.84      0.96      0.90       347\n",
            "        16.0       0.62      0.74      0.68       164\n",
            "        17.0       0.18      0.43      0.25       144\n",
            "        18.0       0.34      0.44      0.38       246\n",
            "        19.0       0.33      0.34      0.33       248\n",
            "        20.0       0.39      0.46      0.42       266\n",
            "        21.0       0.76      0.56      0.65       346\n",
            "        22.0       0.50      0.61      0.55       206\n",
            "        23.0       0.54      0.39      0.45       267\n",
            "        24.0       0.74      0.57      0.65       332\n",
            "\n",
            "    accuracy                           0.69      7172\n",
            "   macro avg       0.67      0.67      0.66      7172\n",
            "weighted avg       0.71      0.69      0.69      7172\n",
            "\n"
          ]
        }
      ]
    },
    {
      "cell_type": "markdown",
      "source": [
        "The comparison of results between the 100k augmented training dataset and the original dataset shows that the 100k augmented dataset is far less suceptible to overfitting. "
      ],
      "metadata": {
        "id": "7tEm0GZIk-ap"
      }
    },
    {
      "cell_type": "code",
      "source": [],
      "metadata": {
        "id": "LiMfhWNllGpQ"
      },
      "execution_count": null,
      "outputs": []
    }
  ]
}