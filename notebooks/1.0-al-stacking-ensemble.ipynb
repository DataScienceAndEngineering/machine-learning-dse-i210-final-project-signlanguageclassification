{
 "cells": [
  {
   "attachments": {},
   "cell_type": "markdown",
   "metadata": {},
   "source": [
    "# Stacking Ensemble"
   ]
  },
  {
   "attachments": {},
   "cell_type": "markdown",
   "metadata": {},
   "source": [
    "Stacking ensemble methods use the results from a number of other models, and uses a meta-estimator to learn the relationships between the prediction results of the first layer of models to produce a final prediction. For this experiment, a combination of the naive bayes, logistic regression, support vector machine, random forest, and XGBoost models will be used in the sklearn.ensemble.StackingClassifier model. The meta-estimator will be a logistic regression model, since more complex models are often not chosen as the meta-estimator since they may overfit easier. "
   ]
  },
  {
   "cell_type": "code",
   "execution_count": null,
   "metadata": {},
   "outputs": [],
   "source": [
    "#libaries\n",
    "from sklearn.ensemble import StackingClassifier\n",
    "import pickle"
   ]
  }
 ],
 "metadata": {
  "language_info": {
   "name": "python"
  },
  "orig_nbformat": 4
 },
 "nbformat": 4,
 "nbformat_minor": 2
}
