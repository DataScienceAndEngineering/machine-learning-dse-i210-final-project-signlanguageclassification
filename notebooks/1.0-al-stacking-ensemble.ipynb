{
 "cells": [
  {
   "attachments": {},
   "cell_type": "markdown",
   "metadata": {},
   "source": [
    "# Stacking Ensemble"
   ]
  },
  {
   "attachments": {},
   "cell_type": "markdown",
   "metadata": {},
   "source": [
    "Stacking ensemble methods use the results from a number of other models, and uses a meta-estimator to learn the relationships between the prediction results of the first layer of models to produce a final prediction. For this experiment, a combination of the naive bayes, logistic regression, support vector machine, random forest, and XGBoost models will be used in the sklearn.ensemble.StackingClassifier model. The meta-estimator will be a logistic regression model, since more complex models are often not chosen as the meta-estimator since they may overfit easier. "
   ]
  },
  {
   "cell_type": "code",
   "execution_count": 2,
   "metadata": {},
   "outputs": [],
   "source": [
    "#libaries\n",
    "from sklearn.ensemble import StackingClassifier\n",
    "from sklearn.preprocessing import StandardScaler\n",
    "from sklearn.linear_model import LogisticRegression\n",
    "from sklearn.svm import SVC \n",
    "from sklearn.metrics import classification_report\n",
    "import pickle"
   ]
  },
  {
   "cell_type": "code",
   "execution_count": null,
   "metadata": {},
   "outputs": [],
   "source": [
    "#opening pickle file of augmented added data\n",
    "with open('/content/drive/Shareddrives/SignLanguageData/combined_augmented_data.pkl','rb') as f:\n",
    "    X_train,y_train,X_test,y_test = pickle.load(f)"
   ]
  },
  {
   "cell_type": "code",
   "execution_count": null,
   "metadata": {},
   "outputs": [],
   "source": [
    "#standardized data \n",
    "#using sklearn standard scaler model and fitting on training data \n",
    "sc = StandardScaler().fit(X_train.reshape(X_train.shape[0],-1))\n",
    "X_train = sc.transform(X_train.reshape(X_train.shape[0],-1))\n",
    "X_test = sc.transform(X_test.reshape(X_test.shape[0],-1))"
   ]
  },
  {
   "attachments": {},
   "cell_type": "markdown",
   "metadata": {},
   "source": [
    "Defining all models as estimators using the best parameters found in previous experiment notebooks. "
   ]
  },
  {
   "cell_type": "code",
   "execution_count": null,
   "metadata": {},
   "outputs": [],
   "source": [
    "#defining estimators \n",
    "all_estimators = [\n",
    "    SVC(kernel = 'rbf', gamma = 'auto', C = 2.6389473684210527)\n",
    "\n",
    "\n",
    "]"
   ]
  },
  {
   "cell_type": "code",
   "execution_count": null,
   "metadata": {},
   "outputs": [],
   "source": [
    "#training stacking classifier \n",
    "all_stack = StackingClassifier(estimators=all_estimators, final_estimator=LogisticRegression())\n",
    "all_stack.fit(X_train,y_train)\n",
    "\n",
    "#predictions \n",
    "y_pred_train = all_stack.predict(X_train)\n",
    "y_pred_test = all_stack.predict(X_test)"
   ]
  },
  {
   "cell_type": "code",
   "execution_count": null,
   "metadata": {},
   "outputs": [],
   "source": [
    "#classification report for train\n",
    "print(classification_report(y_train,y_pred_train))"
   ]
  },
  {
   "cell_type": "code",
   "execution_count": null,
   "metadata": {},
   "outputs": [],
   "source": [
    "#classification report for test \n",
    "print(classification_report(y_test,y_pred_test))"
   ]
  },
  {
   "attachments": {},
   "cell_type": "markdown",
   "metadata": {},
   "source": [
    "Defining only the best performing models as estimators using the best parameters found in previous experiment notebooks. "
   ]
  },
  {
   "cell_type": "code",
   "execution_count": null,
   "metadata": {},
   "outputs": [],
   "source": [
    "best_estimators = [\n",
    "    SVC(kernel = 'rbf', gamma = 'auto', C = 2.6389473684210527)\n",
    "\n",
    "    \n",
    "]"
   ]
  },
  {
   "cell_type": "code",
   "execution_count": null,
   "metadata": {},
   "outputs": [],
   "source": [
    "#training stacking classifier \n",
    "best_stack = StackingClassifier(estimators=best_estimators, final_estimator=LogisticRegression())\n",
    "best_stack.fit(X_train,y_train)\n",
    "\n",
    "#predictions \n",
    "y_pred_train = best_stack.predict(X_train)\n",
    "y_pred_test = best_stack.predict(X_test)"
   ]
  },
  {
   "cell_type": "code",
   "execution_count": null,
   "metadata": {},
   "outputs": [],
   "source": [
    "#classification report for train\n",
    "print(classification_report(y_train,y_pred_train))"
   ]
  },
  {
   "cell_type": "code",
   "execution_count": null,
   "metadata": {},
   "outputs": [],
   "source": [
    "#classification report for test \n",
    "print(classification_report(y_test,y_pred_test))"
   ]
  }
 ],
 "metadata": {
  "kernelspec": {
   "display_name": "sign_language_interpreter",
   "language": "python",
   "name": "python3"
  },
  "language_info": {
   "codemirror_mode": {
    "name": "ipython",
    "version": 3
   },
   "file_extension": ".py",
   "mimetype": "text/x-python",
   "name": "python",
   "nbconvert_exporter": "python",
   "pygments_lexer": "ipython3",
   "version": "3.9.16"
  },
  "orig_nbformat": 4
 },
 "nbformat": 4,
 "nbformat_minor": 2
}
