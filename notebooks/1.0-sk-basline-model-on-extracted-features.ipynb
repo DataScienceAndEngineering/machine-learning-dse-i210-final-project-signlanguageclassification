{
 "cells": [
  {
   "cell_type": "code",
   "execution_count": 4,
   "id": "42ce2c18",
   "metadata": {},
   "outputs": [],
   "source": [
    "#import library\n",
    "import os\n",
    "import numpy as np\n",
    "import pickle\n",
    "from tensorflow.keras.preprocessing.image import ImageDataGenerator\n",
    "import pandas as pd\n",
    "import matplotlib.pyplot as plt\n",
    "from tqdm import tqdm\n",
    "from sklearn.naive_bayes import GaussianNB\n",
    "from sklearn.linear_model import LogisticRegression\n",
    "from sklearn.metrics import accuracy_score, classification_report\n",
    "from sklearn.pipeline import Pipeline\n",
    "from tqdm import tqdm\n",
    "from sklearn.discriminant_analysis import LinearDiscriminantAnalysis"
   ]
  },
  {
   "cell_type": "code",
   "execution_count": 5,
   "id": "4da20285",
   "metadata": {},
   "outputs": [],
   "source": [
    "#load the pickle file\n",
    "with open('../data/external/combined_augmented_data.pkl','rb') as f:\n",
    "    X_aug_train,y_aug_train, X_aug_test, y_aug_test = pickle.load(f)"
   ]
  },
  {
   "cell_type": "markdown",
   "id": "0c693878",
   "metadata": {},
   "source": [
    "Applying naive bayes\n"
   ]
  },
  {
   "cell_type": "code",
   "execution_count": null,
   "id": "0c03d073",
   "metadata": {},
   "outputs": [],
   "source": [
    "gnb = GaussianNB()"
   ]
  },
  {
   "cell_type": "code",
   "execution_count": null,
   "id": "6e763856",
   "metadata": {},
   "outputs": [],
   "source": [
    "#reshape to 784\n",
    "X_aug_train =X_aug_train.reshape(X_aug_train.shape[0], -1)\n",
    "X_aug_test =X_aug_test.reshape(X_aug_test.shape[0], -1)\n",
    "\n",
    "\n",
    "# Define the class names\n",
    "letters = ['A', 'B', 'C', 'D', 'E', 'F', 'G', 'H', 'I', 'K', 'L', 'M', 'N', 'O', 'P', 'Q', 'R', 'S', 'T', 'U', 'V', 'W', 'X', 'Y']"
   ]
  },
  {
   "cell_type": "code",
   "execution_count": null,
   "id": "303b6635",
   "metadata": {},
   "outputs": [],
   "source": [
    "# applying NB \n",
    "y_pred_sc = gnb.fit(X_aug_train, y_aug_train).predict(X_aug_test)\n",
    "y_pred_train = gnb.predict(X_aug_train)\n",
    "\n",
    "\n",
    "print(f\"Accuracy Test: {accuracy_score(y_aug_test, y_pred_sc)}\")\n",
    "print(f\"Accuracy Train: {accuracy_score(y_aug_train, y_pred_train)}\")\n",
    "\n",
    "print(\"Classification report:\")\n",
    "print(classification_report(y_aug_test, y_pred_sc, target_names=letters))"
   ]
  },
  {
   "cell_type": "code",
   "execution_count": null,
   "id": "f0f041ea",
   "metadata": {},
   "outputs": [],
   "source": [
    "lr = LogisticRegression()"
   ]
  },
  {
   "cell_type": "code",
   "execution_count": null,
   "id": "42bda6fd",
   "metadata": {},
   "outputs": [],
   "source": [
    "# testing logistic regression on test data\n",
    "y_pred_lr_sc = lr.fit(X_aug_train, y_aug_train).predict(X_aug_test)\n",
    "\n",
    "print(f\"Accuracy Test: {accuracy_score(y_aug_test, y_pred_lr_sc)}\")\n",
    "print(f\"Accuracy Train: {accuracy_score(y_aug_train, y_pred_train)}\")\n",
    "\n",
    "print(\"Classification report:\")\n",
    "print(classification_report(y_aug_test, y_pred_lr_sc, target_names=letters))"
   ]
  },
  {
   "cell_type": "code",
   "execution_count": null,
   "id": "cc3eec5f",
   "metadata": {},
   "outputs": [],
   "source": [
    "X_train,y_train, X_test, y_test =X_aug_train,y_aug_train, X_aug_test, y_aug_test"
   ]
  },
  {
   "cell_type": "code",
   "execution_count": null,
   "id": "75ab07f1",
   "metadata": {},
   "outputs": [],
   "source": [
    "#define sklearn LDA object \n",
    "lda = LinearDiscriminantAnalysis()\n",
    "#fit on training data \n",
    "lda.fit(X_train,y_train)"
   ]
  },
  {
   "cell_type": "code",
   "execution_count": null,
   "id": "0f886642",
   "metadata": {},
   "outputs": [],
   "source": [
    "#getting explained variance ratio from the lda model \n",
    "evr = lda.explained_variance_ratio_\n",
    "components = range(1, len(evr) + 1)\n",
    "\n",
    "#plotting scree plot\n",
    "fig, ax = plt.subplots(figsize = (8,5))\n",
    "ax.bar(x = components, height = evr, label = 'Explained Variance');\n",
    "plt.plot(components, np.cumsum(evr), marker = '.', color = 'orange', label = 'Cumulative Explained Variance')\n",
    "plt.axhline(y = .95, color = 'r', linestyle = '--', label = '0.95 Explained Variance')\n",
    "plt.xticks(range(1, len(evr)+1));\n",
    "plt.title('LDA: Explained Variance');\n",
    "plt.xlabel('Component');\n",
    "plt.ylabel('Explained Variance');\n",
    "plt.legend(fontsize = 9);"
   ]
  },
  {
   "cell_type": "code",
   "execution_count": null,
   "id": "9993445b",
   "metadata": {},
   "outputs": [],
   "source": [
    "#fit on training data and transform\n",
    "X_train_lda = lda.fit_transform(X_train,y_train)\n",
    "X_test_lda = lda.transform(X_test)"
   ]
  },
  {
   "cell_type": "code",
   "execution_count": null,
   "id": "90f2aee6",
   "metadata": {},
   "outputs": [],
   "source": [
    "import seaborn as sns\n",
    "fig, ax = plt.subplots(figsize = (8,8))\n",
    "ax = sns.scatterplot(x = X_train_lda[:,0], y = X_train_lda[:,1], hue = y_train, palette = 'pastel');\n",
    "handler, _ = ax.get_legend_handles_labels();\n",
    "plt.legend(handler, letters, bbox_to_anchor = (1, 1));\n",
    "plt.title('2D Embedding of Sign Language Images')\n",
    "plt.xlabel('Linear Discriminant 1');\n",
    "plt.ylabel('Linear Discriminant 2');"
   ]
  },
  {
   "cell_type": "code",
   "execution_count": null,
   "id": "f75b2752",
   "metadata": {},
   "outputs": [],
   "source": [
    "from sklearn.model_selection import RandomizedSearchCV\n",
    "from sklearn.svm import SVC\n",
    "#SVM\n",
    "\n",
    "#defining support vector machine parameters\n",
    "parameters = {'kernel':['rbf'],'gamma':['auto'],'C':np.linspace(2.62,2.7,10)}\n",
    "\n",
    "# defining randomized grid search cv \n",
    "clf = RandomizedSearchCV(SVC(), param_distributions=parameters, random_state=99, verbose=3)\n",
    "#fitting to LDA transformed training data \n",
    "search_lda = clf.fit(X_train_lda, y_aug_train)"
   ]
  },
  {
   "cell_type": "code",
   "execution_count": null,
   "id": "6f39dd52",
   "metadata": {},
   "outputs": [],
   "source": []
  },
  {
   "cell_type": "code",
   "execution_count": null,
   "id": "500d39d7",
   "metadata": {},
   "outputs": [],
   "source": []
  },
  {
   "cell_type": "code",
   "execution_count": null,
   "id": "150fc23b",
   "metadata": {},
   "outputs": [],
   "source": []
  }
 ],
 "metadata": {
  "kernelspec": {
   "display_name": "Python 3 (ipykernel)",
   "language": "python",
   "name": "python3"
  },
  "language_info": {
   "codemirror_mode": {
    "name": "ipython",
    "version": 3
   },
   "file_extension": ".py",
   "mimetype": "text/x-python",
   "name": "python",
   "nbconvert_exporter": "python",
   "pygments_lexer": "ipython3",
   "version": "3.10.11"
  }
 },
 "nbformat": 4,
 "nbformat_minor": 5
}
