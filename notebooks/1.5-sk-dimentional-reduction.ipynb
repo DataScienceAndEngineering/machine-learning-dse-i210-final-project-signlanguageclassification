{
 "cells": [
  {
   "cell_type": "code",
   "execution_count": 5,
   "id": "67253142",
   "metadata": {},
   "outputs": [],
   "source": [
    "#libraries\n",
    "import pandas as pd\n",
    "import numpy as np\n",
    "import matplotlib.pyplot as plt\n",
    "import cv2\n",
    "from sklearn.preprocessing import StandardScaler\n",
    "from tqdm import tqdm\n",
    "from sklearn.naive_bayes import GaussianNB\n",
    "from sklearn.linear_model import LogisticRegression\n",
    "from sklearn.metrics import accuracy_score, classification_report\n",
    "from sklearn.pipeline import Pipeline\n",
    "from sklearn.manifold import TSNE\n",
    "import matplotlib.pyplot as plt\n",
    "import numpy as np\n",
    "import seaborn as sns\n",
    "from sklearn.discriminant_analysis import LinearDiscriminantAnalysis\n",
    "import seaborn as sns\n",
    "import pickle"
   ]
  },
  {
   "cell_type": "code",
   "execution_count": 6,
   "id": "1218f43a",
   "metadata": {},
   "outputs": [],
   "source": [
    "#opening pickle file of augmented added data\n",
    "with open('../data/external/combined_augmented_data_v2.pkl','rb') as f:\n",
    "    X_train,y_train,X_test,y_test = pickle.load(f)"
   ]
  },
  {
   "cell_type": "code",
   "execution_count": 7,
   "id": "9aff50ec",
   "metadata": {},
   "outputs": [],
   "source": [
    "#letters\n",
    "letters = ['A','B','C','D','E','F','G','H','I','K','L','M','N','O','P','Q','R','S','T','U','V','W','X','Y']\n",
    "#numbers \n",
    "numbers = sorted(list(np.unique(y_train.astype(int))))\n",
    "#dictionary of labels \n",
    "labels = dict(zip(numbers,letters))"
   ]
  },
  {
   "cell_type": "code",
   "execution_count": 8,
   "id": "c6aa11e5",
   "metadata": {},
   "outputs": [],
   "source": [
    "#standardized data \n",
    "#using sklearn standard scaler model and fitting on training data \n",
    "sc = StandardScaler().fit(X_train.reshape(X_train.shape[0],-1))\n",
    "X_train = sc.transform(X_train.reshape(X_train.shape[0],-1))\n",
    "X_test = sc.transform(X_test.reshape(X_test.shape[0],-1))"
   ]
  },
  {
   "cell_type": "code",
   "execution_count": null,
   "id": "442dbd32",
   "metadata": {},
   "outputs": [],
   "source": [
    "# # Perform t-SNE with different perplexity values\n",
    "# perplexities = 5\n",
    "# embeddings = []\n",
    "# # for perplexity in perplexities:\n",
    "# tsne = TSNE(n_components=2, perplexity=perplexities, verbose =1)\n",
    "# embedding = tsne.fit_transform(X_train)\n",
    "# embeddings.append(embedding)\n",
    "\n",
    "# # Calculate the variance explained by each perplexity\n",
    "# variances = [np.var(embedding) for embedding in embeddings]\n",
    "\n",
    "# # Plot the elbow plot\n",
    "# plt.plot(perplexities, variances, 'bo-')\n",
    "# plt.xlabel('Perplexity')\n",
    "# plt.ylabel('Variance')\n",
    "# plt.title('t-SNE Elbow Plot')\n",
    "# plt.show()"
   ]
  },
  {
   "cell_type": "code",
   "execution_count": null,
   "id": "ceabe5ba",
   "metadata": {},
   "outputs": [
    {
     "name": "stderr",
     "output_type": "stream",
     "text": [
      "C:\\Users\\15513\\AppData\\Local\\Packages\\PythonSoftwareFoundation.Python.3.10_qbz5n2kfra8p0\\LocalCache\\local-packages\\Python310\\site-packages\\sklearn\\manifold\\_t_sne.py:800: FutureWarning: The default initialization in TSNE will change from 'random' to 'pca' in 1.2.\n",
      "  warnings.warn(\n",
      "C:\\Users\\15513\\AppData\\Local\\Packages\\PythonSoftwareFoundation.Python.3.10_qbz5n2kfra8p0\\LocalCache\\local-packages\\Python310\\site-packages\\sklearn\\manifold\\_t_sne.py:810: FutureWarning: The default learning rate in TSNE will change from 200.0 to 'auto' in 1.2.\n",
      "  warnings.warn(\n"
     ]
    }
   ],
   "source": [
    "# Initialize t-SNE object\n",
    "tsne = TSNE(n_components=2, random_state=0 )\n",
    "# Apply t-SNE to data\n",
    "tsne_res = tsne.fit_transform(X_train)"
   ]
  },
  {
   "cell_type": "code",
   "execution_count": null,
   "id": "12cc8789",
   "metadata": {},
   "outputs": [],
   "source": [
    "# Plot t-SNE results\n",
    "fig, ax = plt.subplots(figsize = (10,10))\n",
    "\n",
    "ax= sns.scatterplot(x = tsne_res[:,0], y = tsne_res[:,1], hue = y_train, palette = sns.hls_palette(10), legend = 'full')\n",
    "handler, _ = ax.get_legend_handles_labels();\n",
    "\n",
    "plt.legend(handler, letters, bbox_to_anchor = (1, 1));\n",
    "#title\n",
    "plt.title('2D Embedding of Sign Language Images')\n",
    "#x-axis label \n",
    "plt.xlabel('TSNE Component 1');\n",
    "#y-axis label\n",
    "plt.ylabel('TSNE Component 2');"
   ]
  },
  {
   "cell_type": "code",
   "execution_count": null,
   "id": "89520727",
   "metadata": {},
   "outputs": [],
   "source": []
  }
 ],
 "metadata": {
  "kernelspec": {
   "display_name": "Python 3 (ipykernel)",
   "language": "python",
   "name": "python3"
  },
  "language_info": {
   "codemirror_mode": {
    "name": "ipython",
    "version": 3
   },
   "file_extension": ".py",
   "mimetype": "text/x-python",
   "name": "python",
   "nbconvert_exporter": "python",
   "pygments_lexer": "ipython3",
   "version": "3.10.11"
  }
 },
 "nbformat": 4,
 "nbformat_minor": 5
}
