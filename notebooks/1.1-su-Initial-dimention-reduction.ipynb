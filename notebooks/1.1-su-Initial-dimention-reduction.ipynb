{
  "nbformat": 4,
  "nbformat_minor": 0,
  "metadata": {
    "colab": {
      "provenance": []
    },
    "kernelspec": {
      "name": "python3",
      "display_name": "Python 3"
    },
    "language_info": {
      "name": "python"
    }
  },
  "cells": [
    {
      "cell_type": "code",
      "execution_count": 4,
      "metadata": {
        "id": "La9Au_W2U5DZ",
        "colab": {
          "base_uri": "https://localhost:8080/"
        },
        "outputId": "26955480-2eee-4368-866b-ba623da46cd1"
      },
      "outputs": [
        {
          "output_type": "stream",
          "name": "stdout",
          "text": [
            "Drive already mounted at /content/drive; to attempt to forcibly remount, call drive.mount(\"/content/drive\", force_remount=True).\n"
          ]
        }
      ],
      "source": [
        "from google.colab import drive\n",
        "drive.mount('/content/drive')\n"
      ]
    },
    {
      "cell_type": "code",
      "source": [
        "import os\n",
        "path = '/content/drive/MyDrive/ML'\n",
        "os.listdir(path)"
      ],
      "metadata": {
        "colab": {
          "base_uri": "https://localhost:8080/"
        },
        "id": "RQlzfZ7gVeAJ",
        "outputId": "98ca87a9-cab5-4f0f-cc71-0940e69c4668"
      },
      "execution_count": 7,
      "outputs": [
        {
          "output_type": "execute_result",
          "data": {
            "text/plain": [
              "['sign_mnist_test.csv', 'sign_mnist_train.csv']"
            ]
          },
          "metadata": {},
          "execution_count": 7
        }
      ]
    },
    {
      "cell_type": "code",
      "source": [
        "#libraries\n",
        "import pandas as pd\n",
        "import numpy as np\n",
        "import matplotlib.pyplot as plt\n",
        "import cv2\n",
        "from sklearn.preprocessing import StandardScaler\n",
        "from tqdm import tqdm\n",
        "from sklearn.naive_bayes import GaussianNB\n",
        "from sklearn.linear_model import LogisticRegression\n",
        "from sklearn.metrics import accuracy_score, classification_report\n",
        "from sklearn.pipeline import Pipeline"
      ],
      "metadata": {
        "id": "UnTNC3kDWlzs"
      },
      "execution_count": 8,
      "outputs": []
    },
    {
      "cell_type": "code",
      "source": [
        "#define relative path to dataset\n",
        "path_train = '/content/drive/MyDrive/ML/sign_mnist_train.csv'\n",
        "path_test = '/content/drive/MyDrive/ML/sign_mnist_test.csv'\n",
        "\n",
        "#define image resolution \n",
        "res = (28,28)"
      ],
      "metadata": {
        "id": "fqjDdVjRYfhw"
      },
      "execution_count": 9,
      "outputs": []
    },
    {
      "cell_type": "code",
      "source": [
        "#saving data into pandas dataframes \n",
        "test = pd.read_csv(path_test)\n",
        "train = pd.read_csv(path_train)"
      ],
      "metadata": {
        "id": "6Q0tU-1uYsFs"
      },
      "execution_count": 10,
      "outputs": []
    },
    {
      "cell_type": "code",
      "source": [
        "#printing shape\n",
        "print(f'Train Shape:{train.shape}')\n",
        "print(f'Test Shape:{test.shape}')"
      ],
      "metadata": {
        "colab": {
          "base_uri": "https://localhost:8080/"
        },
        "id": "-T49C25iYuxL",
        "outputId": "00dbd203-f89b-4fd2-cb37-3ef290f1c003"
      },
      "execution_count": 11,
      "outputs": [
        {
          "output_type": "stream",
          "name": "stdout",
          "text": [
            "Train Shape:(27455, 785)\n",
            "Test Shape:(7172, 785)\n"
          ]
        }
      ]
    },
    {
      "cell_type": "code",
      "source": [
        "#training data \n",
        "X_train = train.iloc[:,1:]\n",
        "y_train = train.iloc[:,0]\n",
        "\n",
        "#testing data\n",
        "X_test = test.iloc[:,1:]\n",
        "y_test = test.iloc[:,0]"
      ],
      "metadata": {
        "id": "8ubReXRdYxbZ"
      },
      "execution_count": 12,
      "outputs": []
    },
    {
      "cell_type": "code",
      "source": [
        "#fuction to find the indices given a label \n",
        "def find_indices(data,label):\n",
        "    #check if data is numpy array\n",
        "    if type(data) == np.ndarray:\n",
        "        #return indices\n",
        "        return np.where(data==label)\n",
        "    #check if data is pandas series \n",
        "    elif type(data) == pd.Series:\n",
        "        #return indices\n",
        "        return data[data==label].index\n",
        "    #else not supported in this function\n",
        "    else:\n",
        "        raise Exception('Not supported data type for this function.')"
      ],
      "metadata": {
        "id": "CU7Xfve-Y1oc"
      },
      "execution_count": 13,
      "outputs": []
    },
    {
      "cell_type": "code",
      "source": [
        "#letters\n",
        "letters = ['A','B','C','D','E','F','G','H','I','K','L','M','N','O','P','Q','R','S','T','U','V','W','X','Y']\n",
        "#numbers \n",
        "numbers = sorted(list(y_train.unique()))\n",
        "#dictionary of labels \n",
        "labels = dict(zip(numbers,letters))"
      ],
      "metadata": {
        "id": "ksp5N8SFY4Ek"
      },
      "execution_count": 14,
      "outputs": []
    },
    {
      "cell_type": "code",
      "source": [
        "#fuction to find the indices given a label \n",
        "def find_indices(data,label):\n",
        "    #check if data is numpy array\n",
        "    if type(data) == np.ndarray:\n",
        "        #return indices\n",
        "        return np.where(data==label)\n",
        "    #check if data is pandas series \n",
        "    elif type(data) == pd.Series:\n",
        "        #return indices\n",
        "        return data[data==label].index\n",
        "    #else not supported in this function\n",
        "    else:\n",
        "        raise Exception('Not supported data type for this function.')"
      ],
      "metadata": {
        "id": "WewzjzdMY9Dr"
      },
      "execution_count": 15,
      "outputs": []
    },
    {
      "cell_type": "code",
      "source": [
        "#standardized data \n",
        "#using sklearn standard scaler model and fitting on training data \n",
        "sc = StandardScaler().fit(X_train)\n",
        "X_train_sc = sc.transform(X_train)\n",
        "X_test_sc = sc.transform(X_test)"
      ],
      "metadata": {
        "id": "WMYm1vWdY9op"
      },
      "execution_count": 17,
      "outputs": []
    },
    {
      "cell_type": "code",
      "source": [
        "lr = LogisticRegression(max_iter=5000)"
      ],
      "metadata": {
        "id": "nAJfWa6kZQne"
      },
      "execution_count": 18,
      "outputs": []
    },
    {
      "cell_type": "code",
      "source": [
        "# applying Logistic regression on standerdized data\n",
        "y_pred_lr_sc = lr.fit(X_train_sc, y_train).predict(X_test_sc)\n",
        "\n",
        "print(f\"Accuracy: {accuracy_score(y_test, y_pred_lr_sc)}\")\n",
        "print(\"Classification report:\")\n",
        "print(classification_report(y_test, y_pred_lr_sc, target_names=letters))"
      ],
      "metadata": {
        "colab": {
          "base_uri": "https://localhost:8080/"
        },
        "id": "lk_r8tA8ZCzU",
        "outputId": "108c2c83-55e6-4846-c02c-3ba33f46572c"
      },
      "execution_count": 19,
      "outputs": [
        {
          "output_type": "stream",
          "name": "stdout",
          "text": [
            "Accuracy: 0.6986893474623536\n",
            "Classification report:\n",
            "              precision    recall  f1-score   support\n",
            "\n",
            "           A       0.84      1.00      0.91       331\n",
            "           B       1.00      0.89      0.94       432\n",
            "           C       0.91      0.90      0.91       310\n",
            "           D       0.92      0.92      0.92       245\n",
            "           E       0.92      0.87      0.89       498\n",
            "           F       0.69      0.91      0.78       247\n",
            "           G       0.82      0.78      0.80       348\n",
            "           H       0.78      0.66      0.72       436\n",
            "           I       0.65      0.66      0.66       288\n",
            "           K       0.62      0.40      0.48       331\n",
            "           L       0.53      0.84      0.65       209\n",
            "           M       0.75      0.71      0.73       394\n",
            "           N       0.64      0.57      0.60       291\n",
            "           O       1.00      0.65      0.79       246\n",
            "           P       0.87      0.95      0.91       347\n",
            "           Q       0.62      0.74      0.68       164\n",
            "           R       0.17      0.43      0.25       144\n",
            "           S       0.39      0.49      0.44       246\n",
            "           T       0.35      0.36      0.36       248\n",
            "           U       0.46      0.46      0.46       266\n",
            "           V       0.74      0.54      0.62       346\n",
            "           W       0.47      0.61      0.53       206\n",
            "           X       0.68      0.43      0.53       267\n",
            "           Y       0.76      0.57      0.65       332\n",
            "\n",
            "    accuracy                           0.70      7172\n",
            "   macro avg       0.69      0.68      0.68      7172\n",
            "weighted avg       0.73      0.70      0.70      7172\n",
            "\n"
          ]
        }
      ]
    },
    {
      "cell_type": "code",
      "source": [],
      "metadata": {
        "id": "MLv35JQoZSzS"
      },
      "execution_count": null,
      "outputs": []
    },
    {
      "cell_type": "markdown",
      "source": [
        "### ISO-Map"
      ],
      "metadata": {
        "id": "YPU4LpEHZ83L"
      }
    },
    {
      "cell_type": "code",
      "source": [
        "# Define Isomap with n_components=2 and n_neighbors=5\n",
        "iso = Isomap(n_components=2)"
      ],
      "metadata": {
        "id": "rUOLgG5yZ-3V"
      },
      "execution_count": null,
      "outputs": []
    },
    {
      "cell_type": "code",
      "source": [
        "# fit and transform the standardized training data\n",
        "X_train_iso = iso.fit_transform(X_train_sc)"
      ],
      "metadata": {
        "id": "tRmkt2-7aA-A"
      },
      "execution_count": null,
      "outputs": []
    },
    {
      "cell_type": "code",
      "source": [
        "print(f\"Accuracy: {accuracy_score(y_test, y_pred_lr)}\")\n",
        "print(\"Classification report:\")\n",
        "print(classification_report(y_test, y_pred_lr, target_names=letters))"
      ],
      "metadata": {
        "id": "0KVfrfSraBEo"
      },
      "execution_count": null,
      "outputs": []
    },
    {
      "cell_type": "code",
      "source": [
        "# create a pipeline for Naive Bayes with Isomap\n",
        "pipe_nb = Pipeline([('isomap', Isomap(n_components=2)), ('nb', GaussianNB())])\n"
      ],
      "metadata": {
        "id": "rThXVlEsaBVX"
      },
      "execution_count": null,
      "outputs": []
    },
    {
      "cell_type": "code",
      "source": [
        "# Predict on the testing data using the pipeline\n",
        "y_pred = pipeline.predict(X_test_sc)\n",
        "\n",
        "# applying Logistic regression on standerdized data\n",
        "y_pred_lr_sc = lr.fit(X_train_sc, y_train).predict(X_test_sc)\n",
        "\n",
        "print(f\"Accuracy: {accuracy_score(y_test, y_pred_lr_sc)}\")\n",
        "print(\"Classification report:\")\n",
        "print(classification_report(y_test, y_pred_lr_sc, target_names=letters))\n"
      ],
      "metadata": {
        "id": "-mqjgH8eaLr1"
      },
      "execution_count": null,
      "outputs": []
    }
  ]
}