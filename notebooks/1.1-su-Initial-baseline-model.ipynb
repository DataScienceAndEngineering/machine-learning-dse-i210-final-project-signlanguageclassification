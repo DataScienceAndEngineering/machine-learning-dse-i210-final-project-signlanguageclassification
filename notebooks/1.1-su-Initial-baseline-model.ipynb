{
 "cells": [
  {
   "cell_type": "markdown",
   "id": "f14033e3",
   "metadata": {},
   "source": [
    "Initial Data Loading and Cleaning"
   ]
  },
  {
   "cell_type": "code",
   "execution_count": 11,
   "id": "3b7488e5",
   "metadata": {},
   "outputs": [],
   "source": [
    "#libraries\n",
    "import pandas as pd\n",
    "import numpy as np\n",
    "import matplotlib.pyplot as plt\n",
    "from sklearn.naive_bayes import GaussianNB\n",
    "from sklearn.linear_model import LogisticRegression\n",
    "from sklearn.metrics import accuracy_score, classification_report"
   ]
  },
  {
   "cell_type": "code",
   "execution_count": 12,
   "id": "208865db",
   "metadata": {},
   "outputs": [],
   "source": [
    "#define relative path to dataset\n",
    "path_train = '/Users/sumaiyauddin/Documents/ML/Project/Project Repo/sign_mnist_train.csv'\n",
    "path_test = '/Users/sumaiyauddin/Documents/ML/Project/Project Repo/sign_mnist_test.csv'\n",
    "\n",
    "#define image resolution \n",
    "res = (28,28)"
   ]
  },
  {
   "cell_type": "code",
   "execution_count": 13,
   "id": "eda96d7d",
   "metadata": {},
   "outputs": [],
   "source": [
    "#saving data into pandas dataframes \n",
    "test = pd.read_csv(path_test)\n",
    "train = pd.read_csv(path_train)"
   ]
  },
  {
   "cell_type": "code",
   "execution_count": 14,
   "id": "51127b03",
   "metadata": {},
   "outputs": [
    {
     "name": "stdout",
     "output_type": "stream",
     "text": [
      "Train Shape:(27455, 785)\n",
      "Test Shape:(7172, 785)\n"
     ]
    }
   ],
   "source": [
    "#printing shape\n",
    "print(f'Train Shape:{train.shape}')\n",
    "print(f'Test Shape:{test.shape}')\n"
   ]
  },
  {
   "cell_type": "markdown",
   "id": "d8b2fd89",
   "metadata": {},
   "source": [
    "The training dataset consists of 27455 28x28 pixel grayscale images, including the associated label. The testing dataset consists of 7172 28x28 images. The label and pixels are split into X and y for both training and testing data."
   ]
  },
  {
   "cell_type": "code",
   "execution_count": 15,
   "id": "62c0def9",
   "metadata": {},
   "outputs": [],
   "source": [
    "#training data \n",
    "X_train = train.iloc[:,1:]\n",
    "y_train = train.iloc[:,0]\n",
    "\n",
    "#testing data\n",
    "X_test = test.iloc[:,1:]\n",
    "y_test = test.iloc[:,0]"
   ]
  },
  {
   "cell_type": "markdown",
   "id": "9acf6641",
   "metadata": {},
   "source": [
    "The below is a function to find the indices of a specified label."
   ]
  },
  {
   "cell_type": "code",
   "execution_count": 16,
   "id": "9ef8990b",
   "metadata": {},
   "outputs": [],
   "source": [
    "#fuction to find the indices given a label \n",
    "def find_indices(data,label):\n",
    "    #check if data is numpy array\n",
    "    if type(data) == np.ndarray:\n",
    "        #return indices\n",
    "        return np.where(data==label)\n",
    "    #check if data is pandas series \n",
    "    elif type(data) == pd.Series:\n",
    "        #return indices\n",
    "        return data[data==label].index\n",
    "    #else not supported in this function\n",
    "    else:\n",
    "        raise Exception('Not supported data type for this function.')"
   ]
  },
  {
   "cell_type": "markdown",
   "id": "b8a33277",
   "metadata": {},
   "source": [
    "Creating a dictionary where key is the numeric label in the dataset and value is the corresponding letter."
   ]
  },
  {
   "cell_type": "code",
   "execution_count": 17,
   "id": "83a0ab39",
   "metadata": {},
   "outputs": [],
   "source": [
    "#letters\n",
    "letters = ['A','B','C','D','E','F','G','H','I','K','L','M','N','O','P','Q','R','S','T','U','V','W','X','Y']\n",
    "#numbers \n",
    "numbers = sorted(list(y_train.unique()))\n",
    "#dictionary of labels \n",
    "labels = dict(zip(numbers,letters))"
   ]
  },
  {
   "cell_type": "markdown",
   "id": "95e3026c",
   "metadata": {},
   "source": [
    "Inspecting examples for each letter in the dataset."
   ]
  },
  {
   "cell_type": "markdown",
   "id": "973fa120",
   "metadata": {},
   "source": [
    "## Naive Bayes"
   ]
  },
  {
   "cell_type": "code",
   "execution_count": 20,
   "id": "a003b597",
   "metadata": {},
   "outputs": [],
   "source": [
    "# Train and predict using Naive Bayes\n",
    "gnb = GaussianNB()\n",
    "y_pred = gnb.fit(X_train, y_train).predict(X_test)"
   ]
  },
  {
   "cell_type": "code",
   "execution_count": 21,
   "id": "9bb5bf46",
   "metadata": {},
   "outputs": [
    {
     "name": "stdout",
     "output_type": "stream",
     "text": [
      "Accuracy: 0.3898494143892917\n",
      "Classification report:\n",
      "               precision    recall  f1-score   support\n",
      "\n",
      "           A       0.71      0.48      0.57       331\n",
      "           B       0.96      0.40      0.56       432\n",
      "           C       0.72      0.50      0.59       310\n",
      "           D       0.60      0.40      0.48       245\n",
      "           E       0.53      0.56      0.55       498\n",
      "           F       0.39      0.26      0.31       247\n",
      "           G       0.54      0.56      0.55       348\n",
      "           H       0.85      0.39      0.53       436\n",
      "           I       0.22      0.45      0.30       288\n",
      "           K       0.27      0.41      0.33       331\n",
      "           L       0.41      0.45      0.43       209\n",
      "           M       0.37      0.19      0.25       394\n",
      "           N       0.38      0.31      0.34       291\n",
      "           O       0.37      0.49      0.42       246\n",
      "           P       0.43      0.81      0.56       347\n",
      "           Q       0.29      0.60      0.39       164\n",
      "           R       0.13      0.44      0.20       144\n",
      "           S       0.13      0.17      0.15       246\n",
      "           T       0.24      0.60      0.35       248\n",
      "           U       0.18      0.03      0.05       266\n",
      "           V       0.27      0.21      0.23       346\n",
      "           W       0.11      0.05      0.07       206\n",
      "           X       0.57      0.29      0.38       267\n",
      "           Y       0.53      0.18      0.27       332\n",
      "\n",
      "    accuracy                           0.39      7172\n",
      "   macro avg       0.42      0.38      0.37      7172\n",
      "weighted avg       0.46      0.39      0.39      7172\n",
      "\n"
     ]
    }
   ],
   "source": [
    "# Print accuracy and classification report\n",
    "print(f\"Accuracy: {accuracy_score(y_test, y_pred)}\")\n",
    "print(\"Classification report:\\n\", classification_report(y_test, y_pred, target_names=letters))\n"
   ]
  },
  {
   "cell_type": "markdown",
   "id": "d770ba3f",
   "metadata": {},
   "source": [
    "## Logistic regration"
   ]
  },
  {
   "cell_type": "code",
   "execution_count": null,
   "id": "010bdf4a",
   "metadata": {},
   "outputs": [],
   "source": []
  }
 ],
 "metadata": {
  "kernelspec": {
   "display_name": "Python 3 (ipykernel)",
   "language": "python",
   "name": "python3"
  },
  "language_info": {
   "codemirror_mode": {
    "name": "ipython",
    "version": 3
   },
   "file_extension": ".py",
   "mimetype": "text/x-python",
   "name": "python",
   "nbconvert_exporter": "python",
   "pygments_lexer": "ipython3",
   "version": "3.9.13"
  }
 },
 "nbformat": 4,
 "nbformat_minor": 5
}
