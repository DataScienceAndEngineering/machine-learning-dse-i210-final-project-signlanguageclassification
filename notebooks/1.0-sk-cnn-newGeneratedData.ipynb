{
 "cells": [
  {
   "cell_type": "markdown",
   "metadata": {},
   "source": [
    "#### importing libraries"
   ]
  },
  {
   "cell_type": "code",
   "execution_count": 3,
   "metadata": {
    "_cell_guid": "b1076dfc-b9ad-4769-8c92-a6c4dae69d19",
    "_uuid": "8f2839f25d086af736a60e9eeb907d3b93b6e0e5",
    "execution": {
     "iopub.execute_input": "2023-05-13T23:18:53.712252Z",
     "iopub.status.busy": "2023-05-13T23:18:53.711522Z",
     "iopub.status.idle": "2023-05-13T23:18:53.719446Z",
     "shell.execute_reply": "2023-05-13T23:18:53.718468Z",
     "shell.execute_reply.started": "2023-05-13T23:18:53.712217Z"
    }
   },
   "outputs": [],
   "source": [
    "import tensorflow as tf\n",
    "from tensorflow.keras import layers, models\n"
   ]
  },
  {
   "cell_type": "markdown",
   "metadata": {},
   "source": [
    "##### Image Data  Generator"
   ]
  },
  {
   "cell_type": "code",
   "execution_count": 6,
   "metadata": {
    "execution": {
     "iopub.execute_input": "2023-05-13T23:19:20.233259Z",
     "iopub.status.busy": "2023-05-13T23:19:20.232895Z",
     "iopub.status.idle": "2023-05-13T23:19:20.537161Z",
     "shell.execute_reply": "2023-05-13T23:19:20.536243Z",
     "shell.execute_reply.started": "2023-05-13T23:19:20.233232Z"
    }
   },
   "outputs": [
    {
     "name": "stdout",
     "output_type": "stream",
     "text": [
      "Found 5715 images belonging to 24 classes.\n",
      "Found 5715 images belonging to 24 classes.\n"
     ]
    }
   ],
   "source": [
    "train_datagen = tf.keras.preprocessing.image.ImageDataGenerator(\n",
    "    rescale=1./255,\n",
    "    shear_range=0.2,\n",
    "    zoom_range=0.2,\n",
    "    horizontal_flip=True)\n",
    "\n",
    "train_generator = train_datagen.flow_from_directory(\n",
    "    directory=r'/kaggle/input/signlanguage/Data',\n",
    "    target_size=(300, 300),\n",
    "    batch_size=32,\n",
    "    class_mode='categorical')\n",
    "    \n",
    "val_datagen = tf.keras.preprocessing.image.ImageDataGenerator(rescale=1./255)\n",
    "\n",
    "val_generator = val_datagen.flow_from_directory(\n",
    "    directory='/kaggle/input/signlanguage/Data',\n",
    "    target_size=(300, 300),\n",
    "    batch_size=32,\n",
    "    class_mode='categorical')\n",
    "\n"
   ]
  },
  {
   "cell_type": "markdown",
   "metadata": {},
   "source": [
    "##### Model Building"
   ]
  },
  {
   "cell_type": "code",
   "execution_count": 7,
   "metadata": {
    "execution": {
     "iopub.execute_input": "2023-05-13T23:19:22.492617Z",
     "iopub.status.busy": "2023-05-13T23:19:22.491584Z",
     "iopub.status.idle": "2023-05-13T23:19:22.608460Z",
     "shell.execute_reply": "2023-05-13T23:19:22.607749Z",
     "shell.execute_reply.started": "2023-05-13T23:19:22.492568Z"
    }
   },
   "outputs": [
    {
     "name": "stdout",
     "output_type": "stream",
     "text": [
      "Model: \"sequential_1\"\n",
      "_________________________________________________________________\n",
      " Layer (type)                Output Shape              Param #   \n",
      "=================================================================\n",
      " conv2d_4 (Conv2D)           (None, 298, 298, 32)      896       \n",
      "                                                                 \n",
      " max_pooling2d_4 (MaxPooling  (None, 149, 149, 32)     0         \n",
      " 2D)                                                             \n",
      "                                                                 \n",
      " conv2d_5 (Conv2D)           (None, 147, 147, 64)      18496     \n",
      "                                                                 \n",
      " max_pooling2d_5 (MaxPooling  (None, 73, 73, 64)       0         \n",
      " 2D)                                                             \n",
      "                                                                 \n",
      " conv2d_6 (Conv2D)           (None, 71, 71, 128)       73856     \n",
      "                                                                 \n",
      " max_pooling2d_6 (MaxPooling  (None, 35, 35, 128)      0         \n",
      " 2D)                                                             \n",
      "                                                                 \n",
      " conv2d_7 (Conv2D)           (None, 33, 33, 256)       295168    \n",
      "                                                                 \n",
      " max_pooling2d_7 (MaxPooling  (None, 16, 16, 256)      0         \n",
      " 2D)                                                             \n",
      "                                                                 \n",
      " flatten_1 (Flatten)         (None, 65536)             0         \n",
      "                                                                 \n",
      " dense_2 (Dense)             (None, 512)               33554944  \n",
      "                                                                 \n",
      " dense_3 (Dense)             (None, 24)                12312     \n",
      "                                                                 \n",
      "=================================================================\n",
      "Total params: 33,955,672\n",
      "Trainable params: 33,955,672\n",
      "Non-trainable params: 0\n",
      "_________________________________________________________________\n"
     ]
    }
   ],
   "source": [
    "model = models.Sequential()\n",
    "\n",
    "model.add(layers.Conv2D(32, (3, 3), activation='relu', input_shape=(300, 300, 3)))\n",
    "model.add(layers.MaxPooling2D((2, 2)))\n",
    "model.add(layers.Conv2D(64, (3, 3), activation='relu'))\n",
    "model.add(layers.MaxPooling2D((2, 2)))\n",
    "model.add(layers.Conv2D(128, (3, 3), activation='relu'))\n",
    "model.add(layers.MaxPooling2D((2, 2)))\n",
    "model.add(layers.Conv2D(256, (3, 3), activation='relu'))\n",
    "model.add(layers.MaxPooling2D((2, 2)))\n",
    "model.add(layers.Flatten())\n",
    "model.add(layers.Dense(512, activation='relu'))\n",
    "model.add(layers.Dense(24, activation='softmax'))\n",
    "\n",
    "model.summary()"
   ]
  },
  {
   "cell_type": "code",
   "execution_count": 8,
   "metadata": {
    "execution": {
     "iopub.execute_input": "2023-05-13T23:19:24.474362Z",
     "iopub.status.busy": "2023-05-13T23:19:24.473954Z",
     "iopub.status.idle": "2023-05-13T23:42:28.045837Z",
     "shell.execute_reply": "2023-05-13T23:42:28.044890Z",
     "shell.execute_reply.started": "2023-05-13T23:19:24.474330Z"
    }
   },
   "outputs": [
    {
     "name": "stdout",
     "output_type": "stream",
     "text": [
      "Epoch 1/10\n",
      "178/178 [==============================] - 156s 829ms/step - loss: 0.6347 - accuracy: 0.8275 - val_loss: 0.0186 - val_accuracy: 0.9941\n",
      "Epoch 2/10\n",
      "178/178 [==============================] - 136s 763ms/step - loss: 0.0416 - accuracy: 0.9886 - val_loss: 0.0045 - val_accuracy: 0.9984\n",
      "Epoch 3/10\n",
      "178/178 [==============================] - 137s 767ms/step - loss: 0.0240 - accuracy: 0.9927 - val_loss: 0.0013 - val_accuracy: 0.9997\n",
      "Epoch 4/10\n",
      "178/178 [==============================] - 137s 769ms/step - loss: 0.0143 - accuracy: 0.9965 - val_loss: 0.0033 - val_accuracy: 0.9981\n",
      "Epoch 5/10\n",
      "178/178 [==============================] - 137s 769ms/step - loss: 0.0193 - accuracy: 0.9944 - val_loss: 9.0333e-05 - val_accuracy: 1.0000\n",
      "Epoch 6/10\n",
      "178/178 [==============================] - 136s 761ms/step - loss: 0.0121 - accuracy: 0.9972 - val_loss: 4.4712e-04 - val_accuracy: 0.9998\n",
      "Epoch 7/10\n",
      "178/178 [==============================] - 136s 761ms/step - loss: 0.0088 - accuracy: 0.9976 - val_loss: 3.6999e-04 - val_accuracy: 1.0000\n",
      "Epoch 8/10\n",
      "178/178 [==============================] - 136s 763ms/step - loss: 0.0089 - accuracy: 0.9979 - val_loss: 0.0042 - val_accuracy: 0.9986\n",
      "Epoch 9/10\n",
      "178/178 [==============================] - 136s 764ms/step - loss: 0.0122 - accuracy: 0.9969 - val_loss: 6.2851e-04 - val_accuracy: 1.0000\n",
      "Epoch 10/10\n",
      "178/178 [==============================] - 135s 755ms/step - loss: 0.0084 - accuracy: 0.9986 - val_loss: 1.4644e-04 - val_accuracy: 1.0000\n"
     ]
    }
   ],
   "source": [
    "model.compile(optimizer='adam',\n",
    "              loss='categorical_crossentropy',\n",
    "              metrics=['accuracy'])\n",
    "\n",
    "history = model.fit(\n",
    "    train_generator,\n",
    "    steps_per_epoch=train_generator.samples/train_generator.batch_size,\n",
    "    epochs=10,\n",
    "    validation_data=val_generator,\n",
    "    validation_steps=val_generator.samples/val_generator.batch_size)\n",
    "\n"
   ]
  },
  {
   "cell_type": "markdown",
   "metadata": {},
   "source": [
    "##### Saving model "
   ]
  },
  {
   "cell_type": "code",
   "execution_count": 10,
   "metadata": {
    "execution": {
     "iopub.execute_input": "2023-05-13T23:43:39.842358Z",
     "iopub.status.busy": "2023-05-13T23:43:39.841993Z",
     "iopub.status.idle": "2023-05-13T23:43:41.021751Z",
     "shell.execute_reply": "2023-05-13T23:43:41.020385Z",
     "shell.execute_reply.started": "2023-05-13T23:43:39.842329Z"
    }
   },
   "outputs": [],
   "source": [
    "model.save('/kaggle/working/my_cnn_model.h5')"
   ]
  },
  {
   "cell_type": "code",
   "execution_count": null,
   "metadata": {},
   "outputs": [],
   "source": []
  }
 ],
 "metadata": {
  "kernelspec": {
   "display_name": "Python 3 (ipykernel)",
   "language": "python",
   "name": "python3"
  },
  "language_info": {
   "codemirror_mode": {
    "name": "ipython",
    "version": 3
   },
   "file_extension": ".py",
   "mimetype": "text/x-python",
   "name": "python",
   "nbconvert_exporter": "python",
   "pygments_lexer": "ipython3",
   "version": "3.10.11"
  }
 },
 "nbformat": 4,
 "nbformat_minor": 4
}
