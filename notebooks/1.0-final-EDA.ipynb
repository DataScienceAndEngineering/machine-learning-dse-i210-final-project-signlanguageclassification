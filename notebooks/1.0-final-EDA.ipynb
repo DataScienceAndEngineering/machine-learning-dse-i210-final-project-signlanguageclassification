{
 "cells": [
  {
   "cell_type": "markdown",
   "id": "d932ac6c",
   "metadata": {},
   "source": [
    "### Initial Data Loading and Cleaning"
   ]
  },
  {
   "cell_type": "markdown",
   "id": "1c0e511f",
   "metadata": {},
   "source": [
    "Loading all the required libraries"
   ]
  },
  {
   "cell_type": "code",
   "execution_count": null,
   "id": "02d56957",
   "metadata": {},
   "outputs": [],
   "source": [
    "#libraries\n",
    "import pandas as pd\n",
    "import numpy as np\n",
    "import matplotlib.pyplot as plt"
   ]
  },
  {
   "cell_type": "code",
   "execution_count": null,
   "id": "aab0a40a",
   "metadata": {},
   "outputs": [],
   "source": [
    "#define relative path to dataset\n",
    "path_train = '../data/external/sign_mnist_train.csv'\n",
    "path_test = '../data/external/sign_mnist_test.csv'\n",
    "\n",
    "#define image resolution \n",
    "res = (28,28)"
   ]
  },
  {
   "cell_type": "code",
   "execution_count": null,
   "id": "0d0c8594",
   "metadata": {},
   "outputs": [],
   "source": [
    "#saving data into pandas dataframes \n",
    "train = pd.read_csv(path_train)\n",
    "test = pd.read_csv(path_test)"
   ]
  },
  {
   "cell_type": "code",
   "execution_count": null,
   "id": "e7992dc6",
   "metadata": {},
   "outputs": [],
   "source": [
    "#printing shape\n",
    "print(f'Train Shape:{train.shape}')\n",
    "print(f'Test Shape:{test.shape}')"
   ]
  },
  {
   "cell_type": "markdown",
   "id": "1652f33a",
   "metadata": {},
   "source": [
    "The training dataset consists of 27455 28x28 pixel grayscale images, including the associated label. The testing dataset consists of 7172 28x28 images. The label and pixels are split into X and y for both training and testing data. "
   ]
  },
  {
   "cell_type": "code",
   "execution_count": null,
   "id": "ed41fec8",
   "metadata": {},
   "outputs": [],
   "source": [
    "#training data \n",
    "X_train = train.iloc[:,1:]\n",
    "y_train = train.iloc[:,0]\n",
    "\n",
    "#testing data\n",
    "X_test = test.iloc[:,1:]\n",
    "y_test = test.iloc[:,0]"
   ]
  },
  {
   "cell_type": "markdown",
   "id": "aef6753f",
   "metadata": {},
   "source": [
    "The below is a function to find the indices of a specified label. "
   ]
  },
  {
   "cell_type": "code",
   "execution_count": null,
   "id": "3e4c295c",
   "metadata": {},
   "outputs": [],
   "source": [
    "#fuction to find the indices given a label \n",
    "def find_indices(data,label):\n",
    "    #check if data is numpy array\n",
    "    if type(data) == np.ndarray:\n",
    "        #return indices\n",
    "        return np.where(data==label)\n",
    "    #check if data is pandas series \n",
    "    elif type(data) == pd.Series:\n",
    "        #return indices\n",
    "        return data[data==label].index\n",
    "    #else not supported in this function\n",
    "    else:\n",
    "        raise Exception('Not supported data type for this function.')\n",
    "        "
   ]
  },
  {
   "cell_type": "markdown",
   "id": "2a28fed0",
   "metadata": {},
   "source": [
    "Creating a dictionary where key is the numeric label in the dataset and value is the corresponding letter. "
   ]
  },
  {
   "cell_type": "code",
   "execution_count": null,
   "id": "38dda35e",
   "metadata": {},
   "outputs": [],
   "source": [
    "#letters\n",
    "letters = ['A','B','C','D','E','F','G','H','I','K','L','M','N','O','P','Q','R','S','T','U','V','W','X','Y']\n",
    "#numbers \n",
    "numbers = sorted(list(y_train.unique()))\n",
    "#dictionary of labels \n",
    "labels = dict(zip(numbers,letters))"
   ]
  },
  {
   "cell_type": "markdown",
   "id": "49ae76ee",
   "metadata": {},
   "source": [
    "Inspecting examples for each letter in the dataset. "
   ]
  },
  {
   "cell_type": "code",
   "execution_count": null,
   "id": "9eaf2a04",
   "metadata": {},
   "outputs": [],
   "source": [
    "#visualization of dataset \n",
    "fix, ax = plt.subplots(4,6)\n",
    "ax = ax.ravel()\n",
    "pos = 0 \n",
    "\n",
    "#loop through each label in dataset \n",
    "for label in range(0,26):\n",
    "    #if label is not included in dataset \n",
    "    if label in [9,25]:\n",
    "        continue\n",
    "    #find first index of label\n",
    "    idx = find_indices(y_train,label)[0]\n",
    "    #display first found image \n",
    "    ax[pos].imshow(X_train.iloc[idx,:].values.reshape(res),cmap='gray')\n",
    "    #set x label as dataset label\n",
    "    ax[pos].set(xlabel=labels[label])\n",
    "    #do not show ticks \n",
    "    ax[pos].set_xticks([])\n",
    "    ax[pos].set_yticks([])\n",
    "    #increment for subplotting \n",
    "    pos+=1\n",
    "\n",
    "plt.tight_layout()\n",
    "plt.show()"
   ]
  },
  {
   "cell_type": "markdown",
   "id": "7d79d6d0",
   "metadata": {},
   "source": [
    "No additional data loading and cleaning steps required for this dataset. "
   ]
  },
  {
   "cell_type": "code",
   "execution_count": null,
   "id": "085e5fe4",
   "metadata": {},
   "outputs": [],
   "source": [
    "#summary statistics\n",
    "train.describe()"
   ]
  },
  {
   "cell_type": "code",
   "execution_count": null,
   "id": "49ea2b6d",
   "metadata": {},
   "outputs": [],
   "source": []
  },
  {
   "cell_type": "code",
   "execution_count": null,
   "id": "a63df3bd",
   "metadata": {},
   "outputs": [],
   "source": []
  },
  {
   "cell_type": "code",
   "execution_count": null,
   "id": "00bf1861",
   "metadata": {},
   "outputs": [],
   "source": []
  },
  {
   "cell_type": "code",
   "execution_count": null,
   "id": "df1ff3f2",
   "metadata": {},
   "outputs": [],
   "source": []
  },
  {
   "cell_type": "code",
   "execution_count": null,
   "id": "93a17840",
   "metadata": {},
   "outputs": [],
   "source": []
  }
 ],
 "metadata": {
  "kernelspec": {
   "display_name": "Python 3 (ipykernel)",
   "language": "python",
   "name": "python3"
  },
  "language_info": {
   "codemirror_mode": {
    "name": "ipython",
    "version": 3
   },
   "file_extension": ".py",
   "mimetype": "text/x-python",
   "name": "python",
   "nbconvert_exporter": "python",
   "pygments_lexer": "ipython3",
   "version": "3.10.11"
  }
 },
 "nbformat": 4,
 "nbformat_minor": 5
}
