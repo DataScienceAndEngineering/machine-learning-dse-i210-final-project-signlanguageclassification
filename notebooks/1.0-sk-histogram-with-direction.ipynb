{
 "cells": [
  {
   "cell_type": "code",
   "execution_count": null,
   "id": "e7304c75",
   "metadata": {},
   "outputs": [],
   "source": []
  },
  {
   "cell_type": "code",
   "execution_count": 21,
   "id": "0098b1a2",
   "metadata": {},
   "outputs": [],
   "source": [
    "#path to csv data \n",
    "path_train = '../data/external/sign_mnist_train.csv'\n",
    "path_test = '../data/external/sign_mnist_test.csv'\n",
    "\n",
    "#define image resolution \n",
    "res = (28,28)"
   ]
  },
  {
   "cell_type": "code",
   "execution_count": 22,
   "id": "f423180b",
   "metadata": {},
   "outputs": [],
   "source": [
    "#convert csv to numpy \n",
    "train = np.loadtxt(path_train, delimiter=',', skiprows=1)\n",
    "test = np.loadtxt(path_test, delimiter=',', skiprows=1)"
   ]
  },
  {
   "cell_type": "code",
   "execution_count": 23,
   "id": "5a579d62",
   "metadata": {},
   "outputs": [],
   "source": [
    "#training data\n",
    "X_train = train[:,1:]\n",
    "y_train = train[:,0]\n",
    "\n",
    "#testing data \n",
    "X_test = test[:,1:]\n",
    "y_test = test[:,0]"
   ]
  },
  {
   "cell_type": "code",
   "execution_count": 24,
   "id": "ba12cc52",
   "metadata": {},
   "outputs": [],
   "source": [
    "#reshape to image \n",
    "X_train = X_train.reshape(X_train.shape[0],28,28)\n",
    "X_test = X_test.reshape(X_test.shape[0],28,28)"
   ]
  },
  {
   "cell_type": "code",
   "execution_count": 25,
   "id": "2f3d0327",
   "metadata": {},
   "outputs": [
    {
     "name": "stdout",
     "output_type": "stream",
     "text": [
      "X_train shape: (27455, 28, 28)\n",
      "y_train shape: (27455,)\n",
      "X_test shape: (7172, 28, 28)\n",
      "y_test shape: (7172,)\n"
     ]
    }
   ],
   "source": [
    "#Shape of training and testing data\n",
    "print(f'X_train shape: {X_train.shape}')\n",
    "print(f'y_train shape: {y_train.shape}')\n",
    "print(f'X_test shape: {X_test.shape}')\n",
    "print(f'y_test shape: {y_test.shape}')"
   ]
  },
  {
   "cell_type": "code",
   "execution_count": null,
   "id": "7841506f",
   "metadata": {},
   "outputs": [],
   "source": []
  }
 ],
 "metadata": {
  "kernelspec": {
   "display_name": "Python 3 (ipykernel)",
   "language": "python",
   "name": "python3"
  },
  "language_info": {
   "codemirror_mode": {
    "name": "ipython",
    "version": 3
   },
   "file_extension": ".py",
   "mimetype": "text/x-python",
   "name": "python",
   "nbconvert_exporter": "python",
   "pygments_lexer": "ipython3",
   "version": "3.10.11"
  }
 },
 "nbformat": 4,
 "nbformat_minor": 5
}
