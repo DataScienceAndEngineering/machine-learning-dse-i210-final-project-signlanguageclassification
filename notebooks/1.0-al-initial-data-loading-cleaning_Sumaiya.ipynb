{
 "cells": [
  {
   "cell_type": "markdown",
   "id": "be71a29b",
   "metadata": {},
   "source": [
    "Initial Data Loading and Cleaning"
   ]
  },
  {
   "cell_type": "code",
   "execution_count": 1,
   "id": "e8d1c617",
   "metadata": {},
   "outputs": [],
   "source": [
    "#libraries\n",
    "import pandas as pd\n",
    "import numpy as np\n",
    "import matplotlib.pyplot as plt"
   ]
  },
  {
   "cell_type": "code",
   "execution_count": 4,
   "id": "2ceb564e",
   "metadata": {},
   "outputs": [],
   "source": [
    "#define relative path to dataset\n",
    "path_train = '/Users/sumaiyauddin/Documents/ML/Project/Project Repo/sign_mnist_train.csv'\n",
    "path_test = '/Users/sumaiyauddin/Documents/ML/Project/Project Repo/sign_mnist_test.csv'\n",
    "\n",
    "#define image resolution \n",
    "res = (28,28)"
   ]
  },
  {
   "cell_type": "code",
   "execution_count": 5,
   "id": "26808d1a",
   "metadata": {},
   "outputs": [],
   "source": [
    "#saving data into pandas dataframes \n",
    "train = pd.read_csv(path_test)\n",
    "test = pd.read_csv(path_train)"
   ]
  },
  {
   "cell_type": "code",
   "execution_count": 6,
   "id": "d3a5687f",
   "metadata": {},
   "outputs": [
    {
     "name": "stdout",
     "output_type": "stream",
     "text": [
      "Train Shape:(7172, 785)\n",
      "Test Shape:(27455, 785)\n"
     ]
    }
   ],
   "source": [
    "#printing shape\n",
    "print(f'Train Shape:{train.shape}')\n",
    "print(f'Test Shape:{test.shape}')\n"
   ]
  },
  {
   "cell_type": "code",
   "execution_count": null,
   "id": "7fa4c91f",
   "metadata": {},
   "outputs": [],
   "source": []
  }
 ],
 "metadata": {
  "kernelspec": {
   "display_name": "Python 3 (ipykernel)",
   "language": "python",
   "name": "python3"
  },
  "language_info": {
   "codemirror_mode": {
    "name": "ipython",
    "version": 3
   },
   "file_extension": ".py",
   "mimetype": "text/x-python",
   "name": "python",
   "nbconvert_exporter": "python",
   "pygments_lexer": "ipython3",
   "version": "3.9.13"
  }
 },
 "nbformat": 4,
 "nbformat_minor": 5
}
