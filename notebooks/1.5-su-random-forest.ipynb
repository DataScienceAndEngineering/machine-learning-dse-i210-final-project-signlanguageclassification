{
  "cells": [
    {
      "cell_type": "markdown",
      "metadata": {
        "id": "WZQHcvBYtCQA"
      },
      "source": [
        "### Random Forest"
      ]
    },
    {
      "cell_type": "markdown",
      "metadata": {
        "id": "p--glQrNtCQC"
      },
      "source": [
        "Dimensionality Reduction / Feature Selection"
      ]
    },
    {
      "cell_type": "code",
      "execution_count": 12,
      "metadata": {
        "id": "hydIQjAwtCQC"
      },
      "outputs": [],
      "source": [
        "#import library\n",
        "import os\n",
        "import numpy as np\n",
        "import pickle\n",
        "from tensorflow.keras.preprocessing.image import ImageDataGenerator\n",
        "import pandas as pd\n",
        "import matplotlib.pyplot as plt\n",
        "import cv2\n",
        "from sklearn.preprocessing import StandardScaler\n",
        "from tqdm import tqdm\n",
        "from sklearn.naive_bayes import GaussianNB\n",
        "from sklearn.linear_model import LogisticRegression\n",
        "from sklearn.metrics import accuracy_score, classification_report\n",
        "from sklearn.pipeline import Pipeline\n",
        "\n",
        "from sklearn.discriminant_analysis import LinearDiscriminantAnalysis\n",
        "import seaborn as sns\n",
        "from sklearn.model_selection import RandomizedSearchCV\n",
        "from sklearn.metrics import classification_report\n",
        "from sklearn.ensemble import RandomForestClassifier\n",
        "from sklearn.metrics import confusion_matrix, roc_curve, auc, matthews_corrcoef, cohen_kappa_score\n",
        "from sklearn.metrics import confusion_matrix, ConfusionMatrixDisplay"
      ]
    },
    {
      "cell_type": "code",
      "execution_count": 2,
      "metadata": {
        "colab": {
          "base_uri": "https://localhost:8080/"
        },
        "id": "lbAENYRDwPZj",
        "outputId": "ba13348e-7e41-4631-a718-dddfc8419b63"
      },
      "outputs": [
        {
          "output_type": "stream",
          "name": "stdout",
          "text": [
            "Mounted at /content/drive\n"
          ]
        }
      ],
      "source": [
        "from google.colab import drive\n",
        "drive.mount('/content/drive')"
      ]
    },
    {
      "cell_type": "code",
      "execution_count": 3,
      "metadata": {
        "id": "6JYMP7KctCQE"
      },
      "outputs": [],
      "source": [
        "#opening pickle file of augmented added data\n",
        "with open('/content/drive/Shareddrives/SignLanguageData/combined_augmented_data_v2.pkl','rb') as f:\n",
        "    X_train,y_train,X_test,y_test = pickle.load(f)"
      ]
    },
    {
      "cell_type": "code",
      "source": [
        "#printing shapes \n",
        "print(f'X_train Shape: {X_train.shape}')\n",
        "print(f'y_train Shape: {y_train.shape}')\n",
        "print(f'X_test Shape: {X_test.shape}')\n",
        "print(f'y_test Shape: {y_test.shape}')"
      ],
      "metadata": {
        "id": "9WNfUB-tOavm",
        "outputId": "7266b347-0725-4a3e-dbb3-be99efe27958",
        "colab": {
          "base_uri": "https://localhost:8080/"
        }
      },
      "execution_count": 4,
      "outputs": [
        {
          "output_type": "stream",
          "name": "stdout",
          "text": [
            "X_train Shape: (109820, 28, 28)\n",
            "y_train Shape: (109820,)\n",
            "X_test Shape: (28688, 28, 28)\n",
            "y_test Shape: (28688,)\n"
          ]
        }
      ]
    },
    {
      "cell_type": "code",
      "execution_count": 5,
      "metadata": {
        "id": "oCs5kkz1tCQE"
      },
      "outputs": [],
      "source": [
        "#letters\n",
        "letters = ['A','B','C','D','E','F','G','H','I','K','L','M','N','O','P','Q','R','S','T','U','V','W','X','Y']\n",
        "#numbers \n",
        "numbers = sorted(list(np.unique(y_train.astype(int))))\n",
        "#dictionary of labels \n",
        "labels = dict(zip(numbers,letters))"
      ]
    },
    {
      "cell_type": "code",
      "source": [
        "#fuction to find the indices given a label \n",
        "def find_indices(data,label):\n",
        "    #check if data is numpy array\n",
        "    if type(data) == np.ndarray:\n",
        "        #return indices\n",
        "        return np.where(data==label)\n",
        "    #check if data is pandas series \n",
        "    elif type(data) == pd.Series:\n",
        "        #return indices\n",
        "        return data[data==label].index\n",
        "    #else not supported in this function\n",
        "    else:\n",
        "        raise Exception('Not supported data type for this function.')"
      ],
      "metadata": {
        "id": "VyqID3oBZEVe"
      },
      "execution_count": 6,
      "outputs": []
    },
    {
      "cell_type": "markdown",
      "metadata": {
        "id": "1PA_JuvUtCQE"
      },
      "source": [
        "From the initial modeling results for this dataset, the normal (not reduced to images of edges) re-scaled using standardization produced the best results. As a result, standardized normal images will be used for the remainder of this notebook."
      ]
    },
    {
      "cell_type": "code",
      "execution_count": 7,
      "metadata": {
        "id": "0VgD4sjktCQF"
      },
      "outputs": [],
      "source": [
        "#standardized data \n",
        "#using sklearn standard scaler model and fitting on training data \n",
        "sc = StandardScaler().fit(X_train.reshape(X_train.shape[0],-1))\n",
        "X_train = sc.transform(X_train.reshape(X_train.shape[0],-1))\n",
        "X_test = sc.transform(X_test.reshape(X_test.shape[0],-1))"
      ]
    },
    {
      "cell_type": "code",
      "execution_count": 8,
      "metadata": {
        "colab": {
          "base_uri": "https://localhost:8080/",
          "height": 74
        },
        "id": "leUIpg2QtCQF",
        "outputId": "64f4f1b5-579d-49aa-8ff9-658c6f819008"
      },
      "outputs": [
        {
          "output_type": "execute_result",
          "data": {
            "text/plain": [
              "LinearDiscriminantAnalysis()"
            ],
            "text/html": [
              "<style>#sk-container-id-1 {color: black;background-color: white;}#sk-container-id-1 pre{padding: 0;}#sk-container-id-1 div.sk-toggleable {background-color: white;}#sk-container-id-1 label.sk-toggleable__label {cursor: pointer;display: block;width: 100%;margin-bottom: 0;padding: 0.3em;box-sizing: border-box;text-align: center;}#sk-container-id-1 label.sk-toggleable__label-arrow:before {content: \"▸\";float: left;margin-right: 0.25em;color: #696969;}#sk-container-id-1 label.sk-toggleable__label-arrow:hover:before {color: black;}#sk-container-id-1 div.sk-estimator:hover label.sk-toggleable__label-arrow:before {color: black;}#sk-container-id-1 div.sk-toggleable__content {max-height: 0;max-width: 0;overflow: hidden;text-align: left;background-color: #f0f8ff;}#sk-container-id-1 div.sk-toggleable__content pre {margin: 0.2em;color: black;border-radius: 0.25em;background-color: #f0f8ff;}#sk-container-id-1 input.sk-toggleable__control:checked~div.sk-toggleable__content {max-height: 200px;max-width: 100%;overflow: auto;}#sk-container-id-1 input.sk-toggleable__control:checked~label.sk-toggleable__label-arrow:before {content: \"▾\";}#sk-container-id-1 div.sk-estimator input.sk-toggleable__control:checked~label.sk-toggleable__label {background-color: #d4ebff;}#sk-container-id-1 div.sk-label input.sk-toggleable__control:checked~label.sk-toggleable__label {background-color: #d4ebff;}#sk-container-id-1 input.sk-hidden--visually {border: 0;clip: rect(1px 1px 1px 1px);clip: rect(1px, 1px, 1px, 1px);height: 1px;margin: -1px;overflow: hidden;padding: 0;position: absolute;width: 1px;}#sk-container-id-1 div.sk-estimator {font-family: monospace;background-color: #f0f8ff;border: 1px dotted black;border-radius: 0.25em;box-sizing: border-box;margin-bottom: 0.5em;}#sk-container-id-1 div.sk-estimator:hover {background-color: #d4ebff;}#sk-container-id-1 div.sk-parallel-item::after {content: \"\";width: 100%;border-bottom: 1px solid gray;flex-grow: 1;}#sk-container-id-1 div.sk-label:hover label.sk-toggleable__label {background-color: #d4ebff;}#sk-container-id-1 div.sk-serial::before {content: \"\";position: absolute;border-left: 1px solid gray;box-sizing: border-box;top: 0;bottom: 0;left: 50%;z-index: 0;}#sk-container-id-1 div.sk-serial {display: flex;flex-direction: column;align-items: center;background-color: white;padding-right: 0.2em;padding-left: 0.2em;position: relative;}#sk-container-id-1 div.sk-item {position: relative;z-index: 1;}#sk-container-id-1 div.sk-parallel {display: flex;align-items: stretch;justify-content: center;background-color: white;position: relative;}#sk-container-id-1 div.sk-item::before, #sk-container-id-1 div.sk-parallel-item::before {content: \"\";position: absolute;border-left: 1px solid gray;box-sizing: border-box;top: 0;bottom: 0;left: 50%;z-index: -1;}#sk-container-id-1 div.sk-parallel-item {display: flex;flex-direction: column;z-index: 1;position: relative;background-color: white;}#sk-container-id-1 div.sk-parallel-item:first-child::after {align-self: flex-end;width: 50%;}#sk-container-id-1 div.sk-parallel-item:last-child::after {align-self: flex-start;width: 50%;}#sk-container-id-1 div.sk-parallel-item:only-child::after {width: 0;}#sk-container-id-1 div.sk-dashed-wrapped {border: 1px dashed gray;margin: 0 0.4em 0.5em 0.4em;box-sizing: border-box;padding-bottom: 0.4em;background-color: white;}#sk-container-id-1 div.sk-label label {font-family: monospace;font-weight: bold;display: inline-block;line-height: 1.2em;}#sk-container-id-1 div.sk-label-container {text-align: center;}#sk-container-id-1 div.sk-container {/* jupyter's `normalize.less` sets `[hidden] { display: none; }` but bootstrap.min.css set `[hidden] { display: none !important; }` so we also need the `!important` here to be able to override the default hidden behavior on the sphinx rendered scikit-learn.org. See: https://github.com/scikit-learn/scikit-learn/issues/21755 */display: inline-block !important;position: relative;}#sk-container-id-1 div.sk-text-repr-fallback {display: none;}</style><div id=\"sk-container-id-1\" class=\"sk-top-container\"><div class=\"sk-text-repr-fallback\"><pre>LinearDiscriminantAnalysis()</pre><b>In a Jupyter environment, please rerun this cell to show the HTML representation or trust the notebook. <br />On GitHub, the HTML representation is unable to render, please try loading this page with nbviewer.org.</b></div><div class=\"sk-container\" hidden><div class=\"sk-item\"><div class=\"sk-estimator sk-toggleable\"><input class=\"sk-toggleable__control sk-hidden--visually\" id=\"sk-estimator-id-1\" type=\"checkbox\" checked><label for=\"sk-estimator-id-1\" class=\"sk-toggleable__label sk-toggleable__label-arrow\">LinearDiscriminantAnalysis</label><div class=\"sk-toggleable__content\"><pre>LinearDiscriminantAnalysis()</pre></div></div></div></div></div>"
            ]
          },
          "metadata": {},
          "execution_count": 8
        }
      ],
      "source": [
        "#define sklearn LDA object \n",
        "lda = LinearDiscriminantAnalysis()\n",
        "#fit on training data \n",
        "lda.fit(X_train,y_train)"
      ]
    },
    {
      "cell_type": "code",
      "execution_count": 9,
      "metadata": {
        "id": "KbTvbpDWtCQH"
      },
      "outputs": [],
      "source": [
        "#fit on training data and transform\n",
        "X_train_lda = lda.transform(X_train)\n",
        "X_test_lda = lda.transform(X_test)"
      ]
    },
    {
      "cell_type": "markdown",
      "metadata": {
        "id": "NQ8vHrdDtCQH"
      },
      "source": [
        "#### Modeling with Random Forest"
      ]
    },
    {
      "cell_type": "markdown",
      "metadata": {
        "id": "HddijCUotCQH"
      },
      "source": [
        "Hyperparameter tuning is an important step in modeling, where the values chosen for a model's hyperparameters can drastically change the performance of the model. Grid Search CV and Randomized Grid Search are methods to find the optimal values that results in the best performing model. \n",
        "\n",
        "Grid Search is an exhaustive search algorithm that tries every combination of each set of hyperparameters, and determines which results in the best model. Randomized Grid Search randomly chooses combinations of hyperarameters, which results in less computational requirments but does not guarantee the best performing model is found. However, with a sufficiently high n_iter value, it is likely a close to best performing model is found. \n",
        "\n",
        "For this investigation, randomized search will be used. "
      ]
    },
    {
      "cell_type": "code",
      "execution_count": null,
      "metadata": {
        "id": "AHn75FfltCQI"
      },
      "outputs": [],
      "source": [
        "param_grid = {\n",
        "    'n_estimators': [100, 200, 300],\n",
        "    'max_depth': [10, 20, 30],\n",
        "    'min_samples_split': [2, 4, 6],\n",
        "    'min_samples_leaf': [1, 2, 3],\n",
        "    'max_features': [10, 20, 30]\n",
        "}"
      ]
    },
    {
      "cell_type": "code",
      "execution_count": null,
      "metadata": {
        "id": "1jqwNk_rtCQI"
      },
      "outputs": [],
      "source": [
        "# Create a Random Forest classifier object\n",
        "rfc = RandomForestClassifier()\n",
        "\n",
        "# Create a RandomizedSearchCV object\n",
        "rfc_search = RandomizedSearchCV(estimator = rfc, param_distributions = param_grid, cv = 5, random_state=42, verbose=3)\n"
      ]
    },
    {
      "cell_type": "code",
      "source": [
        "# Fit the RandomizedSearchCV object to the data\n",
        "rfc_search.fit(X_train_lda, y_train)"
      ],
      "metadata": {
        "id": "31JdZrqQ0WF6",
        "outputId": "db3e0fd2-5485-43ee-9635-ef50c293a58c",
        "colab": {
          "base_uri": "https://localhost:8080/",
          "height": 1000
        }
      },
      "execution_count": null,
      "outputs": [
        {
          "output_type": "stream",
          "name": "stdout",
          "text": [
            "Fitting 5 folds for each of 10 candidates, totalling 50 fits\n",
            "[CV 1/5] END max_depth=10, max_features=10, min_samples_leaf=3, min_samples_split=6, n_estimators=100;, score=0.483 total time= 2.1min\n",
            "[CV 2/5] END max_depth=10, max_features=10, min_samples_leaf=3, min_samples_split=6, n_estimators=100;, score=0.486 total time= 2.1min\n",
            "[CV 3/5] END max_depth=10, max_features=10, min_samples_leaf=3, min_samples_split=6, n_estimators=100;, score=0.488 total time= 2.0min\n",
            "[CV 4/5] END max_depth=10, max_features=10, min_samples_leaf=3, min_samples_split=6, n_estimators=100;, score=0.612 total time= 2.0min\n",
            "[CV 5/5] END max_depth=10, max_features=10, min_samples_leaf=3, min_samples_split=6, n_estimators=100;, score=0.904 total time= 2.0min\n",
            "[CV 1/5] END max_depth=10, max_features=10, min_samples_leaf=1, min_samples_split=6, n_estimators=100;, score=0.481 total time= 2.0min\n",
            "[CV 2/5] END max_depth=10, max_features=10, min_samples_leaf=1, min_samples_split=6, n_estimators=100;, score=0.482 total time= 2.0min\n",
            "[CV 3/5] END max_depth=10, max_features=10, min_samples_leaf=1, min_samples_split=6, n_estimators=100;, score=0.490 total time= 2.0min\n",
            "[CV 4/5] END max_depth=10, max_features=10, min_samples_leaf=1, min_samples_split=6, n_estimators=100;, score=0.612 total time= 2.0min\n",
            "[CV 5/5] END max_depth=10, max_features=10, min_samples_leaf=1, min_samples_split=6, n_estimators=100;, score=0.903 total time= 2.1min\n",
            "[CV 1/5] END max_depth=20, max_features=30, min_samples_leaf=2, min_samples_split=6, n_estimators=300;, score=0.594 total time=24.4min\n",
            "[CV 2/5] END max_depth=20, max_features=30, min_samples_leaf=2, min_samples_split=6, n_estimators=300;, score=0.601 total time=23.1min\n",
            "[CV 3/5] END max_depth=20, max_features=30, min_samples_leaf=2, min_samples_split=6, n_estimators=300;, score=0.598 total time=21.4min\n",
            "[CV 4/5] END max_depth=20, max_features=30, min_samples_leaf=2, min_samples_split=6, n_estimators=300;, score=0.705 total time=21.4min\n",
            "[CV 5/5] END max_depth=20, max_features=30, min_samples_leaf=2, min_samples_split=6, n_estimators=300;, score=0.990 total time=20.3min\n",
            "[CV 1/5] END max_depth=30, max_features=30, min_samples_leaf=2, min_samples_split=6, n_estimators=200;, score=0.600 total time=14.9min\n",
            "[CV 2/5] END max_depth=30, max_features=30, min_samples_leaf=2, min_samples_split=6, n_estimators=200;, score=0.608 total time=15.0min\n",
            "[CV 3/5] END max_depth=30, max_features=30, min_samples_leaf=2, min_samples_split=6, n_estimators=200;, score=0.608 total time=14.7min\n",
            "[CV 4/5] END max_depth=30, max_features=30, min_samples_leaf=2, min_samples_split=6, n_estimators=200;, score=0.713 total time=14.4min\n",
            "[CV 5/5] END max_depth=30, max_features=30, min_samples_leaf=2, min_samples_split=6, n_estimators=200;, score=0.990 total time=13.8min\n",
            "[CV 1/5] END max_depth=30, max_features=30, min_samples_leaf=3, min_samples_split=4, n_estimators=200;, score=0.597 total time=14.1min\n",
            "[CV 2/5] END max_depth=30, max_features=30, min_samples_leaf=3, min_samples_split=4, n_estimators=200;, score=0.604 total time=14.2min\n",
            "[CV 3/5] END max_depth=30, max_features=30, min_samples_leaf=3, min_samples_split=4, n_estimators=200;, score=0.603 total time=14.1min\n",
            "[CV 4/5] END max_depth=30, max_features=30, min_samples_leaf=3, min_samples_split=4, n_estimators=200;, score=0.708 total time=13.8min\n",
            "[CV 5/5] END max_depth=30, max_features=30, min_samples_leaf=3, min_samples_split=4, n_estimators=200;, score=0.990 total time=13.3min\n",
            "[CV 1/5] END max_depth=30, max_features=10, min_samples_leaf=2, min_samples_split=4, n_estimators=200;, score=0.639 total time= 6.3min\n",
            "[CV 2/5] END max_depth=30, max_features=10, min_samples_leaf=2, min_samples_split=4, n_estimators=200;, score=0.644 total time= 6.4min\n",
            "[CV 3/5] END max_depth=30, max_features=10, min_samples_leaf=2, min_samples_split=4, n_estimators=200;, score=0.644 total time= 6.5min\n",
            "[CV 4/5] END max_depth=30, max_features=10, min_samples_leaf=2, min_samples_split=4, n_estimators=200;, score=0.738 total time= 6.5min\n",
            "[CV 5/5] END max_depth=30, max_features=10, min_samples_leaf=2, min_samples_split=4, n_estimators=200;, score=0.996 total time= 6.2min\n",
            "[CV 1/5] END max_depth=30, max_features=20, min_samples_leaf=3, min_samples_split=6, n_estimators=300;, score=0.610 total time=18.6min\n",
            "[CV 2/5] END max_depth=30, max_features=20, min_samples_leaf=3, min_samples_split=6, n_estimators=300;, score=0.617 total time=18.6min\n",
            "[CV 3/5] END max_depth=30, max_features=20, min_samples_leaf=3, min_samples_split=6, n_estimators=300;, score=0.616 total time=18.5min\n",
            "[CV 4/5] END max_depth=30, max_features=20, min_samples_leaf=3, min_samples_split=6, n_estimators=300;, score=0.718 total time=18.0min\n",
            "[CV 5/5] END max_depth=30, max_features=20, min_samples_leaf=3, min_samples_split=6, n_estimators=300;, score=0.990 total time=17.1min\n",
            "[CV 1/5] END max_depth=20, max_features=30, min_samples_leaf=2, min_samples_split=6, n_estimators=100;, score=0.589 total time= 6.9min\n",
            "[CV 2/5] END max_depth=20, max_features=30, min_samples_leaf=2, min_samples_split=6, n_estimators=100;, score=0.594 total time= 7.0min\n",
            "[CV 3/5] END max_depth=20, max_features=30, min_samples_leaf=2, min_samples_split=6, n_estimators=100;, score=0.593 total time= 6.9min\n",
            "[CV 4/5] END max_depth=20, max_features=30, min_samples_leaf=2, min_samples_split=6, n_estimators=100;, score=0.702 total time= 6.7min\n",
            "[CV 5/5] END max_depth=20, max_features=30, min_samples_leaf=2, min_samples_split=6, n_estimators=100;, score=0.988 total time= 6.5min\n",
            "[CV 1/5] END max_depth=10, max_features=10, min_samples_leaf=2, min_samples_split=2, n_estimators=100;, score=0.482 total time= 2.0min\n",
            "[CV 2/5] END max_depth=10, max_features=10, min_samples_leaf=2, min_samples_split=2, n_estimators=100;, score=0.489 total time= 2.0min\n",
            "[CV 3/5] END max_depth=10, max_features=10, min_samples_leaf=2, min_samples_split=2, n_estimators=100;, score=0.487 total time= 2.0min\n",
            "[CV 4/5] END max_depth=10, max_features=10, min_samples_leaf=2, min_samples_split=2, n_estimators=100;, score=0.615 total time= 2.0min\n",
            "[CV 5/5] END max_depth=10, max_features=10, min_samples_leaf=2, min_samples_split=2, n_estimators=100;, score=0.903 total time= 2.0min\n",
            "[CV 1/5] END max_depth=20, max_features=20, min_samples_leaf=1, min_samples_split=4, n_estimators=300;, score=0.609 total time=18.4min\n",
            "[CV 2/5] END max_depth=20, max_features=20, min_samples_leaf=1, min_samples_split=4, n_estimators=300;, score=0.614 total time=18.5min\n",
            "[CV 3/5] END max_depth=20, max_features=20, min_samples_leaf=1, min_samples_split=4, n_estimators=300;, score=0.610 total time=18.3min\n",
            "[CV 4/5] END max_depth=20, max_features=20, min_samples_leaf=1, min_samples_split=4, n_estimators=300;, score=0.719 total time=18.4min\n",
            "[CV 5/5] END max_depth=20, max_features=20, min_samples_leaf=1, min_samples_split=4, n_estimators=300;, score=0.991 total time=17.6min\n"
          ]
        },
        {
          "output_type": "execute_result",
          "data": {
            "text/plain": [
              "RandomizedSearchCV(cv=5, estimator=RandomForestClassifier(),\n",
              "                   param_distributions={'max_depth': [10, 20, 30],\n",
              "                                        'max_features': [10, 20, 30],\n",
              "                                        'min_samples_leaf': [1, 2, 3],\n",
              "                                        'min_samples_split': [2, 4, 6],\n",
              "                                        'n_estimators': [100, 200, 300]},\n",
              "                   random_state=42, verbose=3)"
            ],
            "text/html": [
              "<style>#sk-container-id-2 {color: black;background-color: white;}#sk-container-id-2 pre{padding: 0;}#sk-container-id-2 div.sk-toggleable {background-color: white;}#sk-container-id-2 label.sk-toggleable__label {cursor: pointer;display: block;width: 100%;margin-bottom: 0;padding: 0.3em;box-sizing: border-box;text-align: center;}#sk-container-id-2 label.sk-toggleable__label-arrow:before {content: \"▸\";float: left;margin-right: 0.25em;color: #696969;}#sk-container-id-2 label.sk-toggleable__label-arrow:hover:before {color: black;}#sk-container-id-2 div.sk-estimator:hover label.sk-toggleable__label-arrow:before {color: black;}#sk-container-id-2 div.sk-toggleable__content {max-height: 0;max-width: 0;overflow: hidden;text-align: left;background-color: #f0f8ff;}#sk-container-id-2 div.sk-toggleable__content pre {margin: 0.2em;color: black;border-radius: 0.25em;background-color: #f0f8ff;}#sk-container-id-2 input.sk-toggleable__control:checked~div.sk-toggleable__content {max-height: 200px;max-width: 100%;overflow: auto;}#sk-container-id-2 input.sk-toggleable__control:checked~label.sk-toggleable__label-arrow:before {content: \"▾\";}#sk-container-id-2 div.sk-estimator input.sk-toggleable__control:checked~label.sk-toggleable__label {background-color: #d4ebff;}#sk-container-id-2 div.sk-label input.sk-toggleable__control:checked~label.sk-toggleable__label {background-color: #d4ebff;}#sk-container-id-2 input.sk-hidden--visually {border: 0;clip: rect(1px 1px 1px 1px);clip: rect(1px, 1px, 1px, 1px);height: 1px;margin: -1px;overflow: hidden;padding: 0;position: absolute;width: 1px;}#sk-container-id-2 div.sk-estimator {font-family: monospace;background-color: #f0f8ff;border: 1px dotted black;border-radius: 0.25em;box-sizing: border-box;margin-bottom: 0.5em;}#sk-container-id-2 div.sk-estimator:hover {background-color: #d4ebff;}#sk-container-id-2 div.sk-parallel-item::after {content: \"\";width: 100%;border-bottom: 1px solid gray;flex-grow: 1;}#sk-container-id-2 div.sk-label:hover label.sk-toggleable__label {background-color: #d4ebff;}#sk-container-id-2 div.sk-serial::before {content: \"\";position: absolute;border-left: 1px solid gray;box-sizing: border-box;top: 0;bottom: 0;left: 50%;z-index: 0;}#sk-container-id-2 div.sk-serial {display: flex;flex-direction: column;align-items: center;background-color: white;padding-right: 0.2em;padding-left: 0.2em;position: relative;}#sk-container-id-2 div.sk-item {position: relative;z-index: 1;}#sk-container-id-2 div.sk-parallel {display: flex;align-items: stretch;justify-content: center;background-color: white;position: relative;}#sk-container-id-2 div.sk-item::before, #sk-container-id-2 div.sk-parallel-item::before {content: \"\";position: absolute;border-left: 1px solid gray;box-sizing: border-box;top: 0;bottom: 0;left: 50%;z-index: -1;}#sk-container-id-2 div.sk-parallel-item {display: flex;flex-direction: column;z-index: 1;position: relative;background-color: white;}#sk-container-id-2 div.sk-parallel-item:first-child::after {align-self: flex-end;width: 50%;}#sk-container-id-2 div.sk-parallel-item:last-child::after {align-self: flex-start;width: 50%;}#sk-container-id-2 div.sk-parallel-item:only-child::after {width: 0;}#sk-container-id-2 div.sk-dashed-wrapped {border: 1px dashed gray;margin: 0 0.4em 0.5em 0.4em;box-sizing: border-box;padding-bottom: 0.4em;background-color: white;}#sk-container-id-2 div.sk-label label {font-family: monospace;font-weight: bold;display: inline-block;line-height: 1.2em;}#sk-container-id-2 div.sk-label-container {text-align: center;}#sk-container-id-2 div.sk-container {/* jupyter's `normalize.less` sets `[hidden] { display: none; }` but bootstrap.min.css set `[hidden] { display: none !important; }` so we also need the `!important` here to be able to override the default hidden behavior on the sphinx rendered scikit-learn.org. See: https://github.com/scikit-learn/scikit-learn/issues/21755 */display: inline-block !important;position: relative;}#sk-container-id-2 div.sk-text-repr-fallback {display: none;}</style><div id=\"sk-container-id-2\" class=\"sk-top-container\"><div class=\"sk-text-repr-fallback\"><pre>RandomizedSearchCV(cv=5, estimator=RandomForestClassifier(),\n",
              "                   param_distributions={&#x27;max_depth&#x27;: [10, 20, 30],\n",
              "                                        &#x27;max_features&#x27;: [10, 20, 30],\n",
              "                                        &#x27;min_samples_leaf&#x27;: [1, 2, 3],\n",
              "                                        &#x27;min_samples_split&#x27;: [2, 4, 6],\n",
              "                                        &#x27;n_estimators&#x27;: [100, 200, 300]},\n",
              "                   random_state=42, verbose=3)</pre><b>In a Jupyter environment, please rerun this cell to show the HTML representation or trust the notebook. <br />On GitHub, the HTML representation is unable to render, please try loading this page with nbviewer.org.</b></div><div class=\"sk-container\" hidden><div class=\"sk-item sk-dashed-wrapped\"><div class=\"sk-label-container\"><div class=\"sk-label sk-toggleable\"><input class=\"sk-toggleable__control sk-hidden--visually\" id=\"sk-estimator-id-2\" type=\"checkbox\" ><label for=\"sk-estimator-id-2\" class=\"sk-toggleable__label sk-toggleable__label-arrow\">RandomizedSearchCV</label><div class=\"sk-toggleable__content\"><pre>RandomizedSearchCV(cv=5, estimator=RandomForestClassifier(),\n",
              "                   param_distributions={&#x27;max_depth&#x27;: [10, 20, 30],\n",
              "                                        &#x27;max_features&#x27;: [10, 20, 30],\n",
              "                                        &#x27;min_samples_leaf&#x27;: [1, 2, 3],\n",
              "                                        &#x27;min_samples_split&#x27;: [2, 4, 6],\n",
              "                                        &#x27;n_estimators&#x27;: [100, 200, 300]},\n",
              "                   random_state=42, verbose=3)</pre></div></div></div><div class=\"sk-parallel\"><div class=\"sk-parallel-item\"><div class=\"sk-item\"><div class=\"sk-label-container\"><div class=\"sk-label sk-toggleable\"><input class=\"sk-toggleable__control sk-hidden--visually\" id=\"sk-estimator-id-3\" type=\"checkbox\" ><label for=\"sk-estimator-id-3\" class=\"sk-toggleable__label sk-toggleable__label-arrow\">estimator: RandomForestClassifier</label><div class=\"sk-toggleable__content\"><pre>RandomForestClassifier()</pre></div></div></div><div class=\"sk-serial\"><div class=\"sk-item\"><div class=\"sk-estimator sk-toggleable\"><input class=\"sk-toggleable__control sk-hidden--visually\" id=\"sk-estimator-id-4\" type=\"checkbox\" ><label for=\"sk-estimator-id-4\" class=\"sk-toggleable__label sk-toggleable__label-arrow\">RandomForestClassifier</label><div class=\"sk-toggleable__content\"><pre>RandomForestClassifier()</pre></div></div></div></div></div></div></div></div></div></div>"
            ]
          },
          "metadata": {},
          "execution_count": 19
        }
      ]
    },
    {
      "cell_type": "code",
      "execution_count": null,
      "metadata": {
        "id": "E_UvY04da7LN"
      },
      "outputs": [],
      "source": [
        "#dumping randomized search cv into pickle file \n",
        "with open('/content/drive/Shareddrives/SignLanguageData/rfc_search.pkl','wb') as f:\n",
        "  pickle.dump(rfc_search, f)"
      ]
    },
    {
      "cell_type": "code",
      "execution_count": null,
      "metadata": {
        "colab": {
          "base_uri": "https://localhost:8080/",
          "height": 948
        },
        "id": "OnSgwpkV2J3l",
        "outputId": "255957d6-732b-45fd-842c-c4a34eaf88ab"
      },
      "outputs": [
        {
          "output_type": "execute_result",
          "data": {
            "text/plain": [
              "   mean_fit_time  std_fit_time  mean_score_time  std_score_time  \\\n",
              "0     123.888315      2.299367         0.494918        0.038174   \n",
              "1     121.831147      1.326787         0.505046        0.041788   \n",
              "2    1324.307814     87.206788         2.667900        0.110879   \n",
              "3     871.022565     25.583416         1.738906        0.127386   \n",
              "4     832.806059     19.495190         1.619534        0.052188   \n",
              "5     380.483070      5.798891         1.921716        0.171690   \n",
              "6    1087.562396     34.308541         2.643457        0.119976   \n",
              "7     406.997519      8.620745         0.760688        0.020453   \n",
              "8     119.744819      1.754730         0.506458        0.049704   \n",
              "9    1091.497278     20.007704         2.467882        0.094751   \n",
              "\n",
              "  param_n_estimators param_min_samples_split param_min_samples_leaf  \\\n",
              "0                100                       6                      3   \n",
              "1                100                       6                      1   \n",
              "2                300                       6                      2   \n",
              "3                200                       6                      2   \n",
              "4                200                       4                      3   \n",
              "5                200                       4                      2   \n",
              "6                300                       6                      3   \n",
              "7                100                       6                      2   \n",
              "8                100                       2                      2   \n",
              "9                300                       4                      1   \n",
              "\n",
              "  param_max_features param_max_depth  \\\n",
              "0                 10              10   \n",
              "1                 10              10   \n",
              "2                 30              20   \n",
              "3                 30              30   \n",
              "4                 30              30   \n",
              "5                 10              30   \n",
              "6                 20              30   \n",
              "7                 30              20   \n",
              "8                 10              10   \n",
              "9                 20              20   \n",
              "\n",
              "                                              params  split0_test_score  \\\n",
              "0  {'n_estimators': 100, 'min_samples_split': 6, ...           0.483473   \n",
              "1  {'n_estimators': 100, 'min_samples_split': 6, ...           0.480878   \n",
              "2  {'n_estimators': 300, 'min_samples_split': 6, ...           0.593881   \n",
              "3  {'n_estimators': 200, 'min_samples_split': 6, ...           0.600437   \n",
              "4  {'n_estimators': 200, 'min_samples_split': 4, ...           0.597113   \n",
              "5  {'n_estimators': 200, 'min_samples_split': 4, ...           0.639182   \n",
              "6  {'n_estimators': 300, 'min_samples_split': 6, ...           0.609953   \n",
              "7  {'n_estimators': 100, 'min_samples_split': 6, ...           0.588554   \n",
              "8  {'n_estimators': 100, 'min_samples_split': 2, ...           0.482198   \n",
              "9  {'n_estimators': 300, 'min_samples_split': 4, ...           0.608632   \n",
              "\n",
              "   split1_test_score  split2_test_score  split3_test_score  split4_test_score  \\\n",
              "0           0.485658           0.488071           0.612047           0.904252   \n",
              "1           0.482289           0.490029           0.612184           0.903114   \n",
              "2           0.600710           0.597887           0.705245           0.989847   \n",
              "3           0.608359           0.608450           0.712757           0.989756   \n",
              "4           0.603715           0.602668           0.708022           0.989710   \n",
              "5           0.644418           0.644236           0.737980           0.995584   \n",
              "6           0.617419           0.615507           0.718221           0.990166   \n",
              "7           0.593608           0.593107           0.701921           0.988208   \n",
              "8           0.488800           0.486888           0.615097           0.902978   \n",
              "9           0.614232           0.609771           0.718949           0.991167   \n",
              "\n",
              "   mean_test_score  std_test_score  rank_test_score  \n",
              "0         0.594700        0.162330                9  \n",
              "1         0.593699        0.162461               10  \n",
              "2         0.697514        0.152023                6  \n",
              "3         0.703952        0.148819                4  \n",
              "4         0.700246        0.150550                5  \n",
              "5         0.732280        0.136748                1  \n",
              "6         0.710253        0.145650                2  \n",
              "7         0.693080        0.153619                7  \n",
              "8         0.595192        0.161830                8  \n",
              "9         0.708550        0.147389                3  "
            ],
            "text/html": [
              "\n",
              "  <div id=\"df-e8f830c6-fd28-449d-a2ca-95dec7060de0\">\n",
              "    <div class=\"colab-df-container\">\n",
              "      <div>\n",
              "<style scoped>\n",
              "    .dataframe tbody tr th:only-of-type {\n",
              "        vertical-align: middle;\n",
              "    }\n",
              "\n",
              "    .dataframe tbody tr th {\n",
              "        vertical-align: top;\n",
              "    }\n",
              "\n",
              "    .dataframe thead th {\n",
              "        text-align: right;\n",
              "    }\n",
              "</style>\n",
              "<table border=\"1\" class=\"dataframe\">\n",
              "  <thead>\n",
              "    <tr style=\"text-align: right;\">\n",
              "      <th></th>\n",
              "      <th>mean_fit_time</th>\n",
              "      <th>std_fit_time</th>\n",
              "      <th>mean_score_time</th>\n",
              "      <th>std_score_time</th>\n",
              "      <th>param_n_estimators</th>\n",
              "      <th>param_min_samples_split</th>\n",
              "      <th>param_min_samples_leaf</th>\n",
              "      <th>param_max_features</th>\n",
              "      <th>param_max_depth</th>\n",
              "      <th>params</th>\n",
              "      <th>split0_test_score</th>\n",
              "      <th>split1_test_score</th>\n",
              "      <th>split2_test_score</th>\n",
              "      <th>split3_test_score</th>\n",
              "      <th>split4_test_score</th>\n",
              "      <th>mean_test_score</th>\n",
              "      <th>std_test_score</th>\n",
              "      <th>rank_test_score</th>\n",
              "    </tr>\n",
              "  </thead>\n",
              "  <tbody>\n",
              "    <tr>\n",
              "      <th>0</th>\n",
              "      <td>123.888315</td>\n",
              "      <td>2.299367</td>\n",
              "      <td>0.494918</td>\n",
              "      <td>0.038174</td>\n",
              "      <td>100</td>\n",
              "      <td>6</td>\n",
              "      <td>3</td>\n",
              "      <td>10</td>\n",
              "      <td>10</td>\n",
              "      <td>{'n_estimators': 100, 'min_samples_split': 6, ...</td>\n",
              "      <td>0.483473</td>\n",
              "      <td>0.485658</td>\n",
              "      <td>0.488071</td>\n",
              "      <td>0.612047</td>\n",
              "      <td>0.904252</td>\n",
              "      <td>0.594700</td>\n",
              "      <td>0.162330</td>\n",
              "      <td>9</td>\n",
              "    </tr>\n",
              "    <tr>\n",
              "      <th>1</th>\n",
              "      <td>121.831147</td>\n",
              "      <td>1.326787</td>\n",
              "      <td>0.505046</td>\n",
              "      <td>0.041788</td>\n",
              "      <td>100</td>\n",
              "      <td>6</td>\n",
              "      <td>1</td>\n",
              "      <td>10</td>\n",
              "      <td>10</td>\n",
              "      <td>{'n_estimators': 100, 'min_samples_split': 6, ...</td>\n",
              "      <td>0.480878</td>\n",
              "      <td>0.482289</td>\n",
              "      <td>0.490029</td>\n",
              "      <td>0.612184</td>\n",
              "      <td>0.903114</td>\n",
              "      <td>0.593699</td>\n",
              "      <td>0.162461</td>\n",
              "      <td>10</td>\n",
              "    </tr>\n",
              "    <tr>\n",
              "      <th>2</th>\n",
              "      <td>1324.307814</td>\n",
              "      <td>87.206788</td>\n",
              "      <td>2.667900</td>\n",
              "      <td>0.110879</td>\n",
              "      <td>300</td>\n",
              "      <td>6</td>\n",
              "      <td>2</td>\n",
              "      <td>30</td>\n",
              "      <td>20</td>\n",
              "      <td>{'n_estimators': 300, 'min_samples_split': 6, ...</td>\n",
              "      <td>0.593881</td>\n",
              "      <td>0.600710</td>\n",
              "      <td>0.597887</td>\n",
              "      <td>0.705245</td>\n",
              "      <td>0.989847</td>\n",
              "      <td>0.697514</td>\n",
              "      <td>0.152023</td>\n",
              "      <td>6</td>\n",
              "    </tr>\n",
              "    <tr>\n",
              "      <th>3</th>\n",
              "      <td>871.022565</td>\n",
              "      <td>25.583416</td>\n",
              "      <td>1.738906</td>\n",
              "      <td>0.127386</td>\n",
              "      <td>200</td>\n",
              "      <td>6</td>\n",
              "      <td>2</td>\n",
              "      <td>30</td>\n",
              "      <td>30</td>\n",
              "      <td>{'n_estimators': 200, 'min_samples_split': 6, ...</td>\n",
              "      <td>0.600437</td>\n",
              "      <td>0.608359</td>\n",
              "      <td>0.608450</td>\n",
              "      <td>0.712757</td>\n",
              "      <td>0.989756</td>\n",
              "      <td>0.703952</td>\n",
              "      <td>0.148819</td>\n",
              "      <td>4</td>\n",
              "    </tr>\n",
              "    <tr>\n",
              "      <th>4</th>\n",
              "      <td>832.806059</td>\n",
              "      <td>19.495190</td>\n",
              "      <td>1.619534</td>\n",
              "      <td>0.052188</td>\n",
              "      <td>200</td>\n",
              "      <td>4</td>\n",
              "      <td>3</td>\n",
              "      <td>30</td>\n",
              "      <td>30</td>\n",
              "      <td>{'n_estimators': 200, 'min_samples_split': 4, ...</td>\n",
              "      <td>0.597113</td>\n",
              "      <td>0.603715</td>\n",
              "      <td>0.602668</td>\n",
              "      <td>0.708022</td>\n",
              "      <td>0.989710</td>\n",
              "      <td>0.700246</td>\n",
              "      <td>0.150550</td>\n",
              "      <td>5</td>\n",
              "    </tr>\n",
              "    <tr>\n",
              "      <th>5</th>\n",
              "      <td>380.483070</td>\n",
              "      <td>5.798891</td>\n",
              "      <td>1.921716</td>\n",
              "      <td>0.171690</td>\n",
              "      <td>200</td>\n",
              "      <td>4</td>\n",
              "      <td>2</td>\n",
              "      <td>10</td>\n",
              "      <td>30</td>\n",
              "      <td>{'n_estimators': 200, 'min_samples_split': 4, ...</td>\n",
              "      <td>0.639182</td>\n",
              "      <td>0.644418</td>\n",
              "      <td>0.644236</td>\n",
              "      <td>0.737980</td>\n",
              "      <td>0.995584</td>\n",
              "      <td>0.732280</td>\n",
              "      <td>0.136748</td>\n",
              "      <td>1</td>\n",
              "    </tr>\n",
              "    <tr>\n",
              "      <th>6</th>\n",
              "      <td>1087.562396</td>\n",
              "      <td>34.308541</td>\n",
              "      <td>2.643457</td>\n",
              "      <td>0.119976</td>\n",
              "      <td>300</td>\n",
              "      <td>6</td>\n",
              "      <td>3</td>\n",
              "      <td>20</td>\n",
              "      <td>30</td>\n",
              "      <td>{'n_estimators': 300, 'min_samples_split': 6, ...</td>\n",
              "      <td>0.609953</td>\n",
              "      <td>0.617419</td>\n",
              "      <td>0.615507</td>\n",
              "      <td>0.718221</td>\n",
              "      <td>0.990166</td>\n",
              "      <td>0.710253</td>\n",
              "      <td>0.145650</td>\n",
              "      <td>2</td>\n",
              "    </tr>\n",
              "    <tr>\n",
              "      <th>7</th>\n",
              "      <td>406.997519</td>\n",
              "      <td>8.620745</td>\n",
              "      <td>0.760688</td>\n",
              "      <td>0.020453</td>\n",
              "      <td>100</td>\n",
              "      <td>6</td>\n",
              "      <td>2</td>\n",
              "      <td>30</td>\n",
              "      <td>20</td>\n",
              "      <td>{'n_estimators': 100, 'min_samples_split': 6, ...</td>\n",
              "      <td>0.588554</td>\n",
              "      <td>0.593608</td>\n",
              "      <td>0.593107</td>\n",
              "      <td>0.701921</td>\n",
              "      <td>0.988208</td>\n",
              "      <td>0.693080</td>\n",
              "      <td>0.153619</td>\n",
              "      <td>7</td>\n",
              "    </tr>\n",
              "    <tr>\n",
              "      <th>8</th>\n",
              "      <td>119.744819</td>\n",
              "      <td>1.754730</td>\n",
              "      <td>0.506458</td>\n",
              "      <td>0.049704</td>\n",
              "      <td>100</td>\n",
              "      <td>2</td>\n",
              "      <td>2</td>\n",
              "      <td>10</td>\n",
              "      <td>10</td>\n",
              "      <td>{'n_estimators': 100, 'min_samples_split': 2, ...</td>\n",
              "      <td>0.482198</td>\n",
              "      <td>0.488800</td>\n",
              "      <td>0.486888</td>\n",
              "      <td>0.615097</td>\n",
              "      <td>0.902978</td>\n",
              "      <td>0.595192</td>\n",
              "      <td>0.161830</td>\n",
              "      <td>8</td>\n",
              "    </tr>\n",
              "    <tr>\n",
              "      <th>9</th>\n",
              "      <td>1091.497278</td>\n",
              "      <td>20.007704</td>\n",
              "      <td>2.467882</td>\n",
              "      <td>0.094751</td>\n",
              "      <td>300</td>\n",
              "      <td>4</td>\n",
              "      <td>1</td>\n",
              "      <td>20</td>\n",
              "      <td>20</td>\n",
              "      <td>{'n_estimators': 300, 'min_samples_split': 4, ...</td>\n",
              "      <td>0.608632</td>\n",
              "      <td>0.614232</td>\n",
              "      <td>0.609771</td>\n",
              "      <td>0.718949</td>\n",
              "      <td>0.991167</td>\n",
              "      <td>0.708550</td>\n",
              "      <td>0.147389</td>\n",
              "      <td>3</td>\n",
              "    </tr>\n",
              "  </tbody>\n",
              "</table>\n",
              "</div>\n",
              "      <button class=\"colab-df-convert\" onclick=\"convertToInteractive('df-e8f830c6-fd28-449d-a2ca-95dec7060de0')\"\n",
              "              title=\"Convert this dataframe to an interactive table.\"\n",
              "              style=\"display:none;\">\n",
              "        \n",
              "  <svg xmlns=\"http://www.w3.org/2000/svg\" height=\"24px\"viewBox=\"0 0 24 24\"\n",
              "       width=\"24px\">\n",
              "    <path d=\"M0 0h24v24H0V0z\" fill=\"none\"/>\n",
              "    <path d=\"M18.56 5.44l.94 2.06.94-2.06 2.06-.94-2.06-.94-.94-2.06-.94 2.06-2.06.94zm-11 1L8.5 8.5l.94-2.06 2.06-.94-2.06-.94L8.5 2.5l-.94 2.06-2.06.94zm10 10l.94 2.06.94-2.06 2.06-.94-2.06-.94-.94-2.06-.94 2.06-2.06.94z\"/><path d=\"M17.41 7.96l-1.37-1.37c-.4-.4-.92-.59-1.43-.59-.52 0-1.04.2-1.43.59L10.3 9.45l-7.72 7.72c-.78.78-.78 2.05 0 2.83L4 21.41c.39.39.9.59 1.41.59.51 0 1.02-.2 1.41-.59l7.78-7.78 2.81-2.81c.8-.78.8-2.07 0-2.86zM5.41 20L4 18.59l7.72-7.72 1.47 1.35L5.41 20z\"/>\n",
              "  </svg>\n",
              "      </button>\n",
              "      \n",
              "  <style>\n",
              "    .colab-df-container {\n",
              "      display:flex;\n",
              "      flex-wrap:wrap;\n",
              "      gap: 12px;\n",
              "    }\n",
              "\n",
              "    .colab-df-convert {\n",
              "      background-color: #E8F0FE;\n",
              "      border: none;\n",
              "      border-radius: 50%;\n",
              "      cursor: pointer;\n",
              "      display: none;\n",
              "      fill: #1967D2;\n",
              "      height: 32px;\n",
              "      padding: 0 0 0 0;\n",
              "      width: 32px;\n",
              "    }\n",
              "\n",
              "    .colab-df-convert:hover {\n",
              "      background-color: #E2EBFA;\n",
              "      box-shadow: 0px 1px 2px rgba(60, 64, 67, 0.3), 0px 1px 3px 1px rgba(60, 64, 67, 0.15);\n",
              "      fill: #174EA6;\n",
              "    }\n",
              "\n",
              "    [theme=dark] .colab-df-convert {\n",
              "      background-color: #3B4455;\n",
              "      fill: #D2E3FC;\n",
              "    }\n",
              "\n",
              "    [theme=dark] .colab-df-convert:hover {\n",
              "      background-color: #434B5C;\n",
              "      box-shadow: 0px 1px 3px 1px rgba(0, 0, 0, 0.15);\n",
              "      filter: drop-shadow(0px 1px 2px rgba(0, 0, 0, 0.3));\n",
              "      fill: #FFFFFF;\n",
              "    }\n",
              "  </style>\n",
              "\n",
              "      <script>\n",
              "        const buttonEl =\n",
              "          document.querySelector('#df-e8f830c6-fd28-449d-a2ca-95dec7060de0 button.colab-df-convert');\n",
              "        buttonEl.style.display =\n",
              "          google.colab.kernel.accessAllowed ? 'block' : 'none';\n",
              "\n",
              "        async function convertToInteractive(key) {\n",
              "          const element = document.querySelector('#df-e8f830c6-fd28-449d-a2ca-95dec7060de0');\n",
              "          const dataTable =\n",
              "            await google.colab.kernel.invokeFunction('convertToInteractive',\n",
              "                                                     [key], {});\n",
              "          if (!dataTable) return;\n",
              "\n",
              "          const docLinkHtml = 'Like what you see? Visit the ' +\n",
              "            '<a target=\"_blank\" href=https://colab.research.google.com/notebooks/data_table.ipynb>data table notebook</a>'\n",
              "            + ' to learn more about interactive tables.';\n",
              "          element.innerHTML = '';\n",
              "          dataTable['output_type'] = 'display_data';\n",
              "          await google.colab.output.renderOutput(dataTable, element);\n",
              "          const docLink = document.createElement('div');\n",
              "          docLink.innerHTML = docLinkHtml;\n",
              "          element.appendChild(docLink);\n",
              "        }\n",
              "      </script>\n",
              "    </div>\n",
              "  </div>\n",
              "  "
            ]
          },
          "metadata": {},
          "execution_count": 21
        }
      ],
      "source": [
        "#display randomized search results \n",
        "pd.DataFrame(rfc_search.cv_results_)"
      ]
    },
    {
      "cell_type": "code",
      "source": [
        "# Print the best hyperparameters\n",
        "print(rfc_search.best_params_)"
      ],
      "metadata": {
        "id": "lf_vPH-Zce8V",
        "outputId": "40674e1f-3a41-440f-fcfc-d11146605418",
        "colab": {
          "base_uri": "https://localhost:8080/"
        }
      },
      "execution_count": null,
      "outputs": [
        {
          "output_type": "stream",
          "name": "stdout",
          "text": [
            "{'n_estimators': 200, 'min_samples_split': 4, 'min_samples_leaf': 2, 'max_features': 10, 'max_depth': 30}\n"
          ]
        }
      ]
    },
    {
      "cell_type": "code",
      "source": [],
      "metadata": {
        "id": "mj43Z4waHTOd"
      },
      "execution_count": null,
      "outputs": []
    },
    {
      "cell_type": "code",
      "source": [],
      "metadata": {
        "id": "EYFQXa_sHTRE"
      },
      "execution_count": null,
      "outputs": []
    },
    {
      "cell_type": "code",
      "source": [],
      "metadata": {
        "id": "79iSKjxZHTT1"
      },
      "execution_count": null,
      "outputs": []
    },
    {
      "cell_type": "code",
      "source": [],
      "metadata": {
        "id": "BpeEXYEuHTW5"
      },
      "execution_count": null,
      "outputs": []
    },
    {
      "cell_type": "code",
      "execution_count": 10,
      "metadata": {
        "id": "HvRfjaMLxb8n"
      },
      "outputs": [],
      "source": [
        "#defining rfc with best parameters\n",
        "rfc =RandomForestClassifier(n_estimators=200, min_samples_split=4, min_samples_leaf=2, \n",
        "                                   max_features=10, max_depth=30, random_state=42)"
      ]
    },
    {
      "cell_type": "code",
      "execution_count": 13,
      "metadata": {
        "colab": {
          "base_uri": "https://localhost:8080/"
        },
        "id": "mqGPSuaPxjJb",
        "outputId": "b0a9eb13-ef20-4f9b-d866-49220273131c"
      },
      "outputs": [
        {
          "output_type": "stream",
          "name": "stdout",
          "text": [
            "Accuracy: 0.9987616099071207\n",
            "Classification report:\n",
            "              precision    recall  f1-score   support\n",
            "\n",
            "           A       1.00      1.00      1.00      4504\n",
            "           B       1.00      1.00      1.00      4040\n",
            "           C       1.00      1.00      1.00      4576\n",
            "           D       1.00      1.00      1.00      4784\n",
            "           E       1.00      1.00      1.00      3828\n",
            "           F       1.00      1.00      1.00      4816\n",
            "           G       1.00      1.00      1.00      4360\n",
            "           H       1.00      1.00      1.00      4052\n",
            "           I       1.00      1.00      1.00      4648\n",
            "           K       1.00      1.00      1.00      4456\n",
            "           L       1.00      1.00      1.00      4964\n",
            "           M       1.00      1.00      1.00      4220\n",
            "           N       1.00      1.00      1.00      4604\n",
            "           O       1.00      1.00      1.00      4784\n",
            "           P       1.00      1.00      1.00      4352\n",
            "           Q       1.00      1.00      1.00      5116\n",
            "           R       1.00      1.00      1.00      5176\n",
            "           S       1.00      1.00      1.00      4796\n",
            "           T       1.00      1.00      1.00      4744\n",
            "           U       1.00      1.00      1.00      4644\n",
            "           V       1.00      1.00      1.00      4328\n",
            "           W       1.00      1.00      1.00      4900\n",
            "           X       1.00      1.00      1.00      4656\n",
            "           Y       1.00      1.00      1.00      4472\n",
            "\n",
            "    accuracy                           1.00    109820\n",
            "   macro avg       1.00      1.00      1.00    109820\n",
            "weighted avg       1.00      1.00      1.00    109820\n",
            "\n"
          ]
        }
      ],
      "source": [
        "# applying RFC on Training data\n",
        "y_pred_rfc = rfc.fit(X_train_lda, y_train).predict(X_train_lda)\n",
        "\n",
        "print(f\"Accuracy: {accuracy_score(y_train, y_pred_rfc)}\")\n",
        "print(\"Classification report:\")\n",
        "print(classification_report(y_train, y_pred_rfc, target_names=letters))"
      ]
    },
    {
      "cell_type": "code",
      "source": [
        "# dump RFC into pickle file\n",
        "with open('/content/drive/Shareddrives/SignLanguageData/rfc_model_train.pkl', 'wb') as f:\n",
        "    pickle.dump(y_pred_rfc, f)"
      ],
      "metadata": {
        "id": "qzvwXZKTH0Ou"
      },
      "execution_count": 16,
      "outputs": []
    },
    {
      "cell_type": "code",
      "source": [],
      "metadata": {
        "id": "3edWZWY_G4U5"
      },
      "execution_count": null,
      "outputs": []
    },
    {
      "cell_type": "code",
      "source": [
        "# applying RFC on Test data\n",
        "y_pred_rfc_test = rfc.fit(X_train_lda, y_train).predict(X_test_lda)"
      ],
      "metadata": {
        "id": "7E_std36EgMz"
      },
      "execution_count": 14,
      "outputs": []
    },
    {
      "cell_type": "code",
      "source": [
        "# dump RFC into pickle file\n",
        "with open('/content/drive/Shareddrives/SignLanguageData/rfc_model_test.pkl', 'wb') as f:\n",
        "    pickle.dump(y_pred_rfc_test, f)"
      ],
      "metadata": {
        "id": "-4hDcWpfJpcp"
      },
      "execution_count": 17,
      "outputs": []
    },
    {
      "cell_type": "code",
      "source": [
        "print(f\"Accuracy: {accuracy_score(y_test, y_pred_rfc_test)}\")\n",
        "print(\"Classification report:\")\n",
        "print(classification_report(y_test, y_pred_rfc_test, target_names=letters))"
      ],
      "metadata": {
        "id": "cV1y_5tFG7oc",
        "outputId": "a23701a7-2cfc-4153-f0ec-c67010c434c4",
        "colab": {
          "base_uri": "https://localhost:8080/"
        }
      },
      "execution_count": 15,
      "outputs": [
        {
          "output_type": "stream",
          "name": "stdout",
          "text": [
            "Accuracy: 0.5908393753485778\n",
            "Classification report:\n",
            "              precision    recall  f1-score   support\n",
            "\n",
            "           A       0.57      0.74      0.65      1324\n",
            "           B       0.79      0.66      0.72      1728\n",
            "           C       0.83      0.77      0.80      1240\n",
            "           D       0.52      0.58      0.55       980\n",
            "           E       0.74      0.63      0.68      1992\n",
            "           F       0.61      0.61      0.61       988\n",
            "           G       0.72      0.62      0.67      1392\n",
            "           H       0.86      0.70      0.77      1744\n",
            "           I       0.52      0.61      0.56      1152\n",
            "           K       0.52      0.50      0.51      1324\n",
            "           L       0.58      0.82      0.68       836\n",
            "           M       0.59      0.46      0.52      1576\n",
            "           N       0.42      0.42      0.42      1164\n",
            "           O       0.73      0.65      0.69       984\n",
            "           P       0.89      0.75      0.81      1388\n",
            "           Q       0.50      0.79      0.61       656\n",
            "           R       0.18      0.36      0.24       576\n",
            "           S       0.37      0.32      0.34       984\n",
            "           T       0.47      0.51      0.49       992\n",
            "           U       0.42      0.38      0.40      1064\n",
            "           V       0.57      0.37      0.45      1384\n",
            "           W       0.36      0.53      0.43       824\n",
            "           X       0.62      0.74      0.67      1068\n",
            "           Y       0.57      0.53      0.55      1328\n",
            "\n",
            "    accuracy                           0.59     28688\n",
            "   macro avg       0.58      0.59      0.58     28688\n",
            "weighted avg       0.61      0.59      0.60     28688\n",
            "\n"
          ]
        }
      ]
    },
    {
      "cell_type": "code",
      "source": [
        "# Confusion Matrix\n",
        "cm = confusion_matrix(y_test, y_pred_rfc_test, labels=letters)\n",
        "disp = ConfusionMatrixDisplay(confusion_matrix=cm, display_labels=letters)\n",
        "disp.plot(cmap='RdPu')\n",
        "plt.title(\"Confusion Matrix\")\n",
        "plt.show()\n"
      ],
      "metadata": {
        "id": "Z1FOL8bPRd5O"
      },
      "execution_count": null,
      "outputs": []
    },
    {
      "cell_type": "code",
      "source": [
        "# Plot ROC curve\n",
        "fpr, tpr, thresholds = roc_curve(y_test, y_pred_rfc_test)\n",
        "roc_auc = auc(fpr, tpr)\n",
        "plt.figure()\n",
        "plt.plot(fpr, tpr, color='darkorange', lw=2, label='ROC curve (area = %0.2f)' % roc_auc)\n",
        "plt.plot([0, 1], [0, 1], color='navy', lw=2, linestyle='--')\n",
        "plt.xlim([0.0, 1.0])\n",
        "plt.ylim([0.0, 1.05])\n",
        "plt.xlabel('False Positive Rate')\n",
        "plt.ylabel('True Positive Rate')\n",
        "plt.title('Receiver operating characteristic')\n",
        "plt.legend(loc=\"lower right\")"
      ],
      "metadata": {
        "id": "C6r1-AM3Ru5I"
      },
      "execution_count": null,
      "outputs": []
    },
    {
      "cell_type": "code",
      "source": [
        "from sklearn.metrics import confusion_matrix, roc_curve, auc, matthews_corrcoef, cohen_kappa_score\n",
        "from sklearn.metrics import confusion_matrix, ConfusionMatrixDisplay\n",
        "\n",
        "# AUC\n",
        "print(f\"AUC: {roc_auc}\")\n",
        "\n",
        "# Matthews Correlation Coefficient (MCC)\n",
        "mcc = matthews_corrcoef(y_test, y_pred_rfc_test)\n",
        "print(f\"MCC: {mcc}\")\n",
        "\n",
        "# Cohen's Kappa\n",
        "kappa = cohen_kappa_score(y_test, y_pred_rfc_test)\n",
        "print(f\"Cohen's Kappa: {kappa}\")"
      ],
      "metadata": {
        "id": "sEEl2_tnRdl7"
      },
      "execution_count": null,
      "outputs": []
    },
    {
      "cell_type": "code",
      "source": [],
      "metadata": {
        "id": "vEANPuuaReAj"
      },
      "execution_count": null,
      "outputs": []
    },
    {
      "cell_type": "code",
      "source": [],
      "metadata": {
        "id": "VcHBjIAdR2B7"
      },
      "execution_count": null,
      "outputs": []
    },
    {
      "cell_type": "code",
      "source": [
        "# applying RFC on Test data\n",
        "y_pred_rfc_test = rfc.fit(X_train_lda, y_train).predict(X_test_lda)\n",
        "\n",
        "print(f\"Accuracy: {accuracy_score(y_test, y_pred_rfc_test)}\")\n",
        "print(\"Classification report:\")\n",
        "print(classification_report(y_test, y_pred_rfc_test, target_names=letters))"
      ],
      "metadata": {
        "id": "W2MYWBVPM_Mk"
      },
      "execution_count": null,
      "outputs": []
    },
    {
      "cell_type": "code",
      "source": [
        "# Confusion Matrix\n",
        "cm = confusion_matrix(y_test, y_pred_rfc_test, labels=letters)\n",
        "disp = ConfusionMatrixDisplay(confusion_matrix=cm, display_labels=letters)\n",
        "disp.plot(cmap='RdPu')\n",
        "plt.title(\"Confusion Matrix\")\n",
        "plt.show()\n"
      ],
      "metadata": {
        "id": "0g_ifrN3NpbN"
      },
      "execution_count": null,
      "outputs": []
    },
    {
      "cell_type": "code",
      "source": [
        "# Plot ROC curve\n",
        "fpr, tpr, thresholds = roc_curve(y_test, y_pred_rfc_test)\n",
        "roc_auc = auc(fpr, tpr)\n",
        "plt.figure()\n",
        "plt.plot(fpr, tpr, color='darkorange', lw=2, label='ROC curve (area = %0.2f)' % roc_auc)\n",
        "plt.plot([0, 1], [0, 1], color='navy', lw=2, linestyle='--')\n",
        "plt.xlim([0.0, 1.0])\n",
        "plt.ylim([0.0, 1.05])\n",
        "plt.xlabel('False Positive Rate')\n",
        "plt.ylabel('True Positive Rate')\n",
        "plt.title('Receiver operating characteristic')\n",
        "plt.legend(loc=\"lower right\")"
      ],
      "metadata": {
        "id": "5K4QM5_cPj-e"
      },
      "execution_count": null,
      "outputs": []
    },
    {
      "cell_type": "code",
      "execution_count": null,
      "metadata": {
        "colab": {
          "base_uri": "https://localhost:8080/"
        },
        "id": "yGKTOxk0xlWU",
        "outputId": "3ba78d68-e390-4847-c523-1d72b4bbf4f5"
      },
      "outputs": [
        {
          "name": "stdout",
          "output_type": "stream",
          "text": [
            "              precision    recall  f1-score   support\n",
            "\n",
            "         0.0       0.50      0.67      0.57       662\n",
            "         1.0       0.65      0.63      0.64       864\n",
            "         2.0       0.78      0.78      0.78       620\n",
            "         3.0       0.45      0.56      0.50       490\n",
            "         4.0       0.65      0.54      0.59       996\n",
            "         5.0       0.47      0.65      0.55       494\n",
            "         6.0       0.56      0.45      0.50       696\n",
            "         7.0       0.80      0.56      0.66       872\n",
            "         8.0       0.38      0.40      0.39       576\n",
            "        10.0       0.50      0.47      0.48       662\n",
            "        11.0       0.52      0.66      0.58       418\n",
            "        12.0       0.50      0.32      0.39       788\n",
            "        13.0       0.32      0.28      0.30       582\n",
            "        14.0       0.65      0.50      0.57       492\n",
            "        15.0       0.64      0.57      0.60       694\n",
            "        16.0       0.38      0.72      0.50       328\n",
            "        17.0       0.08      0.19      0.11       288\n",
            "        18.0       0.21      0.23      0.22       492\n",
            "        19.0       0.38      0.45      0.41       496\n",
            "        20.0       0.34      0.29      0.31       532\n",
            "        21.0       0.45      0.31      0.37       692\n",
            "        22.0       0.36      0.42      0.39       412\n",
            "        23.0       0.60      0.58      0.59       534\n",
            "        24.0       0.44      0.41      0.43       664\n",
            "\n",
            "    accuracy                           0.49     14344\n",
            "   macro avg       0.48      0.48      0.48     14344\n",
            "weighted avg       0.51      0.49      0.49     14344\n",
            "\n"
          ]
        }
      ],
      "source": [
        "# AUC\n",
        "print(f\"AUC: {roc_auc}\")\n",
        "\n",
        "# Matthews Correlation Coefficient (MCC)\n",
        "mcc = matthews_corrcoef(y_test, y_pred_rfc_test)\n",
        "print(f\"MCC: {mcc}\")\n",
        "\n",
        "# Cohen's Kappa\n",
        "kappa = cohen_kappa_score(y_test, y_pred_rfc_test)\n",
        "print(f\"Cohen's Kappa: {kappa}\")"
      ]
    },
    {
      "cell_type": "code",
      "source": [],
      "metadata": {
        "id": "1VDiwP1nPkBN"
      },
      "execution_count": null,
      "outputs": []
    },
    {
      "cell_type": "code",
      "source": [],
      "metadata": {
        "id": "mrHclPe7PkD2"
      },
      "execution_count": null,
      "outputs": []
    },
    {
      "cell_type": "code",
      "source": [],
      "metadata": {
        "id": "yGATSexSNpqY"
      },
      "execution_count": null,
      "outputs": []
    },
    {
      "cell_type": "markdown",
      "metadata": {
        "id": "vQMHXalo8vbg"
      },
      "source": [
        "Letter R performs significantly worse than the other letters. Inspecting R examples directly. "
      ]
    },
    {
      "cell_type": "code",
      "execution_count": 18,
      "metadata": {
        "colab": {
          "base_uri": "https://localhost:8080/",
          "height": 492
        },
        "id": "JrndXvqM5fuj",
        "outputId": "c68b0646-6ff0-4310-88c9-8aca9465ac8b"
      },
      "outputs": [
        {
          "output_type": "display_data",
          "data": {
            "text/plain": [
              "<Figure size 640x480 with 100 Axes>"
            ],
            "image/png": "[encoded data removed]"
          },
          "metadata": {}
        }
      ],
      "source": [
        "#fuction to find the indices given a label \n",
        "def find_indices(data,label):\n",
        "    #check if data is numpy array\n",
        "    if type(data) == np.ndarray:\n",
        "        #return indices\n",
        "        return np.where(data==label)\n",
        "    #check if data is pandas series \n",
        "    elif type(data) == pd.Series:\n",
        "        #return indices\n",
        "        return data[data==label].index\n",
        "    #else not supported in this function\n",
        "    else:\n",
        "        raise Exception('Not supported data type for this function.')\n",
        "\n",
        "#visualization of dataset \n",
        "fig, ax = plt.subplots(10,10)\n",
        "plt.suptitle('Inspecting Label R in Training Data')\n",
        "ax = ax.ravel()\n",
        "pos = 0 \n",
        "\n",
        "label = 17\n",
        "\n",
        "index = find_indices(y_train,label)[0]\n",
        "\n",
        "#loop through each label in dataset \n",
        "for i, idx in enumerate(index):\n",
        "    if i >= 100:\n",
        "        break\n",
        "    #display first found image \n",
        "    ax[pos].imshow(X_train[idx].reshape(28,28),cmap='gray')\n",
        "    #do not show ticks \n",
        "    ax[pos].set_xticks([])\n",
        "    ax[pos].set_yticks([])\n",
        "    #increment for subplotting \n",
        "    pos+=1\n",
        "\n",
        "plt.tight_layout()\n",
        "plt.show()"
      ]
    },
    {
      "cell_type": "code",
      "execution_count": null,
      "metadata": {
        "id": "dBZieC8L8eWr"
      },
      "outputs": [],
      "source": []
    }
  ],
  "metadata": {
    "colab": {
      "provenance": []
    },
    "kernelspec": {
      "display_name": "sign_language_interpreter",
      "language": "python",
      "name": "python3"
    },
    "language_info": {
      "codemirror_mode": {
        "name": "ipython",
        "version": 3
      },
      "file_extension": ".py",
      "mimetype": "text/x-python",
      "name": "python",
      "nbconvert_exporter": "python",
      "pygments_lexer": "ipython3",
      "version": "3.9.13"
    },
    "orig_nbformat": 4,
    "accelerator": "TPU",
    "gpuClass": "standard"
  },
  "nbformat": 4,
  "nbformat_minor": 0
}