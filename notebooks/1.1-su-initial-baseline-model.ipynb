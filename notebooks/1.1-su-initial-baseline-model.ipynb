{
 "cells": [
  {
   "cell_type": "code",
   "execution_count": 39,
   "metadata": {},
   "outputs": [],
   "source": [
    "#import library\n",
    "import os\n",
    "import numpy as np\n",
    "import pickle\n",
    "from tensorflow.keras.preprocessing.image import ImageDataGenerator\n",
    "import pandas as pd\n",
    "import matplotlib.pyplot as plt\n",
    "#import cv2\n",
    "from sklearn.preprocessing import StandardScaler\n",
    "from tqdm import tqdm\n",
    "from sklearn.naive_bayes import GaussianNB\n",
    "from sklearn.linear_model import LogisticRegression\n",
    "from sklearn.metrics import accuracy_score, classification_report\n",
    "from sklearn.pipeline import Pipeline"
   ]
  },
  {
   "cell_type": "code",
   "execution_count": 40,
   "metadata": {},
   "outputs": [],
   "source": [
    "#path to csv data \n",
    "path_train = '../data/external/sign_mnist_train.csv'\n",
    "path_test = '../data/external/sign_mnist_test.csv'\n",
    "\n",
    "#define image resolution \n",
    "res = (28,28)"
   ]
  },
  {
   "cell_type": "code",
   "execution_count": 41,
   "metadata": {},
   "outputs": [],
   "source": [
    "#convert csv to numpy \n",
    "train = np.loadtxt(path_train, delimiter=',', skiprows=1)\n",
    "test = np.loadtxt(path_test, delimiter=',', skiprows=1)"
   ]
  },
  {
   "cell_type": "code",
   "execution_count": 43,
   "metadata": {},
   "outputs": [
    {
     "name": "stdout",
     "output_type": "stream",
     "text": [
      "Train Shape:(27455, 785)\n",
      "Test Shape:(7172, 785)\n"
     ]
    }
   ],
   "source": [
    "#printing shape\n",
    "print(f'Train Shape:{train.shape}')\n",
    "print(f'Test Shape:{test.shape}')"
   ]
  },
  {
   "cell_type": "code",
   "execution_count": 44,
   "metadata": {},
   "outputs": [],
   "source": [
    "#training data\n",
    "X_train = train[:,1:]\n",
    "y_train = train[:,0]\n",
    "\n",
    "#testing data \n",
    "X_test = test[:,1:]\n",
    "y_test = test[:,0]"
   ]
  },
  {
   "cell_type": "code",
   "execution_count": null,
   "metadata": {},
   "outputs": [],
   "source": []
  },
  {
   "attachments": {},
   "cell_type": "markdown",
   "metadata": {},
   "source": [
    "### Data Augmentation"
   ]
  },
  {
   "attachments": {},
   "cell_type": "markdown",
   "metadata": {},
   "source": [
    "The extra dimension is added to the image array to represent the batch size for the Keras data generator. The Keras data generator expects an input array of rank 4, where the first dimension represents the batch size.\n",
    "\n",
    "Since we are passing one image at a time to the data generator, we need to add an extra dimension to the image array to make its shape (1, height, width, channels). The batch size of 1 tells the generator that we are passing one image at a time, and the height and width are the dimensions of the image, while the number of channels represents the color channels of the image."
   ]
  },
  {
   "cell_type": "code",
   "execution_count": 45,
   "metadata": {},
   "outputs": [],
   "source": [
    "# Reshape the data to images adding color dimention\n",
    "X_train = X_train.reshape(X_train.shape[0], res[0], res[1], 1)\n",
    "X_test = X_test.reshape(X_test.shape[0], res[0], res[1], 1)\n"
   ]
  },
  {
   "cell_type": "code",
   "execution_count": 46,
   "metadata": {},
   "outputs": [],
   "source": [
    "# Creating an ImageDataGenerator object with data augmentation parameters\n",
    "datagen = ImageDataGenerator(\n",
    "    rotation_range=10,\n",
    "    zoom_range=0.1,\n",
    "    width_shift_range=0.1,\n",
    "    height_shift_range=0.1,\n",
    "    shear_range=0.1,\n",
    "    brightness_range=[0.5, 1.5],\n",
    "    fill_mode='nearest')"
   ]
  },
  {
   "cell_type": "code",
   "execution_count": 47,
   "metadata": {},
   "outputs": [],
   "source": [
    "# Apply data augmentation to the training set\n",
    "X_train_augmented = []\n",
    "y_train_augmented = []\n",
    "for i in range(X_train.shape[0]):\n",
    "    img = X_train[i]\n",
    "    label = y_train[i]\n",
    "    for j in range(2):\n",
    "        x_augmented = datagen.random_transform(img)\n",
    "        X_train_augmented.append(x_augmented)\n",
    "        y_train_augmented.append(label)"
   ]
  },
  {
   "cell_type": "code",
   "execution_count": 62,
   "metadata": {},
   "outputs": [],
   "source": [
    "# Apply data augmentation to the test set\n",
    "X_test_augmented = []\n",
    "y_test_augmented = []\n",
    "for i in range(X_test.shape[0]):\n",
    "    img = X_test[i]\n",
    "    label = y_test[i]\n",
    "    for j in range(2):\n",
    "        x_augmented = datagen.random_transform(img)\n",
    "        X_test_augmented.append(x_augmented)\n",
    "        y_test_augmented.append(label)"
   ]
  },
  {
   "cell_type": "code",
   "execution_count": 63,
   "metadata": {},
   "outputs": [],
   "source": [
    "# Convert the augmented data to numpy arrays\n",
    "X_train_augmented = np.array(X_train_augmented)\n",
    "y_train_augmented = np.array(y_train_augmented)\n",
    "X_test_augmented = np.array(X_test_augmented)\n",
    "y_test_augmented = np.array(y_test_augmented)"
   ]
  },
  {
   "cell_type": "code",
   "execution_count": 64,
   "metadata": {},
   "outputs": [],
   "source": [
    "# Save the augmented data to files\n",
    "np.savez_compressed('../data/external/sign_data_augmented.npz',\n",
    "                    X_train=X_train_augmented,\n",
    "                    y_train=y_train_augmented,\n",
    "                    X_test=X_test_augmented,\n",
    "                    y_test=y_test_augmented)\n"
   ]
  },
  {
   "cell_type": "code",
   "execution_count": 65,
   "metadata": {},
   "outputs": [],
   "source": [
    "# Load the augmented data from the file\n",
    "data = np.load('../data/external/sign_data_augmented.npz')\n",
    "\n",
    "# Extract the X_train, y_train, X_test, and y_test arrays from the data\n",
    "X_train = data['X_train']\n",
    "y_train = data['y_train']\n",
    "X_test = data['X_test']\n",
    "y_test = data['y_test']\n"
   ]
  },
  {
   "cell_type": "code",
   "execution_count": 66,
   "metadata": {},
   "outputs": [
    {
     "name": "stdout",
     "output_type": "stream",
     "text": [
      "X_train shape: (54910, 28, 28, 1)\n",
      "y_train shape: (54910,)\n",
      "X_test shape: (14344, 28, 28, 1)\n",
      "y_test shape: (14344,)\n"
     ]
    }
   ],
   "source": [
    "# Print the shapes of the augmented data\n",
    "print(f'X_train shape: {X_train.shape}')\n",
    "print(f'y_train shape: {y_train.shape}')\n",
    "print(f'X_test shape: {X_test.shape}')\n",
    "print(f'y_test shape: {y_test.shape}')"
   ]
  },
  {
   "cell_type": "code",
   "execution_count": 67,
   "metadata": {},
   "outputs": [
    {
     "data": {
      "image/png": "[encoded data removed]",
      "text/plain": [
       "<Figure size 640x480 with 1 Axes>"
      ]
     },
     "metadata": {},
     "output_type": "display_data"
    }
   ],
   "source": [
    "#visualization\n",
    "import matplotlib.pyplot as plt\n",
    "plt.imshow(X_test[6]);"
   ]
  },
  {
   "cell_type": "code",
   "execution_count": 55,
   "metadata": {},
   "outputs": [],
   "source": [
    "# # Define the class names\n",
    "# class_names = ['A', 'B', 'C', 'D', 'E', 'F', 'G', 'H', 'I', 'J', 'K', 'L','M', 'N', 'O', 'P', 'Q', 'R', 'S', 'T', 'U', 'V', 'W', 'X','Y', 'Z']\n",
    "\n",
    "# # Visualize some of the augmented images\n",
    "# fig, axes = plt.subplots(2, 5, figsize=(12, 6),\n",
    "#                          subplot_kw={'xticks': [], 'yticks': []})\n",
    "\n",
    "# for i, ax in enumerate(axes.flat):\n",
    "#     ax.imshow(X_train_augmented[i].squeeze(), cmap='gray')\n",
    "#     ax.set_title(class_names[int(y_train_augmented[i])])\n",
    "\n",
    "# plt.show()\n"
   ]
  },
  {
   "cell_type": "code",
   "execution_count": 71,
   "metadata": {},
   "outputs": [
    {
     "name": "stdout",
     "output_type": "stream",
     "text": [
      "X_train shape: (54910, 784)\n",
      "y_train shape: (54910,)\n",
      "X_test shape: (14344, 784)\n",
      "y_test shape: (14344,)\n"
     ]
    }
   ],
   "source": [
    "# Flatten the training data\n",
    "X_train = X_train_augmented.reshape(X_train.shape[0], -1)\n",
    "\n",
    "# Flatten the testing data\n",
    "X_test = X_test_augmented.reshape(X_test.shape[0], -1)\n",
    "\n",
    "# Print the shapes of the augmented data\n",
    "print(f'X_train shape: {X_train.shape}')\n",
    "print(f'y_train shape: {y_train.shape}')\n",
    "print(f'X_test shape: {X_test.shape}')\n",
    "print(f'y_test shape: {y_test.shape}')\n"
   ]
  },
  {
   "cell_type": "code",
   "execution_count": 72,
   "metadata": {},
   "outputs": [],
   "source": [
    "# Create a list of letters for the class labels\n",
    "letters = ['A', 'B', 'C', 'D', 'E', 'F', 'G', 'H', 'I', 'K', 'L', 'M', 'N', 'O', 'P', 'Q', 'R', 'S', 'T', 'U', 'V', 'W', 'X', 'Y']\n",
    "\n",
    "# Get the unique class labels in y_train_augmented\n",
    "unique_labels = np.unique(y_train)\n",
    "\n",
    "# Create a dictionary of class labels\n",
    "labels = {}\n",
    "for i in range(len(unique_labels)):\n",
    "    labels[unique_labels[i]] = letters[i]"
   ]
  },
  {
   "cell_type": "code",
   "execution_count": 73,
   "metadata": {},
   "outputs": [],
   "source": [
    "# Define a function to find the indices for a given label\n",
    "def find_indices(data, label):\n",
    "    # Check if data is a numpy array\n",
    "    if isinstance(data, np.ndarray):\n",
    "        # Return the indices\n",
    "        return np.where(data == label)\n",
    "    # Check if data is a pandas series\n",
    "    elif isinstance(data, pd.Series):\n",
    "        # Return the indices\n",
    "        return data[data == label].index\n",
    "    # Otherwise, raise an exception\n",
    "    else:\n",
    "        raise Exception('Not supported data type for this function.')\n"
   ]
  },
  {
   "cell_type": "code",
   "execution_count": 79,
   "metadata": {},
   "outputs": [
    {
     "data": {
      "image/png": "[encoded data removed]",
      "text/plain": [
       "<Figure size 1000x1000 with 24 Axes>"
      ]
     },
     "metadata": {},
     "output_type": "display_data"
    }
   ],
   "source": [
    "# Create a figure with 5 rows and 5 columns\n",
    "fig, axs = plt.subplots(4, 6, figsize=(10,10))\n",
    "axs = axs.ravel()\n",
    "pos = 0\n",
    "\n",
    "# Loop through each label and display a random image\n",
    "for i, label in enumerate(unique_labels):\n",
    "    # Find the indices for the label\n",
    "    indices = find_indices(y_train_augmented, label)[0]\n",
    "    \n",
    "    # Select a random index\n",
    "    index = np.random.choice(indices)\n",
    "    \n",
    "    # Get the image and the letter\n",
    "    image = X_train_augmented[index].squeeze()\n",
    "    letter = labels[label]\n",
    "    \n",
    "    # Display the image with the letter as the title\n",
    "    axs[i].imshow(image, cmap='gray')\n",
    "    axs[i].set_title(letter)\n",
    "    axs[i].axis('off')\n",
    "    \n",
    "# Show the figure\n",
    "plt.tight_layout()\n",
    "plt.show()\n"
   ]
  },
  {
   "cell_type": "code",
   "execution_count": 80,
   "metadata": {},
   "outputs": [],
   "source": [
    "#standardized data \n",
    "#using sklearn standard scaler model and fitting on training data \n",
    "sc = StandardScaler().fit(X_train)\n",
    "X_train_sc = sc.transform(X_train)\n",
    "X_test_sc = sc.transform(X_test)"
   ]
  },
  {
   "attachments": {},
   "cell_type": "markdown",
   "metadata": {},
   "source": [
    "#### Applying naive bayes "
   ]
  },
  {
   "cell_type": "code",
   "execution_count": 81,
   "metadata": {},
   "outputs": [],
   "source": [
    "gnb = GaussianNB()"
   ]
  },
  {
   "cell_type": "code",
   "execution_count": 82,
   "metadata": {},
   "outputs": [
    {
     "name": "stdout",
     "output_type": "stream",
     "text": [
      "Accuracy: 0.044966536530953706\n",
      "Classification report:\n",
      "              precision    recall  f1-score   support\n",
      "\n",
      "           A       0.07      0.02      0.03       616\n",
      "           B       0.03      0.01      0.01       880\n",
      "           C       0.05      0.03      0.03       624\n",
      "           D       0.04      0.00      0.01       472\n",
      "           E       0.08      0.06      0.07      1016\n",
      "           F       0.05      0.02      0.02       496\n",
      "           G       0.06      0.04      0.05       656\n",
      "           H       0.02      0.00      0.00       876\n",
      "           I       0.03      0.04      0.03       536\n",
      "           K       0.05      0.04      0.04       684\n",
      "           L       0.03      0.02      0.02       436\n",
      "           M       0.02      0.00      0.00       780\n",
      "           N       0.00      0.00      0.00       560\n",
      "           O       0.02      0.02      0.02       508\n",
      "           P       0.05      0.32      0.08       684\n",
      "           Q       0.02      0.02      0.02       324\n",
      "           R       0.02      0.06      0.03       308\n",
      "           S       0.05      0.04      0.04       432\n",
      "           T       0.04      0.21      0.07       528\n",
      "           U       0.00      0.00      0.00       528\n",
      "           V       0.06      0.07      0.06       768\n",
      "           W       0.07      0.01      0.02       440\n",
      "           X       0.02      0.00      0.01       540\n",
      "           Y       0.10      0.01      0.01       652\n",
      "\n",
      "    accuracy                           0.04     14344\n",
      "   macro avg       0.04      0.04      0.03     14344\n",
      "weighted avg       0.04      0.04      0.03     14344\n",
      "\n"
     ]
    }
   ],
   "source": [
    "# applying NB on standerdized data\n",
    "y_pred_sc = gnb.fit(X_train_sc, y_train).predict(X_test_sc)\n",
    "\n",
    "print(f\"Accuracy: {accuracy_score(y_test, y_pred_sc)}\")\n",
    "print(\"Classification report:\")\n",
    "print(classification_report(y_test, y_pred_sc, target_names=letters))\n"
   ]
  },
  {
   "attachments": {},
   "cell_type": "markdown",
   "metadata": {},
   "source": [
    "### Logistic regrassion"
   ]
  },
  {
   "cell_type": "code",
   "execution_count": 83,
   "metadata": {},
   "outputs": [],
   "source": [
    "lr = LogisticRegression(max_iter=5000)"
   ]
  },
  {
   "cell_type": "code",
   "execution_count": 84,
   "metadata": {},
   "outputs": [
    {
     "name": "stdout",
     "output_type": "stream",
     "text": [
      "Accuracy: 0.04155047406581149\n",
      "Classification report:\n",
      "              precision    recall  f1-score   support\n",
      "\n",
      "           A       0.06      0.08      0.07       616\n",
      "           B       0.05      0.04      0.04       880\n",
      "           C       0.05      0.05      0.05       624\n",
      "           D       0.04      0.04      0.04       472\n",
      "           E       0.07      0.05      0.06      1016\n",
      "           F       0.03      0.03      0.03       496\n",
      "           G       0.05      0.05      0.05       656\n",
      "           H       0.07      0.05      0.06       876\n",
      "           I       0.02      0.02      0.02       536\n",
      "           K       0.05      0.04      0.04       684\n",
      "           L       0.01      0.02      0.02       436\n",
      "           M       0.04      0.03      0.04       780\n",
      "           N       0.04      0.04      0.04       560\n",
      "           O       0.03      0.02      0.02       508\n",
      "           P       0.05      0.05      0.05       684\n",
      "           Q       0.02      0.04      0.03       324\n",
      "           R       0.02      0.03      0.02       308\n",
      "           S       0.04      0.06      0.05       432\n",
      "           T       0.03      0.03      0.03       528\n",
      "           U       0.04      0.04      0.04       528\n",
      "           V       0.04      0.02      0.03       768\n",
      "           W       0.05      0.08      0.06       440\n",
      "           X       0.03      0.04      0.03       540\n",
      "           Y       0.05      0.04      0.05       652\n",
      "\n",
      "    accuracy                           0.04     14344\n",
      "   macro avg       0.04      0.04      0.04     14344\n",
      "weighted avg       0.04      0.04      0.04     14344\n",
      "\n"
     ]
    }
   ],
   "source": [
    "# testing logistic regression on test data\n",
    "y_pred_lr_sc = lr.fit(X_train_sc, y_train).predict(X_test_sc)\n",
    "\n",
    "print(f\"Accuracy: {accuracy_score(y_test, y_pred_lr_sc)}\")\n",
    "print(\"Classification report:\")\n",
    "print(classification_report(y_test, y_pred_lr_sc, target_names=letters))\n"
   ]
  },
  {
   "cell_type": "code",
   "execution_count": 85,
   "metadata": {},
   "outputs": [
    {
     "name": "stdout",
     "output_type": "stream",
     "text": [
      "Accuracy: 0.6060644691313057\n",
      "Classification report:\n",
      "              precision    recall  f1-score   support\n",
      "\n",
      "           A       0.65      0.71      0.68      2252\n",
      "           B       0.70      0.73      0.72      2020\n",
      "           C       0.83      0.83      0.83      2288\n",
      "           D       0.53      0.48      0.51      2392\n",
      "           E       0.67      0.64      0.66      1914\n",
      "           F       0.62      0.59      0.61      2408\n",
      "           G       0.70      0.69      0.69      2180\n",
      "           H       0.66      0.60      0.63      2026\n",
      "           I       0.57      0.63      0.60      2324\n",
      "           K       0.60      0.64      0.62      2228\n",
      "           L       0.61      0.67      0.64      2482\n",
      "           M       0.56      0.47      0.51      2110\n",
      "           N       0.56      0.51      0.53      2302\n",
      "           O       0.71      0.71      0.71      2392\n",
      "           P       0.70      0.75      0.73      2176\n",
      "           Q       0.70      0.73      0.71      2558\n",
      "           R       0.49      0.49      0.49      2588\n",
      "           S       0.47      0.47      0.47      2398\n",
      "           T       0.53      0.55      0.54      2372\n",
      "           U       0.53      0.54      0.54      2322\n",
      "           V       0.49      0.41      0.44      2164\n",
      "           W       0.48      0.50      0.49      2450\n",
      "           X       0.56      0.55      0.56      2328\n",
      "           Y       0.64      0.67      0.65      2236\n",
      "\n",
      "    accuracy                           0.61     54910\n",
      "   macro avg       0.61      0.61      0.61     54910\n",
      "weighted avg       0.60      0.61      0.60     54910\n",
      "\n"
     ]
    }
   ],
   "source": [
    "# testing logistic regression on train data\n",
    "y_pred_lr = lr.fit(X_train_sc, y_train).predict(X_train_sc)\n",
    "\n",
    "print(f\"Accuracy: {accuracy_score(y_train, y_pred_lr)}\")\n",
    "print(\"Classification report:\")\n",
    "print(classification_report(y_train, y_pred_lr, target_names=letters))\n"
   ]
  },
  {
   "cell_type": "code",
   "execution_count": 86,
   "metadata": {},
   "outputs": [],
   "source": [
    "#normalized data \n",
    "X_train_norm = X_train/255 \n",
    "X_test_norm = X_test/255"
   ]
  },
  {
   "cell_type": "code",
   "execution_count": 87,
   "metadata": {},
   "outputs": [
    {
     "name": "stdout",
     "output_type": "stream",
     "text": [
      "Accuracy: 0.041201896263245955\n",
      "Classification report:\n",
      "              precision    recall  f1-score   support\n",
      "\n",
      "           A       0.07      0.08      0.07       616\n",
      "           B       0.05      0.04      0.04       880\n",
      "           C       0.05      0.05      0.05       624\n",
      "           D       0.04      0.05      0.04       472\n",
      "           E       0.07      0.05      0.05      1016\n",
      "           F       0.02      0.02      0.02       496\n",
      "           G       0.05      0.05      0.05       656\n",
      "           H       0.06      0.04      0.05       876\n",
      "           I       0.02      0.03      0.03       536\n",
      "           K       0.04      0.04      0.04       684\n",
      "           L       0.01      0.02      0.02       436\n",
      "           M       0.03      0.03      0.03       780\n",
      "           N       0.05      0.05      0.05       560\n",
      "           O       0.02      0.02      0.02       508\n",
      "           P       0.05      0.05      0.05       684\n",
      "           Q       0.02      0.04      0.03       324\n",
      "           R       0.01      0.02      0.02       308\n",
      "           S       0.03      0.04      0.03       432\n",
      "           T       0.03      0.03      0.03       528\n",
      "           U       0.03      0.03      0.03       528\n",
      "           V       0.04      0.02      0.03       768\n",
      "           W       0.05      0.08      0.06       440\n",
      "           X       0.03      0.04      0.03       540\n",
      "           Y       0.05      0.05      0.05       652\n",
      "\n",
      "    accuracy                           0.04     14344\n",
      "   macro avg       0.04      0.04      0.04     14344\n",
      "weighted avg       0.04      0.04      0.04     14344\n",
      "\n"
     ]
    }
   ],
   "source": [
    "# applying logistic regression on normalized data\n",
    "y_pred_lr_nm = lr.fit(X_train_norm, y_train).predict(X_test_norm)\n",
    "\n",
    "print(f\"Accuracy: {accuracy_score(y_test, y_pred_lr_nm)}\")\n",
    "print(\"Classification report:\")\n",
    "print(classification_report(y_test, y_pred_lr_nm, target_names=letters))\n"
   ]
  },
  {
   "cell_type": "code",
   "execution_count": 88,
   "metadata": {},
   "outputs": [
    {
     "name": "stdout",
     "output_type": "stream",
     "text": [
      "Accuracy: 0.5873429247860135\n",
      "Classification report:\n",
      "              precision    recall  f1-score   support\n",
      "\n",
      "           A       0.61      0.69      0.65      2252\n",
      "           B       0.68      0.73      0.70      2020\n",
      "           C       0.82      0.81      0.81      2288\n",
      "           D       0.51      0.46      0.48      2392\n",
      "           E       0.65      0.61      0.63      1914\n",
      "           F       0.59      0.58      0.58      2408\n",
      "           G       0.69      0.66      0.68      2180\n",
      "           H       0.64      0.59      0.61      2026\n",
      "           I       0.55      0.62      0.58      2324\n",
      "           K       0.58      0.63      0.60      2228\n",
      "           L       0.58      0.66      0.62      2482\n",
      "           M       0.55      0.45      0.49      2110\n",
      "           N       0.55      0.48      0.52      2302\n",
      "           O       0.70      0.70      0.70      2392\n",
      "           P       0.68      0.74      0.71      2176\n",
      "           Q       0.68      0.71      0.69      2558\n",
      "           R       0.46      0.47      0.46      2588\n",
      "           S       0.45      0.45      0.45      2398\n",
      "           T       0.51      0.53      0.52      2372\n",
      "           U       0.52      0.52      0.52      2322\n",
      "           V       0.48      0.37      0.42      2164\n",
      "           W       0.46      0.49      0.47      2450\n",
      "           X       0.56      0.55      0.56      2328\n",
      "           Y       0.60      0.63      0.62      2236\n",
      "\n",
      "    accuracy                           0.59     54910\n",
      "   macro avg       0.59      0.59      0.59     54910\n",
      "weighted avg       0.59      0.59      0.59     54910\n",
      "\n"
     ]
    }
   ],
   "source": [
    "# applying logistic regression on normalized data\n",
    "y_pred_lr_nm = lr.fit(X_train_norm, y_train).predict(X_train_norm)\n",
    "\n",
    "print(f\"Accuracy: {accuracy_score(y_train, y_pred_lr_nm)}\")\n",
    "print(\"Classification report:\")\n",
    "print(classification_report(y_train, y_pred_lr_nm, target_names=letters))\n"
   ]
  },
  {
   "cell_type": "code",
   "execution_count": null,
   "metadata": {},
   "outputs": [],
   "source": []
  }
 ],
 "metadata": {
  "kernelspec": {
   "display_name": "sign_language_interpreter",
   "language": "python",
   "name": "python3"
  },
  "language_info": {
   "codemirror_mode": {
    "name": "ipython",
    "version": 3
   },
   "file_extension": ".py",
   "mimetype": "text/x-python",
   "name": "python",
   "nbconvert_exporter": "python",
   "pygments_lexer": "ipython3",
   "version": "3.9.16"
  },
  "orig_nbformat": 4
 },
 "nbformat": 4,
 "nbformat_minor": 2
}
