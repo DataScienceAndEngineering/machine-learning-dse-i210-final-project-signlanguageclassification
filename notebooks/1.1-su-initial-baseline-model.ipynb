{
 "cells": [
  {
   "cell_type": "code",
   "execution_count": 90,
   "metadata": {},
   "outputs": [],
   "source": [
    "#import library\n",
    "import os\n",
    "import numpy as np\n",
    "import pickle\n",
    "from tensorflow.keras.preprocessing.image import ImageDataGenerator\n",
    "import pandas as pd\n",
    "import matplotlib.pyplot as plt\n",
    "#import cv2\n",
    "from sklearn.preprocessing import StandardScaler\n",
    "from tqdm import tqdm\n",
    "from sklearn.naive_bayes import GaussianNB\n",
    "from sklearn.linear_model import LogisticRegression\n",
    "from sklearn.metrics import accuracy_score, classification_report\n",
    "from sklearn.pipeline import Pipeline"
   ]
  },
  {
   "cell_type": "code",
   "execution_count": 91,
   "metadata": {},
   "outputs": [],
   "source": [
    "#path to csv data \n",
    "path_train = '../data/external/sign_mnist_train.csv'\n",
    "path_test = '../data/external/sign_mnist_test.csv'\n",
    "\n",
    "#define image resolution \n",
    "res = (28,28)"
   ]
  },
  {
   "cell_type": "code",
   "execution_count": 92,
   "metadata": {},
   "outputs": [],
   "source": [
    "#convert csv to numpy \n",
    "train = np.loadtxt(path_train, delimiter=',', skiprows=1)\n",
    "test = np.loadtxt(path_test, delimiter=',', skiprows=1)"
   ]
  },
  {
   "cell_type": "code",
   "execution_count": 93,
   "metadata": {},
   "outputs": [
    {
     "name": "stdout",
     "output_type": "stream",
     "text": [
      "Train Shape:(27455, 785)\n",
      "Test Shape:(7172, 785)\n"
     ]
    }
   ],
   "source": [
    "#printing shape\n",
    "print(f'Train Shape:{train.shape}')\n",
    "print(f'Test Shape:{test.shape}')"
   ]
  },
  {
   "cell_type": "code",
   "execution_count": 94,
   "metadata": {},
   "outputs": [],
   "source": [
    "#training data\n",
    "X_train = train[:,1:]\n",
    "y_train = train[:,0]\n",
    "\n",
    "#testing data \n",
    "X_test = test[:,1:]\n",
    "y_test = test[:,0]"
   ]
  },
  {
   "cell_type": "code",
   "execution_count": null,
   "metadata": {},
   "outputs": [],
   "source": []
  },
  {
   "attachments": {},
   "cell_type": "markdown",
   "metadata": {},
   "source": [
    "### Data Augmentation"
   ]
  },
  {
   "attachments": {},
   "cell_type": "markdown",
   "metadata": {},
   "source": [
    "The extra dimension is added to the image array to represent the batch size for the Keras data generator. The Keras data generator expects an input array of rank 4, where the first dimension represents the batch size.\n",
    "\n",
    "Since we are passing one image at a time to the data generator, we need to add an extra dimension to the image array to make its shape (1, height, width, channels). The batch size of 1 tells the generator that we are passing one image at a time, and the height and width are the dimensions of the image, while the number of channels represents the color channels of the image."
   ]
  },
  {
   "cell_type": "code",
   "execution_count": 95,
   "metadata": {},
   "outputs": [],
   "source": [
    "# Reshape the data to images adding color dimention\n",
    "X_train = X_train.reshape(X_train.shape[0], res[0], res[1], 1)\n",
    "X_test = X_test.reshape(X_test.shape[0], res[0], res[1], 1)\n"
   ]
  },
  {
   "cell_type": "code",
   "execution_count": 96,
   "metadata": {},
   "outputs": [],
   "source": [
    "# Creating an ImageDataGenerator object with data augmentation parameters\n",
    "datagen = ImageDataGenerator(\n",
    "    rotation_range=10,\n",
    "    zoom_range=0.1,\n",
    "    width_shift_range=0.1,\n",
    "    height_shift_range=0.1,\n",
    "    shear_range=0.1,\n",
    "    brightness_range=[0.5, 1.5],\n",
    "    fill_mode='nearest')"
   ]
  },
  {
   "cell_type": "code",
   "execution_count": 97,
   "metadata": {},
   "outputs": [],
   "source": [
    "# Apply data augmentation to the training set\n",
    "X_train_augmented = []\n",
    "y_train_augmented = []\n",
    "for i in range(X_train.shape[0]):\n",
    "    img = X_train[i]\n",
    "    label = y_train[i]\n",
    "    for j in range(3):\n",
    "        x_augmented = datagen.random_transform(img)\n",
    "        X_train_augmented.append(x_augmented)\n",
    "        y_train_augmented.append(label)"
   ]
  },
  {
   "cell_type": "code",
   "execution_count": 98,
   "metadata": {},
   "outputs": [],
   "source": [
    "# Apply data augmentation to the test set\n",
    "X_test_augmented = []\n",
    "y_test_augmented = []\n",
    "for i in range(X_test.shape[0]):\n",
    "    img = X_test[i]\n",
    "    label = y_test[i]\n",
    "    for j in range(2):\n",
    "        x_augmented = datagen.random_transform(img)\n",
    "        X_test_augmented.append(x_augmented)\n",
    "        y_test_augmented.append(label)"
   ]
  },
  {
   "cell_type": "code",
   "execution_count": 99,
   "metadata": {},
   "outputs": [],
   "source": [
    "# Convert the augmented data to numpy arrays\n",
    "X_train_augmented = np.array(X_train_augmented)\n",
    "y_train_augmented = np.array(y_train_augmented)\n",
    "X_test_augmented = np.array(X_test_augmented)\n",
    "y_test_augmented = np.array(y_test_augmented)"
   ]
  },
  {
   "cell_type": "code",
   "execution_count": 100,
   "metadata": {},
   "outputs": [],
   "source": [
    "# Save the augmented data to files\n",
    "np.savez_compressed('../data/external/sign_data_augmented.npz',\n",
    "                    X_train=X_train_augmented,\n",
    "                    y_train=y_train_augmented,\n",
    "                    X_test=X_test_augmented,\n",
    "                    y_test=y_test_augmented)\n"
   ]
  },
  {
   "cell_type": "code",
   "execution_count": 101,
   "metadata": {},
   "outputs": [],
   "source": [
    "# Load the augmented data from the file\n",
    "data = np.load('../data/external/sign_data_augmented.npz')\n",
    "\n",
    "# Extract the X_train, y_train, X_test, and y_test arrays from the data\n",
    "X_train = data['X_train']\n",
    "y_train = data['y_train']\n",
    "X_test = data['X_test']\n",
    "y_test = data['y_test']\n"
   ]
  },
  {
   "cell_type": "code",
   "execution_count": 102,
   "metadata": {},
   "outputs": [
    {
     "name": "stdout",
     "output_type": "stream",
     "text": [
      "X_train shape: (82365, 28, 28, 1)\n",
      "y_train shape: (82365,)\n",
      "X_test shape: (14344, 28, 28, 1)\n",
      "y_test shape: (14344,)\n"
     ]
    }
   ],
   "source": [
    "# Print the shapes of the augmented data\n",
    "print(f'X_train shape: {X_train.shape}')\n",
    "print(f'y_train shape: {y_train.shape}')\n",
    "print(f'X_test shape: {X_test.shape}')\n",
    "print(f'y_test shape: {y_test.shape}')"
   ]
  },
  {
   "cell_type": "code",
   "execution_count": 67,
   "metadata": {},
   "outputs": [
    {
     "data": {
      "image/png": "[encoded data removed]",
      "text/plain": [
       "<Figure size 640x480 with 1 Axes>"
      ]
     },
     "metadata": {},
     "output_type": "display_data"
    }
   ],
   "source": [
    "#visualization\n",
    "import matplotlib.pyplot as plt\n",
    "plt.imshow(X_test[6]);"
   ]
  },
  {
   "cell_type": "code",
   "execution_count": 55,
   "metadata": {},
   "outputs": [],
   "source": [
    "# # Define the class names\n",
    "# class_names = ['A', 'B', 'C', 'D', 'E', 'F', 'G', 'H', 'I', 'J', 'K', 'L','M', 'N', 'O', 'P', 'Q', 'R', 'S', 'T', 'U', 'V', 'W', 'X','Y', 'Z']\n",
    "\n",
    "# # Visualize some of the augmented images\n",
    "# fig, axes = plt.subplots(2, 5, figsize=(12, 6),\n",
    "#                          subplot_kw={'xticks': [], 'yticks': []})\n",
    "\n",
    "# for i, ax in enumerate(axes.flat):\n",
    "#     ax.imshow(X_train_augmented[i].squeeze(), cmap='gray')\n",
    "#     ax.set_title(class_names[int(y_train_augmented[i])])\n",
    "\n",
    "# plt.show()\n"
   ]
  },
  {
   "cell_type": "code",
   "execution_count": 103,
   "metadata": {},
   "outputs": [
    {
     "name": "stdout",
     "output_type": "stream",
     "text": [
      "X_train shape: (82365, 784)\n",
      "y_train shape: (82365,)\n",
      "X_test shape: (14344, 784)\n",
      "y_test shape: (14344,)\n"
     ]
    }
   ],
   "source": [
    "# Flatten the training data\n",
    "X_train = X_train_augmented.reshape(X_train.shape[0], -1)\n",
    "\n",
    "# Flatten the testing data\n",
    "X_test = X_test_augmented.reshape(X_test.shape[0], -1)\n",
    "\n",
    "# Print the shapes of the augmented data\n",
    "print(f'X_train shape: {X_train.shape}')\n",
    "print(f'y_train shape: {y_train.shape}')\n",
    "print(f'X_test shape: {X_test.shape}')\n",
    "print(f'y_test shape: {y_test.shape}')\n"
   ]
  },
  {
   "cell_type": "code",
   "execution_count": 104,
   "metadata": {},
   "outputs": [],
   "source": [
    "# Create a list of letters for the class labels\n",
    "letters = ['A', 'B', 'C', 'D', 'E', 'F', 'G', 'H', 'I', 'K', 'L', 'M', 'N', 'O', 'P', 'Q', 'R', 'S', 'T', 'U', 'V', 'W', 'X', 'Y']\n",
    "\n",
    "# Get the unique class labels in y_train_augmented\n",
    "unique_labels = np.unique(y_train)\n",
    "\n",
    "# Create a dictionary of class labels\n",
    "labels = {}\n",
    "for i in range(len(unique_labels)):\n",
    "    labels[unique_labels[i]] = letters[i]"
   ]
  },
  {
   "cell_type": "code",
   "execution_count": 105,
   "metadata": {},
   "outputs": [],
   "source": [
    "# Define a function to find the indices for a given label\n",
    "def find_indices(data, label):\n",
    "    # Check if data is a numpy array\n",
    "    if isinstance(data, np.ndarray):\n",
    "        # Return the indices\n",
    "        return np.where(data == label)\n",
    "    # Check if data is a pandas series\n",
    "    elif isinstance(data, pd.Series):\n",
    "        # Return the indices\n",
    "        return data[data == label].index\n",
    "    # Otherwise, raise an exception\n",
    "    else:\n",
    "        raise Exception('Not supported data type for this function.')\n"
   ]
  },
  {
   "cell_type": "code",
   "execution_count": 106,
   "metadata": {},
   "outputs": [
    {
     "data": {
      "image/png": "[encoded data removed]",
      "text/plain": [
       "<Figure size 1000x1000 with 24 Axes>"
      ]
     },
     "metadata": {},
     "output_type": "display_data"
    }
   ],
   "source": [
    "# Create a figure with 5 rows and 5 columns\n",
    "fig, axs = plt.subplots(4, 6, figsize=(10,10))\n",
    "axs = axs.ravel()\n",
    "pos = 0\n",
    "\n",
    "# Loop through each label and display a random image\n",
    "for i, label in enumerate(unique_labels):\n",
    "    # Find the indices for the label\n",
    "    indices = find_indices(y_train_augmented, label)[0]\n",
    "    \n",
    "    # Select a random index\n",
    "    index = np.random.choice(indices)\n",
    "    \n",
    "    # Get the image and the letter\n",
    "    image = X_train_augmented[index].squeeze()\n",
    "    letter = labels[label]\n",
    "    \n",
    "    # Display the image with the letter as the title\n",
    "    axs[i].imshow(image, cmap='gray')\n",
    "    axs[i].set_title(letter)\n",
    "    axs[i].axis('off')\n",
    "    \n",
    "# Show the figure\n",
    "plt.tight_layout()\n",
    "plt.show()\n"
   ]
  },
  {
   "cell_type": "code",
   "execution_count": 107,
   "metadata": {},
   "outputs": [],
   "source": [
    "#standardized data \n",
    "#using sklearn standard scaler model and fitting on training data \n",
    "sc = StandardScaler().fit(X_train)\n",
    "X_train_sc = sc.transform(X_train)\n",
    "X_test_sc = sc.transform(X_test)"
   ]
  },
  {
   "attachments": {},
   "cell_type": "markdown",
   "metadata": {},
   "source": [
    "#### Applying naive bayes "
   ]
  },
  {
   "cell_type": "code",
   "execution_count": 108,
   "metadata": {},
   "outputs": [],
   "source": [
    "gnb = GaussianNB()"
   ]
  },
  {
   "cell_type": "code",
   "execution_count": 109,
   "metadata": {},
   "outputs": [
    {
     "name": "stdout",
     "output_type": "stream",
     "text": [
      "Accuracy: 0.15323480200780815\n",
      "Classification report:\n",
      "              precision    recall  f1-score   support\n",
      "\n",
      "           A       0.44      0.14      0.21       662\n",
      "           B       0.33      0.08      0.12       864\n",
      "           C       0.59      0.23      0.33       620\n",
      "           D       0.37      0.05      0.09       490\n",
      "           E       0.48      0.14      0.21       996\n",
      "           F       0.16      0.10      0.12       494\n",
      "           G       0.41      0.21      0.28       696\n",
      "           H       0.70      0.09      0.16       872\n",
      "           I       0.08      0.40      0.13       576\n",
      "           K       0.29      0.21      0.25       662\n",
      "           L       0.41      0.10      0.16       418\n",
      "           M       0.24      0.01      0.01       788\n",
      "           N       0.31      0.04      0.07       582\n",
      "           O       0.29      0.22      0.25       492\n",
      "           P       0.10      0.66      0.17       694\n",
      "           Q       0.18      0.22      0.20       328\n",
      "           R       0.07      0.17      0.10       288\n",
      "           S       0.14      0.08      0.11       492\n",
      "           T       0.10      0.42      0.16       496\n",
      "           U       0.00      0.00      0.00       532\n",
      "           V       0.13      0.04      0.06       692\n",
      "           W       0.03      0.00      0.00       412\n",
      "           X       0.42      0.08      0.13       534\n",
      "           Y       0.19      0.03      0.05       664\n",
      "\n",
      "    accuracy                           0.15     14344\n",
      "   macro avg       0.27      0.15      0.14     14344\n",
      "weighted avg       0.29      0.15      0.14     14344\n",
      "\n"
     ]
    }
   ],
   "source": [
    "# applying NB on standerdized data\n",
    "y_pred_sc = gnb.fit(X_train_sc, y_train).predict(X_test_sc)\n",
    "\n",
    "print(f\"Accuracy: {accuracy_score(y_test, y_pred_sc)}\")\n",
    "print(\"Classification report:\")\n",
    "print(classification_report(y_test, y_pred_sc, target_names=letters))\n"
   ]
  },
  {
   "attachments": {},
   "cell_type": "markdown",
   "metadata": {},
   "source": [
    "### Logistic regrassion"
   ]
  },
  {
   "cell_type": "code",
   "execution_count": 110,
   "metadata": {},
   "outputs": [],
   "source": [
    "lr = LogisticRegression(max_iter=5000)"
   ]
  },
  {
   "cell_type": "code",
   "execution_count": 111,
   "metadata": {},
   "outputs": [
    {
     "name": "stdout",
     "output_type": "stream",
     "text": [
      "Accuracy: 0.48347741215839374\n",
      "Classification report:\n",
      "              precision    recall  f1-score   support\n",
      "\n",
      "           A       0.52      0.56      0.54       662\n",
      "           B       0.71      0.57      0.63       864\n",
      "           C       0.75      0.71      0.73       620\n",
      "           D       0.37      0.42      0.39       490\n",
      "           E       0.68      0.48      0.56       996\n",
      "           F       0.45      0.49      0.47       494\n",
      "           G       0.59      0.54      0.57       696\n",
      "           H       0.78      0.52      0.63       872\n",
      "           I       0.38      0.45      0.41       576\n",
      "           K       0.49      0.46      0.47       662\n",
      "           L       0.48      0.74      0.58       418\n",
      "           M       0.45      0.35      0.39       788\n",
      "           N       0.35      0.40      0.38       582\n",
      "           O       0.52      0.58      0.55       492\n",
      "           P       0.75      0.73      0.74       694\n",
      "           Q       0.45      0.68      0.54       328\n",
      "           R       0.13      0.22      0.16       288\n",
      "           S       0.16      0.19      0.18       492\n",
      "           T       0.32      0.34      0.33       496\n",
      "           U       0.32      0.35      0.33       532\n",
      "           V       0.40      0.25      0.31       692\n",
      "           W       0.32      0.50      0.39       412\n",
      "           X       0.46      0.45      0.45       534\n",
      "           Y       0.55      0.52      0.53       664\n",
      "\n",
      "    accuracy                           0.48     14344\n",
      "   macro avg       0.47      0.48      0.47     14344\n",
      "weighted avg       0.51      0.48      0.49     14344\n",
      "\n"
     ]
    }
   ],
   "source": [
    "# testing logistic regression on test data\n",
    "y_pred_lr_sc = lr.fit(X_train_sc, y_train).predict(X_test_sc)\n",
    "\n",
    "print(f\"Accuracy: {accuracy_score(y_test, y_pred_lr_sc)}\")\n",
    "print(\"Classification report:\")\n",
    "print(classification_report(y_test, y_pred_lr_sc, target_names=letters))\n"
   ]
  },
  {
   "cell_type": "code",
   "execution_count": 112,
   "metadata": {},
   "outputs": [
    {
     "name": "stdout",
     "output_type": "stream",
     "text": [
      "Accuracy: 0.5904449705578826\n",
      "Classification report:\n",
      "              precision    recall  f1-score   support\n",
      "\n",
      "           A       0.63      0.70      0.66      3378\n",
      "           B       0.69      0.72      0.71      3030\n",
      "           C       0.83      0.82      0.82      3432\n",
      "           D       0.52      0.48      0.50      3588\n",
      "           E       0.65      0.62      0.63      2871\n",
      "           F       0.59      0.57      0.58      3612\n",
      "           G       0.70      0.68      0.69      3270\n",
      "           H       0.63      0.58      0.61      3039\n",
      "           I       0.55      0.60      0.57      3486\n",
      "           K       0.58      0.63      0.61      3342\n",
      "           L       0.58      0.66      0.62      3723\n",
      "           M       0.53      0.44      0.48      3165\n",
      "           N       0.55      0.51      0.53      3453\n",
      "           O       0.71      0.70      0.70      3588\n",
      "           P       0.68      0.73      0.70      3264\n",
      "           Q       0.70      0.71      0.71      3837\n",
      "           R       0.46      0.47      0.47      3882\n",
      "           S       0.46      0.47      0.46      3597\n",
      "           T       0.53      0.54      0.54      3558\n",
      "           U       0.51      0.49      0.50      3483\n",
      "           V       0.47      0.38      0.42      3246\n",
      "           W       0.45      0.50      0.47      3675\n",
      "           X       0.56      0.56      0.56      3492\n",
      "           Y       0.62      0.65      0.63      3354\n",
      "\n",
      "    accuracy                           0.59     82365\n",
      "   macro avg       0.59      0.59      0.59     82365\n",
      "weighted avg       0.59      0.59      0.59     82365\n",
      "\n"
     ]
    }
   ],
   "source": [
    "# testing logistic regression on train data\n",
    "y_pred_lr = lr.fit(X_train_sc, y_train).predict(X_train_sc)\n",
    "\n",
    "print(f\"Accuracy: {accuracy_score(y_train, y_pred_lr)}\")\n",
    "print(\"Classification report:\")\n",
    "print(classification_report(y_train, y_pred_lr, target_names=letters))\n"
   ]
  },
  {
   "cell_type": "code",
   "execution_count": 113,
   "metadata": {},
   "outputs": [],
   "source": [
    "#normalized data \n",
    "X_train_norm = X_train/255 \n",
    "X_test_norm = X_test/255"
   ]
  },
  {
   "cell_type": "code",
   "execution_count": 114,
   "metadata": {},
   "outputs": [
    {
     "name": "stdout",
     "output_type": "stream",
     "text": [
      "Accuracy: 0.48884551031790296\n",
      "Classification report:\n",
      "              precision    recall  f1-score   support\n",
      "\n",
      "           A       0.54      0.59      0.56       662\n",
      "           B       0.71      0.58      0.64       864\n",
      "           C       0.76      0.70      0.73       620\n",
      "           D       0.37      0.43      0.40       490\n",
      "           E       0.70      0.50      0.58       996\n",
      "           F       0.44      0.49      0.46       494\n",
      "           G       0.59      0.55      0.57       696\n",
      "           H       0.79      0.53      0.63       872\n",
      "           I       0.39      0.46      0.42       576\n",
      "           K       0.48      0.45      0.47       662\n",
      "           L       0.49      0.77      0.60       418\n",
      "           M       0.47      0.34      0.40       788\n",
      "           N       0.36      0.40      0.38       582\n",
      "           O       0.52      0.58      0.55       492\n",
      "           P       0.76      0.75      0.75       694\n",
      "           Q       0.45      0.68      0.54       328\n",
      "           R       0.13      0.21      0.16       288\n",
      "           S       0.16      0.20      0.18       492\n",
      "           T       0.33      0.35      0.34       496\n",
      "           U       0.32      0.34      0.33       532\n",
      "           V       0.38      0.23      0.29       692\n",
      "           W       0.32      0.50      0.39       412\n",
      "           X       0.46      0.47      0.47       534\n",
      "           Y       0.55      0.53      0.54       664\n",
      "\n",
      "    accuracy                           0.49     14344\n",
      "   macro avg       0.48      0.48      0.47     14344\n",
      "weighted avg       0.51      0.49      0.49     14344\n",
      "\n"
     ]
    }
   ],
   "source": [
    "# applying logistic regression on normalized data\n",
    "y_pred_lr_nm = lr.fit(X_train_norm, y_train).predict(X_test_norm)\n",
    "\n",
    "print(f\"Accuracy: {accuracy_score(y_test, y_pred_lr_nm)}\")\n",
    "print(\"Classification report:\")\n",
    "print(classification_report(y_test, y_pred_lr_nm, target_names=letters))\n"
   ]
  },
  {
   "cell_type": "code",
   "execution_count": 115,
   "metadata": {},
   "outputs": [
    {
     "name": "stdout",
     "output_type": "stream",
     "text": [
      "Accuracy: 0.579639409943544\n",
      "Classification report:\n",
      "              precision    recall  f1-score   support\n",
      "\n",
      "           A       0.62      0.69      0.65      3378\n",
      "           B       0.68      0.72      0.70      3030\n",
      "           C       0.82      0.81      0.81      3432\n",
      "           D       0.51      0.47      0.49      3588\n",
      "           E       0.64      0.60      0.62      2871\n",
      "           F       0.58      0.57      0.57      3612\n",
      "           G       0.70      0.65      0.67      3270\n",
      "           H       0.63      0.58      0.60      3039\n",
      "           I       0.54      0.60      0.57      3486\n",
      "           K       0.57      0.62      0.60      3342\n",
      "           L       0.57      0.66      0.61      3723\n",
      "           M       0.52      0.42      0.46      3165\n",
      "           N       0.54      0.49      0.51      3453\n",
      "           O       0.70      0.69      0.69      3588\n",
      "           P       0.67      0.72      0.69      3264\n",
      "           Q       0.69      0.70      0.69      3837\n",
      "           R       0.44      0.46      0.45      3882\n",
      "           S       0.44      0.46      0.45      3597\n",
      "           T       0.52      0.53      0.53      3558\n",
      "           U       0.50      0.48      0.49      3483\n",
      "           V       0.46      0.36      0.40      3246\n",
      "           W       0.44      0.49      0.46      3675\n",
      "           X       0.56      0.56      0.56      3492\n",
      "           Y       0.61      0.64      0.62      3354\n",
      "\n",
      "    accuracy                           0.58     82365\n",
      "   macro avg       0.58      0.58      0.58     82365\n",
      "weighted avg       0.58      0.58      0.58     82365\n",
      "\n"
     ]
    }
   ],
   "source": [
    "# applying logistic regression on normalized data\n",
    "y_pred_lr_nm = lr.fit(X_train_norm, y_train).predict(X_train_norm)\n",
    "\n",
    "print(f\"Accuracy: {accuracy_score(y_train, y_pred_lr_nm)}\")\n",
    "print(\"Classification report:\")\n",
    "print(classification_report(y_train, y_pred_lr_nm, target_names=letters))\n"
   ]
  },
  {
   "cell_type": "code",
   "execution_count": null,
   "metadata": {},
   "outputs": [],
   "source": []
  }
 ],
 "metadata": {
  "kernelspec": {
   "display_name": "sign_language_interpreter",
   "language": "python",
   "name": "python3"
  },
  "language_info": {
   "codemirror_mode": {
    "name": "ipython",
    "version": 3
   },
   "file_extension": ".py",
   "mimetype": "text/x-python",
   "name": "python",
   "nbconvert_exporter": "python",
   "pygments_lexer": "ipython3",
   "version": "3.9.16"
  },
  "orig_nbformat": 4
 },
 "nbformat": 4,
 "nbformat_minor": 2
}
