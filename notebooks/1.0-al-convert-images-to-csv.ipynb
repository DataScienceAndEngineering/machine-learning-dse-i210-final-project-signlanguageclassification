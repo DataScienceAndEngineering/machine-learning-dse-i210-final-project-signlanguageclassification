{
 "cells": [
  {
   "attachments": {},
   "cell_type": "markdown",
   "metadata": {},
   "source": [
    "### Image to CSV Converter "
   ]
  },
  {
   "attachments": {},
   "cell_type": "markdown",
   "metadata": {},
   "source": [
    "Importing Required Libaries"
   ]
  },
  {
   "cell_type": "code",
   "execution_count": 5,
   "metadata": {},
   "outputs": [],
   "source": [
    "#libaries\n",
    "import os\n",
    "import matplotlib.pyplot as plt \n",
    "import numpy as np\n",
    "import re \n",
    "from tqdm import tqdm \n",
    "import zipfile \n",
    "import csv"
   ]
  },
  {
   "attachments": {},
   "cell_type": "markdown",
   "metadata": {},
   "source": [
    "Below function creates many csv files, instead of one file. Combining many csv files into one as a separate step is slow. "
   ]
  },
  {
   "cell_type": "code",
   "execution_count": 4,
   "metadata": {},
   "outputs": [],
   "source": [
    "#define function for converting images\n",
    "def convert_img(input_filepath, output_filepath):\n",
    "\n",
    "    #define labels to int mapping for non-character labels \n",
    "    special_labels = {'space':0,'nothing':1,'del':2}\n",
    "    #define count for file names \n",
    "    count = 0\n",
    "    #open zip file\n",
    "    with zipfile.ZipFile(input_filepath) as z:\n",
    "        #loop through zip file \n",
    "        for filename in tqdm(z.namelist()):\n",
    "            if not os.path.isdir(filename):\n",
    "                #open file\n",
    "                with z.open(filename) as f:\n",
    "                    #check if image\n",
    "                    if '.jpg' not in filename or '__MACOSX' in filename:\n",
    "                        continue\n",
    "                    #reading image\n",
    "                    image = plt.imread(f)\n",
    "                    #flattening image\n",
    "                    if image.shape[2]==3:\n",
    "                        image = image.reshape(-1)\n",
    "                    #getting label from file name                     \n",
    "                    label = re.search('^(.*?)[^a-zA-Z]',filename.split('/')[1]).group(0)[:-1]\n",
    "                    #covert labels into int \n",
    "                    if len(label) == 1:\n",
    "                        label = ord(label)\n",
    "                    else:\n",
    "                        label = special_labels[label]\n",
    "                    #combining flattened image and label \n",
    "                    image = np.append(image,label)\n",
    "                    #saving into csv file\n",
    "                    image = image.reshape(1, image.shape[0])\n",
    "                    count +=1\n",
    "                    np.savetxt(output_filepath+str(count)+'.csv',image,delimiter=',')"
   ]
  },
  {
   "attachments": {},
   "cell_type": "markdown",
   "metadata": {},
   "source": [
    "Adjusting function so that it opens a csv file and appends a new row. However, it is not writing as a comma separated list, so need to adjust the formatting. "
   ]
  },
  {
   "cell_type": "code",
   "execution_count": null,
   "metadata": {},
   "outputs": [],
   "source": [
    "#define function for converting images\n",
    "def convert_img(input_filepath, output_filepath):\n",
    "    count=0\n",
    "    #define labels to int mapping for non-character labels \n",
    "    special_labels = {'space':0,'nothing':1,'del':2}\n",
    "    #open zip file\n",
    "    with zipfile.ZipFile(input_filepath) as z:\n",
    "        #loop through zip file \n",
    "        for filename in tqdm(z.namelist()):\n",
    "            if not os.path.isdir(filename):\n",
    "                #open file\n",
    "                with z.open(filename) as f:\n",
    "                    #check if image\n",
    "                    if '.jpg' not in filename or '__MACOSX' in filename:\n",
    "                        continue\n",
    "                    #reading image\n",
    "                    image = plt.imread(f)\n",
    "                    #flattening image\n",
    "                    if image.shape[2]==3:\n",
    "                        image = image.reshape(-1)\n",
    "                    #getting label from file name                     \n",
    "                    label = filename.split('/')[1]\n",
    "                    #covert labels into int \n",
    "                    if len(label) == 1:\n",
    "                        label = ord(label)\n",
    "                    else:\n",
    "                        label = special_labels[label]\n",
    "                    #combining flattened image and label \n",
    "                    image = np.append(image,label)\n",
    "                    #saving into csv file\n",
    "                    image = image.reshape(1, image.shape[0])\n",
    "                    #save array to csv file\n",
    "                    with open(output_filepath, 'a', newline='') as f:\n",
    "                        writer = csv.writer(f)\n",
    "                        writer.writerow(image)\n",
    "                        count+=1\n",
    "                        print(f'added images {count}')\n",
    "                        "
   ]
  },
  {
   "attachments": {},
   "cell_type": "markdown",
   "metadata": {},
   "source": [
    "Discussed on team meeting. Decision is to use different dataset to circumvent the requirement of looping through folders and working with large resolution images. "
   ]
  }
 ],
 "metadata": {
  "kernelspec": {
   "display_name": "sign_language_interpreter",
   "language": "python",
   "name": "python3"
  },
  "language_info": {
   "codemirror_mode": {
    "name": "ipython",
    "version": 3
   },
   "file_extension": ".py",
   "mimetype": "text/x-python",
   "name": "python",
   "nbconvert_exporter": "python",
   "pygments_lexer": "ipython3",
   "version": "3.9.16"
  },
  "orig_nbformat": 4
 },
 "nbformat": 4,
 "nbformat_minor": 2
}
