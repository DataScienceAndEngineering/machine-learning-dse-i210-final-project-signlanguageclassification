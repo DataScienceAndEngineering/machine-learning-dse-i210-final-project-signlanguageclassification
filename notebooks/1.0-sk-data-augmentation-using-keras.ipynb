{
 "cells": [
  {
   "cell_type": "code",
   "execution_count": 1,
   "id": "ddfd685a",
   "metadata": {},
   "outputs": [],
   "source": [
    "#importing libraries"
   ]
  },
  {
   "cell_type": "code",
   "execution_count": 33,
   "id": "daa67a56",
   "metadata": {},
   "outputs": [],
   "source": [
    "# import tensorflow as tf\n",
    "import numpy as np\n",
    "import pickle\n",
    "from keras.preprocessing.image import ImageDataGenerator"
   ]
  },
  {
   "cell_type": "code",
   "execution_count": 34,
   "id": "cecc788b",
   "metadata": {},
   "outputs": [],
   "source": [
    "#path to csv data \n",
    "path_train = '../data/external/sign_mnist_train.csv'\n",
    "path_test = '../data/external/sign_mnist_test.csv'\n",
    "\n",
    "#define image resolution \n",
    "res = (28,28)"
   ]
  },
  {
   "cell_type": "code",
   "execution_count": 35,
   "id": "32c8e2a0",
   "metadata": {},
   "outputs": [],
   "source": [
    "#convert csv to numpy \n",
    "train = np.loadtxt(path_train, delimiter=',', skiprows=1)\n",
    "test = np.loadtxt(path_test, delimiter=',', skiprows=1)"
   ]
  },
  {
   "cell_type": "code",
   "execution_count": 36,
   "id": "1d158143",
   "metadata": {},
   "outputs": [],
   "source": [
    "#training data\n",
    "X_train = train[:,1:]\n",
    "y_train = train[:,0]\n",
    "\n",
    "#testing data \n",
    "X_test = test[:,1:]\n",
    "y_test = test[:,0]"
   ]
  },
  {
   "cell_type": "code",
   "execution_count": 37,
   "id": "e8ed1013",
   "metadata": {},
   "outputs": [],
   "source": [
    "#reshape to image \n",
    "X_train = X_train.reshape(X_train.shape[0],28,28)\n",
    "X_test = X_test.reshape(X_test.shape[0],28,28)"
   ]
  },
  {
   "cell_type": "code",
   "execution_count": 38,
   "id": "349d4330",
   "metadata": {},
   "outputs": [],
   "source": [
    "data = (X_train,y_train,X_test,y_test)"
   ]
  },
  {
   "cell_type": "code",
   "execution_count": 39,
   "id": "716d519e",
   "metadata": {},
   "outputs": [],
   "source": [
    "with open('../data/external/sign_data.pkl','wb') as f:\n",
    "    pickle.dump(data, f)"
   ]
  },
  {
   "cell_type": "code",
   "execution_count": 40,
   "id": "388e3897",
   "metadata": {},
   "outputs": [],
   "source": [
    "with open('../data/external/sign_data.pkl','rb') as f:\n",
    "    X_train,y_train,X_test,y_test = pickle.load(f)"
   ]
  },
  {
   "cell_type": "code",
   "execution_count": 41,
   "id": "f66995c4",
   "metadata": {},
   "outputs": [
    {
     "name": "stdout",
     "output_type": "stream",
     "text": [
      "X_train shape: (27455, 28, 28)\n",
      "y_train shape: (27455,)\n",
      "X_test shape: (7172, 28, 28)\n",
      "y_test shape: (7172,)\n"
     ]
    }
   ],
   "source": [
    "#Shape of training and testing data\n",
    "print(f'X_train shape: {X_train.shape}')\n",
    "print(f'y_train shape: {y_train.shape}')\n",
    "print(f'X_test shape: {X_test.shape}')\n",
    "print(f'y_test shape: {y_test.shape}')"
   ]
  },
  {
   "cell_type": "code",
   "execution_count": 42,
   "id": "dd5ea005",
   "metadata": {},
   "outputs": [
    {
     "data": {
      "image/png": "[encoded data removed]",
      "text/plain": [
       "<Figure size 640x480 with 1 Axes>"
      ]
     },
     "metadata": {},
     "output_type": "display_data"
    }
   ],
   "source": [
    "#visualization\n",
    "import matplotlib.pyplot as plt\n",
    "plt.imshow(X_train[3]);"
   ]
  },
  {
   "cell_type": "code",
   "execution_count": 43,
   "id": "e06b86c9",
   "metadata": {},
   "outputs": [],
   "source": [
    "# Define data augmentation parameters\n",
    "datagen = ImageDataGenerator(\n",
    "    rotation_range=20,\n",
    "    width_shift_range=0.1,\n",
    "    height_shift_range=0.1,\n",
    "    shear_range=0.2,\n",
    "    zoom_range=0.2,\n",
    "    horizontal_flip=False,\n",
    "    vertical_flip=False,\n",
    "    fill_mode='nearest'\n",
    ")"
   ]
  },
  {
   "cell_type": "code",
   "execution_count": 44,
   "id": "bf8b6b08",
   "metadata": {},
   "outputs": [],
   "source": [
    "# Reshape input numpy array to (27455, 28, 28, 1) for use with Keras data generator\n",
    "x_train = np.reshape(X_train , (X_train.shape[0], 28, 28, 1))"
   ]
  },
  {
   "cell_type": "code",
   "execution_count": 45,
   "id": "8a4bc6e4",
   "metadata": {},
   "outputs": [],
   "source": [
    "#Fit the data generator to the input numpy array\n",
    "datagen.fit(x_train)"
   ]
  },
  {
   "cell_type": "code",
   "execution_count": 46,
   "id": "686adc02",
   "metadata": {},
   "outputs": [],
   "source": [
    "#generate augmented images\n",
    "augmented_images = datagen.flow(x_train, batch_size=x_train.shape[0], shuffle=False)"
   ]
  },
  {
   "cell_type": "code",
   "execution_count": 51,
   "id": "600045b8",
   "metadata": {},
   "outputs": [
    {
     "data": {
      "text/plain": [
       "(28, 28)"
      ]
     },
     "execution_count": 51,
     "metadata": {},
     "output_type": "execute_result"
    }
   ],
   "source": [
    "#shape of augmented image\n",
    "augmented_images[0].shape"
   ]
  },
  {
   "cell_type": "code",
   "execution_count": 48,
   "id": "7af14502",
   "metadata": {},
   "outputs": [],
   "source": [
    "#reshape augmented images back to (27455, 28, 28) numpy array\n",
    "augmented_images = np.reshape(augmented_images[0], (27455, 28, 28))"
   ]
  },
  {
   "cell_type": "code",
   "execution_count": 49,
   "id": "e0ffc2a3",
   "metadata": {},
   "outputs": [
    {
     "data": {
      "text/plain": [
       "(27455, 28, 28)"
      ]
     },
     "execution_count": 49,
     "metadata": {},
     "output_type": "execute_result"
    }
   ],
   "source": [
    "#checking shape of augmented image\n",
    "augmented_images.shape"
   ]
  },
  {
   "cell_type": "code",
   "execution_count": 50,
   "id": "5a25a2e6",
   "metadata": {},
   "outputs": [
    {
     "data": {
      "image/png": "[encoded data removed]",
      "text/plain": [
       "<Figure size 640x480 with 1 Axes>"
      ]
     },
     "metadata": {},
     "output_type": "display_data"
    }
   ],
   "source": [
    "#visualization of augmented data\n",
    "import matplotlib.pyplot as plt\n",
    "plt.imshow(augmented_images[2]);"
   ]
  },
  {
   "cell_type": "code",
   "execution_count": 57,
   "id": "63e66909",
   "metadata": {},
   "outputs": [],
   "source": [
    "#combining the X-train and Y-train \n",
    "data=(augmented_images,y_train)"
   ]
  },
  {
   "cell_type": "code",
   "execution_count": 60,
   "id": "669157a9",
   "metadata": {},
   "outputs": [],
   "source": [
    "#dumping data into pickle file\n",
    "with open('../data/external/augmented_data.pkl','wb') as f:\n",
    "    pickle.dump(data, f)"
   ]
  },
  {
   "cell_type": "code",
   "execution_count": 66,
   "id": "52d32b3d",
   "metadata": {},
   "outputs": [],
   "source": [
    "#load the pickle file\n",
    "with open('../data/external/augmented_data.pkl','rb') as f:\n",
    "    X_aug_train,y_aug_train = pickle.load(f)"
   ]
  },
  {
   "cell_type": "code",
   "execution_count": 67,
   "id": "95c171cf",
   "metadata": {},
   "outputs": [
    {
     "name": "stdout",
     "output_type": "stream",
     "text": [
      "X_aug_train shape: (27455, 28, 28)\n",
      "y_aug_train shape: (27455,)\n"
     ]
    }
   ],
   "source": [
    "print(f'X_aug_train shape: {X_aug_train.shape}')\n",
    "print(f'y_aug_train shape: {y_aug_train.shape}')"
   ]
  },
  {
   "cell_type": "code",
   "execution_count": null,
   "id": "4d4348ad",
   "metadata": {},
   "outputs": [],
   "source": []
  }
 ],
 "metadata": {
  "kernelspec": {
   "display_name": "Python 3 (ipykernel)",
   "language": "python",
   "name": "python3"
  },
  "language_info": {
   "codemirror_mode": {
    "name": "ipython",
    "version": 3
   },
   "file_extension": ".py",
   "mimetype": "text/x-python",
   "name": "python",
   "nbconvert_exporter": "python",
   "pygments_lexer": "ipython3",
   "version": "3.10.11"
  }
 },
 "nbformat": 4,
 "nbformat_minor": 5
}
