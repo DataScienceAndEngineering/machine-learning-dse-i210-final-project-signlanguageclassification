{
 "cells": [
  {
   "cell_type": "code",
   "execution_count": 1,
   "id": "ddfd685a",
   "metadata": {},
   "outputs": [],
   "source": [
    "#importing libraries"
   ]
  },
  {
   "cell_type": "code",
   "execution_count": 2,
   "id": "daa67a56",
   "metadata": {},
   "outputs": [],
   "source": [
    "# import tensorflow as tf\n",
    "import numpy as np\n",
    "import pickle\n",
    "from keras.preprocessing.image import ImageDataGenerator"
   ]
  },
  {
   "cell_type": "code",
   "execution_count": 3,
   "id": "cecc788b",
   "metadata": {},
   "outputs": [],
   "source": [
    "#path to csv data \n",
    "path_train = '../data/external/sign_mnist_train.csv'\n",
    "path_test = '../data/external/sign_mnist_test.csv'\n",
    "\n",
    "#define image resolution \n",
    "res = (28,28)"
   ]
  },
  {
   "cell_type": "code",
   "execution_count": 4,
   "id": "32c8e2a0",
   "metadata": {},
   "outputs": [],
   "source": [
    "#convert csv to numpy \n",
    "train = np.loadtxt(path_train, delimiter=',', skiprows=1)\n",
    "test = np.loadtxt(path_test, delimiter=',', skiprows=1)"
   ]
  },
  {
   "cell_type": "code",
   "execution_count": 5,
   "id": "1d158143",
   "metadata": {},
   "outputs": [],
   "source": [
    "#training data\n",
    "X_train = train[:,1:]\n",
    "y_train = train[:,0]\n",
    "\n",
    "#testing data \n",
    "X_test = test[:,1:]\n",
    "y_test = test[:,0]"
   ]
  },
  {
   "cell_type": "code",
   "execution_count": 6,
   "id": "e8ed1013",
   "metadata": {},
   "outputs": [],
   "source": [
    "#reshape to image \n",
    "X_train = X_train.reshape(X_train.shape[0],28,28)\n",
    "X_test = X_test.reshape(X_test.shape[0],28,28)"
   ]
  },
  {
   "cell_type": "code",
   "execution_count": 7,
   "id": "349d4330",
   "metadata": {},
   "outputs": [],
   "source": [
    "data = (X_train,y_train,X_test,y_test)"
   ]
  },
  {
   "cell_type": "code",
   "execution_count": 8,
   "id": "716d519e",
   "metadata": {},
   "outputs": [],
   "source": [
    "with open('../data/external/sign_data.pkl','wb') as f:\n",
    "    pickle.dump(data, f)"
   ]
  },
  {
   "cell_type": "code",
   "execution_count": 9,
   "id": "388e3897",
   "metadata": {},
   "outputs": [],
   "source": [
    "with open('../data/external/sign_data.pkl','rb') as f:\n",
    "    X_train,y_train,X_test,y_test = pickle.load(f)"
   ]
  },
  {
   "cell_type": "code",
   "execution_count": 10,
   "id": "f66995c4",
   "metadata": {},
   "outputs": [
    {
     "name": "stdout",
     "output_type": "stream",
     "text": [
      "X_train shape: (27455, 28, 28)\n",
      "y_train shape: (27455,)\n",
      "X_test shape: (7172, 28, 28)\n",
      "y_test shape: (7172,)\n"
     ]
    }
   ],
   "source": [
    "#Shape of training and testing data\n",
    "print(f'X_train shape: {X_train.shape}')\n",
    "print(f'y_train shape: {y_train.shape}')\n",
    "print(f'X_test shape: {X_test.shape}')\n",
    "print(f'y_test shape: {y_test.shape}')"
   ]
  },
  {
   "cell_type": "code",
   "execution_count": 11,
   "id": "dd5ea005",
   "metadata": {},
   "outputs": [
    {
     "data": {
      "image/png": "[encoded data removed]",
      "text/plain": [
       "<Figure size 640x480 with 1 Axes>"
      ]
     },
     "metadata": {},
     "output_type": "display_data"
    }
   ],
   "source": [
    "#visualization\n",
    "import matplotlib.pyplot as plt\n",
    "plt.imshow(X_train[3]);"
   ]
  },
  {
   "cell_type": "code",
   "execution_count": 31,
   "id": "e06b86c9",
   "metadata": {},
   "outputs": [],
   "source": [
    "# Define data augmentation parameters\n",
    "datagen = ImageDataGenerator(\n",
    "    rotation_range=20,\n",
    "    width_shift_range=0.1,\n",
    "    height_shift_range=0.1,\n",
    "    shear_range=0.2,\n",
    "    zoom_range=0.2,\n",
    "    horizontal_flip=False,\n",
    "    vertical_flip=False,\n",
    "    fill_mode='nearest'\n",
    ")"
   ]
  },
  {
   "cell_type": "code",
   "execution_count": 34,
   "id": "bf8b6b08",
   "metadata": {},
   "outputs": [],
   "source": [
    "# Reshape input numpy array to (27455, 28, 28, 1) for use with Keras data generator\n",
    "x_train = np.reshape(X_train , (X_train.shape[0], 28, 28, 1))"
   ]
  },
  {
   "cell_type": "code",
   "execution_count": 35,
   "id": "5d0370a7",
   "metadata": {},
   "outputs": [],
   "source": [
    "# Reshape input numpy array to (27455, 28, 28, 1) for use with Keras data generator\n",
    "x_test = np.reshape(X_test , (X_test.shape[0], 28, 28, 1))"
   ]
  },
  {
   "cell_type": "code",
   "execution_count": 36,
   "id": "8a4bc6e4",
   "metadata": {},
   "outputs": [],
   "source": [
    "#Fit the train data generator to the input numpy array\n",
    "datagen.fit(x_train)"
   ]
  },
  {
   "cell_type": "code",
   "execution_count": 37,
   "id": "a8feddb5",
   "metadata": {},
   "outputs": [],
   "source": [
    "#Fit the test data generator to the input numpy array\n",
    "datagen.fit(x_test)"
   ]
  },
  {
   "cell_type": "code",
   "execution_count": 46,
   "id": "686adc02",
   "metadata": {},
   "outputs": [],
   "source": [
    "#generate augmented images\n",
    "augmented_train_images = datagen.flow(x_train, batch_size=x_train.shape[0], shuffle=False)"
   ]
  },
  {
   "cell_type": "code",
   "execution_count": 47,
   "id": "9565fd8e",
   "metadata": {},
   "outputs": [],
   "source": [
    "#generate augmented images\n",
    "augmented_test_images = datagen.flow(x_test, batch_size=x_test.shape[0], shuffle=False)"
   ]
  },
  {
   "cell_type": "code",
   "execution_count": 48,
   "id": "600045b8",
   "metadata": {},
   "outputs": [
    {
     "data": {
      "text/plain": [
       "(27455, 28, 28, 1)"
      ]
     },
     "execution_count": 48,
     "metadata": {},
     "output_type": "execute_result"
    }
   ],
   "source": [
    "#shape of augmented train image\n",
    "augmented_train_images[0].shape"
   ]
  },
  {
   "cell_type": "code",
   "execution_count": 49,
   "id": "3d287b20",
   "metadata": {},
   "outputs": [
    {
     "data": {
      "text/plain": [
       "(7172, 28, 28, 1)"
      ]
     },
     "execution_count": 49,
     "metadata": {},
     "output_type": "execute_result"
    }
   ],
   "source": [
    "#shape of augmented test image\n",
    "augmented_test_images[0].shape"
   ]
  },
  {
   "cell_type": "code",
   "execution_count": 51,
   "id": "7af14502",
   "metadata": {},
   "outputs": [],
   "source": [
    "#reshape augmented images back to (27455, 28, 28) numpy array\n",
    "augmented_train_array = np.reshape(augmented_train_images[0], (augmented_train_images[0].shape[0], 28, 28))"
   ]
  },
  {
   "cell_type": "code",
   "execution_count": 52,
   "id": "66d5c82c",
   "metadata": {},
   "outputs": [],
   "source": [
    "augmented_test_array = np.reshape(augmented_test_images[0], (augmented_test_images[0].shape[0], 28, 28))"
   ]
  },
  {
   "cell_type": "code",
   "execution_count": 55,
   "id": "e0ffc2a3",
   "metadata": {},
   "outputs": [
    {
     "data": {
      "text/plain": [
       "(7172, 28, 28)"
      ]
     },
     "execution_count": 55,
     "metadata": {},
     "output_type": "execute_result"
    }
   ],
   "source": [
    "#checking shape of augmented image\n",
    "augmented_train_array.shape\n",
    "augmented_test_array.shape"
   ]
  },
  {
   "cell_type": "code",
   "execution_count": 56,
   "id": "5a25a2e6",
   "metadata": {},
   "outputs": [
    {
     "data": {
      "image/png": "[encoded data removed]",
      "text/plain": [
       "<Figure size 640x480 with 1 Axes>"
      ]
     },
     "metadata": {},
     "output_type": "display_data"
    }
   ],
   "source": [
    "#visualization of augmented data\n",
    "import matplotlib.pyplot as plt\n",
    "plt.imshow(augmented_test_array[2]);"
   ]
  },
  {
   "cell_type": "code",
   "execution_count": 57,
   "id": "63e66909",
   "metadata": {},
   "outputs": [],
   "source": [
    "#combining the X-train and Y-train \n",
    "data=(augmented_train_array, y_train ,augmented_test_array,y_test)"
   ]
  },
  {
   "cell_type": "code",
   "execution_count": 59,
   "id": "669157a9",
   "metadata": {},
   "outputs": [],
   "source": [
    "#dumping data into pickle file\n",
    "with open('../data/external/augmented_data.pkl','wb') as f:\n",
    "    pickle.dump(data, f)"
   ]
  },
  {
   "cell_type": "code",
   "execution_count": 61,
   "id": "52d32b3d",
   "metadata": {},
   "outputs": [],
   "source": [
    "#load the pickle file\n",
    "with open('../data/external/augmented_data.pkl','rb') as f:\n",
    "    X_aug_train,y_aug_train, X_aug_test , y_aug_test = pickle.load(f)"
   ]
  },
  {
   "cell_type": "code",
   "execution_count": 63,
   "id": "95c171cf",
   "metadata": {},
   "outputs": [
    {
     "name": "stdout",
     "output_type": "stream",
     "text": [
      "X_aug_train shape: (27455, 28, 28)\n",
      "y_aug_train shape: (27455,)\n",
      "X_aug_test shape: (7172, 28, 28)\n",
      "y_aug_test shape: (7172,)\n"
     ]
    }
   ],
   "source": [
    "print(f'X_aug_train shape: {X_aug_train.shape}')\n",
    "print(f'y_aug_train shape: {y_aug_train.shape}')\n",
    "print(f'X_aug_test shape: {X_aug_test.shape}')\n",
    "print(f'y_aug_test shape: {y_aug_test.shape}')"
   ]
  },
  {
   "cell_type": "code",
   "execution_count": 64,
   "id": "4d4348ad",
   "metadata": {},
   "outputs": [
    {
     "name": "stdout",
     "output_type": "stream",
     "text": [
      "Shape of combined array: (54910, 28, 28)\n"
     ]
    }
   ],
   "source": [
    "# Concatenate the arrays along the first axis (i.e., row-wise)\n",
    "X_train_combined = np.concatenate((X_aug_train, X_train), axis=0)\n",
    "y_train_combined = np.concatenate((y_aug_train, y_train), axis=0)\n",
    "\n",
    "X_test_combined = np.concatenate((X_aug_test, X_test), axis=0)\n",
    "y_test_combined = np.concatenate((y_aug_test, y_test), axis=0)\n",
    "\n",
    "\n",
    "\n",
    "# Print the shape of the combined array\n",
    "print(\"Shape of combined array:\", X_train_combined.shape)"
   ]
  },
  {
   "cell_type": "code",
   "execution_count": 70,
   "id": "79e7b165",
   "metadata": {},
   "outputs": [],
   "source": [
    "#combining augmented data\n",
    "combined_augmented_data=(X_train_combined, y_train_combined ,X_test_combined,y_test_combined)"
   ]
  },
  {
   "cell_type": "code",
   "execution_count": 71,
   "id": "ba60e1ee",
   "metadata": {},
   "outputs": [],
   "source": [
    "#dumping data into pickle file\n",
    "with open('../data/external/combined_augmented_data.pkl','wb') as f:\n",
    "    pickle.dump(combined_augmented_data, f)"
   ]
  },
  {
   "cell_type": "code",
   "execution_count": null,
   "id": "9bb75cbb",
   "metadata": {},
   "outputs": [],
   "source": []
  }
 ],
 "metadata": {
  "kernelspec": {
   "display_name": "Python 3 (ipykernel)",
   "language": "python",
   "name": "python3"
  },
  "language_info": {
   "codemirror_mode": {
    "name": "ipython",
    "version": 3
   },
   "file_extension": ".py",
   "mimetype": "text/x-python",
   "name": "python",
   "nbconvert_exporter": "python",
   "pygments_lexer": "ipython3",
   "version": "3.10.11"
  }
 },
 "nbformat": 4,
 "nbformat_minor": 5
}
