{
 "cells": [
  {
   "cell_type": "code",
   "execution_count": 1,
   "id": "ddfd685a",
   "metadata": {},
   "outputs": [],
   "source": [
    "#importing libraries"
   ]
  },
  {
   "cell_type": "code",
   "execution_count": 2,
   "id": "daa67a56",
   "metadata": {},
   "outputs": [],
   "source": [
    "# import tensorflow as tf\n",
    "import numpy as np\n",
    "import pickle"
   ]
  },
  {
   "cell_type": "code",
   "execution_count": 3,
   "id": "cecc788b",
   "metadata": {},
   "outputs": [],
   "source": [
    "#path to csv data \n",
    "path_train = '../data/external/sign_mnist_train.csv'\n",
    "path_test = '../data/external/sign_mnist_test.csv'\n",
    "\n",
    "#define image resolution \n",
    "res = (28,28)"
   ]
  },
  {
   "cell_type": "code",
   "execution_count": 4,
   "id": "08560ca3",
   "metadata": {},
   "outputs": [],
   "source": [
    "#convert csv to numpy \n",
    "train = np.loadtxt(path_train, delimiter=',', skiprows=1)\n",
    "test = np.loadtxt(path_test, delimiter=',', skiprows=1)"
   ]
  },
  {
   "cell_type": "code",
   "execution_count": 5,
   "id": "b18cd3a6",
   "metadata": {},
   "outputs": [],
   "source": [
    "#training data\n",
    "X_train = train[:,1:]\n",
    "y_train = train[:,0]\n",
    "\n",
    "#testing data \n",
    "X_test = test[:,1:]\n",
    "y_test = test[:,0]"
   ]
  },
  {
   "cell_type": "code",
   "execution_count": 6,
   "id": "0347d6e8",
   "metadata": {},
   "outputs": [],
   "source": [
    "#reshape to image \n",
    "X_train = X_train.reshape(X_train.shape[0],28,28)\n",
    "X_test = X_test.reshape(X_test.shape[0],28,28)"
   ]
  },
  {
   "cell_type": "code",
   "execution_count": 7,
   "id": "22f45782",
   "metadata": {},
   "outputs": [],
   "source": [
    "data = (X_train,y_train,X_test,y_test)"
   ]
  },
  {
   "cell_type": "code",
   "execution_count": 8,
   "id": "ddf75c17",
   "metadata": {},
   "outputs": [],
   "source": [
    "with open('../data/external/sign_data.pkl','wb') as f:\n",
    "    pickle.dump(data, f)"
   ]
  },
  {
   "cell_type": "code",
   "execution_count": 9,
   "id": "2c254280",
   "metadata": {},
   "outputs": [],
   "source": [
    "with open('../data/external/sign_data.pkl','rb') as f:\n",
    "    X_train,y_train,X_test,y_test = pickle.load(f)"
   ]
  },
  {
   "cell_type": "code",
   "execution_count": null,
   "id": "2346bbc4",
   "metadata": {},
   "outputs": [],
   "source": []
  },
  {
   "cell_type": "code",
   "execution_count": null,
   "id": "eb4355d0",
   "metadata": {},
   "outputs": [],
   "source": []
  },
  {
   "cell_type": "code",
   "execution_count": null,
   "id": "2c1a7967",
   "metadata": {},
   "outputs": [],
   "source": []
  },
  {
   "cell_type": "code",
   "execution_count": null,
   "id": "ae6be8d5",
   "metadata": {},
   "outputs": [],
   "source": []
  },
  {
   "cell_type": "code",
   "execution_count": null,
   "id": "fb58de09",
   "metadata": {},
   "outputs": [],
   "source": []
  }
 ],
 "metadata": {
  "kernelspec": {
   "display_name": "Python 3 (ipykernel)",
   "language": "python",
   "name": "python3"
  },
  "language_info": {
   "codemirror_mode": {
    "name": "ipython",
    "version": 3
   },
   "file_extension": ".py",
   "mimetype": "text/x-python",
   "name": "python",
   "nbconvert_exporter": "python",
   "pygments_lexer": "ipython3",
   "version": "3.10.11"
  }
 },
 "nbformat": 4,
 "nbformat_minor": 5
}
