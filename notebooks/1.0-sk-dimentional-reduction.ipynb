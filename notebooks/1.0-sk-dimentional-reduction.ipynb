{
 "cells": [
  {
   "cell_type": "code",
   "execution_count": null,
   "id": "a9543f09",
   "metadata": {},
   "outputs": [],
   "source": [
    "#libraries\n",
    "import pandas as pd\n",
    "import numpy as np\n",
    "import matplotlib.pyplot as plt\n",
    "import cv2\n",
    "from sklearn.preprocessing import StandardScaler\n",
    "from tqdm import tqdm\n",
    "from sklearn.naive_bayes import GaussianNB\n",
    "from sklearn.linear_model import LogisticRegression\n",
    "from sklearn.metrics import accuracy_score, classification_report\n",
    "from sklearn.pipeline import Pipeline\n",
    "from sklearn.manifold import TSNE\n",
    "import matplotlib.pyplot as plt\n",
    "import numpy as np\n",
    "import seaborn as sns"
   ]
  },
  {
   "cell_type": "code",
   "execution_count": null,
   "id": "19324ad5",
   "metadata": {},
   "outputs": [],
   "source": [
    "#define relative path to dataset\n",
    "path_train = '../data/external/sign_mnist_train.csv'\n",
    "path_test = '../data/external/sign_mnist_test.csv'\n",
    "\n",
    "#define image resolution \n",
    "res = (28,28)"
   ]
  },
  {
   "cell_type": "code",
   "execution_count": null,
   "id": "3f9ef939",
   "metadata": {},
   "outputs": [],
   "source": [
    "#saving data into pandas dataframes \n",
    "train = pd.read_csv(path_train)\n",
    "test = pd.read_csv(path_test)"
   ]
  },
  {
   "cell_type": "code",
   "execution_count": null,
   "id": "df8a260b",
   "metadata": {},
   "outputs": [],
   "source": [
    "#printing shape\n",
    "print(f'Train Shape:{train.shape}')\n",
    "print(f'Test Shape:{test.shape}')"
   ]
  },
  {
   "cell_type": "code",
   "execution_count": null,
   "id": "3ae515a7",
   "metadata": {},
   "outputs": [],
   "source": [
    "#training data \n",
    "X_train = train.iloc[:,1:]\n",
    "y_train = train.iloc[:,0]\n",
    "\n",
    "#testing data\n",
    "X_test = test.iloc[:,1:]\n",
    "y_test = test.iloc[:,0]"
   ]
  },
  {
   "cell_type": "code",
   "execution_count": null,
   "id": "55f186d9",
   "metadata": {},
   "outputs": [],
   "source": [
    "\n",
    "#fuction to find the indices given a label \n",
    "def find_indices(data,label):\n",
    "    #check if data is numpy array\n",
    "    if type(data) == np.ndarray:\n",
    "        #return indices\n",
    "        return np.where(data==label)\n",
    "    #check if data is pandas series \n",
    "    elif type(data) == pd.Series:\n",
    "        #return indices\n",
    "        return data[data==label].index\n",
    "    #else not supported in this function\n",
    "    else:\n",
    "        raise Exception('Not supported data type for this function.')\n",
    "     "
   ]
  },
  {
   "cell_type": "code",
   "execution_count": null,
   "id": "d0daa9cb",
   "metadata": {},
   "outputs": [],
   "source": [
    "\n",
    "#letters\n",
    "letters = ['A','B','C','D','E','F','G','H','I','K','L','M','N','O','P','Q','R','S','T','U','V','W','X','Y']\n",
    "#numbers \n",
    "numbers = sorted(list(y_train.unique()))\n",
    "#dictionary of labels \n",
    "labels = dict(zip(numbers,letters))"
   ]
  },
  {
   "cell_type": "code",
   "execution_count": null,
   "id": "074aeb12",
   "metadata": {},
   "outputs": [],
   "source": [
    "\n",
    "#fuction to find the indices given a label \n",
    "def find_indices(data,label):\n",
    "    #check if data is numpy array\n",
    "    if type(data) == np.ndarray:\n",
    "        #return indices\n",
    "        return np.where(data==label)\n",
    "    #check if data is pandas series \n",
    "    elif type(data) == pd.Series:\n",
    "        #return indices\n",
    "        return data[data==label].index\n",
    "    #else not supported in this function\n",
    "    else:\n",
    "        raise Exception('Not supported data type for this function.')"
   ]
  },
  {
   "cell_type": "code",
   "execution_count": null,
   "id": "98fe3ef9",
   "metadata": {},
   "outputs": [],
   "source": [
    "#standardized data \n",
    "#using sklearn standard scaler model and fitting on training data \n",
    "sc = StandardScaler().fit(X_train)\n",
    "X_train_sc = sc.transform(X_train)\n",
    "X_test_sc = sc.transform(X_test)"
   ]
  },
  {
   "cell_type": "code",
   "execution_count": null,
   "id": "105c9dc9",
   "metadata": {},
   "outputs": [],
   "source": [
    "# Perform t-SNE with different perplexity values\n",
    "perplexities = [5, 10, 20]\n",
    "embeddings = []\n",
    "for perplexity in perplexities:\n",
    "    tsne = TSNE(n_components=2, perplexity=perplexity)\n",
    "    embedding = tsne.fit_transform(train)\n",
    "    embeddings.append(embedding)\n",
    "\n",
    "# Calculate the variance explained by each perplexity\n",
    "variances = [np.var(embedding) for embedding in embeddings]\n",
    "\n",
    "# Plot the elbow plot\n",
    "plt.plot(perplexities, variances, 'bo-')\n",
    "plt.xlabel('Perplexity')\n",
    "plt.ylabel('Variance')\n",
    "plt.title('t-SNE Elbow Plot')\n",
    "plt.show()"
   ]
  },
  {
   "cell_type": "code",
   "execution_count": null,
   "id": "371d3a70",
   "metadata": {},
   "outputs": [],
   "source": [
    "# Initialize t-SNE object\n",
    "tsne = TSNE(n_components=10, random_state=0 ,method='exact')\n",
    "# Apply t-SNE to data\n",
    "tsne_res = tsne.fit_transform(train)"
   ]
  },
  {
   "cell_type": "code",
   "execution_count": null,
   "id": "e55feb96",
   "metadata": {},
   "outputs": [],
   "source": [
    "# Plot t-SNE results\n",
    "fig, ax = plt.subplots(figsize = (10,10))\n",
    "\n",
    "ax= sns.scatterplot(x = tsne_res[:,0], y = tsne_res[:,1], hue = train['label'], palette = sns.hls_palette(10), legend = 'full')\n",
    "handler, _ = ax.get_legend_handles_labels();\n",
    "\n",
    "plt.legend(handler, letters, bbox_to_anchor = (1, 1));\n",
    "#title\n",
    "plt.title('2D Embedding of Sign Language Images')\n",
    "#x-axis label\n",
    "plt.xlabel('TSNE Component 1');\n",
    "#y-axis label\n",
    "plt.ylabel('TSNE Component 2');"
   ]
  },
  {
   "cell_type": "code",
   "execution_count": null,
   "id": "4dbc7cd0",
   "metadata": {},
   "outputs": [],
   "source": []
  }
 ],
 "metadata": {
  "kernelspec": {
   "display_name": "Python 3 (ipykernel)",
   "language": "python",
   "name": "python3"
  },
  "language_info": {
   "codemirror_mode": {
    "name": "ipython",
    "version": 3
   },
   "file_extension": ".py",
   "mimetype": "text/x-python",
   "name": "python",
   "nbconvert_exporter": "python",
   "pygments_lexer": "ipython3",
   "version": "3.10.11"
  }
 },
 "nbformat": 4,
 "nbformat_minor": 5
}
