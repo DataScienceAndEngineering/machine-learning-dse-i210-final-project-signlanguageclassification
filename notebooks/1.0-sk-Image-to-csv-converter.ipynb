{
 "cells": [
  {
   "cell_type": "markdown",
   "id": "a9d5bc9d",
   "metadata": {},
   "source": [
    "#### Image to CSV Converter"
   ]
  },
  {
   "cell_type": "markdown",
   "id": "816e9b39",
   "metadata": {},
   "source": [
    "Importing Required Libraries"
   ]
  },
  {
   "cell_type": "code",
   "execution_count": null,
   "id": "17fa3519",
   "metadata": {},
   "outputs": [],
   "source": [
    "import csv\n",
    "import os\n",
    "from PIL import Image\n",
    "import numpy as np\n",
    "from PIL import Image\n",
    "import csv"
   ]
  },
  {
   "cell_type": "code",
   "execution_count": null,
   "id": "ea741e77",
   "metadata": {},
   "outputs": [],
   "source": [
    "#directory path for images\n",
    "dir_path = 'SignLanguageData/asl_alphabet_train/'"
   ]
  },
  {
   "cell_type": "code",
   "execution_count": null,
   "id": "4f1278b3",
   "metadata": {},
   "outputs": [],
   "source": [
    "for root, dirs, files in os.walk(dir_path):\n",
    "    \n",
    "    # print(root, dirs, files)\n",
    "    count =0\n",
    "    for file in files:\n",
    "      # print(file)\n",
    "      if file.endswith('.jpg') or file.endswith('.jpeg') or file.endswith('.png'):\n",
    "            image_path = os.path.join(root, file)\n",
    "            label = os.path.basename(root)\n",
    "\n",
    "            # Load image\n",
    "            image = Image.open(image_path)\n",
    "\n",
    "            # Convert image to grayscale\n",
    "            image = image.convert('L')\n",
    "\n",
    "            # Convert image to numpy array\n",
    "            image_array = np.array(image)\n",
    "\n",
    "            # Flatten the array\n",
    "            image_vector = image_array.flatten()\n",
    "\n",
    "            new_array= np.append(image_vector,label)\n",
    "\n",
    "            # Save the vector to a CSV file\n",
    "            with open('SignLanguageData/output.csv', 'a', newline='') as csv_file:\n",
    "                writer = csv.writer(csv_file)\n",
    "                writer.writerow(new_array)\n",
    "                count +=1\n",
    "                print(f\"added images {count}\")"
   ]
  }
 ],
 "metadata": {
  "kernelspec": {
   "display_name": "Python 3 (ipykernel)",
   "language": "python",
   "name": "python3"
  },
  "language_info": {
   "codemirror_mode": {
    "name": "ipython",
    "version": 3
   },
   "file_extension": ".py",
   "mimetype": "text/x-python",
   "name": "python",
   "nbconvert_exporter": "python",
   "pygments_lexer": "ipython3",
   "version": "3.10.11"
  }
 },
 "nbformat": 4,
 "nbformat_minor": 5
}
