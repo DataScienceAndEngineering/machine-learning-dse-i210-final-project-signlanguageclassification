{
  "cells": [
    {
      "cell_type": "code",
      "execution_count": 1,
      "metadata": {
        "id": "WxJjJbBBheTC"
      },
      "outputs": [
        {
          "name": "stderr",
          "output_type": "stream",
          "text": [
            "2023-04-22 23:38:11.080535: I tensorflow/core/platform/cpu_feature_guard.cc:193] This TensorFlow binary is optimized with oneAPI Deep Neural Network Library (oneDNN) to use the following CPU instructions in performance-critical operations:  SSE4.1 SSE4.2\n",
            "To enable them in other operations, rebuild TensorFlow with the appropriate compiler flags.\n"
          ]
        }
      ],
      "source": [
        "#import library\n",
        "import os\n",
        "import numpy as np\n",
        "import pickle\n",
        "from tensorflow.keras.preprocessing.image import ImageDataGenerator\n",
        "import pandas as pd\n",
        "import matplotlib.pyplot as plt\n",
        "#import cv2\n",
        "from sklearn.preprocessing import StandardScaler\n",
        "from tqdm import tqdm\n",
        "from sklearn.naive_bayes import GaussianNB\n",
        "from sklearn.linear_model import LogisticRegression\n",
        "from sklearn.metrics import accuracy_score, classification_report\n",
        "from sklearn.pipeline import Pipeline"
      ]
    },
    {
      "cell_type": "code",
      "execution_count": 7,
      "metadata": {
        "colab": {
          "base_uri": "https://localhost:8080/"
        },
        "id": "j0gr-IAdhnqg",
        "outputId": "32292d06-8a57-403e-ab6e-3906cae4503e"
      },
      "outputs": [],
      "source": [
        "# from google.colab import drive\n",
        "# drive.mount('/content/drive')"
      ]
    },
    {
      "cell_type": "code",
      "execution_count": 3,
      "metadata": {},
      "outputs": [],
      "source": [
        "#opening pickle file of augmented added data\n",
        "with open('../data/external/combined_augmented_data_v2.pkl','rb') as f:\n",
        "    X_train,y_train,X_test,y_test = pickle.load(f)"
      ]
    },
    {
      "cell_type": "code",
      "execution_count": 8,
      "metadata": {},
      "outputs": [
        {
          "name": "stdout",
          "output_type": "stream",
          "text": [
            "X_train Shape: (109820, 28, 28)\n",
            "y_train Shape: (109820,)\n",
            "X_test Shape: (28688, 28, 28)\n",
            "y_test Shape: (28688,)\n"
          ]
        }
      ],
      "source": [
        "#printing shapes \n",
        "print(f'X_train Shape: {X_train.shape}')\n",
        "print(f'y_train Shape: {y_train.shape}')\n",
        "print(f'X_test Shape: {X_test.shape}')\n",
        "print(f'y_test Shape: {y_test.shape}')"
      ]
    },
    {
      "cell_type": "code",
      "execution_count": 9,
      "metadata": {},
      "outputs": [],
      "source": [
        "#fuction to find the indices given a label \n",
        "def find_indices(data,label):\n",
        "    #check if data is numpy array\n",
        "    if type(data) == np.ndarray:\n",
        "        #return indices\n",
        "        return np.where(data==label)\n",
        "    #check if data is pandas series \n",
        "    elif type(data) == pd.Series:\n",
        "        #return indices\n",
        "        return data[data==label].index\n",
        "    #else not supported in this function\n",
        "    else:\n",
        "        raise Exception('Not supported data type for this function.')"
      ]
    },
    {
      "cell_type": "code",
      "execution_count": 10,
      "metadata": {},
      "outputs": [],
      "source": [
        "#letters\n",
        "letters = ['A','B','C','D','E','F','G','H','I','K','L','M','N','O','P','Q','R','S','T','U','V','W','X','Y']\n",
        "#numbers \n",
        "numbers = sorted(list(np.unique(y_train.astype(int))))\n",
        "#dictionary of labels \n",
        "labels = dict(zip(numbers,letters))"
      ]
    },
    {
      "cell_type": "code",
      "execution_count": 11,
      "metadata": {},
      "outputs": [
        {
          "name": "stdout",
          "output_type": "stream",
          "text": [
            "X_train shape: (109820, 784)\n",
            "y_train shape: (109820,)\n",
            "X_test shape: (28688, 784)\n",
            "y_test shape: (28688,)\n"
          ]
        }
      ],
      "source": [
        "# Reshape the data to (num_samples, 784)\n",
        "X_train = X_train.reshape(X_train.shape[0], -1)\n",
        "X_test = X_test.reshape(X_test.shape[0], -1)\n",
        "y_train = y_train\n",
        "y_test = y_test\n",
        "# Print the shapes of the augmented data\n",
        "print(f'X_train shape: {X_train.shape}')\n",
        "print(f'y_train shape: {y_train.shape}')\n",
        "print(f'X_test shape: {X_test.shape}')\n",
        "print(f'y_test shape: {y_test.shape}')"
      ]
    },
    {
      "cell_type": "code",
      "execution_count": 13,
      "metadata": {
        "id": "kGoxMiOqheTP"
      },
      "outputs": [],
      "source": [
        "#standardized data \n",
        "#using sklearn standard scaler model and fitting on training data \n",
        "sc = StandardScaler().fit(X_train)\n",
        "X_train_sc = sc.transform(X_train)\n",
        "X_test_sc = sc.transform(X_test)"
      ]
    },
    {
      "cell_type": "code",
      "execution_count": 12,
      "metadata": {},
      "outputs": [],
      "source": [
        "#normalized data \n",
        "X_train_norm = X_train/255 \n",
        "X_test_norm = X_test/255"
      ]
    },
    {
      "cell_type": "markdown",
      "metadata": {
        "id": "TnMYFYleheTP"
      },
      "source": [
        "#### Applying naive bayes "
      ]
    },
    {
      "cell_type": "code",
      "execution_count": 14,
      "metadata": {
        "id": "wZqP1TywheTQ"
      },
      "outputs": [],
      "source": [
        "gnb = GaussianNB()"
      ]
    },
    {
      "cell_type": "code",
      "execution_count": 17,
      "metadata": {},
      "outputs": [
        {
          "name": "stdout",
          "output_type": "stream",
          "text": [
            "Accuracy: 0.21761063558550356\n",
            "Classification report:\n",
            "              precision    recall  f1-score   support\n",
            "\n",
            "           A       0.45      0.19      0.27      4504\n",
            "           B       0.46      0.19      0.27      4040\n",
            "           C       0.63      0.43      0.51      4576\n",
            "           D       0.37      0.08      0.14      4784\n",
            "           E       0.27      0.34      0.30      3828\n",
            "           F       0.30      0.13      0.18      4816\n",
            "           G       0.47      0.29      0.36      4360\n",
            "           H       0.67      0.13      0.22      4052\n",
            "           I       0.18      0.38      0.24      4648\n",
            "           K       0.25      0.30      0.27      4456\n",
            "           L       0.38      0.25      0.30      4964\n",
            "           M       0.34      0.07      0.12      4220\n",
            "           N       0.43      0.04      0.08      4604\n",
            "           O       0.39      0.26      0.31      4784\n",
            "           P       0.10      0.65      0.17      4352\n",
            "           Q       0.40      0.28      0.33      5116\n",
            "           R       0.18      0.22      0.20      5176\n",
            "           S       0.27      0.12      0.17      4796\n",
            "           T       0.12      0.54      0.20      4744\n",
            "           U       0.33      0.01      0.01      4644\n",
            "           V       0.15      0.14      0.14      4328\n",
            "           W       0.11      0.01      0.02      4900\n",
            "           X       0.49      0.11      0.18      4656\n",
            "           Y       0.22      0.08      0.12      4472\n",
            "\n",
            "    accuracy                           0.22    109820\n",
            "   macro avg       0.33      0.22      0.21    109820\n",
            "weighted avg       0.33      0.22      0.21    109820\n",
            "\n"
          ]
        }
      ],
      "source": [
        "# applying NB on normalized train data\n",
        "y_pred_nm = gnb.fit(X_train_norm, y_train).predict(X_train_norm)\n",
        "\n",
        "print(f\"Accuracy: {accuracy_score(y_train, y_pred_nm)}\")\n",
        "print(\"Classification report:\")\n",
        "print(classification_report(y_train, y_pred_nm, target_names=letters))"
      ]
    },
    {
      "cell_type": "code",
      "execution_count": 18,
      "metadata": {},
      "outputs": [
        {
          "name": "stdout",
          "output_type": "stream",
          "text": [
            "Accuracy: 0.19739960959286112\n",
            "Classification report:\n",
            "              precision    recall  f1-score   support\n",
            "\n",
            "           A       0.44      0.17      0.24      1324\n",
            "           B       0.58      0.15      0.24      1728\n",
            "           C       0.55      0.31      0.40      1240\n",
            "           D       0.35      0.09      0.15       980\n",
            "           E       0.38      0.30      0.34      1992\n",
            "           F       0.29      0.14      0.19       988\n",
            "           G       0.43      0.30      0.35      1392\n",
            "           H       0.79      0.12      0.21      1744\n",
            "           I       0.11      0.28      0.16      1152\n",
            "           K       0.25      0.27      0.26      1324\n",
            "           L       0.30      0.21      0.25       836\n",
            "           M       0.30      0.05      0.09      1576\n",
            "           N       0.28      0.04      0.07      1164\n",
            "           O       0.28      0.21      0.24       984\n",
            "           P       0.13      0.71      0.22      1388\n",
            "           Q       0.21      0.25      0.22       656\n",
            "           R       0.09      0.22      0.12       576\n",
            "           S       0.07      0.04      0.05       984\n",
            "           T       0.09      0.45      0.15       992\n",
            "           U       0.00      0.00      0.00      1064\n",
            "           V       0.19      0.11      0.14      1384\n",
            "           W       0.02      0.00      0.01       824\n",
            "           X       0.56      0.12      0.20      1068\n",
            "           Y       0.15      0.06      0.09      1328\n",
            "\n",
            "    accuracy                           0.20     28688\n",
            "   macro avg       0.28      0.19      0.18     28688\n",
            "weighted avg       0.31      0.20      0.19     28688\n",
            "\n"
          ]
        }
      ],
      "source": [
        "# applying NB on normalized test data\n",
        "y_pred_nm = gnb.fit(X_train_norm, y_train).predict(X_test_norm)\n",
        "\n",
        "print(f\"Accuracy: {accuracy_score(y_test, y_pred_nm)}\")\n",
        "print(\"Classification report:\")\n",
        "print(classification_report(y_test, y_pred_nm, target_names=letters))"
      ]
    },
    {
      "cell_type": "code",
      "execution_count": 19,
      "metadata": {},
      "outputs": [
        {
          "name": "stdout",
          "output_type": "stream",
          "text": [
            "Accuracy: 0.21761063558550356\n",
            "Classification report:\n",
            "              precision    recall  f1-score   support\n",
            "\n",
            "           A       0.45      0.19      0.27      4504\n",
            "           B       0.46      0.19      0.27      4040\n",
            "           C       0.63      0.43      0.51      4576\n",
            "           D       0.37      0.08      0.14      4784\n",
            "           E       0.27      0.34      0.30      3828\n",
            "           F       0.30      0.13      0.18      4816\n",
            "           G       0.47      0.29      0.36      4360\n",
            "           H       0.67      0.13      0.22      4052\n",
            "           I       0.18      0.38      0.24      4648\n",
            "           K       0.25      0.30      0.27      4456\n",
            "           L       0.38      0.25      0.30      4964\n",
            "           M       0.34      0.07      0.12      4220\n",
            "           N       0.43      0.04      0.08      4604\n",
            "           O       0.39      0.26      0.31      4784\n",
            "           P       0.10      0.65      0.17      4352\n",
            "           Q       0.40      0.28      0.33      5116\n",
            "           R       0.18      0.22      0.20      5176\n",
            "           S       0.27      0.12      0.17      4796\n",
            "           T       0.12      0.54      0.20      4744\n",
            "           U       0.33      0.01      0.01      4644\n",
            "           V       0.15      0.14      0.14      4328\n",
            "           W       0.11      0.01      0.02      4900\n",
            "           X       0.49      0.11      0.18      4656\n",
            "           Y       0.22      0.08      0.12      4472\n",
            "\n",
            "    accuracy                           0.22    109820\n",
            "   macro avg       0.33      0.22      0.21    109820\n",
            "weighted avg       0.33      0.22      0.21    109820\n",
            "\n"
          ]
        }
      ],
      "source": [
        "# applying NB on standerdized data\n",
        "y_pred_sc = gnb.fit(X_train_sc, y_train).predict(X_train_sc)\n",
        "\n",
        "print(f\"Accuracy: {accuracy_score(y_train, y_pred_sc)}\")\n",
        "print(\"Classification report:\")\n",
        "print(classification_report(y_train, y_pred_sc, target_names=letters))"
      ]
    },
    {
      "cell_type": "code",
      "execution_count": 20,
      "metadata": {},
      "outputs": [
        {
          "name": "stdout",
          "output_type": "stream",
          "text": [
            "Accuracy: 0.19739960959286112\n",
            "Classification report:\n",
            "              precision    recall  f1-score   support\n",
            "\n",
            "           A       0.44      0.17      0.24      1324\n",
            "           B       0.58      0.15      0.24      1728\n",
            "           C       0.55      0.31      0.40      1240\n",
            "           D       0.35      0.09      0.15       980\n",
            "           E       0.38      0.30      0.34      1992\n",
            "           F       0.29      0.14      0.19       988\n",
            "           G       0.43      0.30      0.35      1392\n",
            "           H       0.79      0.12      0.21      1744\n",
            "           I       0.11      0.28      0.16      1152\n",
            "           K       0.25      0.27      0.26      1324\n",
            "           L       0.30      0.21      0.25       836\n",
            "           M       0.30      0.05      0.09      1576\n",
            "           N       0.28      0.04      0.07      1164\n",
            "           O       0.28      0.21      0.24       984\n",
            "           P       0.13      0.71      0.22      1388\n",
            "           Q       0.21      0.25      0.22       656\n",
            "           R       0.09      0.22      0.12       576\n",
            "           S       0.07      0.04      0.05       984\n",
            "           T       0.09      0.45      0.15       992\n",
            "           U       0.00      0.00      0.00      1064\n",
            "           V       0.19      0.11      0.14      1384\n",
            "           W       0.02      0.00      0.01       824\n",
            "           X       0.56      0.12      0.20      1068\n",
            "           Y       0.15      0.06      0.09      1328\n",
            "\n",
            "    accuracy                           0.20     28688\n",
            "   macro avg       0.28      0.19      0.18     28688\n",
            "weighted avg       0.31      0.20      0.19     28688\n",
            "\n"
          ]
        }
      ],
      "source": [
        "# applying NB on standerdized data\n",
        "y_pred_sc = gnb.fit(X_train_sc, y_train).predict(X_test_sc)\n",
        "\n",
        "print(f\"Accuracy: {accuracy_score(y_test, y_pred_sc)}\")\n",
        "print(\"Classification report:\")\n",
        "print(classification_report(y_test, y_pred_sc, target_names=letters))"
      ]
    },
    {
      "cell_type": "code",
      "execution_count": null,
      "metadata": {},
      "outputs": [],
      "source": []
    },
    {
      "cell_type": "markdown",
      "metadata": {
        "id": "1uf1tjmcheTQ"
      },
      "source": [
        "### Logistic regrassion"
      ]
    },
    {
      "cell_type": "code",
      "execution_count": 21,
      "metadata": {
        "id": "2ORizMFHheTQ"
      },
      "outputs": [],
      "source": [
        "lr = LogisticRegression(max_iter=5000)"
      ]
    },
    {
      "cell_type": "code",
      "execution_count": 22,
      "metadata": {
        "id": "kg3EmiwPheTQ",
        "outputId": "570d516e-e773-4d2f-c896-1f74ec7076e3"
      },
      "outputs": [
        {
          "name": "stdout",
          "output_type": "stream",
          "text": [
            "Accuracy: 0.5139431121026213\n",
            "Classification report:\n",
            "              precision    recall  f1-score   support\n",
            "\n",
            "           A       0.56      0.64      0.60      1324\n",
            "           B       0.75      0.65      0.70      1728\n",
            "           C       0.75      0.71      0.73      1240\n",
            "           D       0.43      0.53      0.48       980\n",
            "           E       0.73      0.57      0.64      1992\n",
            "           F       0.48      0.52      0.50       988\n",
            "           G       0.62      0.57      0.59      1392\n",
            "           H       0.78      0.57      0.66      1744\n",
            "           I       0.42      0.45      0.43      1152\n",
            "           K       0.55      0.52      0.53      1324\n",
            "           L       0.50      0.74      0.60       836\n",
            "           M       0.50      0.40      0.45      1576\n",
            "           N       0.36      0.38      0.37      1164\n",
            "           O       0.57      0.54      0.55       984\n",
            "           P       0.77      0.72      0.75      1388\n",
            "           Q       0.48      0.70      0.57       656\n",
            "           R       0.10      0.16      0.12       576\n",
            "           S       0.18      0.19      0.18       984\n",
            "           T       0.34      0.37      0.36       992\n",
            "           U       0.32      0.33      0.33      1064\n",
            "           V       0.45      0.31      0.37      1384\n",
            "           W       0.36      0.50      0.42       824\n",
            "           X       0.45      0.44      0.45      1068\n",
            "           Y       0.54      0.54      0.54      1328\n",
            "\n",
            "    accuracy                           0.51     28688\n",
            "   macro avg       0.50      0.50      0.50     28688\n",
            "weighted avg       0.53      0.51      0.52     28688\n",
            "\n"
          ]
        }
      ],
      "source": [
        "# testing logistic regression on test data\n",
        "y_pred_lr_sc = lr.fit(X_train_sc, y_train).predict(X_test_sc)\n",
        "\n",
        "print(f\"Accuracy: {accuracy_score(y_test, y_pred_lr_sc)}\")\n",
        "print(\"Classification report:\")\n",
        "print(classification_report(y_test, y_pred_lr_sc, target_names=letters))\n"
      ]
    },
    {
      "cell_type": "code",
      "execution_count": 23,
      "metadata": {
        "id": "QGjep96UheTR",
        "outputId": "6ec55548-daf4-4daf-a994-771d186aae91"
      },
      "outputs": [
        {
          "name": "stdout",
          "output_type": "stream",
          "text": [
            "Accuracy: 0.6823711527954835\n",
            "Classification report:\n",
            "              precision    recall  f1-score   support\n",
            "\n",
            "           A       0.71      0.75      0.73      4504\n",
            "           B       0.77      0.78      0.77      4040\n",
            "           C       0.87      0.87      0.87      4576\n",
            "           D       0.64      0.60      0.62      4784\n",
            "           E       0.74      0.70      0.72      3828\n",
            "           F       0.69      0.67      0.68      4816\n",
            "           G       0.77      0.76      0.76      4360\n",
            "           H       0.72      0.68      0.70      4052\n",
            "           I       0.66      0.70      0.68      4648\n",
            "           K       0.68      0.71      0.69      4456\n",
            "           L       0.67      0.74      0.70      4964\n",
            "           M       0.64      0.58      0.61      4220\n",
            "           N       0.64      0.61      0.63      4604\n",
            "           O       0.78      0.77      0.77      4784\n",
            "           P       0.75      0.79      0.77      4352\n",
            "           Q       0.77      0.79      0.78      5116\n",
            "           R       0.57      0.57      0.57      5176\n",
            "           S       0.58      0.58      0.58      4796\n",
            "           T       0.63      0.65      0.64      4744\n",
            "           U       0.61      0.60      0.61      4644\n",
            "           V       0.60      0.53      0.57      4328\n",
            "           W       0.57      0.62      0.59      4900\n",
            "           X       0.66      0.64      0.65      4656\n",
            "           Y       0.70      0.72      0.71      4472\n",
            "\n",
            "    accuracy                           0.68    109820\n",
            "   macro avg       0.68      0.68      0.68    109820\n",
            "weighted avg       0.68      0.68      0.68    109820\n",
            "\n"
          ]
        }
      ],
      "source": [
        "# testing logistic regression on train data\n",
        "y_pred_lr = lr.fit(X_train_sc, y_train).predict(X_train_sc)\n",
        "\n",
        "print(f\"Accuracy: {accuracy_score(y_train, y_pred_lr)}\")\n",
        "print(\"Classification report:\")\n",
        "print(classification_report(y_train, y_pred_lr, target_names=letters))\n"
      ]
    },
    {
      "cell_type": "code",
      "execution_count": 24,
      "metadata": {
        "id": "bq3ih7WbheTR"
      },
      "outputs": [],
      "source": [
        "#normalized data \n",
        "X_train_norm = X_train/255 \n",
        "X_test_norm = X_test/255"
      ]
    },
    {
      "cell_type": "code",
      "execution_count": 25,
      "metadata": {
        "id": "r3pjkzSDheTR",
        "outputId": "369a414c-ffd6-48a5-fa59-5d26970d6f64"
      },
      "outputs": [
        {
          "name": "stdout",
          "output_type": "stream",
          "text": [
            "Accuracy: 0.5329754601226994\n",
            "Classification report:\n",
            "              precision    recall  f1-score   support\n",
            "\n",
            "           A       0.57      0.65      0.61      1324\n",
            "           B       0.77      0.66      0.71      1728\n",
            "           C       0.75      0.71      0.73      1240\n",
            "           D       0.47      0.55      0.50       980\n",
            "           E       0.74      0.58      0.65      1992\n",
            "           F       0.49      0.56      0.52       988\n",
            "           G       0.63      0.58      0.61      1392\n",
            "           H       0.81      0.58      0.68      1744\n",
            "           I       0.44      0.47      0.45      1152\n",
            "           K       0.54      0.49      0.51      1324\n",
            "           L       0.51      0.78      0.62       836\n",
            "           M       0.55      0.44      0.49      1576\n",
            "           N       0.37      0.39      0.38      1164\n",
            "           O       0.60      0.55      0.57       984\n",
            "           P       0.80      0.78      0.79      1388\n",
            "           Q       0.50      0.69      0.58       656\n",
            "           R       0.11      0.18      0.14       576\n",
            "           S       0.18      0.19      0.19       984\n",
            "           T       0.36      0.41      0.38       992\n",
            "           U       0.33      0.35      0.34      1064\n",
            "           V       0.51      0.32      0.40      1384\n",
            "           W       0.37      0.53      0.44       824\n",
            "           X       0.48      0.51      0.50      1068\n",
            "           Y       0.56      0.56      0.56      1328\n",
            "\n",
            "    accuracy                           0.53     28688\n",
            "   macro avg       0.52      0.52      0.51     28688\n",
            "weighted avg       0.55      0.53      0.54     28688\n",
            "\n"
          ]
        }
      ],
      "source": [
        "# applying logistic regression on normalized data\n",
        "y_pred_lr_nm = lr.fit(X_train_norm, y_train).predict(X_test_norm)\n",
        "\n",
        "print(f\"Accuracy: {accuracy_score(y_test, y_pred_lr_nm)}\")\n",
        "print(\"Classification report:\")\n",
        "print(classification_report(y_test, y_pred_lr_nm, target_names=letters))\n"
      ]
    },
    {
      "cell_type": "code",
      "execution_count": 26,
      "metadata": {
        "id": "OHZSmmy6heTR",
        "outputId": "19b1e440-9db3-467f-9aff-fa288f832f45"
      },
      "outputs": [
        {
          "name": "stdout",
          "output_type": "stream",
          "text": [
            "Accuracy: 0.6718175195774905\n",
            "Classification report:\n",
            "              precision    recall  f1-score   support\n",
            "\n",
            "           A       0.70      0.75      0.73      4504\n",
            "           B       0.76      0.77      0.77      4040\n",
            "           C       0.87      0.86      0.86      4576\n",
            "           D       0.63      0.58      0.61      4784\n",
            "           E       0.73      0.69      0.71      3828\n",
            "           F       0.68      0.66      0.67      4816\n",
            "           G       0.76      0.75      0.75      4360\n",
            "           H       0.71      0.67      0.69      4052\n",
            "           I       0.64      0.69      0.66      4648\n",
            "           K       0.67      0.69      0.68      4456\n",
            "           L       0.65      0.73      0.69      4964\n",
            "           M       0.64      0.57      0.60      4220\n",
            "           N       0.64      0.60      0.62      4604\n",
            "           O       0.77      0.76      0.76      4784\n",
            "           P       0.74      0.78      0.76      4352\n",
            "           Q       0.76      0.77      0.77      5116\n",
            "           R       0.56      0.56      0.56      5176\n",
            "           S       0.56      0.57      0.57      4796\n",
            "           T       0.61      0.64      0.63      4744\n",
            "           U       0.61      0.59      0.60      4644\n",
            "           V       0.59      0.52      0.55      4328\n",
            "           W       0.55      0.61      0.58      4900\n",
            "           X       0.64      0.63      0.64      4656\n",
            "           Y       0.70      0.71      0.70      4472\n",
            "\n",
            "    accuracy                           0.67    109820\n",
            "   macro avg       0.67      0.67      0.67    109820\n",
            "weighted avg       0.67      0.67      0.67    109820\n",
            "\n"
          ]
        }
      ],
      "source": [
        "# applying logistic regression on normalized data\n",
        "y_pred_lr_nm = lr.fit(X_train_norm, y_train).predict(X_train_norm)\n",
        "\n",
        "print(f\"Accuracy: {accuracy_score(y_train, y_pred_lr_nm)}\")\n",
        "print(\"Classification report:\")\n",
        "print(classification_report(y_train, y_pred_lr_nm, target_names=letters))\n"
      ]
    },
    {
      "cell_type": "code",
      "execution_count": null,
      "metadata": {
        "id": "aWN1TaRhheTR"
      },
      "outputs": [],
      "source": []
    }
  ],
  "metadata": {
    "colab": {
      "provenance": []
    },
    "kernelspec": {
      "display_name": "sign_language_interpreter",
      "language": "python",
      "name": "python3"
    },
    "language_info": {
      "codemirror_mode": {
        "name": "ipython",
        "version": 3
      },
      "file_extension": ".py",
      "mimetype": "text/x-python",
      "name": "python",
      "nbconvert_exporter": "python",
      "pygments_lexer": "ipython3",
      "version": "3.9.16"
    },
    "orig_nbformat": 4
  },
  "nbformat": 4,
  "nbformat_minor": 0
}
