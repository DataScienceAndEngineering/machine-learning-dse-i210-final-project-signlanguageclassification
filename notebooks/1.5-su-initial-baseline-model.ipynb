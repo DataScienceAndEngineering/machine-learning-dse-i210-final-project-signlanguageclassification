{
  "cells": [
    {
      "cell_type": "code",
      "execution_count": 54,
      "metadata": {
        "id": "WxJjJbBBheTC"
      },
      "outputs": [],
      "source": [
        "#import library\n",
        "import os\n",
        "import numpy as np\n",
        "import pickle\n",
        "from tensorflow.keras.preprocessing.image import ImageDataGenerator\n",
        "import pandas as pd\n",
        "import matplotlib.pyplot as plt\n",
        "import cv2\n",
        "from sklearn.preprocessing import StandardScaler\n",
        "from tqdm import tqdm\n",
        "from sklearn.naive_bayes import GaussianNB\n",
        "from sklearn.linear_model import LogisticRegression\n",
        "from sklearn.metrics import accuracy_score, classification_report\n",
        "from sklearn.pipeline import Pipeline\n",
        "\n",
        "from sklearn.discriminant_analysis import LinearDiscriminantAnalysis\n",
        "import seaborn as sns\n",
        "from sklearn.model_selection import RandomizedSearchCV\n",
        "from sklearn.metrics import classification_report\n",
        "from sklearn.ensemble import RandomForestClassifier\n",
        "from sklearn.metrics import confusion_matrix, roc_curve, auc, matthews_corrcoef, cohen_kappa_score\n",
        "from sklearn.metrics import confusion_matrix, ConfusionMatrixDisplay"
      ]
    },
    {
      "cell_type": "code",
      "source": [
        "from google.colab import drive\n",
        "drive.mount('/content/drive')"
      ],
      "metadata": {
        "id": "lR3wKNdR2lDz",
        "outputId": "e4ca6418-3fc6-439d-aaa3-18d74c7659aa",
        "colab": {
          "base_uri": "https://localhost:8080/"
        }
      },
      "execution_count": 55,
      "outputs": [
        {
          "output_type": "stream",
          "name": "stdout",
          "text": [
            "Drive already mounted at /content/drive; to attempt to forcibly remount, call drive.mount(\"/content/drive\", force_remount=True).\n"
          ]
        }
      ]
    },
    {
      "cell_type": "code",
      "execution_count": 56,
      "metadata": {
        "id": "j0gr-IAdhnqg"
      },
      "outputs": [],
      "source": [
        "#opening pickle file of augmented added data\n",
        "with open('/content/drive/Shareddrives/SignLanguageData/combined_augmented_data_v2.pkl','rb') as f:\n",
        "    X_train,y_train,X_test,y_test = pickle.load(f)"
      ]
    },
    {
      "cell_type": "code",
      "execution_count": 57,
      "metadata": {
        "id": "GCjSEhAjM2ml"
      },
      "outputs": [],
      "source": [
        "# #opening pickle file of augmented added data\n",
        "# with open('../data/external/combined_augmented_data_v2.pkl','rb') as f:\n",
        "#     X_train,y_train,X_test,y_test = pickle.load(f)"
      ]
    },
    {
      "cell_type": "code",
      "execution_count": 58,
      "metadata": {
        "id": "gVxUnie2M2ml",
        "outputId": "e44d8975-e606-47b1-8808-06ed043da023",
        "colab": {
          "base_uri": "https://localhost:8080/"
        }
      },
      "outputs": [
        {
          "output_type": "stream",
          "name": "stdout",
          "text": [
            "X_train Shape: (109820, 28, 28)\n",
            "y_train Shape: (109820,)\n",
            "X_test Shape: (28688, 28, 28)\n",
            "y_test Shape: (28688,)\n"
          ]
        }
      ],
      "source": [
        "#printing shapes \n",
        "print(f'X_train Shape: {X_train.shape}')\n",
        "print(f'y_train Shape: {y_train.shape}')\n",
        "print(f'X_test Shape: {X_test.shape}')\n",
        "print(f'y_test Shape: {y_test.shape}')"
      ]
    },
    {
      "cell_type": "code",
      "execution_count": 59,
      "metadata": {
        "id": "AVWKfkZ0M2ml"
      },
      "outputs": [],
      "source": [
        "#fuction to find the indices given a label \n",
        "def find_indices(data,label):\n",
        "    #check if data is numpy array\n",
        "    if type(data) == np.ndarray:\n",
        "        #return indices\n",
        "        return np.where(data==label)\n",
        "    #check if data is pandas series \n",
        "    elif type(data) == pd.Series:\n",
        "        #return indices\n",
        "        return data[data==label].index\n",
        "    #else not supported in this function\n",
        "    else:\n",
        "        raise Exception('Not supported data type for this function.')"
      ]
    },
    {
      "cell_type": "code",
      "execution_count": 60,
      "metadata": {
        "id": "z7CTegRNM2ml"
      },
      "outputs": [],
      "source": [
        "#letters\n",
        "letters = ['A','B','C','D','E','F','G','H','I','K','L','M','N','O','P','Q','R','S','T','U','V','W','X','Y']\n",
        "#numbers \n",
        "numbers = sorted(list(np.unique(y_train.astype(int))))\n",
        "#dictionary of labels \n",
        "labels = dict(zip(numbers,letters))"
      ]
    },
    {
      "cell_type": "code",
      "source": [
        "print(y_train)\n",
        "print(labels)"
      ],
      "metadata": {
        "id": "o6vjyqQpA_4c",
        "outputId": "4d7f4626-55e9-4fb0-ff88-812571512d2f",
        "colab": {
          "base_uri": "https://localhost:8080/"
        }
      },
      "execution_count": 69,
      "outputs": [
        {
          "output_type": "stream",
          "name": "stdout",
          "text": [
            "[ 3.  3.  3. ... 18. 17. 23.]\n",
            "{0: 'A', 1: 'B', 2: 'C', 3: 'D', 4: 'E', 5: 'F', 6: 'G', 7: 'H', 8: 'I', 10: 'K', 11: 'L', 12: 'M', 13: 'N', 14: 'O', 15: 'P', 16: 'Q', 17: 'R', 18: 'S', 19: 'T', 20: 'U', 21: 'V', 22: 'W', 23: 'X', 24: 'Y'}\n"
          ]
        }
      ]
    },
    {
      "cell_type": "code",
      "source": [
        "y_train = y_train.astype(int)\n",
        "print(y_train)"
      ],
      "metadata": {
        "id": "1eR7T3qeBQkn",
        "outputId": "fbea4207-c5aa-4e4f-e67a-7afd1db95967",
        "colab": {
          "base_uri": "https://localhost:8080/"
        }
      },
      "execution_count": 70,
      "outputs": [
        {
          "output_type": "stream",
          "name": "stdout",
          "text": [
            "[ 3  3  3 ... 18 17 23]\n"
          ]
        }
      ]
    },
    {
      "cell_type": "code",
      "execution_count": 71,
      "metadata": {
        "id": "lglQcBoZM2ml",
        "outputId": "0dfd9f8f-1084-4a4c-82c8-6819b00f6955",
        "colab": {
          "base_uri": "https://localhost:8080/"
        }
      },
      "outputs": [
        {
          "output_type": "stream",
          "name": "stdout",
          "text": [
            "X_train shape: (109820, 784)\n",
            "y_train shape: (109820,)\n",
            "X_test shape: (28688, 784)\n",
            "y_test shape: (28688,)\n"
          ]
        }
      ],
      "source": [
        "# Reshape the data to (num_samples, 784)\n",
        "X_train = X_train.reshape(X_train.shape[0], -1)\n",
        "X_test = X_test.reshape(X_test.shape[0], -1)\n",
        "y_train = y_train\n",
        "y_test = y_test\n",
        "# Print the shapes of the augmented data\n",
        "print(f'X_train shape: {X_train.shape}')\n",
        "print(f'y_train shape: {y_train.shape}')\n",
        "print(f'X_test shape: {X_test.shape}')\n",
        "print(f'y_test shape: {y_test.shape}')"
      ]
    },
    {
      "cell_type": "code",
      "execution_count": 72,
      "metadata": {
        "id": "kGoxMiOqheTP"
      },
      "outputs": [],
      "source": [
        "#standardized data \n",
        "#using sklearn standard scaler model and fitting on training data \n",
        "sc = StandardScaler().fit(X_train)\n",
        "X_train_sc = sc.transform(X_train)\n",
        "X_test_sc = sc.transform(X_test)"
      ]
    },
    {
      "cell_type": "code",
      "execution_count": 63,
      "metadata": {
        "id": "5xpbYKPWM2mm"
      },
      "outputs": [],
      "source": [
        "#normalized data \n",
        "X_train_norm = X_train/255 \n",
        "X_test_norm = X_test/255"
      ]
    },
    {
      "cell_type": "markdown",
      "metadata": {
        "id": "TnMYFYleheTP"
      },
      "source": [
        "#### Applying naive bayes "
      ]
    },
    {
      "cell_type": "code",
      "execution_count": null,
      "metadata": {
        "id": "wZqP1TywheTQ"
      },
      "outputs": [],
      "source": [
        "gnb = GaussianNB()"
      ]
    },
    {
      "cell_type": "code",
      "execution_count": null,
      "metadata": {
        "id": "s8EBN75_M2mn",
        "outputId": "dc41c896-feff-4b35-f1ea-88e6e424debb"
      },
      "outputs": [
        {
          "name": "stdout",
          "output_type": "stream",
          "text": [
            "Accuracy: 0.21761063558550356\n",
            "Classification report:\n",
            "              precision    recall  f1-score   support\n",
            "\n",
            "           A       0.45      0.19      0.27      4504\n",
            "           B       0.46      0.19      0.27      4040\n",
            "           C       0.63      0.43      0.51      4576\n",
            "           D       0.37      0.08      0.14      4784\n",
            "           E       0.27      0.34      0.30      3828\n",
            "           F       0.30      0.13      0.18      4816\n",
            "           G       0.47      0.29      0.36      4360\n",
            "           H       0.67      0.13      0.22      4052\n",
            "           I       0.18      0.38      0.24      4648\n",
            "           K       0.25      0.30      0.27      4456\n",
            "           L       0.38      0.25      0.30      4964\n",
            "           M       0.34      0.07      0.12      4220\n",
            "           N       0.43      0.04      0.08      4604\n",
            "           O       0.39      0.26      0.31      4784\n",
            "           P       0.10      0.65      0.17      4352\n",
            "           Q       0.40      0.28      0.33      5116\n",
            "           R       0.18      0.22      0.20      5176\n",
            "           S       0.27      0.12      0.17      4796\n",
            "           T       0.12      0.54      0.20      4744\n",
            "           U       0.33      0.01      0.01      4644\n",
            "           V       0.15      0.14      0.14      4328\n",
            "           W       0.11      0.01      0.02      4900\n",
            "           X       0.49      0.11      0.18      4656\n",
            "           Y       0.22      0.08      0.12      4472\n",
            "\n",
            "    accuracy                           0.22    109820\n",
            "   macro avg       0.33      0.22      0.21    109820\n",
            "weighted avg       0.33      0.22      0.21    109820\n",
            "\n"
          ]
        }
      ],
      "source": [
        "# applying NB on normalized train data\n",
        "y_pred_nm = gnb.fit(X_train_norm, y_train).predict(X_train_norm)\n",
        "\n",
        "print(f\"Accuracy: {accuracy_score(y_train, y_pred_nm)}\")\n",
        "print(\"Classification report:\")\n",
        "print(classification_report(y_train, y_pred_nm, target_names=letters))"
      ]
    },
    {
      "cell_type": "code",
      "execution_count": null,
      "metadata": {
        "id": "eYkYawX7M2mn",
        "outputId": "9484c130-3d16-465f-c812-fa1ea83752b0"
      },
      "outputs": [
        {
          "name": "stdout",
          "output_type": "stream",
          "text": [
            "Accuracy: 0.19739960959286112\n",
            "Classification report:\n",
            "              precision    recall  f1-score   support\n",
            "\n",
            "           A       0.44      0.17      0.24      1324\n",
            "           B       0.58      0.15      0.24      1728\n",
            "           C       0.55      0.31      0.40      1240\n",
            "           D       0.35      0.09      0.15       980\n",
            "           E       0.38      0.30      0.34      1992\n",
            "           F       0.29      0.14      0.19       988\n",
            "           G       0.43      0.30      0.35      1392\n",
            "           H       0.79      0.12      0.21      1744\n",
            "           I       0.11      0.28      0.16      1152\n",
            "           K       0.25      0.27      0.26      1324\n",
            "           L       0.30      0.21      0.25       836\n",
            "           M       0.30      0.05      0.09      1576\n",
            "           N       0.28      0.04      0.07      1164\n",
            "           O       0.28      0.21      0.24       984\n",
            "           P       0.13      0.71      0.22      1388\n",
            "           Q       0.21      0.25      0.22       656\n",
            "           R       0.09      0.22      0.12       576\n",
            "           S       0.07      0.04      0.05       984\n",
            "           T       0.09      0.45      0.15       992\n",
            "           U       0.00      0.00      0.00      1064\n",
            "           V       0.19      0.11      0.14      1384\n",
            "           W       0.02      0.00      0.01       824\n",
            "           X       0.56      0.12      0.20      1068\n",
            "           Y       0.15      0.06      0.09      1328\n",
            "\n",
            "    accuracy                           0.20     28688\n",
            "   macro avg       0.28      0.19      0.18     28688\n",
            "weighted avg       0.31      0.20      0.19     28688\n",
            "\n"
          ]
        }
      ],
      "source": [
        "# applying NB on normalized test data\n",
        "y_pred_nm = gnb.fit(X_train_norm, y_train).predict(X_test_norm)\n",
        "\n",
        "print(f\"Accuracy: {accuracy_score(y_test, y_pred_nm)}\")\n",
        "print(\"Classification report:\")\n",
        "print(classification_report(y_test, y_pred_nm, target_names=letters))"
      ]
    },
    {
      "cell_type": "code",
      "execution_count": null,
      "metadata": {
        "id": "eQfY2t0cM2mn",
        "outputId": "3a5e86b1-0f03-4e88-b1e6-0411d50a9216"
      },
      "outputs": [
        {
          "name": "stdout",
          "output_type": "stream",
          "text": [
            "Accuracy: 0.21761063558550356\n",
            "Classification report:\n",
            "              precision    recall  f1-score   support\n",
            "\n",
            "           A       0.45      0.19      0.27      4504\n",
            "           B       0.46      0.19      0.27      4040\n",
            "           C       0.63      0.43      0.51      4576\n",
            "           D       0.37      0.08      0.14      4784\n",
            "           E       0.27      0.34      0.30      3828\n",
            "           F       0.30      0.13      0.18      4816\n",
            "           G       0.47      0.29      0.36      4360\n",
            "           H       0.67      0.13      0.22      4052\n",
            "           I       0.18      0.38      0.24      4648\n",
            "           K       0.25      0.30      0.27      4456\n",
            "           L       0.38      0.25      0.30      4964\n",
            "           M       0.34      0.07      0.12      4220\n",
            "           N       0.43      0.04      0.08      4604\n",
            "           O       0.39      0.26      0.31      4784\n",
            "           P       0.10      0.65      0.17      4352\n",
            "           Q       0.40      0.28      0.33      5116\n",
            "           R       0.18      0.22      0.20      5176\n",
            "           S       0.27      0.12      0.17      4796\n",
            "           T       0.12      0.54      0.20      4744\n",
            "           U       0.33      0.01      0.01      4644\n",
            "           V       0.15      0.14      0.14      4328\n",
            "           W       0.11      0.01      0.02      4900\n",
            "           X       0.49      0.11      0.18      4656\n",
            "           Y       0.22      0.08      0.12      4472\n",
            "\n",
            "    accuracy                           0.22    109820\n",
            "   macro avg       0.33      0.22      0.21    109820\n",
            "weighted avg       0.33      0.22      0.21    109820\n",
            "\n"
          ]
        }
      ],
      "source": [
        "# applying NB on standerdized data\n",
        "y_pred_sc = gnb.fit(X_train_sc, y_train).predict(X_train_sc)\n",
        "\n",
        "print(f\"Accuracy: {accuracy_score(y_train, y_pred_sc)}\")\n",
        "print(\"Classification report:\")\n",
        "print(classification_report(y_train, y_pred_sc, target_names=letters))"
      ]
    },
    {
      "cell_type": "code",
      "execution_count": null,
      "metadata": {
        "id": "IeSiJ3P5M2mn",
        "outputId": "9e0b7e82-1c87-4b81-88b8-cc8238c4db64"
      },
      "outputs": [
        {
          "name": "stdout",
          "output_type": "stream",
          "text": [
            "Accuracy: 0.19739960959286112\n",
            "Classification report:\n",
            "              precision    recall  f1-score   support\n",
            "\n",
            "           A       0.44      0.17      0.24      1324\n",
            "           B       0.58      0.15      0.24      1728\n",
            "           C       0.55      0.31      0.40      1240\n",
            "           D       0.35      0.09      0.15       980\n",
            "           E       0.38      0.30      0.34      1992\n",
            "           F       0.29      0.14      0.19       988\n",
            "           G       0.43      0.30      0.35      1392\n",
            "           H       0.79      0.12      0.21      1744\n",
            "           I       0.11      0.28      0.16      1152\n",
            "           K       0.25      0.27      0.26      1324\n",
            "           L       0.30      0.21      0.25       836\n",
            "           M       0.30      0.05      0.09      1576\n",
            "           N       0.28      0.04      0.07      1164\n",
            "           O       0.28      0.21      0.24       984\n",
            "           P       0.13      0.71      0.22      1388\n",
            "           Q       0.21      0.25      0.22       656\n",
            "           R       0.09      0.22      0.12       576\n",
            "           S       0.07      0.04      0.05       984\n",
            "           T       0.09      0.45      0.15       992\n",
            "           U       0.00      0.00      0.00      1064\n",
            "           V       0.19      0.11      0.14      1384\n",
            "           W       0.02      0.00      0.01       824\n",
            "           X       0.56      0.12      0.20      1068\n",
            "           Y       0.15      0.06      0.09      1328\n",
            "\n",
            "    accuracy                           0.20     28688\n",
            "   macro avg       0.28      0.19      0.18     28688\n",
            "weighted avg       0.31      0.20      0.19     28688\n",
            "\n"
          ]
        }
      ],
      "source": [
        "# applying NB on standerdized data\n",
        "y_pred_sc = gnb.fit(X_train_sc, y_train).predict(X_test_sc)\n",
        "\n",
        "print(f\"Accuracy: {accuracy_score(y_test, y_pred_sc)}\")\n",
        "print(\"Classification report:\")\n",
        "print(classification_report(y_test, y_pred_sc, target_names=letters))"
      ]
    },
    {
      "cell_type": "code",
      "execution_count": null,
      "metadata": {
        "id": "fOspFwF2M2mn"
      },
      "outputs": [],
      "source": []
    },
    {
      "cell_type": "markdown",
      "metadata": {
        "id": "1uf1tjmcheTQ"
      },
      "source": [
        "### Logistic regrassion"
      ]
    },
    {
      "cell_type": "code",
      "execution_count": 18,
      "metadata": {
        "id": "2ORizMFHheTQ"
      },
      "outputs": [],
      "source": [
        "lr = LogisticRegression(max_iter=5000)"
      ]
    },
    {
      "cell_type": "code",
      "execution_count": null,
      "metadata": {
        "id": "QGjep96UheTR",
        "outputId": "6ec55548-daf4-4daf-a994-771d186aae91"
      },
      "outputs": [
        {
          "name": "stdout",
          "output_type": "stream",
          "text": [
            "Accuracy: 0.6823711527954835\n",
            "Classification report:\n",
            "              precision    recall  f1-score   support\n",
            "\n",
            "           A       0.71      0.75      0.73      4504\n",
            "           B       0.77      0.78      0.77      4040\n",
            "           C       0.87      0.87      0.87      4576\n",
            "           D       0.64      0.60      0.62      4784\n",
            "           E       0.74      0.70      0.72      3828\n",
            "           F       0.69      0.67      0.68      4816\n",
            "           G       0.77      0.76      0.76      4360\n",
            "           H       0.72      0.68      0.70      4052\n",
            "           I       0.66      0.70      0.68      4648\n",
            "           K       0.68      0.71      0.69      4456\n",
            "           L       0.67      0.74      0.70      4964\n",
            "           M       0.64      0.58      0.61      4220\n",
            "           N       0.64      0.61      0.63      4604\n",
            "           O       0.78      0.77      0.77      4784\n",
            "           P       0.75      0.79      0.77      4352\n",
            "           Q       0.77      0.79      0.78      5116\n",
            "           R       0.57      0.57      0.57      5176\n",
            "           S       0.58      0.58      0.58      4796\n",
            "           T       0.63      0.65      0.64      4744\n",
            "           U       0.61      0.60      0.61      4644\n",
            "           V       0.60      0.53      0.57      4328\n",
            "           W       0.57      0.62      0.59      4900\n",
            "           X       0.66      0.64      0.65      4656\n",
            "           Y       0.70      0.72      0.71      4472\n",
            "\n",
            "    accuracy                           0.68    109820\n",
            "   macro avg       0.68      0.68      0.68    109820\n",
            "weighted avg       0.68      0.68      0.68    109820\n",
            "\n"
          ]
        }
      ],
      "source": [
        "# testing logistic regression on train data\n",
        "y_pred_lr = lr.fit(X_train_sc, y_train).predict(X_train_sc)\n",
        "\n",
        "print(f\"Accuracy: {accuracy_score(y_train, y_pred_lr)}\")\n",
        "print(\"Classification report:\")\n",
        "print(classification_report(y_train, y_pred_lr, target_names=letters))\n"
      ]
    },
    {
      "cell_type": "code",
      "execution_count": null,
      "metadata": {
        "id": "kg3EmiwPheTQ",
        "outputId": "570d516e-e773-4d2f-c896-1f74ec7076e3"
      },
      "outputs": [
        {
          "name": "stdout",
          "output_type": "stream",
          "text": [
            "Accuracy: 0.5139431121026213\n",
            "Classification report:\n",
            "              precision    recall  f1-score   support\n",
            "\n",
            "           A       0.56      0.64      0.60      1324\n",
            "           B       0.75      0.65      0.70      1728\n",
            "           C       0.75      0.71      0.73      1240\n",
            "           D       0.43      0.53      0.48       980\n",
            "           E       0.73      0.57      0.64      1992\n",
            "           F       0.48      0.52      0.50       988\n",
            "           G       0.62      0.57      0.59      1392\n",
            "           H       0.78      0.57      0.66      1744\n",
            "           I       0.42      0.45      0.43      1152\n",
            "           K       0.55      0.52      0.53      1324\n",
            "           L       0.50      0.74      0.60       836\n",
            "           M       0.50      0.40      0.45      1576\n",
            "           N       0.36      0.38      0.37      1164\n",
            "           O       0.57      0.54      0.55       984\n",
            "           P       0.77      0.72      0.75      1388\n",
            "           Q       0.48      0.70      0.57       656\n",
            "           R       0.10      0.16      0.12       576\n",
            "           S       0.18      0.19      0.18       984\n",
            "           T       0.34      0.37      0.36       992\n",
            "           U       0.32      0.33      0.33      1064\n",
            "           V       0.45      0.31      0.37      1384\n",
            "           W       0.36      0.50      0.42       824\n",
            "           X       0.45      0.44      0.45      1068\n",
            "           Y       0.54      0.54      0.54      1328\n",
            "\n",
            "    accuracy                           0.51     28688\n",
            "   macro avg       0.50      0.50      0.50     28688\n",
            "weighted avg       0.53      0.51      0.52     28688\n",
            "\n"
          ]
        }
      ],
      "source": [
        "# testing logistic regression on test data\n",
        "y_pred_lr_sc = lr.fit(X_train_sc, y_train).predict(X_test_sc)\n",
        "\n",
        "print(f\"Accuracy: {accuracy_score(y_test, y_pred_lr_sc)}\")\n",
        "print(\"Classification report:\")\n",
        "print(classification_report(y_test, y_pred_lr_sc, target_names=letters))\n"
      ]
    },
    {
      "cell_type": "code",
      "execution_count": 12,
      "metadata": {
        "id": "bq3ih7WbheTR"
      },
      "outputs": [],
      "source": [
        "#normalized data \n",
        "X_train_norm = X_train/255 \n",
        "X_test_norm = X_test/255"
      ]
    },
    {
      "cell_type": "code",
      "execution_count": null,
      "metadata": {
        "id": "r3pjkzSDheTR",
        "outputId": "369a414c-ffd6-48a5-fa59-5d26970d6f64"
      },
      "outputs": [
        {
          "name": "stdout",
          "output_type": "stream",
          "text": [
            "Accuracy: 0.5329754601226994\n",
            "Classification report:\n",
            "              precision    recall  f1-score   support\n",
            "\n",
            "           A       0.57      0.65      0.61      1324\n",
            "           B       0.77      0.66      0.71      1728\n",
            "           C       0.75      0.71      0.73      1240\n",
            "           D       0.47      0.55      0.50       980\n",
            "           E       0.74      0.58      0.65      1992\n",
            "           F       0.49      0.56      0.52       988\n",
            "           G       0.63      0.58      0.61      1392\n",
            "           H       0.81      0.58      0.68      1744\n",
            "           I       0.44      0.47      0.45      1152\n",
            "           K       0.54      0.49      0.51      1324\n",
            "           L       0.51      0.78      0.62       836\n",
            "           M       0.55      0.44      0.49      1576\n",
            "           N       0.37      0.39      0.38      1164\n",
            "           O       0.60      0.55      0.57       984\n",
            "           P       0.80      0.78      0.79      1388\n",
            "           Q       0.50      0.69      0.58       656\n",
            "           R       0.11      0.18      0.14       576\n",
            "           S       0.18      0.19      0.19       984\n",
            "           T       0.36      0.41      0.38       992\n",
            "           U       0.33      0.35      0.34      1064\n",
            "           V       0.51      0.32      0.40      1384\n",
            "           W       0.37      0.53      0.44       824\n",
            "           X       0.48      0.51      0.50      1068\n",
            "           Y       0.56      0.56      0.56      1328\n",
            "\n",
            "    accuracy                           0.53     28688\n",
            "   macro avg       0.52      0.52      0.51     28688\n",
            "weighted avg       0.55      0.53      0.54     28688\n",
            "\n"
          ]
        }
      ],
      "source": [
        "# applying logistic regression on normalized data\n",
        "y_pred_lr_nm = lr.fit(X_train_norm, y_train).predict(X_test_norm)\n",
        "\n",
        "print(f\"Accuracy: {accuracy_score(y_test, y_pred_lr_nm)}\")\n",
        "print(\"Classification report:\")\n",
        "print(classification_report(y_test, y_pred_lr_nm, target_names=letters))\n"
      ]
    },
    {
      "cell_type": "code",
      "execution_count": null,
      "metadata": {
        "id": "OHZSmmy6heTR",
        "outputId": "19b1e440-9db3-467f-9aff-fa288f832f45"
      },
      "outputs": [
        {
          "name": "stdout",
          "output_type": "stream",
          "text": [
            "Accuracy: 0.6718175195774905\n",
            "Classification report:\n",
            "              precision    recall  f1-score   support\n",
            "\n",
            "           A       0.70      0.75      0.73      4504\n",
            "           B       0.76      0.77      0.77      4040\n",
            "           C       0.87      0.86      0.86      4576\n",
            "           D       0.63      0.58      0.61      4784\n",
            "           E       0.73      0.69      0.71      3828\n",
            "           F       0.68      0.66      0.67      4816\n",
            "           G       0.76      0.75      0.75      4360\n",
            "           H       0.71      0.67      0.69      4052\n",
            "           I       0.64      0.69      0.66      4648\n",
            "           K       0.67      0.69      0.68      4456\n",
            "           L       0.65      0.73      0.69      4964\n",
            "           M       0.64      0.57      0.60      4220\n",
            "           N       0.64      0.60      0.62      4604\n",
            "           O       0.77      0.76      0.76      4784\n",
            "           P       0.74      0.78      0.76      4352\n",
            "           Q       0.76      0.77      0.77      5116\n",
            "           R       0.56      0.56      0.56      5176\n",
            "           S       0.56      0.57      0.57      4796\n",
            "           T       0.61      0.64      0.63      4744\n",
            "           U       0.61      0.59      0.60      4644\n",
            "           V       0.59      0.52      0.55      4328\n",
            "           W       0.55      0.61      0.58      4900\n",
            "           X       0.64      0.63      0.64      4656\n",
            "           Y       0.70      0.71      0.70      4472\n",
            "\n",
            "    accuracy                           0.67    109820\n",
            "   macro avg       0.67      0.67      0.67    109820\n",
            "weighted avg       0.67      0.67      0.67    109820\n",
            "\n"
          ]
        }
      ],
      "source": [
        "# applying logistic regression on normalized data\n",
        "y_pred_lr_nm = lr.fit(X_train_norm, y_train).predict(X_train_norm)\n",
        "\n",
        "print(f\"Accuracy: {accuracy_score(y_train, y_pred_lr_nm)}\")\n",
        "print(\"Classification report:\")\n",
        "print(classification_report(y_train, y_pred_lr_nm, target_names=letters))\n"
      ]
    },
    {
      "cell_type": "markdown",
      "source": [
        "### LDA on SC data"
      ],
      "metadata": {
        "id": "zdSs7XWBPzQx"
      }
    },
    {
      "cell_type": "code",
      "execution_count": 42,
      "metadata": {
        "id": "aWN1TaRhheTR",
        "outputId": "ec517780-3bd7-468a-a1a1-1b63519da09d",
        "colab": {
          "base_uri": "https://localhost:8080/",
          "height": 74
        }
      },
      "outputs": [
        {
          "output_type": "execute_result",
          "data": {
            "text/plain": [
              "LinearDiscriminantAnalysis()"
            ],
            "text/html": [
              "<style>#sk-container-id-2 {color: black;background-color: white;}#sk-container-id-2 pre{padding: 0;}#sk-container-id-2 div.sk-toggleable {background-color: white;}#sk-container-id-2 label.sk-toggleable__label {cursor: pointer;display: block;width: 100%;margin-bottom: 0;padding: 0.3em;box-sizing: border-box;text-align: center;}#sk-container-id-2 label.sk-toggleable__label-arrow:before {content: \"▸\";float: left;margin-right: 0.25em;color: #696969;}#sk-container-id-2 label.sk-toggleable__label-arrow:hover:before {color: black;}#sk-container-id-2 div.sk-estimator:hover label.sk-toggleable__label-arrow:before {color: black;}#sk-container-id-2 div.sk-toggleable__content {max-height: 0;max-width: 0;overflow: hidden;text-align: left;background-color: #f0f8ff;}#sk-container-id-2 div.sk-toggleable__content pre {margin: 0.2em;color: black;border-radius: 0.25em;background-color: #f0f8ff;}#sk-container-id-2 input.sk-toggleable__control:checked~div.sk-toggleable__content {max-height: 200px;max-width: 100%;overflow: auto;}#sk-container-id-2 input.sk-toggleable__control:checked~label.sk-toggleable__label-arrow:before {content: \"▾\";}#sk-container-id-2 div.sk-estimator input.sk-toggleable__control:checked~label.sk-toggleable__label {background-color: #d4ebff;}#sk-container-id-2 div.sk-label input.sk-toggleable__control:checked~label.sk-toggleable__label {background-color: #d4ebff;}#sk-container-id-2 input.sk-hidden--visually {border: 0;clip: rect(1px 1px 1px 1px);clip: rect(1px, 1px, 1px, 1px);height: 1px;margin: -1px;overflow: hidden;padding: 0;position: absolute;width: 1px;}#sk-container-id-2 div.sk-estimator {font-family: monospace;background-color: #f0f8ff;border: 1px dotted black;border-radius: 0.25em;box-sizing: border-box;margin-bottom: 0.5em;}#sk-container-id-2 div.sk-estimator:hover {background-color: #d4ebff;}#sk-container-id-2 div.sk-parallel-item::after {content: \"\";width: 100%;border-bottom: 1px solid gray;flex-grow: 1;}#sk-container-id-2 div.sk-label:hover label.sk-toggleable__label {background-color: #d4ebff;}#sk-container-id-2 div.sk-serial::before {content: \"\";position: absolute;border-left: 1px solid gray;box-sizing: border-box;top: 0;bottom: 0;left: 50%;z-index: 0;}#sk-container-id-2 div.sk-serial {display: flex;flex-direction: column;align-items: center;background-color: white;padding-right: 0.2em;padding-left: 0.2em;position: relative;}#sk-container-id-2 div.sk-item {position: relative;z-index: 1;}#sk-container-id-2 div.sk-parallel {display: flex;align-items: stretch;justify-content: center;background-color: white;position: relative;}#sk-container-id-2 div.sk-item::before, #sk-container-id-2 div.sk-parallel-item::before {content: \"\";position: absolute;border-left: 1px solid gray;box-sizing: border-box;top: 0;bottom: 0;left: 50%;z-index: -1;}#sk-container-id-2 div.sk-parallel-item {display: flex;flex-direction: column;z-index: 1;position: relative;background-color: white;}#sk-container-id-2 div.sk-parallel-item:first-child::after {align-self: flex-end;width: 50%;}#sk-container-id-2 div.sk-parallel-item:last-child::after {align-self: flex-start;width: 50%;}#sk-container-id-2 div.sk-parallel-item:only-child::after {width: 0;}#sk-container-id-2 div.sk-dashed-wrapped {border: 1px dashed gray;margin: 0 0.4em 0.5em 0.4em;box-sizing: border-box;padding-bottom: 0.4em;background-color: white;}#sk-container-id-2 div.sk-label label {font-family: monospace;font-weight: bold;display: inline-block;line-height: 1.2em;}#sk-container-id-2 div.sk-label-container {text-align: center;}#sk-container-id-2 div.sk-container {/* jupyter's `normalize.less` sets `[hidden] { display: none; }` but bootstrap.min.css set `[hidden] { display: none !important; }` so we also need the `!important` here to be able to override the default hidden behavior on the sphinx rendered scikit-learn.org. See: https://github.com/scikit-learn/scikit-learn/issues/21755 */display: inline-block !important;position: relative;}#sk-container-id-2 div.sk-text-repr-fallback {display: none;}</style><div id=\"sk-container-id-2\" class=\"sk-top-container\"><div class=\"sk-text-repr-fallback\"><pre>LinearDiscriminantAnalysis()</pre><b>In a Jupyter environment, please rerun this cell to show the HTML representation or trust the notebook. <br />On GitHub, the HTML representation is unable to render, please try loading this page with nbviewer.org.</b></div><div class=\"sk-container\" hidden><div class=\"sk-item\"><div class=\"sk-estimator sk-toggleable\"><input class=\"sk-toggleable__control sk-hidden--visually\" id=\"sk-estimator-id-2\" type=\"checkbox\" checked><label for=\"sk-estimator-id-2\" class=\"sk-toggleable__label sk-toggleable__label-arrow\">LinearDiscriminantAnalysis</label><div class=\"sk-toggleable__content\"><pre>LinearDiscriminantAnalysis()</pre></div></div></div></div></div>"
            ]
          },
          "metadata": {},
          "execution_count": 42
        }
      ],
      "source": [
        "#define sklearn LDA object \n",
        "lda = LinearDiscriminantAnalysis()\n",
        "#fit on training data \n",
        "lda.fit(X_train_sc,y_train)"
      ]
    },
    {
      "cell_type": "code",
      "source": [
        "#fit on training data and transform\n",
        "X_train_lda = lda.transform(X_train_sc)\n",
        "X_test_lda = lda.transform(X_test_sc)"
      ],
      "metadata": {
        "id": "hchc9QagQD98"
      },
      "execution_count": 12,
      "outputs": []
    },
    {
      "cell_type": "code",
      "source": [
        "# testing logistic regression on train lda data\n",
        "y_pred_lr = lr.fit(X_train_lda, y_train).predict(X_train_lda)\n",
        "\n",
        "print(f\"Accuracy: {accuracy_score(y_train, y_pred_lr)}\")\n",
        "print(\"Classification report:\")\n",
        "print(classification_report(y_train, y_pred_lr, target_names=letters))\n"
      ],
      "metadata": {
        "id": "qPRmtUHLQluY",
        "outputId": "0525ed2e-0e6d-4fc8-fb0a-29fcb5e44e35",
        "colab": {
          "base_uri": "https://localhost:8080/"
        }
      },
      "execution_count": 19,
      "outputs": [
        {
          "output_type": "stream",
          "name": "stdout",
          "text": [
            "Accuracy: 0.5857038790748498\n",
            "Classification report:\n",
            "              precision    recall  f1-score   support\n",
            "\n",
            "           A       0.62      0.60      0.61      4504\n",
            "           B       0.65      0.65      0.65      4040\n",
            "           C       0.81      0.75      0.78      4576\n",
            "           D       0.52      0.50      0.51      4784\n",
            "           E       0.66      0.60      0.62      3828\n",
            "           F       0.57      0.60      0.58      4816\n",
            "           G       0.67      0.63      0.65      4360\n",
            "           H       0.64      0.60      0.62      4052\n",
            "           I       0.53      0.60      0.57      4648\n",
            "           K       0.58      0.59      0.58      4456\n",
            "           L       0.59      0.67      0.63      4964\n",
            "           M       0.55      0.49      0.52      4220\n",
            "           N       0.52      0.49      0.51      4604\n",
            "           O       0.71      0.70      0.70      4784\n",
            "           P       0.69      0.69      0.69      4352\n",
            "           Q       0.69      0.73      0.71      5116\n",
            "           R       0.45      0.46      0.46      5176\n",
            "           S       0.45      0.49      0.47      4796\n",
            "           T       0.53      0.59      0.56      4744\n",
            "           U       0.52      0.49      0.50      4644\n",
            "           V       0.51      0.44      0.47      4328\n",
            "           W       0.47      0.51      0.49      4900\n",
            "           X       0.59      0.61      0.60      4656\n",
            "           Y       0.62      0.60      0.61      4472\n",
            "\n",
            "    accuracy                           0.59    109820\n",
            "   macro avg       0.59      0.59      0.59    109820\n",
            "weighted avg       0.59      0.59      0.59    109820\n",
            "\n"
          ]
        }
      ]
    },
    {
      "cell_type": "code",
      "source": [
        "# testing logistic regression on test data\n",
        "y_pred_lr_test = lr.fit(X_train_lda, y_train).predict(X_test_lda)\n",
        "\n",
        "print(f\"Accuracy: {accuracy_score(y_test, y_pred_lr_test)}\")\n",
        "print(\"Classification report:\")\n",
        "print(classification_report(y_test, y_pred_lr_test, target_names=letters))\n"
      ],
      "metadata": {
        "id": "Y_1bMKUNQ_JD",
        "outputId": "9aa909e2-2d5e-48d3-a8ae-a8de873120ad",
        "colab": {
          "base_uri": "https://localhost:8080/"
        }
      },
      "execution_count": 20,
      "outputs": [
        {
          "output_type": "stream",
          "name": "stdout",
          "text": [
            "Accuracy: 0.4447852760736196\n",
            "Classification report:\n",
            "              precision    recall  f1-score   support\n",
            "\n",
            "           A       0.48      0.55      0.51      1324\n",
            "           B       0.68      0.51      0.58      1728\n",
            "           C       0.77      0.64      0.70      1240\n",
            "           D       0.39      0.46      0.42       980\n",
            "           E       0.64      0.48      0.55      1992\n",
            "           F       0.41      0.48      0.44       988\n",
            "           G       0.53      0.47      0.50      1392\n",
            "           H       0.73      0.48      0.58      1744\n",
            "           I       0.35      0.38      0.37      1152\n",
            "           K       0.40      0.40      0.40      1324\n",
            "           L       0.50      0.75      0.60       836\n",
            "           M       0.44      0.32      0.37      1576\n",
            "           N       0.27      0.30      0.28      1164\n",
            "           O       0.55      0.52      0.53       984\n",
            "           P       0.76      0.64      0.70      1388\n",
            "           Q       0.37      0.62      0.47       656\n",
            "           R       0.07      0.13      0.09       576\n",
            "           S       0.18      0.23      0.20       984\n",
            "           T       0.27      0.36      0.31       992\n",
            "           U       0.28      0.27      0.28      1064\n",
            "           V       0.41      0.24      0.30      1384\n",
            "           W       0.26      0.41      0.31       824\n",
            "           X       0.43      0.48      0.45      1068\n",
            "           Y       0.50      0.44      0.46      1328\n",
            "\n",
            "    accuracy                           0.44     28688\n",
            "   macro avg       0.44      0.44      0.43     28688\n",
            "weighted avg       0.48      0.44      0.45     28688\n",
            "\n"
          ]
        }
      ]
    },
    {
      "cell_type": "markdown",
      "source": [
        "### Using best parameters\n",
        "\n",
        "now we will use our best parameters for logistic regression which include regularization on data.\n",
        "\n",
        "Best hyperparameters: {'C': 3.4647045830997407, 'max_iter': 3171, 'penalty': 'l2', 'solver': 'liblinear', 'warm_start': False}"
      ],
      "metadata": {
        "id": "aEW_am6HRRAb"
      }
    },
    {
      "cell_type": "code",
      "source": [
        "lr = LogisticRegression(C=3.4647045830997407,\n",
        "                        max_iter=3171, \n",
        "                        penalty=\"l2\", \n",
        "                        solver=\"liblinear\",\n",
        "                        warm_start=False)"
      ],
      "metadata": {
        "id": "gjUuH18hRW0Z"
      },
      "execution_count": 82,
      "outputs": []
    },
    {
      "cell_type": "code",
      "source": [
        "# applying Logistic regression on standerdized data and predicting on train\n",
        "y_pred_lr_train = lr.fit(X_train_lda, y_train).predict(X_train_lda)\n",
        "\n",
        "print(f\"Accuracy: {accuracy_score(y_train, y_pred_lr_train)}\")\n",
        "print(\"Classification report:\")\n",
        "print(classification_report(y_train, y_pred_lr_train, target_names=letters))"
      ],
      "metadata": {
        "id": "bEJ9wZ7ETvzA",
        "outputId": "fdae0377-ac41-45fc-d88c-a01a68ec1608",
        "colab": {
          "base_uri": "https://localhost:8080/"
        }
      },
      "execution_count": 83,
      "outputs": [
        {
          "output_type": "stream",
          "name": "stdout",
          "text": [
            "Accuracy: 0.5771808413767984\n",
            "Classification report:\n",
            "              precision    recall  f1-score   support\n",
            "\n",
            "           A       0.61      0.60      0.60      4504\n",
            "           B       0.61      0.60      0.61      4040\n",
            "           C       0.78      0.74      0.76      4576\n",
            "           D       0.53      0.50      0.51      4784\n",
            "           E       0.66      0.57      0.61      3828\n",
            "           F       0.57      0.60      0.59      4816\n",
            "           G       0.66      0.63      0.64      4360\n",
            "           H       0.64      0.58      0.61      4052\n",
            "           I       0.52      0.60      0.56      4648\n",
            "           K       0.57      0.60      0.59      4456\n",
            "           L       0.56      0.65      0.61      4964\n",
            "           M       0.56      0.47      0.51      4220\n",
            "           N       0.53      0.47      0.50      4604\n",
            "           O       0.70      0.66      0.68      4784\n",
            "           P       0.69      0.69      0.69      4352\n",
            "           Q       0.68      0.75      0.71      5116\n",
            "           R       0.45      0.45      0.45      5176\n",
            "           S       0.46      0.49      0.47      4796\n",
            "           T       0.49      0.59      0.54      4744\n",
            "           U       0.49      0.47      0.48      4644\n",
            "           V       0.51      0.44      0.47      4328\n",
            "           W       0.45      0.49      0.47      4900\n",
            "           X       0.59      0.62      0.60      4656\n",
            "           Y       0.63      0.61      0.62      4472\n",
            "\n",
            "    accuracy                           0.58    109820\n",
            "   macro avg       0.58      0.58      0.58    109820\n",
            "weighted avg       0.58      0.58      0.58    109820\n",
            "\n"
          ]
        }
      ]
    },
    {
      "cell_type": "code",
      "source": [
        "# Confusion Matrix\n",
        "cm = confusion_matrix(y_train, y_pred_lr_train, labels=labels)\n",
        "disp = ConfusionMatrixDisplay(confusion_matrix=cm, display_labels=labels)\n",
        "disp.plot(cmap='RdPu')\n",
        "plt.title(\"Confusion Matrix\")\n",
        "plt.show()"
      ],
      "metadata": {
        "id": "1wdPLe7uF1eJ",
        "outputId": "8c1549cf-3d66-4dd9-bc71-1534974a4a8e",
        "colab": {
          "base_uri": "https://localhost:8080/",
          "height": 398
        }
      },
      "execution_count": 85,
      "outputs": [
        {
          "output_type": "error",
          "ename": "TypeError",
          "evalue": "ignored",
          "traceback": [
            "\u001b[0;31m---------------------------------------------------------------------------\u001b[0m",
            "\u001b[0;31mTypeError\u001b[0m                                 Traceback (most recent call last)",
            "\u001b[0;32m<ipython-input-85-92769c7c0c68>\u001b[0m in \u001b[0;36m<cell line: 2>\u001b[0;34m()\u001b[0m\n\u001b[1;32m      1\u001b[0m \u001b[0;31m# Confusion Matrix\u001b[0m\u001b[0;34m\u001b[0m\u001b[0;34m\u001b[0m\u001b[0m\n\u001b[0;32m----> 2\u001b[0;31m \u001b[0mcm\u001b[0m \u001b[0;34m=\u001b[0m \u001b[0mconfusion_matrix\u001b[0m\u001b[0;34m(\u001b[0m\u001b[0my_train\u001b[0m\u001b[0;34m,\u001b[0m \u001b[0my_pred_lr_train\u001b[0m\u001b[0;34m,\u001b[0m \u001b[0mlabels\u001b[0m\u001b[0;34m=\u001b[0m\u001b[0mlabels\u001b[0m\u001b[0;34m)\u001b[0m\u001b[0;34m\u001b[0m\u001b[0;34m\u001b[0m\u001b[0m\n\u001b[0m\u001b[1;32m      3\u001b[0m \u001b[0mdisp\u001b[0m \u001b[0;34m=\u001b[0m \u001b[0mConfusionMatrixDisplay\u001b[0m\u001b[0;34m(\u001b[0m\u001b[0mconfusion_matrix\u001b[0m\u001b[0;34m=\u001b[0m\u001b[0mcm\u001b[0m\u001b[0;34m,\u001b[0m \u001b[0mdisplay_labels\u001b[0m\u001b[0;34m=\u001b[0m\u001b[0mlabels\u001b[0m\u001b[0;34m)\u001b[0m\u001b[0;34m\u001b[0m\u001b[0;34m\u001b[0m\u001b[0m\n\u001b[1;32m      4\u001b[0m \u001b[0mdisp\u001b[0m\u001b[0;34m.\u001b[0m\u001b[0mplot\u001b[0m\u001b[0;34m(\u001b[0m\u001b[0mcmap\u001b[0m\u001b[0;34m=\u001b[0m\u001b[0;34m'RdPu'\u001b[0m\u001b[0;34m)\u001b[0m\u001b[0;34m\u001b[0m\u001b[0;34m\u001b[0m\u001b[0m\n\u001b[1;32m      5\u001b[0m \u001b[0mplt\u001b[0m\u001b[0;34m.\u001b[0m\u001b[0mtitle\u001b[0m\u001b[0;34m(\u001b[0m\u001b[0;34m\"Confusion Matrix\"\u001b[0m\u001b[0;34m)\u001b[0m\u001b[0;34m\u001b[0m\u001b[0;34m\u001b[0m\u001b[0m\n",
            "\u001b[0;32m/usr/local/lib/python3.10/dist-packages/sklearn/metrics/_classification.py\u001b[0m in \u001b[0;36mconfusion_matrix\u001b[0;34m(y_true, y_pred, labels, sample_weight, normalize)\u001b[0m\n\u001b[1;32m    328\u001b[0m         \u001b[0;32melif\u001b[0m \u001b[0my_true\u001b[0m\u001b[0;34m.\u001b[0m\u001b[0msize\u001b[0m \u001b[0;34m==\u001b[0m \u001b[0;36m0\u001b[0m\u001b[0;34m:\u001b[0m\u001b[0;34m\u001b[0m\u001b[0;34m\u001b[0m\u001b[0m\n\u001b[1;32m    329\u001b[0m             \u001b[0;32mreturn\u001b[0m \u001b[0mnp\u001b[0m\u001b[0;34m.\u001b[0m\u001b[0mzeros\u001b[0m\u001b[0;34m(\u001b[0m\u001b[0;34m(\u001b[0m\u001b[0mn_labels\u001b[0m\u001b[0;34m,\u001b[0m \u001b[0mn_labels\u001b[0m\u001b[0;34m)\u001b[0m\u001b[0;34m,\u001b[0m \u001b[0mdtype\u001b[0m\u001b[0;34m=\u001b[0m\u001b[0mint\u001b[0m\u001b[0;34m)\u001b[0m\u001b[0;34m\u001b[0m\u001b[0;34m\u001b[0m\u001b[0m\n\u001b[0;32m--> 330\u001b[0;31m         \u001b[0;32melif\u001b[0m \u001b[0mlen\u001b[0m\u001b[0;34m(\u001b[0m\u001b[0mnp\u001b[0m\u001b[0;34m.\u001b[0m\u001b[0mintersect1d\u001b[0m\u001b[0;34m(\u001b[0m\u001b[0my_true\u001b[0m\u001b[0;34m,\u001b[0m \u001b[0mlabels\u001b[0m\u001b[0;34m)\u001b[0m\u001b[0;34m)\u001b[0m \u001b[0;34m==\u001b[0m \u001b[0;36m0\u001b[0m\u001b[0;34m:\u001b[0m\u001b[0;34m\u001b[0m\u001b[0;34m\u001b[0m\u001b[0m\n\u001b[0m\u001b[1;32m    331\u001b[0m             \u001b[0;32mraise\u001b[0m \u001b[0mValueError\u001b[0m\u001b[0;34m(\u001b[0m\u001b[0;34m\"At least one label specified must be in y_true\"\u001b[0m\u001b[0;34m)\u001b[0m\u001b[0;34m\u001b[0m\u001b[0;34m\u001b[0m\u001b[0m\n\u001b[1;32m    332\u001b[0m \u001b[0;34m\u001b[0m\u001b[0m\n",
            "\u001b[0;32m/usr/local/lib/python3.10/dist-packages/numpy/core/overrides.py\u001b[0m in \u001b[0;36mintersect1d\u001b[0;34m(*args, **kwargs)\u001b[0m\n",
            "\u001b[0;32m/usr/local/lib/python3.10/dist-packages/numpy/lib/arraysetops.py\u001b[0m in \u001b[0;36mintersect1d\u001b[0;34m(ar1, ar2, assume_unique, return_indices)\u001b[0m\n\u001b[1;32m    449\u001b[0m         \u001b[0maux\u001b[0m \u001b[0;34m=\u001b[0m \u001b[0maux\u001b[0m\u001b[0;34m[\u001b[0m\u001b[0maux_sort_indices\u001b[0m\u001b[0;34m]\u001b[0m\u001b[0;34m\u001b[0m\u001b[0;34m\u001b[0m\u001b[0m\n\u001b[1;32m    450\u001b[0m     \u001b[0;32melse\u001b[0m\u001b[0;34m:\u001b[0m\u001b[0;34m\u001b[0m\u001b[0;34m\u001b[0m\u001b[0m\n\u001b[0;32m--> 451\u001b[0;31m         \u001b[0maux\u001b[0m\u001b[0;34m.\u001b[0m\u001b[0msort\u001b[0m\u001b[0;34m(\u001b[0m\u001b[0;34m)\u001b[0m\u001b[0;34m\u001b[0m\u001b[0;34m\u001b[0m\u001b[0m\n\u001b[0m\u001b[1;32m    452\u001b[0m \u001b[0;34m\u001b[0m\u001b[0m\n\u001b[1;32m    453\u001b[0m     \u001b[0mmask\u001b[0m \u001b[0;34m=\u001b[0m \u001b[0maux\u001b[0m\u001b[0;34m[\u001b[0m\u001b[0;36m1\u001b[0m\u001b[0;34m:\u001b[0m\u001b[0;34m]\u001b[0m \u001b[0;34m==\u001b[0m \u001b[0maux\u001b[0m\u001b[0;34m[\u001b[0m\u001b[0;34m:\u001b[0m\u001b[0;34m-\u001b[0m\u001b[0;36m1\u001b[0m\u001b[0;34m]\u001b[0m\u001b[0;34m\u001b[0m\u001b[0;34m\u001b[0m\u001b[0m\n",
            "\u001b[0;31mTypeError\u001b[0m: '<' not supported between instances of 'dict' and 'int'"
          ]
        }
      ]
    },
    {
      "cell_type": "code",
      "source": [
        "import seaborn as sns\n",
        "import matplotlib.pyplot as plt\n",
        "from sklearn.metrics import confusion_matrix\n",
        "\n",
        "def plot_confusion_matrix(y_true, y_pred, labels):\n",
        "    cm = confusion_matrix(y_true, y_pred, labels=labels)\n",
        "    plt.figure(figsize=(8, 6))\n",
        "    ax = sns.heatmap(cm, annot=True, cmap=\"YlGnBu\", fmt=\"d\", xticklabels=labels, yticklabels=labels)\n",
        "    ax.set_ylabel('True label')\n",
        "    ax.set_xlabel('Predicted label')\n",
        "    ax.set_title('Confusion matrix')\n",
        "    plt.show()"
      ],
      "metadata": {
        "id": "-jyO1xSlWN-q"
      },
      "execution_count": 74,
      "outputs": []
    },
    {
      "cell_type": "code",
      "source": [
        "print(y_train)"
      ],
      "metadata": {
        "id": "EjS32VK6-3_d",
        "outputId": "e2c01c12-3520-4c0c-b89a-a3d273bb29fe",
        "colab": {
          "base_uri": "https://localhost:8080/"
        }
      },
      "execution_count": 75,
      "outputs": [
        {
          "output_type": "stream",
          "name": "stdout",
          "text": [
            "[ 3  3  3 ... 18 17 23]\n"
          ]
        }
      ]
    },
    {
      "cell_type": "code",
      "source": [
        "print(labels)"
      ],
      "metadata": {
        "id": "c9grnebS_XDl",
        "outputId": "b81e0871-0cb6-4233-e9f2-c7778b913be1",
        "colab": {
          "base_uri": "https://localhost:8080/"
        }
      },
      "execution_count": 76,
      "outputs": [
        {
          "output_type": "stream",
          "name": "stdout",
          "text": [
            "{0: 'A', 1: 'B', 2: 'C', 3: 'D', 4: 'E', 5: 'F', 6: 'G', 7: 'H', 8: 'I', 10: 'K', 11: 'L', 12: 'M', 13: 'N', 14: 'O', 15: 'P', 16: 'Q', 17: 'R', 18: 'S', 19: 'T', 20: 'U', 21: 'V', 22: 'W', 23: 'X', 24: 'Y'}\n"
          ]
        }
      ]
    },
    {
      "cell_type": "code",
      "source": [
        "print(letters)"
      ],
      "metadata": {
        "id": "GJuY0FyU_pSw",
        "outputId": "894b65ac-0123-49f8-850f-23ad63ca3b07",
        "colab": {
          "base_uri": "https://localhost:8080/"
        }
      },
      "execution_count": 77,
      "outputs": [
        {
          "output_type": "stream",
          "name": "stdout",
          "text": [
            "['A', 'B', 'C', 'D', 'E', 'F', 'G', 'H', 'I', 'K', 'L', 'M', 'N', 'O', 'P', 'Q', 'R', 'S', 'T', 'U', 'V', 'W', 'X', 'Y']\n"
          ]
        }
      ]
    },
    {
      "cell_type": "code",
      "source": [
        "print(y_pred_lr_train)"
      ],
      "metadata": {
        "id": "EK9D4Dz7_Lo6",
        "outputId": "9c0878c9-d4c3-40ce-b8e8-a22529257c55",
        "colab": {
          "base_uri": "https://localhost:8080/"
        }
      },
      "execution_count": 78,
      "outputs": [
        {
          "output_type": "stream",
          "name": "stdout",
          "text": [
            "[23 11 23 ... 18 17 23]\n"
          ]
        }
      ]
    },
    {
      "cell_type": "code",
      "source": [
        "plot_confusion_matrix(y_train, y_pred_lr_train, labels)"
      ],
      "metadata": {
        "id": "VKEQlwS64tPy",
        "outputId": "db897ebf-9044-469f-dbb1-faee5cac5f84",
        "colab": {
          "base_uri": "https://localhost:8080/",
          "height": 676
        }
      },
      "execution_count": 80,
      "outputs": [
        {
          "output_type": "error",
          "ename": "TypeError",
          "evalue": "ignored",
          "traceback": [
            "\u001b[0;31m---------------------------------------------------------------------------\u001b[0m",
            "\u001b[0;31mTypeError\u001b[0m                                 Traceback (most recent call last)",
            "\u001b[0;32m<ipython-input-80-36f78586d468>\u001b[0m in \u001b[0;36m<cell line: 1>\u001b[0;34m()\u001b[0m\n\u001b[0;32m----> 1\u001b[0;31m \u001b[0mplot_confusion_matrix\u001b[0m\u001b[0;34m(\u001b[0m\u001b[0my_train\u001b[0m\u001b[0;34m,\u001b[0m \u001b[0my_pred_lr_train\u001b[0m\u001b[0;34m,\u001b[0m \u001b[0mlabels\u001b[0m\u001b[0;34m)\u001b[0m\u001b[0;34m\u001b[0m\u001b[0;34m\u001b[0m\u001b[0m\n\u001b[0m",
            "\u001b[0;32m<ipython-input-74-3ec345516eeb>\u001b[0m in \u001b[0;36mplot_confusion_matrix\u001b[0;34m(y_true, y_pred, labels)\u001b[0m\n\u001b[1;32m      4\u001b[0m \u001b[0;34m\u001b[0m\u001b[0m\n\u001b[1;32m      5\u001b[0m \u001b[0;32mdef\u001b[0m \u001b[0mplot_confusion_matrix\u001b[0m\u001b[0;34m(\u001b[0m\u001b[0my_true\u001b[0m\u001b[0;34m,\u001b[0m \u001b[0my_pred\u001b[0m\u001b[0;34m,\u001b[0m \u001b[0mlabels\u001b[0m\u001b[0;34m)\u001b[0m\u001b[0;34m:\u001b[0m\u001b[0;34m\u001b[0m\u001b[0;34m\u001b[0m\u001b[0m\n\u001b[0;32m----> 6\u001b[0;31m     \u001b[0mcm\u001b[0m \u001b[0;34m=\u001b[0m \u001b[0mconfusion_matrix\u001b[0m\u001b[0;34m(\u001b[0m\u001b[0my_true\u001b[0m\u001b[0;34m,\u001b[0m \u001b[0my_pred\u001b[0m\u001b[0;34m,\u001b[0m \u001b[0mlabels\u001b[0m\u001b[0;34m=\u001b[0m\u001b[0mlabels\u001b[0m\u001b[0;34m)\u001b[0m\u001b[0;34m\u001b[0m\u001b[0;34m\u001b[0m\u001b[0m\n\u001b[0m\u001b[1;32m      7\u001b[0m     \u001b[0mplt\u001b[0m\u001b[0;34m.\u001b[0m\u001b[0mfigure\u001b[0m\u001b[0;34m(\u001b[0m\u001b[0mfigsize\u001b[0m\u001b[0;34m=\u001b[0m\u001b[0;34m(\u001b[0m\u001b[0;36m8\u001b[0m\u001b[0;34m,\u001b[0m \u001b[0;36m6\u001b[0m\u001b[0;34m)\u001b[0m\u001b[0;34m)\u001b[0m\u001b[0;34m\u001b[0m\u001b[0;34m\u001b[0m\u001b[0m\n\u001b[1;32m      8\u001b[0m     \u001b[0max\u001b[0m \u001b[0;34m=\u001b[0m \u001b[0msns\u001b[0m\u001b[0;34m.\u001b[0m\u001b[0mheatmap\u001b[0m\u001b[0;34m(\u001b[0m\u001b[0mcm\u001b[0m\u001b[0;34m,\u001b[0m \u001b[0mannot\u001b[0m\u001b[0;34m=\u001b[0m\u001b[0;32mTrue\u001b[0m\u001b[0;34m,\u001b[0m \u001b[0mcmap\u001b[0m\u001b[0;34m=\u001b[0m\u001b[0;34m\"YlGnBu\"\u001b[0m\u001b[0;34m,\u001b[0m \u001b[0mfmt\u001b[0m\u001b[0;34m=\u001b[0m\u001b[0;34m\"d\"\u001b[0m\u001b[0;34m,\u001b[0m \u001b[0mxticklabels\u001b[0m\u001b[0;34m=\u001b[0m\u001b[0mlabels\u001b[0m\u001b[0;34m,\u001b[0m \u001b[0myticklabels\u001b[0m\u001b[0;34m=\u001b[0m\u001b[0mlabels\u001b[0m\u001b[0;34m)\u001b[0m\u001b[0;34m\u001b[0m\u001b[0;34m\u001b[0m\u001b[0m\n",
            "\u001b[0;32m/usr/local/lib/python3.10/dist-packages/sklearn/metrics/_classification.py\u001b[0m in \u001b[0;36mconfusion_matrix\u001b[0;34m(y_true, y_pred, labels, sample_weight, normalize)\u001b[0m\n\u001b[1;32m    328\u001b[0m         \u001b[0;32melif\u001b[0m \u001b[0my_true\u001b[0m\u001b[0;34m.\u001b[0m\u001b[0msize\u001b[0m \u001b[0;34m==\u001b[0m \u001b[0;36m0\u001b[0m\u001b[0;34m:\u001b[0m\u001b[0;34m\u001b[0m\u001b[0;34m\u001b[0m\u001b[0m\n\u001b[1;32m    329\u001b[0m             \u001b[0;32mreturn\u001b[0m \u001b[0mnp\u001b[0m\u001b[0;34m.\u001b[0m\u001b[0mzeros\u001b[0m\u001b[0;34m(\u001b[0m\u001b[0;34m(\u001b[0m\u001b[0mn_labels\u001b[0m\u001b[0;34m,\u001b[0m \u001b[0mn_labels\u001b[0m\u001b[0;34m)\u001b[0m\u001b[0;34m,\u001b[0m \u001b[0mdtype\u001b[0m\u001b[0;34m=\u001b[0m\u001b[0mint\u001b[0m\u001b[0;34m)\u001b[0m\u001b[0;34m\u001b[0m\u001b[0;34m\u001b[0m\u001b[0m\n\u001b[0;32m--> 330\u001b[0;31m         \u001b[0;32melif\u001b[0m \u001b[0mlen\u001b[0m\u001b[0;34m(\u001b[0m\u001b[0mnp\u001b[0m\u001b[0;34m.\u001b[0m\u001b[0mintersect1d\u001b[0m\u001b[0;34m(\u001b[0m\u001b[0my_true\u001b[0m\u001b[0;34m,\u001b[0m \u001b[0mlabels\u001b[0m\u001b[0;34m)\u001b[0m\u001b[0;34m)\u001b[0m \u001b[0;34m==\u001b[0m \u001b[0;36m0\u001b[0m\u001b[0;34m:\u001b[0m\u001b[0;34m\u001b[0m\u001b[0;34m\u001b[0m\u001b[0m\n\u001b[0m\u001b[1;32m    331\u001b[0m             \u001b[0;32mraise\u001b[0m \u001b[0mValueError\u001b[0m\u001b[0;34m(\u001b[0m\u001b[0;34m\"At least one label specified must be in y_true\"\u001b[0m\u001b[0;34m)\u001b[0m\u001b[0;34m\u001b[0m\u001b[0;34m\u001b[0m\u001b[0m\n\u001b[1;32m    332\u001b[0m \u001b[0;34m\u001b[0m\u001b[0m\n",
            "\u001b[0;32m/usr/local/lib/python3.10/dist-packages/numpy/core/overrides.py\u001b[0m in \u001b[0;36mintersect1d\u001b[0;34m(*args, **kwargs)\u001b[0m\n",
            "\u001b[0;32m/usr/local/lib/python3.10/dist-packages/numpy/lib/arraysetops.py\u001b[0m in \u001b[0;36mintersect1d\u001b[0;34m(ar1, ar2, assume_unique, return_indices)\u001b[0m\n\u001b[1;32m    449\u001b[0m         \u001b[0maux\u001b[0m \u001b[0;34m=\u001b[0m \u001b[0maux\u001b[0m\u001b[0;34m[\u001b[0m\u001b[0maux_sort_indices\u001b[0m\u001b[0;34m]\u001b[0m\u001b[0;34m\u001b[0m\u001b[0;34m\u001b[0m\u001b[0m\n\u001b[1;32m    450\u001b[0m     \u001b[0;32melse\u001b[0m\u001b[0;34m:\u001b[0m\u001b[0;34m\u001b[0m\u001b[0;34m\u001b[0m\u001b[0m\n\u001b[0;32m--> 451\u001b[0;31m         \u001b[0maux\u001b[0m\u001b[0;34m.\u001b[0m\u001b[0msort\u001b[0m\u001b[0;34m(\u001b[0m\u001b[0;34m)\u001b[0m\u001b[0;34m\u001b[0m\u001b[0;34m\u001b[0m\u001b[0m\n\u001b[0m\u001b[1;32m    452\u001b[0m \u001b[0;34m\u001b[0m\u001b[0m\n\u001b[1;32m    453\u001b[0m     \u001b[0mmask\u001b[0m \u001b[0;34m=\u001b[0m \u001b[0maux\u001b[0m\u001b[0;34m[\u001b[0m\u001b[0;36m1\u001b[0m\u001b[0;34m:\u001b[0m\u001b[0;34m]\u001b[0m \u001b[0;34m==\u001b[0m \u001b[0maux\u001b[0m\u001b[0;34m[\u001b[0m\u001b[0;34m:\u001b[0m\u001b[0;34m-\u001b[0m\u001b[0;36m1\u001b[0m\u001b[0;34m]\u001b[0m\u001b[0;34m\u001b[0m\u001b[0;34m\u001b[0m\u001b[0m\n",
            "\u001b[0;31mTypeError\u001b[0m: '<' not supported between instances of 'dict' and 'int'"
          ]
        }
      ]
    },
    {
      "cell_type": "code",
      "source": [
        "# testing logistic regression on test data\n",
        "y_pred_lr_test = lr.fit(X_train_lda, y_train).predict(X_test_lda)\n",
        "\n",
        "print(f\"Accuracy: {accuracy_score(y_test, y_pred_lr_test)}\")\n",
        "print(\"Classification report:\")\n",
        "print(classification_report(y_test, y_pred_lr_test, target_names=letters))\n"
      ],
      "metadata": {
        "id": "xbJcQ73DT5Jj",
        "outputId": "39daa7e9-2cd2-4517-c900-4ddfcf300b0c",
        "colab": {
          "base_uri": "https://localhost:8080/"
        }
      },
      "execution_count": 25,
      "outputs": [
        {
          "output_type": "stream",
          "name": "stdout",
          "text": [
            "Accuracy: 0.42498605688789737\n",
            "Classification report:\n",
            "              precision    recall  f1-score   support\n",
            "\n",
            "           A       0.44      0.53      0.48      1324\n",
            "           B       0.63      0.49      0.55      1728\n",
            "           C       0.68      0.60      0.64      1240\n",
            "           D       0.36      0.47      0.41       980\n",
            "           E       0.61      0.44      0.51      1992\n",
            "           F       0.41      0.48      0.44       988\n",
            "           G       0.54      0.48      0.51      1392\n",
            "           H       0.76      0.48      0.59      1744\n",
            "           I       0.33      0.37      0.35      1152\n",
            "           K       0.41      0.39      0.40      1324\n",
            "           L       0.48      0.73      0.58       836\n",
            "           M       0.42      0.26      0.32      1576\n",
            "           N       0.26      0.27      0.26      1164\n",
            "           O       0.47      0.42      0.45       984\n",
            "           P       0.72      0.63      0.67      1388\n",
            "           Q       0.35      0.61      0.45       656\n",
            "           R       0.08      0.15      0.11       576\n",
            "           S       0.18      0.23      0.20       984\n",
            "           T       0.26      0.39      0.31       992\n",
            "           U       0.24      0.24      0.24      1064\n",
            "           V       0.41      0.23      0.29      1384\n",
            "           W       0.23      0.36      0.28       824\n",
            "           X       0.46      0.49      0.48      1068\n",
            "           Y       0.48      0.42      0.45      1328\n",
            "\n",
            "    accuracy                           0.42     28688\n",
            "   macro avg       0.43      0.42      0.41     28688\n",
            "weighted avg       0.46      0.42      0.43     28688\n",
            "\n"
          ]
        }
      ]
    },
    {
      "cell_type": "code",
      "source": [],
      "metadata": {
        "id": "Xaga2KziVwZ_"
      },
      "execution_count": null,
      "outputs": []
    }
  ],
  "metadata": {
    "colab": {
      "provenance": []
    },
    "kernelspec": {
      "display_name": "sign_language_interpreter",
      "language": "python",
      "name": "python3"
    },
    "language_info": {
      "codemirror_mode": {
        "name": "ipython",
        "version": 3
      },
      "file_extension": ".py",
      "mimetype": "text/x-python",
      "name": "python",
      "nbconvert_exporter": "python",
      "pygments_lexer": "ipython3",
      "version": "3.9.16"
    },
    "orig_nbformat": 4,
    "accelerator": "GPU",
    "gpuClass": "standard"
  },
  "nbformat": 4,
  "nbformat_minor": 0
}