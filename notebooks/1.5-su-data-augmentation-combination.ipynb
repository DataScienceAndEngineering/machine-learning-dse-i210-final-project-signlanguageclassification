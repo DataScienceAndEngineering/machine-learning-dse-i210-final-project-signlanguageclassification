{
  "cells": [
    {
      "cell_type": "code",
      "execution_count": 25,
      "metadata": {
        "id": "FkoJnWmQ5GJa"
      },
      "outputs": [],
      "source": [
        "#import library\n",
        "import os\n",
        "import numpy as np\n",
        "import pickle\n",
        "from tensorflow.keras.preprocessing.image import ImageDataGenerator, array_to_img, img_to_array"
      ]
    },
    {
      "cell_type": "code",
      "source": [
        "from google.colab import drive\n",
        "drive.mount('/content/drive')"
      ],
      "metadata": {
        "id": "_guRPRDs5P7H",
        "outputId": "fec286e1-cbee-437f-a1ed-9e83f9e8ca56",
        "colab": {
          "base_uri": "https://localhost:8080/"
        }
      },
      "execution_count": 26,
      "outputs": [
        {
          "output_type": "stream",
          "name": "stdout",
          "text": [
            "Drive already mounted at /content/drive; to attempt to forcibly remount, call drive.mount(\"/content/drive\", force_remount=True).\n"
          ]
        }
      ]
    },
    {
      "cell_type": "code",
      "execution_count": 27,
      "metadata": {
        "id": "niXUY-Dq5GJb"
      },
      "outputs": [],
      "source": [
        "# #path to csv data \n",
        "# path_train = '../data/external/sign_mnist_train.csv'\n",
        "# path_test = '../data/external/sign_mnist_test.csv'\n",
        "\n",
        "# #define image resolution \n",
        "# res = (28,28)"
      ]
    },
    {
      "cell_type": "code",
      "source": [
        "#path to csv data \n",
        "path_train = '/content/drive/Shareddrives/SignLanguageData/sign_mnist_train.csv'\n",
        "path_test = '/content/drive/Shareddrives/SignLanguageData/sign_mnist_test.csv'\n",
        "\n",
        "#define image resolution \n",
        "res = (28,28)"
      ],
      "metadata": {
        "id": "Vx8yy4zO5jz1"
      },
      "execution_count": 28,
      "outputs": []
    },
    {
      "cell_type": "code",
      "execution_count": 29,
      "metadata": {
        "id": "xHwmNk-T5GJb"
      },
      "outputs": [],
      "source": [
        "#convert csv to numpy \n",
        "train = np.loadtxt(path_train, delimiter=',', skiprows=1)\n",
        "test = np.loadtxt(path_test, delimiter=',', skiprows=1)"
      ]
    },
    {
      "cell_type": "code",
      "execution_count": 30,
      "metadata": {
        "id": "xVbXt86v5GJb"
      },
      "outputs": [],
      "source": [
        "#training data\n",
        "X_train = train[:,1:]\n",
        "y_train = train[:,0]\n",
        "\n",
        "#testing data \n",
        "X_test = test[:,1:]\n",
        "y_test = test[:,0]"
      ]
    },
    {
      "cell_type": "markdown",
      "metadata": {
        "id": "yCd9EqLg5GJb"
      },
      "source": [
        "### Data Augmentation"
      ]
    },
    {
      "cell_type": "markdown",
      "metadata": {
        "id": "MkHsFk0m5GJc"
      },
      "source": [
        "The extra dimension is added to the image array to represent the batch size for the Keras data generator. The Keras data generator expects an input array of rank 4, where the first dimension represents the batch size.\n",
        "\n",
        "Since we are passing one image at a time to the data generator, we need to add an extra dimension to the image array to make its shape (1, height, width, channels). The batch size of 1 tells the generator that we are passing one image at a time, and the height and width are the dimensions of the image, while the number of channels represents the color channels of the image."
      ]
    },
    {
      "cell_type": "code",
      "execution_count": 31,
      "metadata": {
        "id": "cAlo6A3a5GJc"
      },
      "outputs": [],
      "source": [
        "# Reshape the data to images adding color dimention\n",
        "X_train = X_train.reshape(X_train.shape[0], res[0], res[1], 1)\n",
        "X_test = X_test.reshape(X_test.shape[0], res[0], res[1], 1)\n"
      ]
    },
    {
      "cell_type": "code",
      "execution_count": 32,
      "metadata": {
        "id": "4xjWT3vb5GJc"
      },
      "outputs": [],
      "source": [
        "# Creating an ImageDataGenerator object with data augmentation parameters\n",
        "datagen = ImageDataGenerator(\n",
        "    rotation_range=10,\n",
        "    zoom_range=0.1,\n",
        "    width_shift_range=0.1,\n",
        "    height_shift_range=0.1,\n",
        "    shear_range=0.1,\n",
        "    brightness_range=[0.5, 1.5],\n",
        "    fill_mode='nearest')"
      ]
    },
    {
      "cell_type": "code",
      "execution_count": 33,
      "metadata": {
        "id": "qRcmbOAJ5GJc"
      },
      "outputs": [],
      "source": [
        "# Apply data augmentation to the training set\n",
        "X_train_augmented = []\n",
        "y_train_augmented = []\n",
        "for i in range(X_train.shape[0]):\n",
        "    img = X_train[i]\n",
        "    label = y_train[i]\n",
        "    for j in range(3):\n",
        "        x_augmented = datagen.random_transform(img)\n",
        "        X_train_augmented.append(x_augmented)\n",
        "        y_train_augmented.append(label)"
      ]
    },
    {
      "cell_type": "code",
      "execution_count": 34,
      "metadata": {
        "id": "a1DuwOwe5GJc"
      },
      "outputs": [],
      "source": [
        "# Apply data augmentation to the test set\n",
        "X_test_augmented = []\n",
        "y_test_augmented = []\n",
        "for i in range(X_test.shape[0]):\n",
        "    img = X_test[i]\n",
        "    label = y_test[i]\n",
        "    for j in range(3):\n",
        "        x_augmented = datagen.random_transform(img)\n",
        "        X_test_augmented.append(x_augmented)\n",
        "        y_test_augmented.append(label)"
      ]
    },
    {
      "cell_type": "code",
      "execution_count": 35,
      "metadata": {
        "id": "BrHKdOWB5GJc"
      },
      "outputs": [],
      "source": [
        "# Convert the augmented data to numpy arrays\n",
        "X_train_augmented = np.array(X_train_augmented)\n",
        "y_train_augmented = np.array(y_train_augmented)\n",
        "X_test_augmented = np.array(X_test_augmented)\n",
        "y_test_augmented = np.array(y_test_augmented)"
      ]
    },
    {
      "cell_type": "code",
      "execution_count": 36,
      "metadata": {
        "id": "oYx8TJQx5GJc"
      },
      "outputs": [],
      "source": [
        "# # Save the augmented data to files\n",
        "# np.savez_compressed('../data/external/sign_data_augmented.npz',\n",
        "#                     X_train=X_train_augmented,\n",
        "#                     y_train=y_train_augmented,\n",
        "#                     X_test=X_test_augmented,\n",
        "#                     y_test=y_test_augmented)\n"
      ]
    },
    {
      "cell_type": "code",
      "source": [
        "# Save the augmented data to files\n",
        "np.savez_compressed('/content/drive/Shareddrives/SignLanguageData/sign_data_augmented.npz',\n",
        "                    X_train=X_train_augmented,\n",
        "                    y_train=y_train_augmented,\n",
        "                    X_test=X_test_augmented,\n",
        "                    y_test=y_test_augmented)\n"
      ],
      "metadata": {
        "id": "u8XHv9by6ERY"
      },
      "execution_count": 37,
      "outputs": []
    },
    {
      "cell_type": "code",
      "execution_count": null,
      "metadata": {
        "id": "YY9_cov05GJc"
      },
      "outputs": [],
      "source": [
        "# # Load the augmented data from the file\n",
        "# data = np.load('../data/external/sign_data_augmented.npz')\n",
        "\n",
        "# # Extract the X_train, y_train, X_test, and y_test arrays from the data\n",
        "# X_train_augmented = data['X_train']\n",
        "# y_train_augmented = data['y_train']\n",
        "# X_test_augmented = data['X_test']\n",
        "# y_test_augmented = data['y_test']\n"
      ]
    },
    {
      "cell_type": "code",
      "source": [
        "# Load the augmented data from the file\n",
        "data = np.load('/content/drive/Shareddrives/SignLanguageData/sign_data_augmented.npz')\n",
        "\n",
        "# Extract the X_train, y_train, X_test, and y_test arrays from the data\n",
        "X_train_aug = data['X_train']\n",
        "y_train_aug = data['y_train']\n",
        "X_test_aug = data['X_test']\n",
        "y_test_aug = data['y_test']\n"
      ],
      "metadata": {
        "id": "azcjeO9M6MMy"
      },
      "execution_count": 38,
      "outputs": []
    },
    {
      "cell_type": "code",
      "execution_count": 39,
      "metadata": {
        "id": "GIKw2IX45GJc",
        "outputId": "3d7eee4d-e5bb-44d2-d5b7-917db948fe7d",
        "colab": {
          "base_uri": "https://localhost:8080/"
        }
      },
      "outputs": [
        {
          "output_type": "stream",
          "name": "stdout",
          "text": [
            "X_train_augmented shape: (82365, 28, 28, 1)\n",
            "y_train_augmented shape: (82365,)\n",
            "X_test_augmented shape: (21516, 28, 28, 1)\n",
            "y_test_augmented shape: (21516,)\n"
          ]
        }
      ],
      "source": [
        "# Print the shapes of the augmented data\n",
        "print(f'X_train_augmented shape: {X_train_aug.shape}')\n",
        "print(f'y_train_augmented shape: {y_train_aug.shape}')\n",
        "print(f'X_test_augmented shape: {X_test_aug.shape}')\n",
        "print(f'y_test_augmented shape: {y_test_aug.shape}')"
      ]
    },
    {
      "cell_type": "code",
      "source": [
        "# #path to csv data \n",
        "# path_train = '/content/drive/Shareddrives/SignLanguageData/sign_mnist_train.csv'\n",
        "# path_test = '/content/drive/Shareddrives/SignLanguageData/sign_mnist_test.csv'\n",
        "\n",
        "# #convert csv to numpy \n",
        "# train = np.loadtxt(path_train, delimiter=',', skiprows=1)\n",
        "# test = np.loadtxt(path_test, delimiter=',', skiprows=1)\n",
        "\n",
        "# #training data\n",
        "# X_train = train[:,1:]\n",
        "# y_train = train[:,0]\n",
        "\n",
        "# #testing data \n",
        "# X_test = test[:,1:]\n",
        "# y_test = test[:,0]"
      ],
      "metadata": {
        "id": "RrdKLwKJ6Pzl"
      },
      "execution_count": 41,
      "outputs": []
    },
    {
      "cell_type": "code",
      "source": [
        "#rehape arrays \n",
        "X_train_aug = X_train_aug.reshape(X_train_aug.shape[0],28,28)\n",
        "X_test_aug = X_test_aug.reshape(X_test_aug.shape[0],28,28)\n",
        "X_train = X_train.reshape(X_train.shape[0],28,28)\n",
        "X_test = X_test.reshape(X_test.shape[0],28,28)"
      ],
      "metadata": {
        "id": "x51kPxlL6RWK"
      },
      "execution_count": 42,
      "outputs": []
    },
    {
      "cell_type": "code",
      "source": [
        "# Print the shapes \n",
        "print(f'X_train_augmented shape: {X_train_aug.shape}')\n",
        "print(f'y_train_augmented shape: {y_train_aug.shape}')\n",
        "print(f'X_test_augmented shape: {X_test_aug.shape}')\n",
        "print(f'y_test_augmented shape: {y_test_aug.shape}')\n",
        "\n",
        "# Print the shapes of the augmented data\n",
        "print(f'X_train shape: {X_train.shape}')\n",
        "print(f'y_train shape: {y_train.shape}')\n",
        "print(f'X_test shape: {X_test.shape}')\n",
        "print(f'y_test shape: {y_test.shape}')"
      ],
      "metadata": {
        "id": "QcaVdZ0_6ReH",
        "outputId": "12712f3f-ba35-4c6d-9035-d497a6b17435",
        "colab": {
          "base_uri": "https://localhost:8080/"
        }
      },
      "execution_count": 43,
      "outputs": [
        {
          "output_type": "stream",
          "name": "stdout",
          "text": [
            "X_train_augmented shape: (82365, 28, 28)\n",
            "y_train_augmented shape: (82365,)\n",
            "X_test_augmented shape: (21516, 28, 28)\n",
            "y_test_augmented shape: (21516,)\n",
            "X_train shape: (27455, 28, 28)\n",
            "y_train shape: (27455,)\n",
            "X_test shape: (7172, 28, 28)\n",
            "y_test shape: (7172,)\n"
          ]
        }
      ]
    },
    {
      "cell_type": "code",
      "source": [
        "# Concatenate the arrays along the first axis (i.e., row-wise)\n",
        "X_train_combined = np.concatenate((X_train_aug, X_train), axis=0)\n",
        "y_train_combined = np.concatenate((y_train_aug, y_train), axis=0)\n",
        "\n",
        "X_test_combined = np.concatenate((X_test_aug, X_test), axis=0)\n",
        "y_test_combined = np.concatenate((y_test_aug, y_test), axis=0)\n",
        "\n",
        "# Print the shape of the combined array\n",
        "print(\"Shape of combined array:\", X_train_combined.shape)\n",
        "print(\"Shape of combined array:\", X_test_combined.shape)"
      ],
      "metadata": {
        "id": "aLIUPvdF8lWf",
        "outputId": "4657e43e-273b-4154-ffee-b3e0c8cc949c",
        "colab": {
          "base_uri": "https://localhost:8080/"
        }
      },
      "execution_count": 45,
      "outputs": [
        {
          "output_type": "stream",
          "name": "stdout",
          "text": [
            "Shape of combined array: (109820, 28, 28)\n",
            "Shape of combined array: (28688, 28, 28)\n"
          ]
        }
      ]
    },
    {
      "cell_type": "code",
      "source": [
        "combined_augmented_data = (X_train_combined,y_train_combined,X_test_combined,y_test_combined)\n",
        "\n",
        "with open('/content/drive/Shareddrives/SignLanguageData/combined_augmented_data_v2.pkl','wb') as f:\n",
        "  pickle.dump(combined_augmented_data, f)"
      ],
      "metadata": {
        "id": "PXsg6Rcd8lZa"
      },
      "execution_count": 46,
      "outputs": []
    },
    {
      "cell_type": "code",
      "execution_count": 47,
      "metadata": {
        "id": "lq51qzEg5GJd",
        "outputId": "90a996d2-e20b-4d96-cc03-2404bf5b9c68",
        "colab": {
          "base_uri": "https://localhost:8080/",
          "height": 430
        }
      },
      "outputs": [
        {
          "output_type": "display_data",
          "data": {
            "text/plain": [
              "<Figure size 640x480 with 1 Axes>"
            ],
            "image/png": "[encoded data removed]"
          },
          "metadata": {}
        }
      ],
      "source": [
        "#visualization\n",
        "import matplotlib.pyplot as plt\n",
        "plt.imshow(X_test_combined[6]);"
      ]
    },
    {
      "cell_type": "code",
      "source": [
        "#printing shapes \n",
        "print(f'X_train_combined Shape: {X_train_combined.shape}')\n",
        "print(f'y_train_combined Shape: {y_train_combined.shape}')\n",
        "print(f'X_test_combined Shape: {X_test_combined.shape}')\n",
        "print(f'y_test_combined Shape: {y_test_combined.shape}')"
      ],
      "metadata": {
        "id": "ZQAr7OBQ9Qgi",
        "outputId": "9812b3df-4161-44aa-cdc0-1dbc44e4ad28",
        "colab": {
          "base_uri": "https://localhost:8080/"
        }
      },
      "execution_count": 48,
      "outputs": [
        {
          "output_type": "stream",
          "name": "stdout",
          "text": [
            "X_train_combined Shape: (109820, 28, 28)\n",
            "y_train_combined Shape: (109820,)\n",
            "X_test_combined Shape: (28688, 28, 28)\n",
            "y_test_combined Shape: (28688,)\n"
          ]
        }
      ]
    },
    {
      "cell_type": "code",
      "execution_count": null,
      "metadata": {
        "id": "3NbfGmhU5GJd"
      },
      "outputs": [],
      "source": []
    },
    {
      "cell_type": "code",
      "execution_count": null,
      "metadata": {
        "id": "lRlJg_y45GJd"
      },
      "outputs": [],
      "source": []
    },
    {
      "cell_type": "code",
      "execution_count": null,
      "metadata": {
        "id": "XvTfLLoP5GJd"
      },
      "outputs": [],
      "source": []
    }
  ],
  "metadata": {
    "kernelspec": {
      "display_name": "sign_language_interpreter",
      "language": "python",
      "name": "python3"
    },
    "language_info": {
      "codemirror_mode": {
        "name": "ipython",
        "version": 3
      },
      "file_extension": ".py",
      "mimetype": "text/x-python",
      "name": "python",
      "nbconvert_exporter": "python",
      "pygments_lexer": "ipython3",
      "version": "3.9.16"
    },
    "orig_nbformat": 4,
    "colab": {
      "provenance": []
    }
  },
  "nbformat": 4,
  "nbformat_minor": 0
}