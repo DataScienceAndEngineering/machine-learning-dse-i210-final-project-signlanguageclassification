{
  "cells": [
    {
      "cell_type": "code",
      "execution_count": 1,
      "metadata": {
        "id": "ySHWq5I7bfzj"
      },
      "outputs": [],
      "source": [
        "import numpy as np\n",
        "import pandas\n",
        "import matplotlib.pyplot as plt\n",
        "from sklearn import model_selection\n",
        "from sklearn.linear_model import LogisticRegression\n",
        "from sklearn.tree import DecisionTreeClassifier\n",
        "from sklearn.naive_bayes import GaussianNB\n",
        "from sklearn.svm import SVC\n",
        "from sklearn.ensemble import RandomForestClassifier\n",
        "import pickle\n",
        "import xgboost as xgb\n",
        "from sklearn.ensemble import StackingClassifier\n",
        "from sklearn import model_selection"
      ]
    },
    {
      "cell_type": "code",
      "source": [
        "from google.colab import drive\n",
        "drive.mount('/content/drive')"
      ],
      "metadata": {
        "id": "EduqYAnjcTJj",
        "outputId": "f798760d-bdb7-42d9-cc9a-2d00de6b3608",
        "colab": {
          "base_uri": "https://localhost:8080/"
        }
      },
      "execution_count": 2,
      "outputs": [
        {
          "output_type": "stream",
          "name": "stdout",
          "text": [
            "Mounted at /content/drive\n"
          ]
        }
      ]
    },
    {
      "cell_type": "code",
      "execution_count": null,
      "metadata": {
        "id": "3vX2Ooqjbfzn"
      },
      "outputs": [],
      "source": [
        "#downloading models with best parameters \n",
        "with open('/content/drive/Shareddrives/SignLanguageData/FinalSVM.pkl','rb') as f:\n",
        "  svm = pickle.load(f)\n",
        "\n",
        "with open('/content/drive/Shareddrives/SignLanguageData/FinalXGB.pkl','rb') as f:\n",
        "  xgb = pickle.load(f)\n",
        "\n",
        "with open('/content/drive/Shareddrives/SignLanguageData/lr_model.pkl','rb') as f:\n",
        "  lr = pickle.load(f) \n",
        "\n",
        "with open('/content/drive/Shareddrives/SignLanguageData/rfc_model.pkl','rb') as f:\n",
        "  rf = pickle.load(f)\n",
        "\n"
      ]
    },
    {
      "cell_type": "code",
      "source": [
        "# Load the augmented data from the file\n",
        "data = np.load('/content/drive/Shareddrives/SignLanguageData/combined_features_pca_lda.npz')\n",
        "#unpacking \n",
        "X_train = data['X_train']\n",
        "y_train = data['y_train']\n",
        "X_test = data['X_test']\n",
        "y_test = data['y_test']\n",
        "#printing shapes \n",
        "print(f'X_train Shape: {X_train.shape}')\n",
        "print(f'y_train Shape: {y_train.shape}')\n",
        "print(f'X_test Shape: {X_test.shape}')\n",
        "print(f'y_test Shape: {y_test.shape}')"
      ],
      "metadata": {
        "id": "9qlGJ0kadnAR",
        "outputId": "f30261bd-983b-4ad9-88b2-d992485293b9",
        "colab": {
          "base_uri": "https://localhost:8080/"
        }
      },
      "execution_count": 8,
      "outputs": [
        {
          "output_type": "stream",
          "name": "stdout",
          "text": [
            "X_train Shape: (109820, 53)\n",
            "y_train Shape: (109820,)\n",
            "X_test Shape: (28688, 53)\n",
            "y_test Shape: (28688,)\n"
          ]
        }
      ]
    },
    {
      "cell_type": "code",
      "source": [
        "gnb = GaussianNB()\n",
        "gnb.fit(X_train,y_train)\n"
      ],
      "metadata": {
        "id": "9Cp4xrkmd2Xp",
        "outputId": "d383e338-bcda-410a-813c-52d273019c0b",
        "colab": {
          "base_uri": "https://localhost:8080/",
          "height": 74
        }
      },
      "execution_count": null,
      "outputs": [
        {
          "output_type": "execute_result",
          "data": {
            "text/plain": [
              "GaussianNB()"
            ],
            "text/html": [
              "<style>#sk-container-id-1 {color: black;background-color: white;}#sk-container-id-1 pre{padding: 0;}#sk-container-id-1 div.sk-toggleable {background-color: white;}#sk-container-id-1 label.sk-toggleable__label {cursor: pointer;display: block;width: 100%;margin-bottom: 0;padding: 0.3em;box-sizing: border-box;text-align: center;}#sk-container-id-1 label.sk-toggleable__label-arrow:before {content: \"▸\";float: left;margin-right: 0.25em;color: #696969;}#sk-container-id-1 label.sk-toggleable__label-arrow:hover:before {color: black;}#sk-container-id-1 div.sk-estimator:hover label.sk-toggleable__label-arrow:before {color: black;}#sk-container-id-1 div.sk-toggleable__content {max-height: 0;max-width: 0;overflow: hidden;text-align: left;background-color: #f0f8ff;}#sk-container-id-1 div.sk-toggleable__content pre {margin: 0.2em;color: black;border-radius: 0.25em;background-color: #f0f8ff;}#sk-container-id-1 input.sk-toggleable__control:checked~div.sk-toggleable__content {max-height: 200px;max-width: 100%;overflow: auto;}#sk-container-id-1 input.sk-toggleable__control:checked~label.sk-toggleable__label-arrow:before {content: \"▾\";}#sk-container-id-1 div.sk-estimator input.sk-toggleable__control:checked~label.sk-toggleable__label {background-color: #d4ebff;}#sk-container-id-1 div.sk-label input.sk-toggleable__control:checked~label.sk-toggleable__label {background-color: #d4ebff;}#sk-container-id-1 input.sk-hidden--visually {border: 0;clip: rect(1px 1px 1px 1px);clip: rect(1px, 1px, 1px, 1px);height: 1px;margin: -1px;overflow: hidden;padding: 0;position: absolute;width: 1px;}#sk-container-id-1 div.sk-estimator {font-family: monospace;background-color: #f0f8ff;border: 1px dotted black;border-radius: 0.25em;box-sizing: border-box;margin-bottom: 0.5em;}#sk-container-id-1 div.sk-estimator:hover {background-color: #d4ebff;}#sk-container-id-1 div.sk-parallel-item::after {content: \"\";width: 100%;border-bottom: 1px solid gray;flex-grow: 1;}#sk-container-id-1 div.sk-label:hover label.sk-toggleable__label {background-color: #d4ebff;}#sk-container-id-1 div.sk-serial::before {content: \"\";position: absolute;border-left: 1px solid gray;box-sizing: border-box;top: 0;bottom: 0;left: 50%;z-index: 0;}#sk-container-id-1 div.sk-serial {display: flex;flex-direction: column;align-items: center;background-color: white;padding-right: 0.2em;padding-left: 0.2em;position: relative;}#sk-container-id-1 div.sk-item {position: relative;z-index: 1;}#sk-container-id-1 div.sk-parallel {display: flex;align-items: stretch;justify-content: center;background-color: white;position: relative;}#sk-container-id-1 div.sk-item::before, #sk-container-id-1 div.sk-parallel-item::before {content: \"\";position: absolute;border-left: 1px solid gray;box-sizing: border-box;top: 0;bottom: 0;left: 50%;z-index: -1;}#sk-container-id-1 div.sk-parallel-item {display: flex;flex-direction: column;z-index: 1;position: relative;background-color: white;}#sk-container-id-1 div.sk-parallel-item:first-child::after {align-self: flex-end;width: 50%;}#sk-container-id-1 div.sk-parallel-item:last-child::after {align-self: flex-start;width: 50%;}#sk-container-id-1 div.sk-parallel-item:only-child::after {width: 0;}#sk-container-id-1 div.sk-dashed-wrapped {border: 1px dashed gray;margin: 0 0.4em 0.5em 0.4em;box-sizing: border-box;padding-bottom: 0.4em;background-color: white;}#sk-container-id-1 div.sk-label label {font-family: monospace;font-weight: bold;display: inline-block;line-height: 1.2em;}#sk-container-id-1 div.sk-label-container {text-align: center;}#sk-container-id-1 div.sk-container {/* jupyter's `normalize.less` sets `[hidden] { display: none; }` but bootstrap.min.css set `[hidden] { display: none !important; }` so we also need the `!important` here to be able to override the default hidden behavior on the sphinx rendered scikit-learn.org. See: https://github.com/scikit-learn/scikit-learn/issues/21755 */display: inline-block !important;position: relative;}#sk-container-id-1 div.sk-text-repr-fallback {display: none;}</style><div id=\"sk-container-id-1\" class=\"sk-top-container\"><div class=\"sk-text-repr-fallback\"><pre>GaussianNB()</pre><b>In a Jupyter environment, please rerun this cell to show the HTML representation or trust the notebook. <br />On GitHub, the HTML representation is unable to render, please try loading this page with nbviewer.org.</b></div><div class=\"sk-container\" hidden><div class=\"sk-item\"><div class=\"sk-estimator sk-toggleable\"><input class=\"sk-toggleable__control sk-hidden--visually\" id=\"sk-estimator-id-1\" type=\"checkbox\" checked><label for=\"sk-estimator-id-1\" class=\"sk-toggleable__label sk-toggleable__label-arrow\">GaussianNB</label><div class=\"sk-toggleable__content\"><pre>GaussianNB()</pre></div></div></div></div></div>"
            ]
          },
          "metadata": {},
          "execution_count": 8
        }
      ]
    },
    {
      "cell_type": "code",
      "source": [
        "all_estimators = [\n",
        "    ('svm',SVC(kernel = 'poly', gamma = 'auto', C = .1, probability=True)),\n",
        "    ('xgb',xgb.XGBClassifier(subsample=0.4,reg_lambda=2.25,reg_alpha=2,min_child_weight=30,max_depth=8,learning_rate=0.001,gamma=0,colsample_bytree=0.4)),\n",
        "    ('lr',LogisticRegression(C=0.22564631610840102,max_iter=2391, penalty=\"l2\", solver='newton-cg',warm_start=False)),\n",
        "    ('rf',RandomForestClassifier(n_estimators=20, min_samples_split=10, min_samples_leaf=5,max_features=5, max_depth=5, random_state=42))\n",
        "]"
      ],
      "metadata": {
        "id": "W4SfFFSK_MYO"
      },
      "execution_count": 4,
      "outputs": []
    },
    {
      "cell_type": "code",
      "source": [
        "models = {'Naive Bayes':GaussianNB(),\n",
        "          'Logistic Regression':LogisticRegression(C=0.22564631610840102,max_iter=2391, penalty=\"l2\",solver='newton-cg',warm_start=False),\n",
        "          'SVM':SVC(kernel = 'poly', gamma = 'auto', C = .1, probability=True),\n",
        "          'Random Forest Classifier':RandomForestClassifier(n_estimators=20, min_samples_split=10, min_samples_leaf=5,max_features=5, max_depth=5, random_state=42),\n",
        "          'XGBoost':xgb.XGBClassifier(subsample=0.4,reg_lambda=2.25,reg_alpha=2,min_child_weight=30,max_depth=8,learning_rate=0.001,gamma=0,colsample_bytree=0.4)}\n",
        "\n"
      ],
      "metadata": {
        "id": "Q9OOqk-2eLXw"
      },
      "execution_count": 12,
      "outputs": []
    },
    {
      "cell_type": "code",
      "source": [
        "#function for sampling\n",
        "def sampler(X,y,num_sample):\n",
        "  indices = np.random.choice(X.shape[0], num_sample, replace=False)\n",
        "  return X[indices,:],y[indices]"
      ],
      "metadata": {
        "id": "KAyHdzITBGhD"
      },
      "execution_count": 6,
      "outputs": []
    },
    {
      "cell_type": "code",
      "source": [
        "X_train_sample,y_train_sample = sampler(X_train,y_train,50000)\n",
        "X_test_sample,y_test_sample = sampler(X_test,y_test,10000)"
      ],
      "metadata": {
        "id": "ZDCdmiIzBKLs"
      },
      "execution_count": 12,
      "outputs": []
    },
    {
      "cell_type": "code",
      "source": [],
      "metadata": {
        "id": "URthVI5l6gdm"
      },
      "execution_count": null,
      "outputs": []
    },
    {
      "cell_type": "code",
      "source": [
        "results = []\n",
        "names = []\n",
        "\n",
        "for name,model in models.items():\n",
        "  kfold = model_selection.KFold(n_splits=5,random_state=99,shuffle=True)\n",
        "  if name != 'XGBoost':\n",
        "    cv_results = model_selection.cross_val_score(model,X_train_sample,y_train_sample,cv=kfold,scoring='accuracy')\n",
        "  else:\n",
        "    from sklearn.preprocessing import LabelEncoder\n",
        "    le = LabelEncoder()\n",
        "    le.fit(y_train_sample)\n",
        "    y_train_encoded = le.transform(y_train_sample)\n",
        "    cv_results = model_selection.cross_val_score(model,X_train_sample,y_train_encoded,cv=kfold,scoring='accuracy')\n",
        "  results.append(cv_results)\n",
        "  names.append(name)\n",
        "  print(f'{name}: {cv_results.mean()}, {cv_results.std()}')\n"
      ],
      "metadata": {
        "id": "6zfHZTrVfm1v",
        "outputId": "414feaee-af39-4935-90cb-44c3c9bb6a1f",
        "colab": {
          "base_uri": "https://localhost:8080/"
        }
      },
      "execution_count": 15,
      "outputs": [
        {
          "output_type": "stream",
          "name": "stdout",
          "text": [
            "Naive Bayes: 0.6845, 0.005871541535235851\n",
            "Logistic Regression: 0.7591000000000001, 0.005544366510251649\n",
            "SVM: 0.718, 0.005106368572674732\n",
            "Random Forest Classifier: 0.5319499999999999, 0.007483982896827067\n",
            "XGBoost: 0.5713999999999999, 0.004223742416388586\n"
          ]
        }
      ]
    },
    {
      "cell_type": "code",
      "source": [
        "models = {'Stacking Classifier':StackingClassifier(estimators=all_estimators, final_estimator=LogisticRegression(max_iter=3000))}\n"
      ],
      "metadata": {
        "id": "NQDXFSKSAlwU"
      },
      "execution_count": 5,
      "outputs": []
    },
    {
      "cell_type": "code",
      "source": [
        "X_train_sample,y_train_sample = sampler(X_train,y_train,20000)\n",
        "X_test_sample,y_test_sample = sampler(X_test,y_test,5000)"
      ],
      "metadata": {
        "id": "2W5SkGQB6hhg"
      },
      "execution_count": 9,
      "outputs": []
    },
    {
      "cell_type": "code",
      "source": [
        "results = []\n",
        "names = []\n",
        "\n",
        "for name,model in models.items():\n",
        "  kfold = model_selection.KFold(n_splits=5,random_state=99,shuffle=True)\n",
        "  if name != 'XGBoost':\n",
        "    cv_results = model_selection.cross_val_score(model,X_train_sample,y_train_sample,cv=kfold,scoring='accuracy')\n",
        "  else:\n",
        "    from sklearn.preprocessing import LabelEncoder\n",
        "    le = LabelEncoder()\n",
        "    le.fit(y_train_sample)\n",
        "    y_train_encoded = le.transform(y_train_sample)\n",
        "    cv_results = model_selection.cross_val_score(model,X_train_sample,y_train_encoded,cv=kfold,scoring='accuracy')\n",
        "  results.append(cv_results)\n",
        "  names.append(name)\n",
        "  print(f'{name}: {cv_results.mean()}, {cv_results.std()}')\n"
      ],
      "metadata": {
        "id": "GRcsq0eM6kX7",
        "outputId": "29a74d86-6a9f-4ac2-b3de-bbd99790d2d9",
        "colab": {
          "base_uri": "https://localhost:8080/"
        }
      },
      "execution_count": 10,
      "outputs": [
        {
          "output_type": "stream",
          "name": "stdout",
          "text": [
            "Stacking Classifier: 0.835, 0.005985398900658153\n"
          ]
        }
      ]
    },
    {
      "cell_type": "code",
      "source": [
        "results_stacking = results"
      ],
      "metadata": {
        "id": "3L6WIeVuK0RF"
      },
      "execution_count": 13,
      "outputs": []
    },
    {
      "cell_type": "code",
      "source": [
        "test = results"
      ],
      "metadata": {
        "id": "7sdsNhg6LL4i"
      },
      "execution_count": 17,
      "outputs": []
    },
    {
      "cell_type": "code",
      "source": [
        "test.append(results_stacking)"
      ],
      "metadata": {
        "id": "MUr0ejHlSpp1"
      },
      "execution_count": 18,
      "outputs": []
    },
    {
      "cell_type": "code",
      "source": [
        "names.append('Stacking Classifier')"
      ],
      "metadata": {
        "id": "zTcO3VhhSueR"
      },
      "execution_count": 21,
      "outputs": []
    },
    {
      "cell_type": "code",
      "source": [
        "names"
      ],
      "metadata": {
        "id": "Yug5bQsCSu6v",
        "outputId": "9521fb82-0df2-4615-a3b2-4d4f7c13bc07",
        "colab": {
          "base_uri": "https://localhost:8080/"
        }
      },
      "execution_count": 22,
      "outputs": [
        {
          "output_type": "execute_result",
          "data": {
            "text/plain": [
              "['Naive Bayes',\n",
              " 'Logistic Regression',\n",
              " 'SVM',\n",
              " 'Random Forest Classifier',\n",
              " 'XGBoost',\n",
              " 'Stacking Classifier']"
            ]
          },
          "metadata": {},
          "execution_count": 22
        }
      ]
    },
    {
      "cell_type": "code",
      "source": [
        "test"
      ],
      "metadata": {
        "id": "u-ZSf7h1S4v8",
        "outputId": "29662756-0d07-4019-9f6a-5d1440d662af",
        "colab": {
          "base_uri": "https://localhost:8080/"
        }
      },
      "execution_count": 23,
      "outputs": [
        {
          "output_type": "execute_result",
          "data": {
            "text/plain": [
              "[array([0.6915 , 0.674  , 0.6835 , 0.68575, 0.68775]),\n",
              " array([0.76325, 0.75425, 0.75525, 0.75475, 0.768  ]),\n",
              " array([0.7225 , 0.71375, 0.714  , 0.714  , 0.72575]),\n",
              " array([0.533  , 0.525  , 0.528  , 0.52775, 0.546  ]),\n",
              " array([0.57625, 0.56625, 0.5675 , 0.57075, 0.57625]),\n",
              " [array([0.83975, 0.831  , 0.835  , 0.82625, 0.843  ])]]"
            ]
          },
          "metadata": {},
          "execution_count": 23
        }
      ]
    },
    {
      "cell_type": "code",
      "source": [
        "test.pop()"
      ],
      "metadata": {
        "id": "aVDvD4LYUf3P",
        "outputId": "e88f9d0f-db8d-4668-c307-6c85faf1043f",
        "colab": {
          "base_uri": "https://localhost:8080/"
        }
      },
      "execution_count": 28,
      "outputs": [
        {
          "output_type": "execute_result",
          "data": {
            "text/plain": [
              "[array([0.83975, 0.831  , 0.835  , 0.82625, 0.843  ])]"
            ]
          },
          "metadata": {},
          "execution_count": 28
        }
      ]
    },
    {
      "cell_type": "code",
      "source": [
        "test.append(results_stacking[0])"
      ],
      "metadata": {
        "id": "DB7nTQ5LT_Qj"
      },
      "execution_count": 29,
      "outputs": []
    },
    {
      "cell_type": "code",
      "source": [
        "test"
      ],
      "metadata": {
        "id": "s-x4h-MeUmcF",
        "outputId": "ed09f3b5-3181-4392-de2d-89fd8cf1e479",
        "colab": {
          "base_uri": "https://localhost:8080/"
        }
      },
      "execution_count": 30,
      "outputs": [
        {
          "output_type": "execute_result",
          "data": {
            "text/plain": [
              "[array([0.6915 , 0.674  , 0.6835 , 0.68575, 0.68775]),\n",
              " array([0.76325, 0.75425, 0.75525, 0.75475, 0.768  ]),\n",
              " array([0.7225 , 0.71375, 0.714  , 0.714  , 0.72575]),\n",
              " array([0.533  , 0.525  , 0.528  , 0.52775, 0.546  ]),\n",
              " array([0.57625, 0.56625, 0.5675 , 0.57075, 0.57625]),\n",
              " array([0.83975, 0.831  , 0.835  , 0.82625, 0.843  ])]"
            ]
          },
          "metadata": {},
          "execution_count": 30
        }
      ]
    },
    {
      "cell_type": "code",
      "source": [
        "# boxplot algorithm comparison\n",
        "fig = plt.figure()\n",
        "fig.suptitle('KFold CV Accuracy Comparison')\n",
        "ax = fig.add_subplot(111)\n",
        "plt.boxplot(test)\n",
        "ax.set_xticklabels(names)\n",
        "plt.xticks(rotation=45, ha='right')\n",
        "plt.show()"
      ],
      "metadata": {
        "id": "jvSZ3rLTS5TQ",
        "outputId": "45d81f9b-ed5c-4677-99ab-999148118d66",
        "colab": {
          "base_uri": "https://localhost:8080/",
          "height": 596
        }
      },
      "execution_count": 33,
      "outputs": [
        {
          "output_type": "display_data",
          "data": {
            "text/plain": [
              "<Figure size 640x480 with 1 Axes>"
            ],
            "image/png": "[encoded data removed]"
          },
          "metadata": {}
        }
      ]
    },
    {
      "cell_type": "code",
      "source": [],
      "metadata": {
        "id": "GwXfqsN0Tqu_"
      },
      "execution_count": null,
      "outputs": []
    }
  ],
  "metadata": {
    "kernelspec": {
      "display_name": "sign_language_interpreter",
      "language": "python",
      "name": "python3"
    },
    "language_info": {
      "codemirror_mode": {
        "name": "ipython",
        "version": 3
      },
      "file_extension": ".py",
      "mimetype": "text/x-python",
      "name": "python",
      "nbconvert_exporter": "python",
      "pygments_lexer": "ipython3",
      "version": "3.9.16"
    },
    "orig_nbformat": 4,
    "colab": {
      "provenance": []
    }
  },
  "nbformat": 4,
  "nbformat_minor": 0
}