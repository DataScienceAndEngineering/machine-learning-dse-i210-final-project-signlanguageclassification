{
 "cells": [
  {
   "cell_type": "code",
   "execution_count": 1,
   "id": "4cf3d542",
   "metadata": {},
   "outputs": [],
   "source": [
    "# import tensorflow as tf\n",
    "import numpy as np\n",
    "import pickle"
   ]
  },
  {
   "cell_type": "code",
   "execution_count": 2,
   "id": "b4ecb805",
   "metadata": {},
   "outputs": [],
   "source": [
    "#load the pickle file\n",
    "with open('../data/external/combined_augmented_data.pkl','rb') as f:\n",
    "    X_aug_train,y_aug_train, X_aug_test, y_aug_test = pickle.load(f)"
   ]
  },
  {
   "cell_type": "code",
   "execution_count": 3,
   "id": "3079bae3",
   "metadata": {},
   "outputs": [
    {
     "name": "stdout",
     "output_type": "stream",
     "text": [
      "X_aug_train shape: (54910, 28, 28)\n",
      "y_aug_train shape: (54910,)\n",
      "X_aug_test shape: (14344, 28, 28)\n",
      "y_aug_test shape: (14344,)\n"
     ]
    }
   ],
   "source": [
    "print(f'X_aug_train shape: {X_aug_train.shape}')\n",
    "print(f'y_aug_train shape: {y_aug_train.shape}')\n",
    "print(f'X_aug_test shape: {X_aug_test.shape}')\n",
    "print(f'y_aug_test shape: {y_aug_test.shape}')"
   ]
  },
  {
   "cell_type": "code",
   "execution_count": 4,
   "id": "ebf77baf",
   "metadata": {},
   "outputs": [],
   "source": [
    "#letters\n",
    "letters = ['A','B','C','D','E','F','G','H','I','K','L','M','N','O','P','Q','R','S','T','U','V','W','X','Y']"
   ]
  },
  {
   "cell_type": "code",
   "execution_count": 5,
   "id": "b3d2374c",
   "metadata": {},
   "outputs": [
    {
     "data": {
      "text/plain": [
       "24"
      ]
     },
     "execution_count": 5,
     "metadata": {},
     "output_type": "execute_result"
    }
   ],
   "source": [
    "num_classes = len(list(map(int,list(np.unique(y_aug_train)))))\n",
    "num_classes"
   ]
  },
  {
   "cell_type": "code",
   "execution_count": 6,
   "id": "5638846b",
   "metadata": {},
   "outputs": [
    {
     "name": "stdout",
     "output_type": "stream",
     "text": [
      "Model: \"sequential\"\n",
      "_________________________________________________________________\n",
      " Layer (type)                Output Shape              Param #   \n",
      "=================================================================\n",
      " conv2d (Conv2D)             (None, 26, 26, 32)        320       \n",
      "                                                                 \n",
      " max_pooling2d (MaxPooling2D  (None, 13, 13, 32)       0         \n",
      " )                                                               \n",
      "                                                                 \n",
      " conv2d_1 (Conv2D)           (None, 11, 11, 64)        18496     \n",
      "                                                                 \n",
      " max_pooling2d_1 (MaxPooling  (None, 5, 5, 64)         0         \n",
      " 2D)                                                             \n",
      "                                                                 \n",
      " conv2d_2 (Conv2D)           (None, 3, 3, 128)         73856     \n",
      "                                                                 \n",
      " flatten (Flatten)           (None, 1152)              0         \n",
      "                                                                 \n",
      "=================================================================\n",
      "Total params: 92,672\n",
      "Trainable params: 92,672\n",
      "Non-trainable params: 0\n",
      "_________________________________________________________________\n"
     ]
    }
   ],
   "source": [
    "import numpy as np\n",
    "from keras.models import Sequential\n",
    "from keras.layers import Conv2D, MaxPooling2D, Flatten\n",
    "from keras.layers import Activation, Dense, Dropout\n",
    "\n",
    "\n",
    "# Reshape X to be a 4D tensor for use in Keras\n",
    "X = X_aug_train.reshape((X_aug_train.shape[0], X_aug_train.shape[1], X_aug_train.shape[2], 1))\n",
    "y= y_aug_train.reshape((y_aug_train.shape[0], 1))\n",
    "\n",
    "# Define a Keras Sequential model\n",
    "model = Sequential()\n",
    "\n",
    "# Add a 2D convolutional layer with 32 filters and a 3x3 kernel size\n",
    "model.add(Conv2D(32, (3, 3), activation='relu', input_shape=(28, 28, 1)))\n",
    "\n",
    "# Add a max pooling layer with a pool size of 2x2\n",
    "model.add(MaxPooling2D(pool_size=(2, 2)))\n",
    "\n",
    "# Add another 2D convolutional layer with 64 filters and a 3x3 kernel size\n",
    "model.add(Conv2D(64, (3, 3), activation='relu'))\n",
    "\n",
    "# Add a max pooling layer with a pool size of 2x2\n",
    "model.add(MaxPooling2D(pool_size=(2, 2)))\n",
    "\n",
    "# Add another 2D convolutional layer with 64 filters and a 3x3 kernel size\n",
    "model.add(Conv2D(128, (3, 3), activation='relu'))\n",
    "\n",
    "# # Flatten the output of the previous layer\n",
    "model.add(Flatten())\n",
    "\n",
    "# model.add(Dropout(0.5))\n",
    "# model.add(Dense(num_classes, activation='softmax'))\n",
    "\n",
    "# summary of the model\n",
    "model.summary()"
   ]
  },
  {
   "cell_type": "code",
   "execution_count": 7,
   "id": "b2bebff2",
   "metadata": {},
   "outputs": [
    {
     "name": "stdout",
     "output_type": "stream",
     "text": [
      "1716/1716 [==============================] - 5s 3ms/step\n"
     ]
    }
   ],
   "source": [
    "# Extract features from X using the model\n",
    "features = model.predict(X)\n"
   ]
  },
  {
   "cell_type": "code",
   "execution_count": 8,
   "id": "20e2af28",
   "metadata": {},
   "outputs": [
    {
     "data": {
      "text/plain": [
       "(54910, 1152)"
      ]
     },
     "execution_count": 8,
     "metadata": {},
     "output_type": "execute_result"
    }
   ],
   "source": [
    "#shape of features\n",
    "features.shape"
   ]
  },
  {
   "cell_type": "code",
   "execution_count": 9,
   "id": "65cb0e63",
   "metadata": {},
   "outputs": [],
   "source": [
    "#saving extracted Features into numpy\n",
    "with open('../data/external/extracted_features.npy', 'wb') as f:\n",
    "    np.save(f,features)"
   ]
  },
  {
   "cell_type": "code",
   "execution_count": 44,
   "id": "13f5a025",
   "metadata": {},
   "outputs": [],
   "source": [
    "# model.compile(loss='categorical_crossentropy', optimizer='adam', metrics=['accuracy'])"
   ]
  },
  {
   "cell_type": "code",
   "execution_count": 48,
   "id": "4e18a8ec",
   "metadata": {},
   "outputs": [],
   "source": [
    "# model.fit(X, y_aug_train , batch_size=32, epochs=10)"
   ]
  },
  {
   "cell_type": "code",
   "execution_count": 11,
   "id": "0e2fbe48",
   "metadata": {},
   "outputs": [],
   "source": [
    "# import numpy as np\n",
    "# from keras.models import Sequential\n",
    "# from keras.layers import Conv2D, MaxPooling2D, Flatten, Dense, Dropout\n",
    "# from keras.utils import to_categorical\n",
    "\n",
    "\n",
    "# # Reshape X to be a 4D tensor for use in Keras\n",
    "# X = X_aug_train.reshape((X_aug_train.shape[0], X_aug_train.shape[1], X_aug_train.shape[2], 1))\n",
    "\n",
    "# # Define a Keras Sequential model\n",
    "# model = Sequential()\n",
    "\n",
    "# # Add a 2D convolutional layer with 32 filters and a 3x3 kernel size\n",
    "# model.add(Conv2D(32, (3, 3), activation='relu', input_shape=(28, 28, 1)))\n",
    "\n",
    "# # Add a max pooling layer with a pool size of 2x2\n",
    "# model.add(MaxPooling2D(pool_size=(2, 2)))\n",
    "\n",
    "# # Add another 2D convolutional layer with 64 filters and a 3x3 kernel size\n",
    "# model.add(Conv2D(64, (3, 3), activation='relu'))\n",
    "\n",
    "# # Add a max pooling layer with a pool size of 2x2\n",
    "# model.add(MaxPooling2D(pool_size=(2, 2)))\n",
    "\n",
    "# # Add another 2D convolutional layer with 128 filters and a 3x3 kernel size\n",
    "# model.add(Conv2D(128, (3, 3), activation='relu'))\n",
    "\n",
    "# # Flatten the output of the previous layer\n",
    "# model.add(Flatten())\n",
    "\n",
    "# # Add a fully connected (dense) layer with 128 units and a ReLU activation function\n",
    "# model.add(Dense(128, activation='relu'))\n",
    "\n",
    "# # Add a dropout layer with a rate of 0.5 to reduce overfitting\n",
    "# model.add(Dropout(0.5))\n",
    "\n",
    "# # Add the output layer with 24 units (corresponding to the number of classes) and a softmax activation function\n",
    "# model.add(Dense(24, activation='softmax'))\n",
    "\n",
    "# # Compile the model with categorical cross-entropy loss, Adam optimizer, and accuracy metric\n",
    "# model.compile(loss='categorical_crossentropy', optimizer='adam', metrics=['accuracy'])\n",
    "\n",
    "# # Train the model on the reshaped data with a batch size of 32 and 10 epochs\n",
    "# model.fit(X, y, batch_size=32, epochs=10)\n",
    "\n",
    "# # Save the model for future use\n",
    "# # model.save('cnn_model.h5')"
   ]
  },
  {
   "cell_type": "code",
   "execution_count": null,
   "id": "ea4906a9",
   "metadata": {},
   "outputs": [],
   "source": []
  },
  {
   "cell_type": "code",
   "execution_count": null,
   "id": "9dec9408",
   "metadata": {},
   "outputs": [],
   "source": []
  },
  {
   "cell_type": "code",
   "execution_count": null,
   "id": "7c8e23f5",
   "metadata": {},
   "outputs": [],
   "source": []
  },
  {
   "cell_type": "code",
   "execution_count": null,
   "id": "9456681c",
   "metadata": {},
   "outputs": [],
   "source": []
  }
 ],
 "metadata": {
  "kernelspec": {
   "display_name": "Python 3 (ipykernel)",
   "language": "python",
   "name": "python3"
  },
  "language_info": {
   "codemirror_mode": {
    "name": "ipython",
    "version": 3
   },
   "file_extension": ".py",
   "mimetype": "text/x-python",
   "name": "python",
   "nbconvert_exporter": "python",
   "pygments_lexer": "ipython3",
   "version": "3.10.11"
  }
 },
 "nbformat": 4,
 "nbformat_minor": 5
}
